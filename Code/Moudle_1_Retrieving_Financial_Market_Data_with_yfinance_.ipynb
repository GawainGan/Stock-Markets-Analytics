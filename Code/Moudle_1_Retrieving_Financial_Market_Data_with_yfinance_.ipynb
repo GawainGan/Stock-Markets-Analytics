{
  "nbformat": 4,
  "nbformat_minor": 0,
  "metadata": {
    "colab": {
      "provenance": [],
      "collapsed_sections": [
        "FzB-eJSfKv4o",
        "U3ur0sWVzmzG",
        "HK5FNFbu031U",
        "cxTPiFMl4BxI",
        "Nsds2x1j5NFP",
        "7kjJCkSNElvs",
        "7BAm5FonG3hs"
      ],
      "mount_file_id": "1IgqtI7bkAJZxHs4uD73oqieGkLlZcbuM",
      "authorship_tag": "ABX9TyN8h0fEeVaKVYjym12BP74W",
      "include_colab_link": true
    },
    "kernelspec": {
      "name": "python3",
      "display_name": "Python 3"
    },
    "language_info": {
      "name": "python"
    }
  },
  "cells": [
    {
      "cell_type": "markdown",
      "metadata": {
        "id": "view-in-github",
        "colab_type": "text"
      },
      "source": [
        "<a href=\"https://colab.research.google.com/github/GawainGan/Stock-Markets-Analytics/blob/main/Code/Moudle_1_Retrieving_Financial_Market_Data_with_yfinance_.ipynb\" target=\"_parent\"><img src=\"https://colab.research.google.com/assets/colab-badge.svg\" alt=\"Open In Colab\"/></a>"
      ]
    },
    {
      "cell_type": "markdown",
      "source": [
        "### install"
      ],
      "metadata": {
        "id": "FzB-eJSfKv4o"
      }
    },
    {
      "cell_type": "code",
      "execution_count": null,
      "metadata": {
        "colab": {
          "base_uri": "https://localhost:8080/"
        },
        "id": "3Jh7PPGZzY7L",
        "outputId": "ad4ff5a9-12bf-488e-df57-5ab583c94e14"
      },
      "outputs": [
        {
          "output_type": "stream",
          "name": "stdout",
          "text": [
            "Requirement already satisfied: yfinance in /usr/local/lib/python3.10/dist-packages (0.2.38)\n",
            "Requirement already satisfied: pandas>=1.3.0 in /usr/local/lib/python3.10/dist-packages (from yfinance) (2.0.3)\n",
            "Requirement already satisfied: numpy>=1.16.5 in /usr/local/lib/python3.10/dist-packages (from yfinance) (1.25.2)\n",
            "Requirement already satisfied: requests>=2.31 in /usr/local/lib/python3.10/dist-packages (from yfinance) (2.31.0)\n",
            "Requirement already satisfied: multitasking>=0.0.7 in /usr/local/lib/python3.10/dist-packages (from yfinance) (0.0.11)\n",
            "Requirement already satisfied: lxml>=4.9.1 in /usr/local/lib/python3.10/dist-packages (from yfinance) (4.9.4)\n",
            "Requirement already satisfied: appdirs>=1.4.4 in /usr/local/lib/python3.10/dist-packages (from yfinance) (1.4.4)\n",
            "Requirement already satisfied: pytz>=2022.5 in /usr/local/lib/python3.10/dist-packages (from yfinance) (2023.4)\n",
            "Requirement already satisfied: frozendict>=2.3.4 in /usr/local/lib/python3.10/dist-packages (from yfinance) (2.4.2)\n",
            "Requirement already satisfied: peewee>=3.16.2 in /usr/local/lib/python3.10/dist-packages (from yfinance) (3.17.3)\n",
            "Requirement already satisfied: beautifulsoup4>=4.11.1 in /usr/local/lib/python3.10/dist-packages (from yfinance) (4.12.3)\n",
            "Requirement already satisfied: html5lib>=1.1 in /usr/local/lib/python3.10/dist-packages (from yfinance) (1.1)\n",
            "Requirement already satisfied: soupsieve>1.2 in /usr/local/lib/python3.10/dist-packages (from beautifulsoup4>=4.11.1->yfinance) (2.5)\n",
            "Requirement already satisfied: six>=1.9 in /usr/local/lib/python3.10/dist-packages (from html5lib>=1.1->yfinance) (1.16.0)\n",
            "Requirement already satisfied: webencodings in /usr/local/lib/python3.10/dist-packages (from html5lib>=1.1->yfinance) (0.5.1)\n",
            "Requirement already satisfied: python-dateutil>=2.8.2 in /usr/local/lib/python3.10/dist-packages (from pandas>=1.3.0->yfinance) (2.8.2)\n",
            "Requirement already satisfied: tzdata>=2022.1 in /usr/local/lib/python3.10/dist-packages (from pandas>=1.3.0->yfinance) (2024.1)\n",
            "Requirement already satisfied: charset-normalizer<4,>=2 in /usr/local/lib/python3.10/dist-packages (from requests>=2.31->yfinance) (3.3.2)\n",
            "Requirement already satisfied: idna<4,>=2.5 in /usr/local/lib/python3.10/dist-packages (from requests>=2.31->yfinance) (3.7)\n",
            "Requirement already satisfied: urllib3<3,>=1.21.1 in /usr/local/lib/python3.10/dist-packages (from requests>=2.31->yfinance) (2.0.7)\n",
            "Requirement already satisfied: certifi>=2017.4.17 in /usr/local/lib/python3.10/dist-packages (from requests>=2.31->yfinance) (2024.2.2)\n"
          ]
        }
      ],
      "source": [
        "pip install yfinance"
      ]
    },
    {
      "cell_type": "code",
      "source": [
        "pip install plotly"
      ],
      "metadata": {
        "colab": {
          "base_uri": "https://localhost:8080/"
        },
        "id": "P9TD_Yajz4uD",
        "outputId": "3bbe1fa2-c625-4ce9-ec72-bb32c5d15175"
      },
      "execution_count": null,
      "outputs": [
        {
          "output_type": "stream",
          "name": "stdout",
          "text": [
            "Requirement already satisfied: plotly in /usr/local/lib/python3.10/dist-packages (5.15.0)\n",
            "Requirement already satisfied: tenacity>=6.2.0 in /usr/local/lib/python3.10/dist-packages (from plotly) (8.2.3)\n",
            "Requirement already satisfied: packaging in /usr/local/lib/python3.10/dist-packages (from plotly) (24.0)\n"
          ]
        }
      ]
    },
    {
      "cell_type": "code",
      "source": [],
      "metadata": {
        "id": "5mftOJ62_Ow-"
      },
      "execution_count": null,
      "outputs": []
    },
    {
      "cell_type": "code",
      "source": [
        "import pandas as pd\n",
        "import yfinance as yf\n",
        "\n",
        "import plotly.express as px\n",
        "from pandas_datareader import data as pdr"
      ],
      "metadata": {
        "id": "NqGZ9e52zvzN"
      },
      "execution_count": null,
      "outputs": []
    },
    {
      "cell_type": "markdown",
      "source": [
        "# Q1"
      ],
      "metadata": {
        "id": "U3ur0sWVzmzG"
      }
    },
    {
      "cell_type": "markdown",
      "source": [
        "Calculate year-over-year (YoY) growth rate (that is, divide current value to one 4 quarters ago). Find the average YoY growth in 2023 (average from 4 YoY numbers). Round to 1 digit after the decimal point: e.g. if you get 5.66% growth => you should answer 5.7"
      ],
      "metadata": {
        "id": "WzPY25BwzoMU"
      }
    },
    {
      "cell_type": "code",
      "source": [
        "df1_path = '/content/drive/MyDrive/Colab Notebooks/Stock Market Analytics Zoomcamp/Moudle 1/Q1/GDPC1.csv'\n",
        "df1 = pd.read_csv(df1_path)\n",
        "df1.head()"
      ],
      "metadata": {
        "colab": {
          "base_uri": "https://localhost:8080/",
          "height": 206
        },
        "id": "hZVErYYtzgK8",
        "outputId": "779a774a-c54b-4b5c-8895-628eae75ef24"
      },
      "execution_count": null,
      "outputs": [
        {
          "output_type": "execute_result",
          "data": {
            "text/plain": [
              "         DATE     GDPC1\n",
              "0  1947-01-01  2182.681\n",
              "1  1947-04-01  2176.892\n",
              "2  1947-07-01  2172.432\n",
              "3  1947-10-01  2206.452\n",
              "4  1948-01-01  2239.682"
            ],
            "text/html": [
              "\n",
              "  <div id=\"df-7d4c680e-c99e-4089-b916-9cc5f9499f20\" class=\"colab-df-container\">\n",
              "    <div>\n",
              "<style scoped>\n",
              "    .dataframe tbody tr th:only-of-type {\n",
              "        vertical-align: middle;\n",
              "    }\n",
              "\n",
              "    .dataframe tbody tr th {\n",
              "        vertical-align: top;\n",
              "    }\n",
              "\n",
              "    .dataframe thead th {\n",
              "        text-align: right;\n",
              "    }\n",
              "</style>\n",
              "<table border=\"1\" class=\"dataframe\">\n",
              "  <thead>\n",
              "    <tr style=\"text-align: right;\">\n",
              "      <th></th>\n",
              "      <th>DATE</th>\n",
              "      <th>GDPC1</th>\n",
              "    </tr>\n",
              "  </thead>\n",
              "  <tbody>\n",
              "    <tr>\n",
              "      <th>0</th>\n",
              "      <td>1947-01-01</td>\n",
              "      <td>2182.681</td>\n",
              "    </tr>\n",
              "    <tr>\n",
              "      <th>1</th>\n",
              "      <td>1947-04-01</td>\n",
              "      <td>2176.892</td>\n",
              "    </tr>\n",
              "    <tr>\n",
              "      <th>2</th>\n",
              "      <td>1947-07-01</td>\n",
              "      <td>2172.432</td>\n",
              "    </tr>\n",
              "    <tr>\n",
              "      <th>3</th>\n",
              "      <td>1947-10-01</td>\n",
              "      <td>2206.452</td>\n",
              "    </tr>\n",
              "    <tr>\n",
              "      <th>4</th>\n",
              "      <td>1948-01-01</td>\n",
              "      <td>2239.682</td>\n",
              "    </tr>\n",
              "  </tbody>\n",
              "</table>\n",
              "</div>\n",
              "    <div class=\"colab-df-buttons\">\n",
              "\n",
              "  <div class=\"colab-df-container\">\n",
              "    <button class=\"colab-df-convert\" onclick=\"convertToInteractive('df-7d4c680e-c99e-4089-b916-9cc5f9499f20')\"\n",
              "            title=\"Convert this dataframe to an interactive table.\"\n",
              "            style=\"display:none;\">\n",
              "\n",
              "  <svg xmlns=\"http://www.w3.org/2000/svg\" height=\"24px\" viewBox=\"0 -960 960 960\">\n",
              "    <path d=\"M120-120v-720h720v720H120Zm60-500h600v-160H180v160Zm220 220h160v-160H400v160Zm0 220h160v-160H400v160ZM180-400h160v-160H180v160Zm440 0h160v-160H620v160ZM180-180h160v-160H180v160Zm440 0h160v-160H620v160Z\"/>\n",
              "  </svg>\n",
              "    </button>\n",
              "\n",
              "  <style>\n",
              "    .colab-df-container {\n",
              "      display:flex;\n",
              "      gap: 12px;\n",
              "    }\n",
              "\n",
              "    .colab-df-convert {\n",
              "      background-color: #E8F0FE;\n",
              "      border: none;\n",
              "      border-radius: 50%;\n",
              "      cursor: pointer;\n",
              "      display: none;\n",
              "      fill: #1967D2;\n",
              "      height: 32px;\n",
              "      padding: 0 0 0 0;\n",
              "      width: 32px;\n",
              "    }\n",
              "\n",
              "    .colab-df-convert:hover {\n",
              "      background-color: #E2EBFA;\n",
              "      box-shadow: 0px 1px 2px rgba(60, 64, 67, 0.3), 0px 1px 3px 1px rgba(60, 64, 67, 0.15);\n",
              "      fill: #174EA6;\n",
              "    }\n",
              "\n",
              "    .colab-df-buttons div {\n",
              "      margin-bottom: 4px;\n",
              "    }\n",
              "\n",
              "    [theme=dark] .colab-df-convert {\n",
              "      background-color: #3B4455;\n",
              "      fill: #D2E3FC;\n",
              "    }\n",
              "\n",
              "    [theme=dark] .colab-df-convert:hover {\n",
              "      background-color: #434B5C;\n",
              "      box-shadow: 0px 1px 3px 1px rgba(0, 0, 0, 0.15);\n",
              "      filter: drop-shadow(0px 1px 2px rgba(0, 0, 0, 0.3));\n",
              "      fill: #FFFFFF;\n",
              "    }\n",
              "  </style>\n",
              "\n",
              "    <script>\n",
              "      const buttonEl =\n",
              "        document.querySelector('#df-7d4c680e-c99e-4089-b916-9cc5f9499f20 button.colab-df-convert');\n",
              "      buttonEl.style.display =\n",
              "        google.colab.kernel.accessAllowed ? 'block' : 'none';\n",
              "\n",
              "      async function convertToInteractive(key) {\n",
              "        const element = document.querySelector('#df-7d4c680e-c99e-4089-b916-9cc5f9499f20');\n",
              "        const dataTable =\n",
              "          await google.colab.kernel.invokeFunction('convertToInteractive',\n",
              "                                                    [key], {});\n",
              "        if (!dataTable) return;\n",
              "\n",
              "        const docLinkHtml = 'Like what you see? Visit the ' +\n",
              "          '<a target=\"_blank\" href=https://colab.research.google.com/notebooks/data_table.ipynb>data table notebook</a>'\n",
              "          + ' to learn more about interactive tables.';\n",
              "        element.innerHTML = '';\n",
              "        dataTable['output_type'] = 'display_data';\n",
              "        await google.colab.output.renderOutput(dataTable, element);\n",
              "        const docLink = document.createElement('div');\n",
              "        docLink.innerHTML = docLinkHtml;\n",
              "        element.appendChild(docLink);\n",
              "      }\n",
              "    </script>\n",
              "  </div>\n",
              "\n",
              "\n",
              "<div id=\"df-00265b90-a6de-4212-ae1f-7789420f3034\">\n",
              "  <button class=\"colab-df-quickchart\" onclick=\"quickchart('df-00265b90-a6de-4212-ae1f-7789420f3034')\"\n",
              "            title=\"Suggest charts\"\n",
              "            style=\"display:none;\">\n",
              "\n",
              "<svg xmlns=\"http://www.w3.org/2000/svg\" height=\"24px\"viewBox=\"0 0 24 24\"\n",
              "     width=\"24px\">\n",
              "    <g>\n",
              "        <path d=\"M19 3H5c-1.1 0-2 .9-2 2v14c0 1.1.9 2 2 2h14c1.1 0 2-.9 2-2V5c0-1.1-.9-2-2-2zM9 17H7v-7h2v7zm4 0h-2V7h2v10zm4 0h-2v-4h2v4z\"/>\n",
              "    </g>\n",
              "</svg>\n",
              "  </button>\n",
              "\n",
              "<style>\n",
              "  .colab-df-quickchart {\n",
              "      --bg-color: #E8F0FE;\n",
              "      --fill-color: #1967D2;\n",
              "      --hover-bg-color: #E2EBFA;\n",
              "      --hover-fill-color: #174EA6;\n",
              "      --disabled-fill-color: #AAA;\n",
              "      --disabled-bg-color: #DDD;\n",
              "  }\n",
              "\n",
              "  [theme=dark] .colab-df-quickchart {\n",
              "      --bg-color: #3B4455;\n",
              "      --fill-color: #D2E3FC;\n",
              "      --hover-bg-color: #434B5C;\n",
              "      --hover-fill-color: #FFFFFF;\n",
              "      --disabled-bg-color: #3B4455;\n",
              "      --disabled-fill-color: #666;\n",
              "  }\n",
              "\n",
              "  .colab-df-quickchart {\n",
              "    background-color: var(--bg-color);\n",
              "    border: none;\n",
              "    border-radius: 50%;\n",
              "    cursor: pointer;\n",
              "    display: none;\n",
              "    fill: var(--fill-color);\n",
              "    height: 32px;\n",
              "    padding: 0;\n",
              "    width: 32px;\n",
              "  }\n",
              "\n",
              "  .colab-df-quickchart:hover {\n",
              "    background-color: var(--hover-bg-color);\n",
              "    box-shadow: 0 1px 2px rgba(60, 64, 67, 0.3), 0 1px 3px 1px rgba(60, 64, 67, 0.15);\n",
              "    fill: var(--button-hover-fill-color);\n",
              "  }\n",
              "\n",
              "  .colab-df-quickchart-complete:disabled,\n",
              "  .colab-df-quickchart-complete:disabled:hover {\n",
              "    background-color: var(--disabled-bg-color);\n",
              "    fill: var(--disabled-fill-color);\n",
              "    box-shadow: none;\n",
              "  }\n",
              "\n",
              "  .colab-df-spinner {\n",
              "    border: 2px solid var(--fill-color);\n",
              "    border-color: transparent;\n",
              "    border-bottom-color: var(--fill-color);\n",
              "    animation:\n",
              "      spin 1s steps(1) infinite;\n",
              "  }\n",
              "\n",
              "  @keyframes spin {\n",
              "    0% {\n",
              "      border-color: transparent;\n",
              "      border-bottom-color: var(--fill-color);\n",
              "      border-left-color: var(--fill-color);\n",
              "    }\n",
              "    20% {\n",
              "      border-color: transparent;\n",
              "      border-left-color: var(--fill-color);\n",
              "      border-top-color: var(--fill-color);\n",
              "    }\n",
              "    30% {\n",
              "      border-color: transparent;\n",
              "      border-left-color: var(--fill-color);\n",
              "      border-top-color: var(--fill-color);\n",
              "      border-right-color: var(--fill-color);\n",
              "    }\n",
              "    40% {\n",
              "      border-color: transparent;\n",
              "      border-right-color: var(--fill-color);\n",
              "      border-top-color: var(--fill-color);\n",
              "    }\n",
              "    60% {\n",
              "      border-color: transparent;\n",
              "      border-right-color: var(--fill-color);\n",
              "    }\n",
              "    80% {\n",
              "      border-color: transparent;\n",
              "      border-right-color: var(--fill-color);\n",
              "      border-bottom-color: var(--fill-color);\n",
              "    }\n",
              "    90% {\n",
              "      border-color: transparent;\n",
              "      border-bottom-color: var(--fill-color);\n",
              "    }\n",
              "  }\n",
              "</style>\n",
              "\n",
              "  <script>\n",
              "    async function quickchart(key) {\n",
              "      const quickchartButtonEl =\n",
              "        document.querySelector('#' + key + ' button');\n",
              "      quickchartButtonEl.disabled = true;  // To prevent multiple clicks.\n",
              "      quickchartButtonEl.classList.add('colab-df-spinner');\n",
              "      try {\n",
              "        const charts = await google.colab.kernel.invokeFunction(\n",
              "            'suggestCharts', [key], {});\n",
              "      } catch (error) {\n",
              "        console.error('Error during call to suggestCharts:', error);\n",
              "      }\n",
              "      quickchartButtonEl.classList.remove('colab-df-spinner');\n",
              "      quickchartButtonEl.classList.add('colab-df-quickchart-complete');\n",
              "    }\n",
              "    (() => {\n",
              "      let quickchartButtonEl =\n",
              "        document.querySelector('#df-00265b90-a6de-4212-ae1f-7789420f3034 button');\n",
              "      quickchartButtonEl.style.display =\n",
              "        google.colab.kernel.accessAllowed ? 'block' : 'none';\n",
              "    })();\n",
              "  </script>\n",
              "</div>\n",
              "\n",
              "    </div>\n",
              "  </div>\n"
            ],
            "application/vnd.google.colaboratory.intrinsic+json": {
              "type": "dataframe",
              "variable_name": "df1",
              "summary": "{\n  \"name\": \"df1\",\n  \"rows\": 308,\n  \"fields\": [\n    {\n      \"column\": \"DATE\",\n      \"properties\": {\n        \"dtype\": \"object\",\n        \"num_unique_values\": 308,\n        \"samples\": [\n          \"2019-01-01\",\n          \"1949-04-01\",\n          \"1961-04-01\"\n        ],\n        \"semantic_type\": \"\",\n        \"description\": \"\"\n      }\n    },\n    {\n      \"column\": \"GDPC1\",\n      \"properties\": {\n        \"dtype\": \"number\",\n        \"std\": 6050.960064003529,\n        \"min\": 2172.432,\n        \"max\": 22679.255,\n        \"num_unique_values\": 308,\n        \"samples\": [\n          20415.15,\n          2253.128,\n          3553.021\n        ],\n        \"semantic_type\": \"\",\n        \"description\": \"\"\n      }\n    }\n  ]\n}"
            }
          },
          "metadata": {},
          "execution_count": 5
        }
      ]
    },
    {
      "cell_type": "code",
      "source": [
        "df1['DATE'] = pd.to_datetime(df1['DATE'])\n",
        "\n",
        "df1['YoY'] = (df1['GDPC1'] / df1['GDPC1'].shift(4)) * 100 - 100\n",
        "\n",
        "df1_2023 = df1[df1['DATE'].dt.year == 2023]\n",
        "\n",
        "average_yoy_growth_2023 = round(df1_2023['YoY'].mean(), 1)\n",
        "\n",
        "print(average_yoy_growth_2023)"
      ],
      "metadata": {
        "colab": {
          "base_uri": "https://localhost:8080/"
        },
        "id": "IAMhU2cH0Mws",
        "outputId": "272d23dc-974c-4773-c7e9-d7c3ecf4f3db"
      },
      "execution_count": null,
      "outputs": [
        {
          "output_type": "stream",
          "name": "stdout",
          "text": [
            "2.5\n"
          ]
        }
      ]
    },
    {
      "cell_type": "markdown",
      "source": [
        "# Q2"
      ],
      "metadata": {
        "id": "HK5FNFbu031U"
      }
    },
    {
      "cell_type": "markdown",
      "source": [
        "Find the min value of (dgs10-dgs2) after since year 2000 (2000-01-01) and write it down as an answer, round to 1 digit after the decimal point."
      ],
      "metadata": {
        "id": "D-5XZ5yh061o"
      }
    },
    {
      "cell_type": "code",
      "source": [
        "df_DGS2_path = '/content/drive/MyDrive/Colab Notebooks/Stock Market Analytics Zoomcamp/Moudle 1/Q2/DGS2.csv'\n",
        "df_DGS10_path = '/content/drive/MyDrive/Colab Notebooks/Stock Market Analytics Zoomcamp/Moudle 1/Q2/DGS10.csv'\n",
        "\n",
        "df_DGS2 = pd.read_csv(df_DGS2_path)\n",
        "df_DGS10 = pd.read_csv(df_DGS10_path)"
      ],
      "metadata": {
        "id": "T10KRuQY0w9f"
      },
      "execution_count": null,
      "outputs": []
    },
    {
      "cell_type": "code",
      "source": [
        "# convert into datatime\n",
        "df_DGS2['DATE'] = pd.to_datetime(df_DGS2['DATE'])\n",
        "df_DGS10['DATE'] = pd.to_datetime(df_DGS10['DATE'])"
      ],
      "metadata": {
        "id": "v5lspy1u2UyY"
      },
      "execution_count": null,
      "outputs": []
    },
    {
      "cell_type": "code",
      "source": [
        "df_DGS2 = df_DGS2[df_DGS2 != '.']\n",
        "df_DGS2 = df_DGS2[df_DGS2['DATE'] >= '2000-01-01']\n",
        "df_DGS2['DGS2'] = df_DGS2['DGS2'].astype(float)"
      ],
      "metadata": {
        "id": "oskoFTQt1MD3"
      },
      "execution_count": null,
      "outputs": []
    },
    {
      "cell_type": "code",
      "source": [
        "df_DGS10 = df_DGS10[df_DGS10 != '.']\n",
        "df_DGS10 = df_DGS10[df_DGS10['DATE'] >= '2000-01-01']\n",
        "df_DGS10['DGS10'] = df_DGS10['DGS10'].astype(float)"
      ],
      "metadata": {
        "id": "eh8Xu3dl1QL_"
      },
      "execution_count": null,
      "outputs": []
    },
    {
      "cell_type": "code",
      "source": [
        "df_diff = pd.DataFrame(columns=['DATE', 'DIFF_VALUE'])\n",
        "df_diff['DATE'] = df_DGS10['DATE']\n",
        "df_diff['DIFF_VALUE'] = df_DGS10['DGS10'] - df_DGS2['DGS2']\n",
        "round(df_diff.min()['DIFF_VALUE'], 1)"
      ],
      "metadata": {
        "colab": {
          "base_uri": "https://localhost:8080/"
        },
        "id": "WAqG4IKW1dI9",
        "outputId": "ff7ed670-e705-428a-dbea-6d0617274dee"
      },
      "execution_count": null,
      "outputs": [
        {
          "output_type": "execute_result",
          "data": {
            "text/plain": [
              "-1.1"
            ]
          },
          "metadata": {},
          "execution_count": 32
        }
      ]
    },
    {
      "cell_type": "markdown",
      "source": [
        "# Q3"
      ],
      "metadata": {
        "id": "heR8oLAV3hSq"
      }
    },
    {
      "cell_type": "markdown",
      "source": [
        "Compare S&P 500 and IPC Mexico indexes by the 5 year growth and write down the largest value as an answer (%)\n",
        "\n"
      ],
      "metadata": {
        "id": "QvGeBlgR3kht"
      }
    },
    {
      "cell_type": "code",
      "source": [
        "# Get data for S&P 500 and IPC Mexico indexes\n",
        "sp500 = yf.download('^GSPC', start='2019-04-09', end='2024-04-09')\n",
        "ipc_mexico = yf.download('^MXX', start='2019-04-09', end='2024-04-09')"
      ],
      "metadata": {
        "colab": {
          "base_uri": "https://localhost:8080/"
        },
        "id": "EUndd2Yz1pfY",
        "outputId": "75f6e9a2-af08-45e5-9405-b55ca201d434"
      },
      "execution_count": null,
      "outputs": [
        {
          "output_type": "stream",
          "name": "stderr",
          "text": [
            "[*********************100%%**********************]  1 of 1 completed\n",
            "[*********************100%%**********************]  1 of 1 completed\n"
          ]
        }
      ]
    },
    {
      "cell_type": "code",
      "source": [
        "# Calculate the 5-year growth for both indexes\n",
        "sp500_5yr_growth = (sp500['Close'][-1] / sp500['Close'][0] ) -1\n",
        "ipc_mexico_5yr_growth = (ipc_mexico['Close'][-1] / ipc_mexico['Close'][0] ) -1\n",
        "\n",
        "print(sp500_5yr_growth)\n",
        "print(ipc_mexico_5yr_growth)\n",
        "# Find the largest value and print it\n",
        "largest_growth = max(sp500_5yr_growth, ipc_mexico_5yr_growth)\n",
        "\n",
        "print(round(largest_growth, 2)*100 , \"%\")"
      ],
      "metadata": {
        "colab": {
          "base_uri": "https://localhost:8080/"
        },
        "id": "OzEsonYh32H6",
        "outputId": "7009ff9b-208d-47a5-8796-9f2a1067a83d"
      },
      "execution_count": null,
      "outputs": [
        {
          "output_type": "stream",
          "name": "stdout",
          "text": [
            "0.8075151917783085\n",
            "0.2843377484045295\n",
            "81.0 %\n"
          ]
        }
      ]
    },
    {
      "cell_type": "markdown",
      "source": [
        "# Q4"
      ],
      "metadata": {
        "id": "cxTPiFMl4BxI"
      }
    },
    {
      "cell_type": "markdown",
      "source": [
        "Find the largest range ratio [=(max-min)/max] of Adj.Close prices in 2023"
      ],
      "metadata": {
        "id": "99FPXim74D_u"
      }
    },
    {
      "cell_type": "code",
      "source": [
        "# Define the list of top 6 stocks\n",
        "top6_stocks = [\"2222.SR\", \"BRK-B\", \"AAPL\", \"MSFT\", \"GOOG\", \"JPM\"]\n",
        "\n",
        "# Initialize a dictionary to store the range ratios\n",
        "range_ratios = {}\n",
        "\n",
        "# Loop through each stock and calculate the range ratio\n",
        "for stock in top6_stocks:\n",
        "  # Download the stock data\n",
        "  stock_data = yf.download(stock, start=\"2023-01-01\", end=\"2023-12-31\")\n",
        "\n",
        "  # Calculate the range ratio\n",
        "  # Calculate maximum-minimim \"Adj.Close\" price for each stock and divide it by the maximum \"Adj.Close\" value.\n",
        "  range_ratio = (stock_data[\"Adj Close\"].max() - stock_data[\"Adj Close\"].min()) / stock_data[\"Adj Close\"].max()\n",
        "\n",
        "  # Store the range ratio in the dictionary\n",
        "  range_ratios[stock] = range_ratio\n"
      ],
      "metadata": {
        "colab": {
          "base_uri": "https://localhost:8080/"
        },
        "id": "51n6gVwB351s",
        "outputId": "74ecf18d-ab56-44ca-aedd-846c7dd0240b"
      },
      "execution_count": null,
      "outputs": [
        {
          "output_type": "stream",
          "name": "stderr",
          "text": [
            "[*********************100%%**********************]  1 of 1 completed\n",
            "[*********************100%%**********************]  1 of 1 completed\n",
            "[*********************100%%**********************]  1 of 1 completed\n",
            "[*********************100%%**********************]  1 of 1 completed\n",
            "[*********************100%%**********************]  1 of 1 completed\n",
            "[*********************100%%**********************]  1 of 1 completed\n"
          ]
        }
      ]
    },
    {
      "cell_type": "markdown",
      "source": [
        " Round the result to two decimal places (e.g. 0.1575 will be 0.16)"
      ],
      "metadata": {
        "id": "1-PHbt-G4lm0"
      }
    },
    {
      "cell_type": "code",
      "source": [
        "for i,k in enumerate(range_ratios):\n",
        "  print(k, round(range_ratios[k],2))"
      ],
      "metadata": {
        "colab": {
          "base_uri": "https://localhost:8080/"
        },
        "id": "ayScF3f-4wGL",
        "outputId": "bd317ef5-2c74-4b79-885b-e8ef8cc7b2b4"
      },
      "execution_count": null,
      "outputs": [
        {
          "output_type": "stream",
          "name": "stdout",
          "text": [
            "2222.SR 0.21\n",
            "BRK-B 0.21\n",
            "AAPL 0.37\n",
            "MSFT 0.42\n",
            "GOOG 0.39\n",
            "JPM 0.28\n"
          ]
        }
      ]
    },
    {
      "cell_type": "markdown",
      "source": [
        "# Q5"
      ],
      "metadata": {
        "id": "Nsds2x1j5NFP"
      }
    },
    {
      "cell_type": "code",
      "source": [
        "test_1 = yf.Ticker(\"GOOG\")\n",
        "# test_1.dividends\n",
        "hist = test_1.history(period='2y')\n",
        "hist = hist.reset_index()\n",
        "hist['Dividends'].value_counts()"
      ],
      "metadata": {
        "colab": {
          "base_uri": "https://localhost:8080/"
        },
        "id": "7xJwo9QODkK5",
        "outputId": "275c483f-b8f5-43c5-d2c9-4e87b7e8fc1a"
      },
      "execution_count": null,
      "outputs": [
        {
          "output_type": "execute_result",
          "data": {
            "text/plain": [
              "Dividends\n",
              "0.0    503\n",
              "Name: count, dtype: int64"
            ]
          },
          "metadata": {},
          "execution_count": 135
        }
      ]
    },
    {
      "cell_type": "code",
      "source": [
        "# Define the list of top 6 stocks\n",
        "top6_stocks = [\"2222.SR\", \"BRK-B\", \"AAPL\", \"MSFT\", \"GOOG\", \"JPM\"]\n",
        "\n",
        "# Initialize a dictionary to store the dividend yields\n",
        "dividend_yields = {}\n",
        "\n",
        "# Loop through each stock and calculate the dividend yield\n",
        "for stock in top6_stocks:\n",
        "  # Download the stock data\n",
        "  stock_data = yf.Ticker(stock)\n",
        "\n",
        "\n",
        "  # divide each value by the closing price (Adj.Close) at the last trading day of the year\n",
        "  data_contain_adj_close = pdr.get_data_yahoo(stock, start=\"2023-01-01\", end=\"2024-01-01\")\n",
        "  data_contain_adj_close = data_contain_adj_close.reset_index()\n",
        "  last_day_adj_close = float(data_contain_adj_close['Adj Close'][-1:].values[0])\n",
        "\n",
        "  # Get the dividends paid in 2023\n",
        "  dividends_2023 = stock_data.dividends[stock_data.dividends.index.year == 2023]\n",
        "\n",
        "  # Calculate the dividend yield\n",
        "  # Sum up all dividends paid in 2023 per company\n",
        "  dividend_adj_close = dividends_2023.sum() / last_day_adj_close\n",
        "\n",
        "  print(\"\\nStock:\", stock)\n",
        "  print(\"Sum dividends in 2023:\", dividends_2023.sum())\n",
        "  print(\"last day adj close price: \",last_day_adj_close)\n",
        "\n",
        "  # Store the dividend yield in the dictionary\n",
        "  dividend_yields[stock] = dividend_adj_close"
      ],
      "metadata": {
        "colab": {
          "base_uri": "https://localhost:8080/"
        },
        "id": "cvww0SENAlxX",
        "outputId": "20fc06d7-cdab-4181-f79c-b424c2244a1a"
      },
      "execution_count": null,
      "outputs": [
        {
          "output_type": "stream",
          "name": "stderr",
          "text": [
            "[*********************100%%**********************]  1 of 1 completed\n",
            "[*********************100%%**********************]  1 of 1 completed"
          ]
        },
        {
          "output_type": "stream",
          "name": "stdout",
          "text": [
            "\n",
            "Stock: 2222.SR\n",
            "Sum dividends in 2023: 0.9107640000000001\n",
            "last day adj close price:  32.82804870605469\n"
          ]
        },
        {
          "output_type": "stream",
          "name": "stderr",
          "text": [
            "\n",
            "[*********************100%%**********************]  1 of 1 completed"
          ]
        },
        {
          "output_type": "stream",
          "name": "stdout",
          "text": [
            "\n",
            "Stock: BRK-B\n",
            "Sum dividends in 2023: 0.0\n",
            "last day adj close price:  356.6600036621094\n"
          ]
        },
        {
          "output_type": "stream",
          "name": "stderr",
          "text": [
            "\n",
            "[*********************100%%**********************]  1 of 1 completed"
          ]
        },
        {
          "output_type": "stream",
          "name": "stdout",
          "text": [
            "\n",
            "Stock: AAPL\n",
            "Sum dividends in 2023: 0.95\n",
            "last day adj close price:  192.28463745117188\n"
          ]
        },
        {
          "output_type": "stream",
          "name": "stderr",
          "text": [
            "\n",
            "[*********************100%%**********************]  1 of 1 completed"
          ]
        },
        {
          "output_type": "stream",
          "name": "stdout",
          "text": [
            "\n",
            "Stock: MSFT\n",
            "Sum dividends in 2023: 2.79\n",
            "last day adj close price:  375.34588623046875\n"
          ]
        },
        {
          "output_type": "stream",
          "name": "stderr",
          "text": [
            "\n",
            "[*********************100%%**********************]  1 of 1 completed"
          ]
        },
        {
          "output_type": "stream",
          "name": "stdout",
          "text": [
            "\n",
            "Stock: GOOG\n",
            "Sum dividends in 2023: 0.0\n",
            "last day adj close price:  140.92999267578125\n"
          ]
        },
        {
          "output_type": "stream",
          "name": "stderr",
          "text": [
            "\n"
          ]
        },
        {
          "output_type": "stream",
          "name": "stdout",
          "text": [
            "\n",
            "Stock: JPM\n",
            "Sum dividends in 2023: 4.05\n",
            "last day adj close price:  168.07713317871094\n"
          ]
        }
      ]
    },
    {
      "cell_type": "code",
      "source": [
        "dividend_yields"
      ],
      "metadata": {
        "colab": {
          "base_uri": "https://localhost:8080/"
        },
        "id": "fG-lVmjbCbKE",
        "outputId": "bf9f1137-c019-45ff-c451-f288f47799f9"
      },
      "execution_count": null,
      "outputs": [
        {
          "output_type": "execute_result",
          "data": {
            "text/plain": [
              "{'2222.SR': 0.027743470474138235,\n",
              " 'BRK-B': 0.0,\n",
              " 'AAPL': 0.004940592304162832,\n",
              " 'MSFT': 0.007433143940964608,\n",
              " 'GOOG': 0.0,\n",
              " 'JPM': 0.024096079718909574}"
            ]
          },
          "metadata": {},
          "execution_count": 121
        }
      ]
    },
    {
      "cell_type": "code",
      "source": [
        "max_dividend_yield = max(dividend_yields.values())\n",
        "max_dividend_yield_company = max(dividend_yields, key=dividend_yields.get)\n",
        "max_dividend_yield_percent = round(max_dividend_yield * 100, 1)\n",
        "\n",
        "print(f\"The maximum dividend yield is {max_dividend_yield_percent}% for company {max_dividend_yield_company}\")"
      ],
      "metadata": {
        "colab": {
          "base_uri": "https://localhost:8080/"
        },
        "id": "A2Sl83RACJTj",
        "outputId": "de1175ca-3deb-4e98-b61a-c9be6a48954e"
      },
      "execution_count": null,
      "outputs": [
        {
          "output_type": "stream",
          "name": "stdout",
          "text": [
            "The maximum dividend yield is 2.8% for company 2222.SR\n"
          ]
        }
      ]
    },
    {
      "cell_type": "markdown",
      "source": [
        "# Q6\n",
        "\n"
      ],
      "metadata": {
        "id": "7kjJCkSNElvs"
      }
    },
    {
      "cell_type": "markdown",
      "source": [
        "\n",
        "Download and explore a few additional metrics or time series that might be valuable for your project and write down why (briefly)."
      ],
      "metadata": {
        "id": "ITX48Y_xEsnz"
      }
    },
    {
      "cell_type": "markdown",
      "source": [
        "- gold_ticker = 'GC=F'\n",
        "- silver = 'SI=F'\n",
        "- crude_oil = 'CL=F'\n",
        "- natural_gas = 'NG=F'\n",
        "- corn = 'CORN'"
      ],
      "metadata": {
        "id": "D47wZms9GK23"
      }
    },
    {
      "cell_type": "code",
      "source": [
        "# Define the list of tickers\n",
        "tickers = ['GC=F', 'SI=F', 'CL=F', 'NG=F', 'CORN']\n",
        "\n",
        "# Download the data for each ticker\n",
        "gold_data = yf.download(tickers[0], start=\"2020-01-01\")\n",
        "silver_data = yf.download(tickers[1], start=\"2020-01-01\")\n",
        "crude_oil_data = yf.download(tickers[2], start=\"2020-01-01\")\n",
        "natural_gas_data = yf.download(tickers[3], start=\"2020-01-01\")\n",
        "corn_data = yf.download(tickers[4], start=\"2020-01-01\")\n",
        "\n",
        "# Print a message indicating that the data has been downloaded\n",
        "print(\"Data downloaded successfully!\")"
      ],
      "metadata": {
        "colab": {
          "base_uri": "https://localhost:8080/"
        },
        "id": "YjCs0801Fz1k",
        "outputId": "0f2ec495-c488-44c3-ccee-454a8cdf00de"
      },
      "execution_count": null,
      "outputs": [
        {
          "output_type": "stream",
          "name": "stderr",
          "text": [
            "[*********************100%%**********************]  1 of 1 completed\n",
            "[*********************100%%**********************]  1 of 1 completed\n",
            "[*********************100%%**********************]  1 of 1 completed\n",
            "[*********************100%%**********************]  1 of 1 completed\n",
            "[*********************100%%**********************]  1 of 1 completed"
          ]
        },
        {
          "output_type": "stream",
          "name": "stdout",
          "text": [
            "Data downloaded successfully!\n"
          ]
        },
        {
          "output_type": "stream",
          "name": "stderr",
          "text": [
            "\n"
          ]
        }
      ]
    },
    {
      "cell_type": "markdown",
      "source": [
        "To delve into a comprehensive analysis of key commodities, understanding their time-series data can yield valuable insights. By examining the historical prices of gold (GC=F), silver (SI=F), crude oil (CL=F), natural gas (NG=F), and corn (CORN), we can uncover patterns, correlations, and potentially predictive relationships that could significantly benefit your project. Here's why each of these time series could be valuable:\n",
        "\n",
        "1. **Gold (GC=F)**: Often considered a 'safe haven' asset, gold prices can indicate investor sentiment, particularly during times of economic uncertainty. Analyzing gold's price fluctuations could help predict shifts in market dynamics and investor behavior.\n",
        "\n",
        "2. **Silver (SI=F)**: While silver is also a precious metal like gold, it has a higher industrial usage. Investigating the price trends of silver alongside gold can help us understand not just the investment demand but also industrial health, as it may correlate with manufacturing activity.\n",
        "\n",
        "3. **Crude Oil (CL=F)**: Crude oil is a critical determinant of global economic health, with its price affecting a broad range of industries. It is also sensitive to geopolitical events. Time series analysis of crude oil can provide foresight into energy costs and economic vitality.\n",
        "\n",
        "4. **Natural Gas (NG=F)**: As a key energy source, especially for heating and electricity generation, natural gas prices can reflect supply-demand dynamics and seasonal patterns. It also provides insight into the energy market's shift towards cleaner fuel sources.\n",
        "\n",
        "5. **Corn (CORN)**: Corn is a staple commodity with diverse uses from food products to biofuels. Its price can be influenced by a variety of factors, including weather conditions, harvest yields, and biofuel demand. Studying corn prices can signal changes in agricultural markets and food inflation.\n",
        "\n",
        "Exploring the interconnections between these commodities can illuminate how they collectively respond to macroeconomic changes. For instance, rising oil prices can lead to increased production costs across industries, which may influence the prices of precious metals or agricultural commodities. Similarly, movements in natural gas prices might be used to predict alterations in corn prices, especially if corn is used significantly for bioenergy.\n",
        "\n",
        "In the project, by incorporating the historical data of these commodities, I can develop econometric models or machine learning algorithms that detect patterns and correlations. These findings can then be used to predict future price movements, hedge risks, or inform investment strategies. The key lies in not only capturing their individual price movements but also understanding the causality or interdependence between these commodities, which could unlock powerful predictive capabilities for the analysis."
      ],
      "metadata": {
        "id": "ziEaTIWGG3kC"
      }
    },
    {
      "cell_type": "markdown",
      "source": [
        "# Q7"
      ],
      "metadata": {
        "id": "7BAm5FonG3hs"
      }
    },
    {
      "cell_type": "markdown",
      "source": [
        "Explore earning dates for the whole month of April - e.g. using YahooFinance earnings calendar (https://finance.yahoo.com/calendar/earnings?from=2024-04-21&to=2024-04-27&day=2024-04-23). Compare with the previous closed earnings (e.g., recent dates with full data https://finance.yahoo.com/calendar/earnings?from=2024-04-07&to=2024-04-13&day=2024-04-08).\n",
        "\n",
        "Describe an analytical strategy/idea (you're not required to implement it) to select a subset companies of interest based on the future events data."
      ],
      "metadata": {
        "id": "SSORkAORG8xT"
      }
    },
    {
      "cell_type": "markdown",
      "source": [
        "- Historical Earnings Performance: Look at how companies' stocks reacted to past earnings announcements.\n",
        "- Earnings Surprises: Focus on companies with a history of beating earnings estimates.\n",
        "- Industry Trends: Choose companies in industries relevant to current economic conditions.\n",
        "- Company Size: Larger companies might offer stability, while smaller companies could have higher volatility.\n",
        "- Forward-looking Statements: Pay attention to the management's forward-looking statements and guidance during earnings calls, as these can impact future performance expectations.\n",
        "- Economic Indicators and Market Sentiment: Consider broader market trends and economic indicators that could influence the entire market or specific sectors, and thus, affect company earnings.\n",
        "\n",
        "\n",
        "By evaluating these elements, we can identify potential investment opportunities based on upcoming earnings releases.\n",
        "\n",
        "\n"
      ],
      "metadata": {
        "id": "HqxeQCQRJ1eh"
      }
    },
    {
      "cell_type": "code",
      "source": [],
      "metadata": {
        "id": "dnOI9VQ-KJJE"
      },
      "execution_count": null,
      "outputs": []
    }
  ]
}