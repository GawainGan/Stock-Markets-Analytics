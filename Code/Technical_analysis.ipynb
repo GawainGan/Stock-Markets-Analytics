{
 "cells": [
  {
   "cell_type": "code",
   "execution_count": null,
   "metadata": {},
   "outputs": [],
   "source": [
    "# !npm install --save lightweight-charts"
   ]
  },
  {
   "cell_type": "code",
   "execution_count": null,
   "metadata": {},
   "outputs": [],
   "source": [
    "# pip install lightweight-charts\n",
    "# https://github.com/louisnw01/lightweight-charts-python"
   ]
  },
  {
   "cell_type": "code",
   "execution_count": null,
   "metadata": {},
   "outputs": [],
   "source": [
    "# pip install mplfinance\n",
    "# pip install nbformat\n",
    "# "
   ]
  },
  {
   "cell_type": "code",
   "execution_count": 1,
   "metadata": {},
   "outputs": [],
   "source": [
    "import yfinance as yf\n",
    "import pandas as pd\n",
    "# from lightweight_charts import Chart\n",
    "import mplfinance as mpf\n",
    "\n",
    "import matplotlib.pyplot as plt\n",
    "import pandas as pd\n",
    "import plotly.express as px\n",
    "import plotly.graph_objects as go\n",
    "from plotly.subplots import make_subplots\n"
   ]
  },
  {
   "cell_type": "code",
   "execution_count": 2,
   "metadata": {},
   "outputs": [
    {
     "name": "stderr",
     "output_type": "stream",
     "text": [
      "[*********************100%%**********************]  1 of 1 completed\n",
      "[*********************100%%**********************]  1 of 1 completed\n"
     ]
    }
   ],
   "source": [
    "# 定义开始日期和股票代码\n",
    "start_date = \"2024-04-10\"\n",
    "ticker = \"GC=F\"\n",
    "\n",
    "# 获取日线数据\n",
    "daily_data = yf.download(ticker, start=start_date, interval=\"1d\")\n",
    "\n",
    "# 获取1小时线数据\n",
    "hourly_1_data = yf.download(ticker, start=start_date, interval=\"1h\")\n"
   ]
  },
  {
   "cell_type": "code",
   "execution_count": 3,
   "metadata": {},
   "outputs": [
    {
     "name": "stdout",
     "output_type": "stream",
     "text": [
      "Daily Data:\n"
     ]
    },
    {
     "data": {
      "text/html": [
       "<div>\n",
       "<style scoped>\n",
       "    .dataframe tbody tr th:only-of-type {\n",
       "        vertical-align: middle;\n",
       "    }\n",
       "\n",
       "    .dataframe tbody tr th {\n",
       "        vertical-align: top;\n",
       "    }\n",
       "\n",
       "    .dataframe thead th {\n",
       "        text-align: right;\n",
       "    }\n",
       "</style>\n",
       "<table border=\"1\" class=\"dataframe\">\n",
       "  <thead>\n",
       "    <tr style=\"text-align: right;\">\n",
       "      <th></th>\n",
       "      <th>Open</th>\n",
       "      <th>High</th>\n",
       "      <th>Low</th>\n",
       "      <th>Close</th>\n",
       "      <th>Adj Close</th>\n",
       "      <th>Volume</th>\n",
       "      <th>Body</th>\n",
       "      <th>Wick</th>\n",
       "      <th>Total</th>\n",
       "      <th>Bull/Bear</th>\n",
       "    </tr>\n",
       "    <tr>\n",
       "      <th>Date</th>\n",
       "      <th></th>\n",
       "      <th></th>\n",
       "      <th></th>\n",
       "      <th></th>\n",
       "      <th></th>\n",
       "      <th></th>\n",
       "      <th></th>\n",
       "      <th></th>\n",
       "      <th></th>\n",
       "      <th></th>\n",
       "    </tr>\n",
       "  </thead>\n",
       "  <tbody>\n",
       "    <tr>\n",
       "      <th>2024-04-10</th>\n",
       "      <td>2346.600098</td>\n",
       "      <td>2358.100098</td>\n",
       "      <td>2327.699951</td>\n",
       "      <td>2329.600098</td>\n",
       "      <td>2329.600098</td>\n",
       "      <td>377</td>\n",
       "      <td>17.000000</td>\n",
       "      <td>30.400146</td>\n",
       "      <td>47.400146</td>\n",
       "      <td>Bear</td>\n",
       "    </tr>\n",
       "    <tr>\n",
       "      <th>2024-04-11</th>\n",
       "      <td>2341.500000</td>\n",
       "      <td>2376.300049</td>\n",
       "      <td>2330.600098</td>\n",
       "      <td>2354.800049</td>\n",
       "      <td>2354.800049</td>\n",
       "      <td>283</td>\n",
       "      <td>13.300049</td>\n",
       "      <td>45.699951</td>\n",
       "      <td>59.000000</td>\n",
       "      <td>Bull</td>\n",
       "    </tr>\n",
       "    <tr>\n",
       "      <th>2024-04-12</th>\n",
       "      <td>2377.300049</td>\n",
       "      <td>2429.000000</td>\n",
       "      <td>2334.300049</td>\n",
       "      <td>2356.199951</td>\n",
       "      <td>2356.199951</td>\n",
       "      <td>584</td>\n",
       "      <td>21.100098</td>\n",
       "      <td>94.699951</td>\n",
       "      <td>115.800049</td>\n",
       "      <td>Bear</td>\n",
       "    </tr>\n",
       "    <tr>\n",
       "      <th>2024-04-15</th>\n",
       "      <td>2362.100098</td>\n",
       "      <td>2384.699951</td>\n",
       "      <td>2326.000000</td>\n",
       "      <td>2365.800049</td>\n",
       "      <td>2365.800049</td>\n",
       "      <td>1801</td>\n",
       "      <td>3.699951</td>\n",
       "      <td>58.699951</td>\n",
       "      <td>62.399902</td>\n",
       "      <td>Bull</td>\n",
       "    </tr>\n",
       "    <tr>\n",
       "      <th>2024-04-16</th>\n",
       "      <td>2384.000000</td>\n",
       "      <td>2390.800049</td>\n",
       "      <td>2371.399902</td>\n",
       "      <td>2390.800049</td>\n",
       "      <td>2390.800049</td>\n",
       "      <td>41</td>\n",
       "      <td>6.800049</td>\n",
       "      <td>19.400146</td>\n",
       "      <td>26.200195</td>\n",
       "      <td>Bull</td>\n",
       "    </tr>\n",
       "  </tbody>\n",
       "</table>\n",
       "</div>"
      ],
      "text/plain": [
       "                   Open         High          Low        Close    Adj Close  \\\n",
       "Date                                                                          \n",
       "2024-04-10  2346.600098  2358.100098  2327.699951  2329.600098  2329.600098   \n",
       "2024-04-11  2341.500000  2376.300049  2330.600098  2354.800049  2354.800049   \n",
       "2024-04-12  2377.300049  2429.000000  2334.300049  2356.199951  2356.199951   \n",
       "2024-04-15  2362.100098  2384.699951  2326.000000  2365.800049  2365.800049   \n",
       "2024-04-16  2384.000000  2390.800049  2371.399902  2390.800049  2390.800049   \n",
       "\n",
       "            Volume       Body       Wick       Total Bull/Bear  \n",
       "Date                                                            \n",
       "2024-04-10     377  17.000000  30.400146   47.400146      Bear  \n",
       "2024-04-11     283  13.300049  45.699951   59.000000      Bull  \n",
       "2024-04-12     584  21.100098  94.699951  115.800049      Bear  \n",
       "2024-04-15    1801   3.699951  58.699951   62.399902      Bull  \n",
       "2024-04-16      41   6.800049  19.400146   26.200195      Bull  "
      ]
     },
     "execution_count": 3,
     "metadata": {},
     "output_type": "execute_result"
    }
   ],
   "source": [
    "# 定义计算列的函数\n",
    "def calculate_columns(df):\n",
    "    # 计算实体（开盘到收盘范围）\n",
    "    df['Body'] = abs(df['Close'] - df['Open'])\n",
    "    # 计算影线（当天最高和最低之间的范围）\n",
    "    df['Wick'] = df['High'] - df['Low']\n",
    "    # 实体和影线的总和\n",
    "    df['Total'] = df['Body'] + df['Wick']\n",
    "    # 判断K线是多头还是空头\n",
    "    df['Bull/Bear'] = df.apply(lambda row: 'Bull' if row['Close'] > row['Open'] else 'Bear', axis=1)\n",
    "    return df\n",
    "\n",
    "# 计算每个区段的数据\n",
    "daily_data = calculate_columns(daily_data)\n",
    "\n",
    "hourly_1_data = calculate_columns(hourly_1_data)\n",
    "\n",
    "# 输出结果\n",
    "print(\"Daily Data:\")\n",
    "daily_data.head()"
   ]
  },
  {
   "cell_type": "code",
   "execution_count": 4,
   "metadata": {},
   "outputs": [],
   "source": [
    "Gold_daily_df = daily_data[['Open', 'High', 'Low', 'Close', 'Volume']]\n",
    "Gold_daily_df.head()\n",
    "Gold_daily_df.to_csv('/Users/gan-m2/Stock-Markets-Analytics/Src/yfinance_data/Gold_daily.csv')"
   ]
  },
  {
   "cell_type": "code",
   "execution_count": 5,
   "metadata": {},
   "outputs": [
    {
     "data": {
      "image/png": "[encoded data removed]",
      "text/plain": [
       "<Figure size 800x575 with 2 Axes>"
      ]
     },
     "metadata": {},
     "output_type": "display_data"
    }
   ],
   "source": [
    "# https://github.com/matplotlib/mplfinance/blob/master/examples/marketcolor_overrides.ipynb\n",
    "mpf.plot(Gold_daily_df,style='yahoo' ,type='candle')"
   ]
  },
  {
   "cell_type": "markdown",
   "metadata": {},
   "source": [
    "### 分析在一定区域内的多空力量对比"
   ]
  },
  {
   "cell_type": "code",
   "execution_count": 6,
   "metadata": {},
   "outputs": [],
   "source": [
    "from typing import Tuple\n",
    "\n",
    "\n",
    "def analyze_candlestick_data(data: pd.DataFrame) -> Tuple[pd.DataFrame, pd.DataFrame]:\n",
    "# def analyze_candlestick_data(data: pd.DataFrame) -> (pd.DataFrame, pd.DataFrame):\n",
    "    \"\"\"\n",
    "    分析K线数据，按 'Bull/Bear' 分组，计算 'Body', 'Wick', 'Total' 的总和和平均值，并绘制图表。\n",
    "\n",
    "    参数:\n",
    "    data (pd.DataFrame): 包含K线数据的DataFrame，包含 'Body', 'Wick', 'Total' 和 'Bull/Bear' 列。\n",
    "\n",
    "    返回:\n",
    "    (pd.DataFrame, pd.DataFrame): 分别包含每组的总和和平均值的DataFrame。\n",
    "    \"\"\"\n",
    "    # 按 'Bull/Bear' 分组并计算总和\n",
    "    grouped_data_sum = data.groupby('Bull/Bear').sum()\n",
    "    # 添加列 Bar_Count 显示每组的K线数量\n",
    "    grouped_data_sum = grouped_data_sum.assign(Bar_Count=data['Bull/Bear'].value_counts())\n",
    "    grouped_data_sum = grouped_data_sum[['Body', 'Wick', 'Total', 'Bar_Count']]\n",
    "\n",
    "    # 按 'Bull/Bear' 分组并计算平均值\n",
    "    grouped_data_mean = data.groupby('Bull/Bear').mean()\n",
    "    # 添加列 Bar_Count 显示每组的K线数量\n",
    "    grouped_data_mean = grouped_data_mean.assign(Bar_Count=data['Bull/Bear'].value_counts())\n",
    "    grouped_data_mean = grouped_data_mean[['Body', 'Wick', 'Total', 'Bar_Count']]\n",
    "    \n",
    "    return grouped_data_sum, grouped_data_mean\n"
   ]
  },
  {
   "cell_type": "code",
   "execution_count": 7,
   "metadata": {},
   "outputs": [
    {
     "name": "stdout",
     "output_type": "stream",
     "text": [
      "                 Body        Wick        Total  Bar_Count\n",
      "Bull/Bear                                                \n",
      "Bear       427.400391  682.400146  1109.800537         24\n",
      "Bull       321.499756  561.700439   883.200195         20\n",
      "\n",
      "                 Body       Wick      Total  Bar_Count\n",
      "Bull/Bear                                            \n",
      "Bear       17.808350  28.433339  46.241689         24\n",
      "Bull       16.074988  28.085022  44.160010         20\n"
     ]
    }
   ],
   "source": [
    "grouped_data_sum, grouped_data_mean = analyze_candlestick_data(daily_data)\n",
    "\n",
    "print(grouped_data_sum)\n",
    "\n",
    "print(\"\\n\",grouped_data_mean)"
   ]
  },
  {
   "cell_type": "code",
   "execution_count": 8,
   "metadata": {},
   "outputs": [],
   "source": [
    "def plot_grouped_data_plotly(grouped_data: pd.DataFrame):\n",
    "    \"\"\"\n",
    "    使用 Plotly 绘制按 'Bull/Bear' 分组计算的 'Body', 'Wick', 'Total' 的总和图表。\n",
    "\n",
    "    参数:\n",
    "    grouped_data (pd.DataFrame): 包含 'Body', 'Wick', 'Total' 和 'Bar_Count' 列的分组数据。\n",
    "\n",
    "    返回:\n",
    "    None\n",
    "    \"\"\"\n",
    "    # 创建子图\n",
    "    fig = make_subplots(rows=1, cols=3, subplot_titles=(\"Body\", \"Wick\", \"Total\"))\n",
    "\n",
    "    # 添加 Body 的总和图表\n",
    "    fig.add_trace(\n",
    "        go.Bar(name=\"Body\", x=grouped_data.index, y=grouped_data['Body'], marker_color=['red', 'green']),\n",
    "        row=1, col=1\n",
    "    )\n",
    "\n",
    "    # 添加 Wick 的总和图表\n",
    "    fig.add_trace(\n",
    "        go.Bar(name=\"Wick\", x=grouped_data.index, y=grouped_data['Wick'], marker_color=['red', 'green']),\n",
    "        row=1, col=2\n",
    "    )\n",
    "\n",
    "    # 添加 Total 的总和图表\n",
    "    fig.add_trace(\n",
    "        go.Bar(name=\"Total\", x=grouped_data.index, y=grouped_data['Total'], marker_color=['red', 'green']),\n",
    "        row=1, col=3\n",
    "    )\n",
    "\n",
    "    # 更新布局\n",
    "    fig.update_layout(title_text=\"Grouped Data by Bull/Bear\", showlegend=False)\n",
    "    fig.update_xaxes(showticklabels=False)\n",
    "\n",
    "    # 显示图表\n",
    "    fig.show()"
   ]
  },
  {
   "cell_type": "code",
   "execution_count": 9,
   "metadata": {},
   "outputs": [
    {
     "data": {
      "application/vnd.plotly.v1+json": {
       "config": {
        "plotlyServerURL": "https://plot.ly"
       },
       "data": [
        {
         "marker": {
          "color": [
           "red",
           "green"
          ]
         },
         "name": "Body",
         "type": "bar",
         "x": [
          "Bear",
          "Bull"
         ],
         "xaxis": "x",
         "y": [
          427.400390625,
          321.499755859375
         ],
         "yaxis": "y"
        },
        {
         "marker": {
          "color": [
           "red",
           "green"
          ]
         },
         "name": "Wick",
         "type": "bar",
         "x": [
          "Bear",
          "Bull"
         ],
         "xaxis": "x2",
         "y": [
          682.400146484375,
          561.700439453125
         ],
         "yaxis": "y2"
        },
        {
         "marker": {
          "color": [
           "red",
           "green"
          ]
         },
         "name": "Total",
         "type": "bar",
         "x": [
          "Bear",
          "Bull"
         ],
         "xaxis": "x3",
         "y": [
          1109.800537109375,
          883.2001953125
         ],
         "yaxis": "y3"
        }
       ],
       "layout": {
        "annotations": [
         {
          "font": {
           "size": 16
          },
          "showarrow": false,
          "text": "Body",
          "x": 0.14444444444444446,
          "xanchor": "center",
          "xref": "paper",
          "y": 1,
          "yanchor": "bottom",
          "yref": "paper"
         },
         {
          "font": {
           "size": 16
          },
          "showarrow": false,
          "text": "Wick",
          "x": 0.5,
          "xanchor": "center",
          "xref": "paper",
          "y": 1,
          "yanchor": "bottom",
          "yref": "paper"
         },
         {
          "font": {
           "size": 16
          },
          "showarrow": false,
          "text": "Total",
          "x": 0.8555555555555556,
          "xanchor": "center",
          "xref": "paper",
          "y": 1,
          "yanchor": "bottom",
          "yref": "paper"
         }
        ],
        "showlegend": false,
        "template": {
         "data": {
          "bar": [
           {
            "error_x": {
             "color": "#2a3f5f"
            },
            "error_y": {
             "color": "#2a3f5f"
            },
            "marker": {
             "line": {
              "color": "#E5ECF6",
              "width": 0.5
             },
             "pattern": {
              "fillmode": "overlay",
              "size": 10,
              "solidity": 0.2
             }
            },
            "type": "bar"
           }
          ],
          "barpolar": [
           {
            "marker": {
             "line": {
              "color": "#E5ECF6",
              "width": 0.5
             },
             "pattern": {
              "fillmode": "overlay",
              "size": 10,
              "solidity": 0.2
             }
            },
            "type": "barpolar"
           }
          ],
          "carpet": [
           {
            "aaxis": {
             "endlinecolor": "#2a3f5f",
             "gridcolor": "white",
             "linecolor": "white",
             "minorgridcolor": "white",
             "startlinecolor": "#2a3f5f"
            },
            "baxis": {
             "endlinecolor": "#2a3f5f",
             "gridcolor": "white",
             "linecolor": "white",
             "minorgridcolor": "white",
             "startlinecolor": "#2a3f5f"
            },
            "type": "carpet"
           }
          ],
          "choropleth": [
           {
            "colorbar": {
             "outlinewidth": 0,
             "ticks": ""
            },
            "type": "choropleth"
           }
          ],
          "contour": [
           {
            "colorbar": {
             "outlinewidth": 0,
             "ticks": ""
            },
            "colorscale": [
             [
              0,
              "#0d0887"
             ],
             [
              0.1111111111111111,
              "#46039f"
             ],
             [
              0.2222222222222222,
              "#7201a8"
             ],
             [
              0.3333333333333333,
              "#9c179e"
             ],
             [
              0.4444444444444444,
              "#bd3786"
             ],
             [
              0.5555555555555556,
              "#d8576b"
             ],
             [
              0.6666666666666666,
              "#ed7953"
             ],
             [
              0.7777777777777778,
              "#fb9f3a"
             ],
             [
              0.8888888888888888,
              "#fdca26"
             ],
             [
              1,
              "#f0f921"
             ]
            ],
            "type": "contour"
           }
          ],
          "contourcarpet": [
           {
            "colorbar": {
             "outlinewidth": 0,
             "ticks": ""
            },
            "type": "contourcarpet"
           }
          ],
          "heatmap": [
           {
            "colorbar": {
             "outlinewidth": 0,
             "ticks": ""
            },
            "colorscale": [
             [
              0,
              "#0d0887"
             ],
             [
              0.1111111111111111,
              "#46039f"
             ],
             [
              0.2222222222222222,
              "#7201a8"
             ],
             [
              0.3333333333333333,
              "#9c179e"
             ],
             [
              0.4444444444444444,
              "#bd3786"
             ],
             [
              0.5555555555555556,
              "#d8576b"
             ],
             [
              0.6666666666666666,
              "#ed7953"
             ],
             [
              0.7777777777777778,
              "#fb9f3a"
             ],
             [
              0.8888888888888888,
              "#fdca26"
             ],
             [
              1,
              "#f0f921"
             ]
            ],
            "type": "heatmap"
           }
          ],
          "heatmapgl": [
           {
            "colorbar": {
             "outlinewidth": 0,
             "ticks": ""
            },
            "colorscale": [
             [
              0,
              "#0d0887"
             ],
             [
              0.1111111111111111,
              "#46039f"
             ],
             [
              0.2222222222222222,
              "#7201a8"
             ],
             [
              0.3333333333333333,
              "#9c179e"
             ],
             [
              0.4444444444444444,
              "#bd3786"
             ],
             [
              0.5555555555555556,
              "#d8576b"
             ],
             [
              0.6666666666666666,
              "#ed7953"
             ],
             [
              0.7777777777777778,
              "#fb9f3a"
             ],
             [
              0.8888888888888888,
              "#fdca26"
             ],
             [
              1,
              "#f0f921"
             ]
            ],
            "type": "heatmapgl"
           }
          ],
          "histogram": [
           {
            "marker": {
             "pattern": {
              "fillmode": "overlay",
              "size": 10,
              "solidity": 0.2
             }
            },
            "type": "histogram"
           }
          ],
          "histogram2d": [
           {
            "colorbar": {
             "outlinewidth": 0,
             "ticks": ""
            },
            "colorscale": [
             [
              0,
              "#0d0887"
             ],
             [
              0.1111111111111111,
              "#46039f"
             ],
             [
              0.2222222222222222,
              "#7201a8"
             ],
             [
              0.3333333333333333,
              "#9c179e"
             ],
             [
              0.4444444444444444,
              "#bd3786"
             ],
             [
              0.5555555555555556,
              "#d8576b"
             ],
             [
              0.6666666666666666,
              "#ed7953"
             ],
             [
              0.7777777777777778,
              "#fb9f3a"
             ],
             [
              0.8888888888888888,
              "#fdca26"
             ],
             [
              1,
              "#f0f921"
             ]
            ],
            "type": "histogram2d"
           }
          ],
          "histogram2dcontour": [
           {
            "colorbar": {
             "outlinewidth": 0,
             "ticks": ""
            },
            "colorscale": [
             [
              0,
              "#0d0887"
             ],
             [
              0.1111111111111111,
              "#46039f"
             ],
             [
              0.2222222222222222,
              "#7201a8"
             ],
             [
              0.3333333333333333,
              "#9c179e"
             ],
             [
              0.4444444444444444,
              "#bd3786"
             ],
             [
              0.5555555555555556,
              "#d8576b"
             ],
             [
              0.6666666666666666,
              "#ed7953"
             ],
             [
              0.7777777777777778,
              "#fb9f3a"
             ],
             [
              0.8888888888888888,
              "#fdca26"
             ],
             [
              1,
              "#f0f921"
             ]
            ],
            "type": "histogram2dcontour"
           }
          ],
          "mesh3d": [
           {
            "colorbar": {
             "outlinewidth": 0,
             "ticks": ""
            },
            "type": "mesh3d"
           }
          ],
          "parcoords": [
           {
            "line": {
             "colorbar": {
              "outlinewidth": 0,
              "ticks": ""
             }
            },
            "type": "parcoords"
           }
          ],
          "pie": [
           {
            "automargin": true,
            "type": "pie"
           }
          ],
          "scatter": [
           {
            "fillpattern": {
             "fillmode": "overlay",
             "size": 10,
             "solidity": 0.2
            },
            "type": "scatter"
           }
          ],
          "scatter3d": [
           {
            "line": {
             "colorbar": {
              "outlinewidth": 0,
              "ticks": ""
             }
            },
            "marker": {
             "colorbar": {
              "outlinewidth": 0,
              "ticks": ""
             }
            },
            "type": "scatter3d"
           }
          ],
          "scattercarpet": [
           {
            "marker": {
             "colorbar": {
              "outlinewidth": 0,
              "ticks": ""
             }
            },
            "type": "scattercarpet"
           }
          ],
          "scattergeo": [
           {
            "marker": {
             "colorbar": {
              "outlinewidth": 0,
              "ticks": ""
             }
            },
            "type": "scattergeo"
           }
          ],
          "scattergl": [
           {
            "marker": {
             "colorbar": {
              "outlinewidth": 0,
              "ticks": ""
             }
            },
            "type": "scattergl"
           }
          ],
          "scattermapbox": [
           {
            "marker": {
             "colorbar": {
              "outlinewidth": 0,
              "ticks": ""
             }
            },
            "type": "scattermapbox"
           }
          ],
          "scatterpolar": [
           {
            "marker": {
             "colorbar": {
              "outlinewidth": 0,
              "ticks": ""
             }
            },
            "type": "scatterpolar"
           }
          ],
          "scatterpolargl": [
           {
            "marker": {
             "colorbar": {
              "outlinewidth": 0,
              "ticks": ""
             }
            },
            "type": "scatterpolargl"
           }
          ],
          "scatterternary": [
           {
            "marker": {
             "colorbar": {
              "outlinewidth": 0,
              "ticks": ""
             }
            },
            "type": "scatterternary"
           }
          ],
          "surface": [
           {
            "colorbar": {
             "outlinewidth": 0,
             "ticks": ""
            },
            "colorscale": [
             [
              0,
              "#0d0887"
             ],
             [
              0.1111111111111111,
              "#46039f"
             ],
             [
              0.2222222222222222,
              "#7201a8"
             ],
             [
              0.3333333333333333,
              "#9c179e"
             ],
             [
              0.4444444444444444,
              "#bd3786"
             ],
             [
              0.5555555555555556,
              "#d8576b"
             ],
             [
              0.6666666666666666,
              "#ed7953"
             ],
             [
              0.7777777777777778,
              "#fb9f3a"
             ],
             [
              0.8888888888888888,
              "#fdca26"
             ],
             [
              1,
              "#f0f921"
             ]
            ],
            "type": "surface"
           }
          ],
          "table": [
           {
            "cells": {
             "fill": {
              "color": "#EBF0F8"
             },
             "line": {
              "color": "white"
             }
            },
            "header": {
             "fill": {
              "color": "#C8D4E3"
             },
             "line": {
              "color": "white"
             }
            },
            "type": "table"
           }
          ]
         },
         "layout": {
          "annotationdefaults": {
           "arrowcolor": "#2a3f5f",
           "arrowhead": 0,
           "arrowwidth": 1
          },
          "autotypenumbers": "strict",
          "coloraxis": {
           "colorbar": {
            "outlinewidth": 0,
            "ticks": ""
           }
          },
          "colorscale": {
           "diverging": [
            [
             0,
             "#8e0152"
            ],
            [
             0.1,
             "#c51b7d"
            ],
            [
             0.2,
             "#de77ae"
            ],
            [
             0.3,
             "#f1b6da"
            ],
            [
             0.4,
             "#fde0ef"
            ],
            [
             0.5,
             "#f7f7f7"
            ],
            [
             0.6,
             "#e6f5d0"
            ],
            [
             0.7,
             "#b8e186"
            ],
            [
             0.8,
             "#7fbc41"
            ],
            [
             0.9,
             "#4d9221"
            ],
            [
             1,
             "#276419"
            ]
           ],
           "sequential": [
            [
             0,
             "#0d0887"
            ],
            [
             0.1111111111111111,
             "#46039f"
            ],
            [
             0.2222222222222222,
             "#7201a8"
            ],
            [
             0.3333333333333333,
             "#9c179e"
            ],
            [
             0.4444444444444444,
             "#bd3786"
            ],
            [
             0.5555555555555556,
             "#d8576b"
            ],
            [
             0.6666666666666666,
             "#ed7953"
            ],
            [
             0.7777777777777778,
             "#fb9f3a"
            ],
            [
             0.8888888888888888,
             "#fdca26"
            ],
            [
             1,
             "#f0f921"
            ]
           ],
           "sequentialminus": [
            [
             0,
             "#0d0887"
            ],
            [
             0.1111111111111111,
             "#46039f"
            ],
            [
             0.2222222222222222,
             "#7201a8"
            ],
            [
             0.3333333333333333,
             "#9c179e"
            ],
            [
             0.4444444444444444,
             "#bd3786"
            ],
            [
             0.5555555555555556,
             "#d8576b"
            ],
            [
             0.6666666666666666,
             "#ed7953"
            ],
            [
             0.7777777777777778,
             "#fb9f3a"
            ],
            [
             0.8888888888888888,
             "#fdca26"
            ],
            [
             1,
             "#f0f921"
            ]
           ]
          },
          "colorway": [
           "#636efa",
           "#EF553B",
           "#00cc96",
           "#ab63fa",
           "#FFA15A",
           "#19d3f3",
           "#FF6692",
           "#B6E880",
           "#FF97FF",
           "#FECB52"
          ],
          "font": {
           "color": "#2a3f5f"
          },
          "geo": {
           "bgcolor": "white",
           "lakecolor": "white",
           "landcolor": "#E5ECF6",
           "showlakes": true,
           "showland": true,
           "subunitcolor": "white"
          },
          "hoverlabel": {
           "align": "left"
          },
          "hovermode": "closest",
          "mapbox": {
           "style": "light"
          },
          "paper_bgcolor": "white",
          "plot_bgcolor": "#E5ECF6",
          "polar": {
           "angularaxis": {
            "gridcolor": "white",
            "linecolor": "white",
            "ticks": ""
           },
           "bgcolor": "#E5ECF6",
           "radialaxis": {
            "gridcolor": "white",
            "linecolor": "white",
            "ticks": ""
           }
          },
          "scene": {
           "xaxis": {
            "backgroundcolor": "#E5ECF6",
            "gridcolor": "white",
            "gridwidth": 2,
            "linecolor": "white",
            "showbackground": true,
            "ticks": "",
            "zerolinecolor": "white"
           },
           "yaxis": {
            "backgroundcolor": "#E5ECF6",
            "gridcolor": "white",
            "gridwidth": 2,
            "linecolor": "white",
            "showbackground": true,
            "ticks": "",
            "zerolinecolor": "white"
           },
           "zaxis": {
            "backgroundcolor": "#E5ECF6",
            "gridcolor": "white",
            "gridwidth": 2,
            "linecolor": "white",
            "showbackground": true,
            "ticks": "",
            "zerolinecolor": "white"
           }
          },
          "shapedefaults": {
           "line": {
            "color": "#2a3f5f"
           }
          },
          "ternary": {
           "aaxis": {
            "gridcolor": "white",
            "linecolor": "white",
            "ticks": ""
           },
           "baxis": {
            "gridcolor": "white",
            "linecolor": "white",
            "ticks": ""
           },
           "bgcolor": "#E5ECF6",
           "caxis": {
            "gridcolor": "white",
            "linecolor": "white",
            "ticks": ""
           }
          },
          "title": {
           "x": 0.05
          },
          "xaxis": {
           "automargin": true,
           "gridcolor": "white",
           "linecolor": "white",
           "ticks": "",
           "title": {
            "standoff": 15
           },
           "zerolinecolor": "white",
           "zerolinewidth": 2
          },
          "yaxis": {
           "automargin": true,
           "gridcolor": "white",
           "linecolor": "white",
           "ticks": "",
           "title": {
            "standoff": 15
           },
           "zerolinecolor": "white",
           "zerolinewidth": 2
          }
         }
        },
        "title": {
         "text": "Grouped Data by Bull/Bear"
        },
        "xaxis": {
         "anchor": "y",
         "domain": [
          0,
          0.2888888888888889
         ],
         "showticklabels": false
        },
        "xaxis2": {
         "anchor": "y2",
         "domain": [
          0.35555555555555557,
          0.6444444444444445
         ],
         "showticklabels": false
        },
        "xaxis3": {
         "anchor": "y3",
         "domain": [
          0.7111111111111111,
          1
         ],
         "showticklabels": false
        },
        "yaxis": {
         "anchor": "x",
         "domain": [
          0,
          1
         ]
        },
        "yaxis2": {
         "anchor": "x2",
         "domain": [
          0,
          1
         ]
        },
        "yaxis3": {
         "anchor": "x3",
         "domain": [
          0,
          1
         ]
        }
       }
      }
     },
     "metadata": {},
     "output_type": "display_data"
    }
   ],
   "source": [
    "plot_grouped_data_plotly(grouped_data_sum)"
   ]
  },
  {
   "cell_type": "code",
   "execution_count": 10,
   "metadata": {},
   "outputs": [
    {
     "data": {
      "application/vnd.plotly.v1+json": {
       "config": {
        "plotlyServerURL": "https://plot.ly"
       },
       "data": [
        {
         "marker": {
          "color": [
           "red",
           "green"
          ]
         },
         "name": "Body",
         "type": "bar",
         "x": [
          "Bear",
          "Bull"
         ],
         "xaxis": "x",
         "y": [
          17.808349609375,
          16.07498779296875
         ],
         "yaxis": "y"
        },
        {
         "marker": {
          "color": [
           "red",
           "green"
          ]
         },
         "name": "Wick",
         "type": "bar",
         "x": [
          "Bear",
          "Bull"
         ],
         "xaxis": "x2",
         "y": [
          28.433339436848957,
          28.08502197265625
         ],
         "yaxis": "y2"
        },
        {
         "marker": {
          "color": [
           "red",
           "green"
          ]
         },
         "name": "Total",
         "type": "bar",
         "x": [
          "Bear",
          "Bull"
         ],
         "xaxis": "x3",
         "y": [
          46.24168904622396,
          44.160009765625
         ],
         "yaxis": "y3"
        }
       ],
       "layout": {
        "annotations": [
         {
          "font": {
           "size": 16
          },
          "showarrow": false,
          "text": "Body",
          "x": 0.14444444444444446,
          "xanchor": "center",
          "xref": "paper",
          "y": 1,
          "yanchor": "bottom",
          "yref": "paper"
         },
         {
          "font": {
           "size": 16
          },
          "showarrow": false,
          "text": "Wick",
          "x": 0.5,
          "xanchor": "center",
          "xref": "paper",
          "y": 1,
          "yanchor": "bottom",
          "yref": "paper"
         },
         {
          "font": {
           "size": 16
          },
          "showarrow": false,
          "text": "Total",
          "x": 0.8555555555555556,
          "xanchor": "center",
          "xref": "paper",
          "y": 1,
          "yanchor": "bottom",
          "yref": "paper"
         }
        ],
        "showlegend": false,
        "template": {
         "data": {
          "bar": [
           {
            "error_x": {
             "color": "#2a3f5f"
            },
            "error_y": {
             "color": "#2a3f5f"
            },
            "marker": {
             "line": {
              "color": "#E5ECF6",
              "width": 0.5
             },
             "pattern": {
              "fillmode": "overlay",
              "size": 10,
              "solidity": 0.2
             }
            },
            "type": "bar"
           }
          ],
          "barpolar": [
           {
            "marker": {
             "line": {
              "color": "#E5ECF6",
              "width": 0.5
             },
             "pattern": {
              "fillmode": "overlay",
              "size": 10,
              "solidity": 0.2
             }
            },
            "type": "barpolar"
           }
          ],
          "carpet": [
           {
            "aaxis": {
             "endlinecolor": "#2a3f5f",
             "gridcolor": "white",
             "linecolor": "white",
             "minorgridcolor": "white",
             "startlinecolor": "#2a3f5f"
            },
            "baxis": {
             "endlinecolor": "#2a3f5f",
             "gridcolor": "white",
             "linecolor": "white",
             "minorgridcolor": "white",
             "startlinecolor": "#2a3f5f"
            },
            "type": "carpet"
           }
          ],
          "choropleth": [
           {
            "colorbar": {
             "outlinewidth": 0,
             "ticks": ""
            },
            "type": "choropleth"
           }
          ],
          "contour": [
           {
            "colorbar": {
             "outlinewidth": 0,
             "ticks": ""
            },
            "colorscale": [
             [
              0,
              "#0d0887"
             ],
             [
              0.1111111111111111,
              "#46039f"
             ],
             [
              0.2222222222222222,
              "#7201a8"
             ],
             [
              0.3333333333333333,
              "#9c179e"
             ],
             [
              0.4444444444444444,
              "#bd3786"
             ],
             [
              0.5555555555555556,
              "#d8576b"
             ],
             [
              0.6666666666666666,
              "#ed7953"
             ],
             [
              0.7777777777777778,
              "#fb9f3a"
             ],
             [
              0.8888888888888888,
              "#fdca26"
             ],
             [
              1,
              "#f0f921"
             ]
            ],
            "type": "contour"
           }
          ],
          "contourcarpet": [
           {
            "colorbar": {
             "outlinewidth": 0,
             "ticks": ""
            },
            "type": "contourcarpet"
           }
          ],
          "heatmap": [
           {
            "colorbar": {
             "outlinewidth": 0,
             "ticks": ""
            },
            "colorscale": [
             [
              0,
              "#0d0887"
             ],
             [
              0.1111111111111111,
              "#46039f"
             ],
             [
              0.2222222222222222,
              "#7201a8"
             ],
             [
              0.3333333333333333,
              "#9c179e"
             ],
             [
              0.4444444444444444,
              "#bd3786"
             ],
             [
              0.5555555555555556,
              "#d8576b"
             ],
             [
              0.6666666666666666,
              "#ed7953"
             ],
             [
              0.7777777777777778,
              "#fb9f3a"
             ],
             [
              0.8888888888888888,
              "#fdca26"
             ],
             [
              1,
              "#f0f921"
             ]
            ],
            "type": "heatmap"
           }
          ],
          "heatmapgl": [
           {
            "colorbar": {
             "outlinewidth": 0,
             "ticks": ""
            },
            "colorscale": [
             [
              0,
              "#0d0887"
             ],
             [
              0.1111111111111111,
              "#46039f"
             ],
             [
              0.2222222222222222,
              "#7201a8"
             ],
             [
              0.3333333333333333,
              "#9c179e"
             ],
             [
              0.4444444444444444,
              "#bd3786"
             ],
             [
              0.5555555555555556,
              "#d8576b"
             ],
             [
              0.6666666666666666,
              "#ed7953"
             ],
             [
              0.7777777777777778,
              "#fb9f3a"
             ],
             [
              0.8888888888888888,
              "#fdca26"
             ],
             [
              1,
              "#f0f921"
             ]
            ],
            "type": "heatmapgl"
           }
          ],
          "histogram": [
           {
            "marker": {
             "pattern": {
              "fillmode": "overlay",
              "size": 10,
              "solidity": 0.2
             }
            },
            "type": "histogram"
           }
          ],
          "histogram2d": [
           {
            "colorbar": {
             "outlinewidth": 0,
             "ticks": ""
            },
            "colorscale": [
             [
              0,
              "#0d0887"
             ],
             [
              0.1111111111111111,
              "#46039f"
             ],
             [
              0.2222222222222222,
              "#7201a8"
             ],
             [
              0.3333333333333333,
              "#9c179e"
             ],
             [
              0.4444444444444444,
              "#bd3786"
             ],
             [
              0.5555555555555556,
              "#d8576b"
             ],
             [
              0.6666666666666666,
              "#ed7953"
             ],
             [
              0.7777777777777778,
              "#fb9f3a"
             ],
             [
              0.8888888888888888,
              "#fdca26"
             ],
             [
              1,
              "#f0f921"
             ]
            ],
            "type": "histogram2d"
           }
          ],
          "histogram2dcontour": [
           {
            "colorbar": {
             "outlinewidth": 0,
             "ticks": ""
            },
            "colorscale": [
             [
              0,
              "#0d0887"
             ],
             [
              0.1111111111111111,
              "#46039f"
             ],
             [
              0.2222222222222222,
              "#7201a8"
             ],
             [
              0.3333333333333333,
              "#9c179e"
             ],
             [
              0.4444444444444444,
              "#bd3786"
             ],
             [
              0.5555555555555556,
              "#d8576b"
             ],
             [
              0.6666666666666666,
              "#ed7953"
             ],
             [
              0.7777777777777778,
              "#fb9f3a"
             ],
             [
              0.8888888888888888,
              "#fdca26"
             ],
             [
              1,
              "#f0f921"
             ]
            ],
            "type": "histogram2dcontour"
           }
          ],
          "mesh3d": [
           {
            "colorbar": {
             "outlinewidth": 0,
             "ticks": ""
            },
            "type": "mesh3d"
           }
          ],
          "parcoords": [
           {
            "line": {
             "colorbar": {
              "outlinewidth": 0,
              "ticks": ""
             }
            },
            "type": "parcoords"
           }
          ],
          "pie": [
           {
            "automargin": true,
            "type": "pie"
           }
          ],
          "scatter": [
           {
            "fillpattern": {
             "fillmode": "overlay",
             "size": 10,
             "solidity": 0.2
            },
            "type": "scatter"
           }
          ],
          "scatter3d": [
           {
            "line": {
             "colorbar": {
              "outlinewidth": 0,
              "ticks": ""
             }
            },
            "marker": {
             "colorbar": {
              "outlinewidth": 0,
              "ticks": ""
             }
            },
            "type": "scatter3d"
           }
          ],
          "scattercarpet": [
           {
            "marker": {
             "colorbar": {
              "outlinewidth": 0,
              "ticks": ""
             }
            },
            "type": "scattercarpet"
           }
          ],
          "scattergeo": [
           {
            "marker": {
             "colorbar": {
              "outlinewidth": 0,
              "ticks": ""
             }
            },
            "type": "scattergeo"
           }
          ],
          "scattergl": [
           {
            "marker": {
             "colorbar": {
              "outlinewidth": 0,
              "ticks": ""
             }
            },
            "type": "scattergl"
           }
          ],
          "scattermapbox": [
           {
            "marker": {
             "colorbar": {
              "outlinewidth": 0,
              "ticks": ""
             }
            },
            "type": "scattermapbox"
           }
          ],
          "scatterpolar": [
           {
            "marker": {
             "colorbar": {
              "outlinewidth": 0,
              "ticks": ""
             }
            },
            "type": "scatterpolar"
           }
          ],
          "scatterpolargl": [
           {
            "marker": {
             "colorbar": {
              "outlinewidth": 0,
              "ticks": ""
             }
            },
            "type": "scatterpolargl"
           }
          ],
          "scatterternary": [
           {
            "marker": {
             "colorbar": {
              "outlinewidth": 0,
              "ticks": ""
             }
            },
            "type": "scatterternary"
           }
          ],
          "surface": [
           {
            "colorbar": {
             "outlinewidth": 0,
             "ticks": ""
            },
            "colorscale": [
             [
              0,
              "#0d0887"
             ],
             [
              0.1111111111111111,
              "#46039f"
             ],
             [
              0.2222222222222222,
              "#7201a8"
             ],
             [
              0.3333333333333333,
              "#9c179e"
             ],
             [
              0.4444444444444444,
              "#bd3786"
             ],
             [
              0.5555555555555556,
              "#d8576b"
             ],
             [
              0.6666666666666666,
              "#ed7953"
             ],
             [
              0.7777777777777778,
              "#fb9f3a"
             ],
             [
              0.8888888888888888,
              "#fdca26"
             ],
             [
              1,
              "#f0f921"
             ]
            ],
            "type": "surface"
           }
          ],
          "table": [
           {
            "cells": {
             "fill": {
              "color": "#EBF0F8"
             },
             "line": {
              "color": "white"
             }
            },
            "header": {
             "fill": {
              "color": "#C8D4E3"
             },
             "line": {
              "color": "white"
             }
            },
            "type": "table"
           }
          ]
         },
         "layout": {
          "annotationdefaults": {
           "arrowcolor": "#2a3f5f",
           "arrowhead": 0,
           "arrowwidth": 1
          },
          "autotypenumbers": "strict",
          "coloraxis": {
           "colorbar": {
            "outlinewidth": 0,
            "ticks": ""
           }
          },
          "colorscale": {
           "diverging": [
            [
             0,
             "#8e0152"
            ],
            [
             0.1,
             "#c51b7d"
            ],
            [
             0.2,
             "#de77ae"
            ],
            [
             0.3,
             "#f1b6da"
            ],
            [
             0.4,
             "#fde0ef"
            ],
            [
             0.5,
             "#f7f7f7"
            ],
            [
             0.6,
             "#e6f5d0"
            ],
            [
             0.7,
             "#b8e186"
            ],
            [
             0.8,
             "#7fbc41"
            ],
            [
             0.9,
             "#4d9221"
            ],
            [
             1,
             "#276419"
            ]
           ],
           "sequential": [
            [
             0,
             "#0d0887"
            ],
            [
             0.1111111111111111,
             "#46039f"
            ],
            [
             0.2222222222222222,
             "#7201a8"
            ],
            [
             0.3333333333333333,
             "#9c179e"
            ],
            [
             0.4444444444444444,
             "#bd3786"
            ],
            [
             0.5555555555555556,
             "#d8576b"
            ],
            [
             0.6666666666666666,
             "#ed7953"
            ],
            [
             0.7777777777777778,
             "#fb9f3a"
            ],
            [
             0.8888888888888888,
             "#fdca26"
            ],
            [
             1,
             "#f0f921"
            ]
           ],
           "sequentialminus": [
            [
             0,
             "#0d0887"
            ],
            [
             0.1111111111111111,
             "#46039f"
            ],
            [
             0.2222222222222222,
             "#7201a8"
            ],
            [
             0.3333333333333333,
             "#9c179e"
            ],
            [
             0.4444444444444444,
             "#bd3786"
            ],
            [
             0.5555555555555556,
             "#d8576b"
            ],
            [
             0.6666666666666666,
             "#ed7953"
            ],
            [
             0.7777777777777778,
             "#fb9f3a"
            ],
            [
             0.8888888888888888,
             "#fdca26"
            ],
            [
             1,
             "#f0f921"
            ]
           ]
          },
          "colorway": [
           "#636efa",
           "#EF553B",
           "#00cc96",
           "#ab63fa",
           "#FFA15A",
           "#19d3f3",
           "#FF6692",
           "#B6E880",
           "#FF97FF",
           "#FECB52"
          ],
          "font": {
           "color": "#2a3f5f"
          },
          "geo": {
           "bgcolor": "white",
           "lakecolor": "white",
           "landcolor": "#E5ECF6",
           "showlakes": true,
           "showland": true,
           "subunitcolor": "white"
          },
          "hoverlabel": {
           "align": "left"
          },
          "hovermode": "closest",
          "mapbox": {
           "style": "light"
          },
          "paper_bgcolor": "white",
          "plot_bgcolor": "#E5ECF6",
          "polar": {
           "angularaxis": {
            "gridcolor": "white",
            "linecolor": "white",
            "ticks": ""
           },
           "bgcolor": "#E5ECF6",
           "radialaxis": {
            "gridcolor": "white",
            "linecolor": "white",
            "ticks": ""
           }
          },
          "scene": {
           "xaxis": {
            "backgroundcolor": "#E5ECF6",
            "gridcolor": "white",
            "gridwidth": 2,
            "linecolor": "white",
            "showbackground": true,
            "ticks": "",
            "zerolinecolor": "white"
           },
           "yaxis": {
            "backgroundcolor": "#E5ECF6",
            "gridcolor": "white",
            "gridwidth": 2,
            "linecolor": "white",
            "showbackground": true,
            "ticks": "",
            "zerolinecolor": "white"
           },
           "zaxis": {
            "backgroundcolor": "#E5ECF6",
            "gridcolor": "white",
            "gridwidth": 2,
            "linecolor": "white",
            "showbackground": true,
            "ticks": "",
            "zerolinecolor": "white"
           }
          },
          "shapedefaults": {
           "line": {
            "color": "#2a3f5f"
           }
          },
          "ternary": {
           "aaxis": {
            "gridcolor": "white",
            "linecolor": "white",
            "ticks": ""
           },
           "baxis": {
            "gridcolor": "white",
            "linecolor": "white",
            "ticks": ""
           },
           "bgcolor": "#E5ECF6",
           "caxis": {
            "gridcolor": "white",
            "linecolor": "white",
            "ticks": ""
           }
          },
          "title": {
           "x": 0.05
          },
          "xaxis": {
           "automargin": true,
           "gridcolor": "white",
           "linecolor": "white",
           "ticks": "",
           "title": {
            "standoff": 15
           },
           "zerolinecolor": "white",
           "zerolinewidth": 2
          },
          "yaxis": {
           "automargin": true,
           "gridcolor": "white",
           "linecolor": "white",
           "ticks": "",
           "title": {
            "standoff": 15
           },
           "zerolinecolor": "white",
           "zerolinewidth": 2
          }
         }
        },
        "title": {
         "text": "Grouped Data by Bull/Bear"
        },
        "xaxis": {
         "anchor": "y",
         "domain": [
          0,
          0.2888888888888889
         ],
         "showticklabels": false
        },
        "xaxis2": {
         "anchor": "y2",
         "domain": [
          0.35555555555555557,
          0.6444444444444445
         ],
         "showticklabels": false
        },
        "xaxis3": {
         "anchor": "y3",
         "domain": [
          0.7111111111111111,
          1
         ],
         "showticklabels": false
        },
        "yaxis": {
         "anchor": "x",
         "domain": [
          0,
          1
         ]
        },
        "yaxis2": {
         "anchor": "x2",
         "domain": [
          0,
          1
         ]
        },
        "yaxis3": {
         "anchor": "x3",
         "domain": [
          0,
          1
         ]
        }
       }
      }
     },
     "metadata": {},
     "output_type": "display_data"
    }
   ],
   "source": [
    "plot_grouped_data_plotly(grouped_data_mean)"
   ]
  },
  {
   "cell_type": "markdown",
   "metadata": {},
   "source": [
    "### 真实强弱指数 TSI (True Strength Index)"
   ]
  },
  {
   "cell_type": "code",
   "execution_count": 12,
   "metadata": {},
   "outputs": [],
   "source": [
    "# pip install talipp"
   ]
  },
  {
   "cell_type": "code",
   "execution_count": null,
   "metadata": {},
   "outputs": [],
   "source": [
    "# if __name__ == '__main__':\n",
    "    \n",
    "#     chart = Chart()\n",
    "    \n",
    "#     # Columns: time | open | high | low | close | volume \n",
    "#     df = pd.read_csv('/Users/gan-m2/Stock-Markets-Analytics/Src/yfinance_data/Gold_daily.csv')\n",
    "#     chart.set(df)\n",
    "    \n",
    "#     chart.show(block=True)"
   ]
  },
  {
   "cell_type": "code",
   "execution_count": 70,
   "metadata": {},
   "outputs": [
    {
     "name": "stdout",
     "output_type": "stream",
     "text": [
      "[481, 6919, 5213, 6683, 568]\n",
      "Last OHLCV: OHLCV(open=9803, high=4455, low=1324, close=916, volume=7393, time=None)\n",
      "TSI: 1.0491542860356935\n",
      "RSI: [None, None, None, None, None, None, None, 52.5453011370485, 56.98338604233311, 50.780665391252285, 49.32155317577095, 53.340883798581686, 59.825386795224674, 63.58836120043303, 69.37199802425707, 49.78674155430398, 42.576725956455185, 58.87154235006545, 45.44136436836618, 54.81812789698973, 45.221069083009304, 59.311929730976146, 55.528832844483894, 47.09255627242832, 43.453111334457446, 54.30153507802596, 53.28144132721902, 49.947536023744114, 56.90911037329815, 53.34618615430293, 44.22534096792, 40.842641255729326, 52.388785369971764, 60.48298109193795, 49.37041187956143, 50.484248466419864, 56.04783918319493, 52.44686951746688, 52.67254349256267, 53.49522948089856, 42.621423346365745, 34.10434810687363, 59.90262957443865, 45.73770767714523, 48.85509123544285, 45.02159909298437, 59.13107268877493, 47.567480322270406, 40.71178735835987, 48.989276908948284, 51.198434653741565, 58.224097786483206, 42.399548073279135, 47.14465647723458, 42.31343741635342, 56.12328733368932, 57.05472588592647, 56.90176296828946, 53.92911651570553, 54.762675120636885, 44.65510193379374, 38.35580194690752, 51.166886505724115, 46.15162088317404, 60.888299857788425, 44.795961806616305, 40.85892853903693, 41.264082232334644, 42.01868911256933, 42.047523367647315, 51.380892316769724, 62.74042261984264, 58.376095020091235, 58.21967016917283, 52.086312389680124, 54.78723905486383, 60.27890018284091, 67.93717725585654, 37.36666771951811, 36.364625567984746, 43.22672302280722, 62.30850402414354, 60.433911925295085, 49.50023245659698, 43.12081048678288, 46.428793626285206, 57.19579716753192, 50.428322814286744, 46.674812590100856, 54.91429596531211, 42.17930806730003, 58.544215225633934, 42.37974837846251, 45.180215749291534, 54.38984591556569, 43.90902072122903, 54.682106959979556, 51.0880562950851, 59.043865693614634, 55.41293318605713, 48.99128306916685, 53.90870996080049, 53.601318102939715, 38.14274873117759, 53.09418191332872, 57.82159391533064, 47.27966089006926, 52.267583277386436, 49.80176386671859, 39.140730759971504, 45.48440170747484, 49.07591042554526, 46.22996054426305, 59.78054473651334, 45.134479384772895, 56.01781258617845, 52.70738707248451, 55.77437734249933, 55.32521148645603, 55.34290439450744, 52.79216539755375, 54.93403364278881, 42.00294381099176, 35.7803086840844, 32.25266800613922, 58.70481744914271, 54.49825638131292, 56.49195504168329, 41.16942876707546, 52.42306443865462, 45.15221808458261, 57.34164834971682, 58.6498513970235, 38.13988367688202, 53.57217366776071, 50.114332491482386, 48.03574225359785, 49.979175012986715, 57.379832469572655, 41.336872330283974, 52.21763991433135, 41.96834489818693, 53.74913705879803, 48.1935292226103, 44.59906551984749, 52.349263724924036, 52.1272384926139, 49.295556180892696, 56.525639930533494, 49.61211098199178, 55.30778224323158, 58.757278268563454, 45.31282978883695, 54.38456009850214, 42.70437879787062, 55.50468296432503, 40.63291926014631, 48.345875391731965, 52.105510354192404, 56.17071950642971, 48.12158256159997, 39.88886605032569, 49.47780887094624, 46.12854878062443, 44.346355167258054, 51.72929631968331, 47.98157678707862, 46.68334725681641, 45.86572758628989, 51.460733298869144, 64.34194509198281, 40.82923296043176, 55.55303568024329, 55.60037229262341, 57.06256922878969, 44.87286550656698, 52.46896550989724, 57.81534408503894, 57.9945727262562, 55.55157989588505, 49.78874297652669, 42.68007938381729, 34.82448096975406, 52.83820855829195, 58.98182107250543, 40.3666716865418, 47.2224531055763, 57.726038227395065, 55.733205177153046, 50.280973249706456, 44.67952309748406, 40.45659194389115, 51.2943460140144, 59.10559429583159, 45.99660558585521, 54.765121904786064, 48.64873345160922, 49.83796107427156, 46.769481996400955, 38.44055172739716, 44.53888631154534, 54.99302238079752, 40.29513168543561, 44.35033011356557, 42.916891594022744, 49.07441574689042, 44.51904072675715, 48.02278614838384, 54.95763101567603, 57.1022746436176, 40.63384796980567, 42.08442229930875, 46.40888953766418, 53.61108836986479, 43.61666258179438, 53.878278797062336, 50.109053197002574, 46.473701315265934, 65.33363052070956, 68.49912432996786, 68.59151899733354, 47.72335163850135, 59.12975605643329, 48.616281527948615, 40.0987616720988, 43.296989404906235, 57.658532162142684, 62.03699910074562, 59.19753543409669, 55.55515236749636, 40.26257956082007, 44.493798948273515, 59.58737752671484, 43.679316286618835, 53.729064926914866, 56.25370249186692, 44.369560034251556, 46.45879411565856, 41.646610568420016, 40.15298350933687, 43.21897856586727, 59.960468305827504, 61.08092761131814, 47.286579800494884, 56.01542464849626, 40.31928040867698, 54.796716836311695, 52.72893518858226, 42.7452987956859, 57.28182986616776, 57.58281735504216, 56.39184411409472, 52.95624162638845, 42.542376961475625, 45.585997251390445, 45.365378943551555, 35.660122854755784, 36.68781598256048, 43.97703283836857, 49.10107697136073, 62.0199049397869, 64.00766812287148, 45.233892204372395, 41.18293593914999, 48.3095744051089, 51.74181310853191, 62.7766854202255, 60.297911292207466, 44.78913508183802, 49.774592620652825, 59.09307586800738, 57.239801536666356, 44.507695769885736, 50.70884180881344, 48.64398453255894, 52.216119763804876, 55.73540754712234, 47.082775546295125, 38.39956691978565, 31.524251173143114, 50.923704058169, 39.47573748299627, 59.928786312636575, 47.25484532175123, 56.253894329117244, 42.5942996933121, 49.37478764706231, 50.808559904982886, 44.62708454467384, 48.68803204068853, 55.85428653667727, 47.388830493046605, 45.98221911440272, 54.94782501369088, 46.866862453118365, 55.505829213419204, 55.86987852369786, 61.72238509363878, 59.54214634002259, 44.647580106044416, 54.97058978334032, 58.690672704712625, 40.81264717910187, 40.559442991342216, 38.98383443354651, 38.392462083037316, 57.30574403261371, 60.29703511962751, 40.49962557200101, 44.73506042180403, 47.74974497582401, 60.232709753916865, 52.051979993373244, 52.84752925197828, 47.402001658389416, 43.073129420216056, 52.919351306743664, 42.1863149951603, 60.7270689152545, 51.69771100642479, 56.05515726361369, 57.2817065020914, 46.63213230600325, 40.838253187178665, 42.54207136966362, 44.775892653338346, 37.67611601241665, 40.55676923669564, 55.17928940148178, 47.21727536523444, 41.865119115948346, 47.9851984718643, 62.99499930431302, 64.39372205461105, 65.4279239981249, 47.05362278225248, 53.51389091675039, 39.61477835524236, 52.340893036084005, 57.21237416574574, 58.08238311397824, 52.07948810660673, 45.39190926331724, 47.17480142156687, 53.09042728036116, 51.39827384704559, 37.32474096390273, 35.82907259694345, 57.0986057234023, 49.29073599663338, 55.66959752470887, 52.164665352869214, 44.561473480619256, 60.56995087132121, 45.52275823660594, 42.91161376391802, 45.61902080712834, 60.86197129488173, 42.05402085099135, 53.14359608991571, 56.01709417167775, 43.28227521324851, 51.707703665492986, 58.12245919795722, 55.59879366075886, 47.08157862670825, 56.19017428198014, 46.8993280639703, 50.0458546360932, 49.02323483676404, 39.50331107946775, 39.91477247452277, 56.779431860677086, 44.12911008686039, 57.41524196002359, 44.12607146403043, 44.85566736076134, 54.946623074913646, 46.87256837147351, 55.255713372513874, 56.397897694217775, 45.6524182323507, 55.53889377789049, 56.98348312745591, 51.602687268612215, 45.10773998436547, 54.76145803680364, 47.84482173776328, 45.360542939289054, 46.92787932773405, 41.768633236013976, 45.933226681182994, 40.879237654704916, 36.85966328315636, 46.65521575493467, 53.046331978506494, 60.260266259965135, 60.94466643718079, 44.47264082264639, 43.78750224181108, 42.11637692535383, 36.56366590476132, 49.03850598116171, 54.49482232910698, 59.38913299751983, 40.42548444046874, 53.89570178851177, 41.51644478577504, 50.901203654426105, 59.83850839555313, 45.71381102322721, 51.5579439796869, 45.28662061488854, 55.98812694720017, 45.824065065285254, 52.970661344318124, 57.613538907531776, 46.28229444102609, 47.07660201463924, 50.42315067522577, 42.404361543700865, 55.70966502431975, 50.085960514496165, 62.0319092398947, 43.76989246847294, 44.62631084409261, 53.58801047531626, 53.49849697622359, 56.75299555256922, 50.96916381134614, 60.610930846073856, 51.93169580409307, 46.767012471265, 58.01099787518806, 54.24032369434552, 59.500637505595016, 43.23168175574447, 40.39382504437299, 54.89289211239507, 55.66020826128733, 50.253836000955765, 58.30357442014192, 39.97187195711328, 39.67410617489875, 48.1869970620086, 39.66112741895704, 53.169518931654544, 41.89923810512533, 57.846720399169186, 46.88619328872173, 48.803253015098115, 52.317460353730986, 47.18493891229086, 44.4408432374868, 57.89135105509854, 55.447039710336085, 55.551986831255554, 41.64711697459942, 40.5873671399408, 53.470518616676536, 42.47377798703056, 56.62597689326425, 52.86785242118032, 53.52850437771537, 41.685448011187916, 42.562321307966855, 42.55343416801361, 60.20441138727767, 49.02299055894468, 43.79865922000989, 60.76029222866294, 44.756323677796665, 45.61722584416714, 57.60441147284197, 56.16332045816274, 44.51093765954115, 57.8327205677438, 52.83915078840059, 44.625967977199004, 50.36504882169105, 54.2766718216655, 52.473638072206604, 45.10770006782506, 53.23351681255144, 45.838578653932096, 44.8743231502768, 41.945264559947425, 60.213860613407945, 45.133655287228656, 55.54345667793199, 57.561824722329675, 44.52544702238607, 42.76349570663585, 56.182483375630774, 57.736034354090044, 56.7106294387338, 40.12859029405189, 46.319281168064634, 43.72566324171381, 55.06191493282875, 44.14778710798151, 48.61262727301332, 53.01263715195685, 59.78975448677509, 48.28597112978769, 41.24510388202747, 52.21090406361778, 55.1099012153186, 44.19306344596778, 48.648696691537815, 53.711179653896295, 41.508952259987865, 58.255695331315316, 47.70065973908619, 45.574781035834995, 45.569729022496475, 54.21473462254693, 57.92596319768004, 49.06834113236304, 48.7189391176206, 55.58633579611774, 51.573726345007316, 39.32970229617206, 53.68033317652669, 43.53390761314465, 49.640766011217714, 46.429793584334746, 57.05201435257263, 42.858411150789706, 56.8291677838036, 54.34977159264697, 46.77195944298552, 42.62544722067663, 48.1987404238223, 46.67090126631941, 43.33283587596332, 55.42958917520278, 57.267471984392756, 48.119054878987065, 44.53601684959934, 58.70330124889228, 60.92800726472823, 50.584850304867885, 40.59433789347281, 42.136341056699415, 40.90696092983169, 55.70017242028619, 52.74325883874967, 61.149029346716105, 41.70162215469125, 48.252649429278364, 50.5168840079645, 58.105645147665896, 52.2360260803475, 48.05994746536387, 51.132746028813045, 53.24097515447818, 39.689804723557195, 56.89996167163424, 44.03535647913167, 50.151498480824216, 44.94416058446369, 45.799167629907885, 41.26713757386344, 51.7956006353366, 46.62678851905218, 43.876183721734876, 53.079124253974854, 46.572224728749084, 50.52167613230316, 67.79627453058555, 53.22025687231792, 43.52395780377288, 41.7627228251072, 52.748112290403874, 58.97022274526863, 58.41617676612967, 41.43286498614117, 59.39562394868247, 44.97386603745987, 54.119117563886846, 54.58356335436874, 49.51358509905522, 49.12843843314919, 55.52006225812528, 61.17786066314426, 43.796106449026425, 54.54770198382438, 48.650109636828645, 41.33805487539333, 42.4096688947799, 50.97694798520602, 53.326880194338, 53.41706751638633, 44.71843566543435, 47.310476158456204, 61.41968929799121, 62.32034061936432, 48.98287183370968, 44.74736264653368, 56.77153231288317, 54.84924175793875, 44.80849988912759, 41.07001975115932, 42.29013248781013, 62.98459559843581, 47.94784209040572, 39.44085181674478, 48.38928170246953, 48.985038539642474, 41.00927799582735, 49.9374774317945, 42.84136765262179, 58.92943857895633, 61.429010683615495, 60.59056008221948, 55.80154194793476, 40.57347086546877, 55.43539114171841, 45.36438882593473, 43.371485062495985, 51.50995287971009, 52.75763484772911, 45.44743249695863, 54.25876524065144, 53.57421996412626, 43.06934842640535, 43.87163241681987, 36.7177908596164, 59.359894704606454, 49.83580847292438, 56.740007512682254, 48.237100130484315, 44.648137510866874, 55.66629284078366, 52.71340792007383, 39.316541041018276, 51.42331267415115, 45.39813791165662, 54.628906153721886, 54.0492253346039, 57.82566840290745, 43.209755833949465, 58.684642820422596, 44.734628330167894, 48.9935836031102, 49.90474092586907, 57.60528144344173, 58.240802451642075, 56.13218960302772, 49.72933378462295, 58.4763972802868, 46.39621998691598, 56.0561344821255, 42.38655394931704, 50.398623828592896, 46.204126283249444, 54.23480404448698, 51.20531982143291, 46.12518949729653, 56.30989132499855, 46.24092863716864, 45.70174301744781, 42.76075485864888, 45.59366958751341, 51.551570665222314, 47.00922313817243, 60.038573993501814, 53.84402351496213, 59.581236068800514, 37.709745757711055, 36.44258778274765, 35.40326494715171, 48.50093075342959, 52.38725755680401, 55.93861663471285, 44.017730666159736, 61.23948250435098, 46.62232899363061, 51.2290037646411, 57.595408221329, 44.27000821270406, 42.73314896380806, 46.08434786505863, 46.5409647605442, 59.08240612189769, 45.73524831987738, 60.015054168847215, 59.92099194433222, 54.48111965940143, 57.169706191254306, 59.26699080801546, 46.24073315527364, 55.55977263847787, 57.005367473216964, 57.67193584740563, 44.255167128302446, 39.81476625498128, 46.553941919152926, 42.53878892300001, 51.75089029013933, 41.343444797449486, 47.02808382580538, 42.84584976681046, 58.243636483352624, 42.59767620191137, 37.968309658066154, 52.41512847048577, 57.0431265416056, 55.97367095485418, 45.0976406668989, 43.97478028979551, 48.138173513177975, 54.681627419213285, 47.27167819004219, 44.89808717965511, 61.70150761918389, 41.79891574688245, 59.58050149548393, 43.413484643454964, 50.79730717726259, 56.47839265458642, 46.401745493394934, 49.36071194585021, 49.479784219634205, 57.55820974079516, 47.81686132385301, 50.900012499228126, 40.08567333766591, 50.46393200247264, 49.74363757913147, 55.76984457547418, 59.60679161407344, 57.29774303698391, 52.35313392443647, 50.28103160489079, 41.235031665371864, 33.995391492603275, 31.50155962049108, 35.30392672853648, 33.60868807062248, 56.67789323482341, 66.83807485751653, 43.41039331286916, 53.64461640076782, 60.468704178190606, 50.762799488434595, 51.93461968850184, 56.87933854017915, 53.12026793688916, 44.85089917124411, 48.07115768337733, 58.5252165598051, 48.86626870821297, 46.56017952061166, 41.12245697609675, 41.209034721644976, 47.588665903877846, 47.98641099974592, 63.93688105454892, 41.26805514907975, 55.89001477175784, 46.63868669747907, 53.502720677845836, 50.58249241496609, 50.17413364195549, 58.28639291308843, 60.09105326103112, 36.726002984882584, 41.192386747929596, 39.996070726881655, 49.58438706485412, 44.26436195325166, 46.14132031229021, 46.040640523290854, 62.164109398332094, 59.21679909013416, 42.943663849843915, 39.668374541360755, 61.227543902150416, 52.51212528779843, 52.62712031941728, 41.36907766468308, 45.008494492818855, 48.74850029661314, 52.855686758592356, 57.06163470113816, 52.95795529250162, 46.5352739956817, 37.06513313502017, 49.84009585616152, 57.223756237830266, 56.912484492117436, 58.94471872842141, 67.23509782251493, 36.742530813384356, 37.637435480388035, 60.209333213188515, 60.38545790884168, 61.09192250868227, 41.22530348029892, 41.169623084290826, 40.94737883379578, 44.2650545941285, 59.9155539497201, 60.658917091852935, 38.4944572003161, 58.13230833128969, 52.65992789006828, 53.12734427557803, 43.04994166835988, 57.58973737212225, 41.47115141874539, 55.8192785738605, 47.4564473452249, 49.8176671976611, 46.68632233475659, 44.64799764658088, 53.56344622606669, 56.434225726867005, 57.62016066789079, 43.0685410109606, 52.69374536780851, 53.27444614633428, 57.86054408932087, 45.93857216646736, 38.597368499501194, 51.32830112086355, 44.526731866028776, 40.65416675342922, 46.764252565231445, 60.060065715252875, 56.925106541099126, 54.677258482279235, 57.62175375990634, 46.74726927567933, 43.7386028168099, 36.813515799558985, 59.6056568191571, 42.940365303018496, 44.14646031021451, 47.469221013696526, 50.507399990628215, 48.63467803044044, 42.76756965364648, 59.20820103928243, 57.50374946139272, 59.79689751005763, 58.46055211091292, 46.21035152216626, 60.050205738652004, 38.96527906357206, 41.01933706821247, 53.96739304760664, 44.33827971462181, 45.49504142300118, 45.78081968129971, 56.37301945512171, 50.234044854970996, 42.27891010915482, 57.26407027791359, 60.25696916928123, 60.47803363860862, 55.011587978165345, 45.26928340923152, 37.880940298272954, 36.90265477064017, 51.39689618772222, 41.287121459691946, 57.5130060011158, 48.40732549821534, 46.80206486747263, 56.06850784284211, 47.9372558769503, 52.82922404609832, 47.399636438089075, 46.282619263590114, 62.20318471469999, 49.2069993500186, 49.789356014957065, 41.66025754792702, 58.865570856967466, 59.59364790252628, 43.28500951721781, 43.66636157549301, 49.1732076201565, 43.84698248585764, 43.05151560958286, 43.23769814542998, 39.208352763785186, 48.90957543454006, 51.518971432830824, 42.45880784819373, 61.204915670080176, 43.635286545490374, 48.453552686619744, 58.387773334362585, 56.17788684961306, 50.90066245733712, 50.724581984883734, 47.81287233159153, 63.382496472511754, 44.393737466425684, 60.48746599951438, 47.938955497693605, 51.83762247699909, 56.541740431837006, 57.785271385542956, 47.13749484916169, 44.08388529688771, 46.89701783372098, 53.00001595504972, 42.814741079067616, 49.0926842410656, 39.225977427449806, 55.868990579265564, 44.591968207948355, 47.017169689558756, 57.076648474295276, 58.66035353756048, 55.25657326230734, 49.13888525424012, 46.219526763440186, 42.659985949004614, 48.424854807008224, 49.29137907774402, 36.633766602239696, 58.72103018084901, 41.99875058638967, 46.882713298049225, 45.53274337253709, 45.21189896244723, 61.09880738649845, 42.48621530548106, 47.968696776730425, 50.53436205451715, 45.84536853951635, 60.02237561219819, 47.247602099656255, 54.148400829440405, 43.52294249424736, 55.000095530793125, 57.52310986718292, 48.11244444420887, 44.61865583912702, 58.40044387494235, 54.17783107380737, 58.138449671157375, 45.47147626430473, 46.24138854303323, 57.719190007334475, 59.0760939281757, 47.57047056814613, 41.001694430722324, 49.97854967774798, 48.40982477790649, 58.19762795722819, 47.49542641675541, 42.89229195408444, 39.02349122989251, 39.44576363020863, 44.06674573543079, 63.39510587060256, 44.881449072431685, 56.288073857143246, 48.63774449189097, 44.796365237134, 58.92061259320711, 45.861807686163466, 56.82219494811772, 44.764160551229885, 55.52352402211645, 46.699945082634905, 45.32691292212964, 47.20250749342975, 47.11749217499001, 54.09417238167949, 44.729539688820836, 51.971989363102935, 51.47721567693552, 60.18982918609108, 48.66849527967118, 50.66885756649255, 42.83371254061056, 52.3306231003544, 50.49675431089082, 41.65488463509009, 58.228858547919394, 46.91341258615065, 50.67375158400545, 45.72232888148867, 52.00317344392346, 54.088754323935774, 58.42265667083521, 46.49006162388023, 54.16046774255889, 54.75834148749059, 47.657212807869776, 59.42661239850715, 42.61574147739467]\n"
     ]
    }
   ],
   "source": [
    "import random\n",
    "from talipp.ohlcv import OHLCVFactory\n",
    "\n",
    "\n",
    "close = random.sample(range(1, 10000), 1000)\n",
    "ohlcv = OHLCVFactory.from_matrix2([\n",
    "        random.sample(range(1, 10000), 1000),\n",
    "        random.sample(range(1, 10000), 1000),\n",
    "        random.sample(range(1, 10000), 1000),\n",
    "        random.sample(range(1, 10000), 1000),\n",
    "        random.sample(range(1, 10000), 1000)]\n",
    "    )\n",
    "\n",
    "print(close[:5])\n",
    "\n",
    "print(f\"Last OHLCV: {ohlcv[-1]}\")\n",
    "\n",
    "from talipp.indicators import TSI, RSI\n",
    "\n",
    "print(f'TSI: {TSI(13, 25, close)[-1]}')\n",
    "\n",
    "print(f'RSI: {RSI(7, close)}')"
   ]
  },
  {
   "cell_type": "code",
   "execution_count": 40,
   "metadata": {},
   "outputs": [
    {
     "data": {
      "text/plain": [
       "1.6700494213591333"
      ]
     },
     "execution_count": 40,
     "metadata": {},
     "output_type": "execute_result"
    }
   ],
   "source": [
    "TSI(13, 25, close)[-1]"
   ]
  },
  {
   "cell_type": "code",
   "execution_count": 43,
   "metadata": {},
   "outputs": [
    {
     "data": {
      "text/plain": [
       "<talipp.indicators.TSI.TSI at 0x1471ea150>"
      ]
     },
     "execution_count": 43,
     "metadata": {},
     "output_type": "execute_result"
    }
   ],
   "source": [
    "from talipp.indicators import TSI\n",
    "\n",
    "daily_close = daily_data['Close']\n",
    "# check type of close\n",
    "# convert to list\n",
    "daily_close = daily_close.tolist()\n",
    "\n",
    "TSI_value = TSI(7, 15,daily_close)\n",
    "TSI_value"
   ]
  },
  {
   "cell_type": "code",
   "execution_count": 48,
   "metadata": {},
   "outputs": [
    {
     "data": {
      "image/png": "[encoded data removed]",
      "text/plain": [
       "<Figure size 1200x800 with 2 Axes>"
      ]
     },
     "metadata": {},
     "output_type": "display_data"
    }
   ],
   "source": [
    "# 绘制烛台图和 TSI 指标在同一张图上\n",
    "fig, ax1 = plt.subplots(figsize=(12, 8))\n",
    "\n",
    "# 绘制烛台图\n",
    "mpf.plot(daily_data, style='yahoo', type='candle', ax=ax1, volume=False, show_nontrading=True)\n",
    "ax1.set_title('Price Chart with TSI')\n",
    "ax1.set_ylabel('Price')\n",
    "\n",
    "# 创建第二个 y 轴并绘制 TSI\n",
    "ax2 = ax1.twinx()\n",
    "ax2.plot(daily_data.index, daily_data['TSI'], label='TSI', color='blue')\n",
    "ax2.axhline(0, color='black', linewidth=0.5)\n",
    "ax2.set_ylabel('TSI Value')\n",
    "ax2.legend(loc='upper left')\n",
    "\n",
    "plt.tight_layout()\n",
    "plt.show()"
   ]
  },
  {
   "cell_type": "code",
   "execution_count": 66,
   "metadata": {},
   "outputs": [
    {
     "data": {
      "application/vnd.plotly.v1+json": {
       "config": {
        "plotlyServerURL": "https://plot.ly"
       },
       "data": [
        {
         "close": [
          2329.60009765625,
          2354.800048828125,
          2356.199951171875,
          2365.800048828125,
          2390.800048828125,
          2371.699951171875,
          2382.300048828125,
          2398.39990234375,
          2332.199951171875,
          2327.699951171875,
          2324.5,
          2329.800048828125,
          2334.800048828125,
          2345.39990234375,
          2291.39990234375,
          2299.89990234375,
          2299.199951171875,
          2299,
          2321.60009765625,
          2315.199951171875,
          2313.60009765625,
          2332.10009765625,
          2367.300048828125,
          2336.10009765625,
          2353.39990234375,
          2388.699951171875,
          2380,
          2412.199951171875,
          2433.89990234375,
          2421.699951171875,
          2389.199951171875,
          2335,
          2332.5,
          2355.199951171875,
          2340.300048828125,
          2342.89990234375,
          2322.89990234375,
          2346.60009765625,
          2325.5,
          2354.10009765625,
          2370.300048828125,
          2305.199951171875,
          2307.699951171875,
          2325.199951171875
         ],
         "high": [
          2358.10009765625,
          2376.300048828125,
          2429,
          2384.699951171875,
          2390.800048828125,
          2391.39990234375,
          2384.39990234375,
          2399.800048828125,
          2383.300048828125,
          2330.800048828125,
          2328.699951171875,
          2329.800048828125,
          2347.89990234375,
          2345.5,
          2322.5,
          2327.300048828125,
          2324.699951171875,
          2301,
          2325.5,
          2324.300048828125,
          2313.60009765625,
          2339.5,
          2367.300048828125,
          2358.300048828125,
          2358,
          2388.699951171875,
          2392.199951171875,
          2415.800048828125,
          2435.800048828125,
          2429.5,
          2417.60009765625,
          2371.199951171875,
          2345.39990234375,
          2359.699951171875,
          2340.300048828125,
          2349.5,
          2354,
          2347.5,
          2347.699951171875,
          2354.300048828125,
          2375.800048828125,
          2385.10009765625,
          2309.300048828125,
          2341.300048828125
         ],
         "low": [
          2327.699951171875,
          2330.60009765625,
          2334.300048828125,
          2326,
          2371.39990234375,
          2369.300048828125,
          2368.39990234375,
          2377.300048828125,
          2326.89990234375,
          2294.199951171875,
          2314.60009765625,
          2305,
          2332.800048828125,
          2327.89990234375,
          2291.39990234375,
          2283.800048828125,
          2292.300048828125,
          2277.60009765625,
          2314.199951171875,
          2315.199951171875,
          2313.60009765625,
          2310.699951171875,
          2367.300048828125,
          2336.10009765625,
          2336,
          2356,
          2380,
          2380.699951171875,
          2409.699951171875,
          2421,
          2375.800048828125,
          2335,
          2332.5,
          2336.89990234375,
          2340.300048828125,
          2320.800048828125,
          2319,
          2312,
          2313.89990234375,
          2326.199951171875,
          2355,
          2285.39990234375,
          2290.5,
          2323.800048828125
         ],
         "name": "Price",
         "open": [
          2346.60009765625,
          2341.5,
          2377.300048828125,
          2362.10009765625,
          2384,
          2384.199951171875,
          2368.39990234375,
          2379.300048828125,
          2383.300048828125,
          2327.699951171875,
          2321.300048828125,
          2315,
          2347.89990234375,
          2334.800048828125,
          2322.5,
          2287.699951171875,
          2321.699951171875,
          2300,
          2322.800048828125,
          2324.300048828125,
          2313.60009765625,
          2310.699951171875,
          2367.300048828125,
          2358.300048828125,
          2336,
          2361.60009765625,
          2389.5,
          2380.699951171875,
          2415.800048828125,
          2429.5,
          2417.5,
          2371.199951171875,
          2342.60009765625,
          2336.89990234375,
          2340.300048828125,
          2336.89990234375,
          2344.10009765625,
          2322.60009765625,
          2347.5,
          2326.39990234375,
          2355,
          2379.89990234375,
          2290.60009765625,
          2340.89990234375
         ],
         "type": "candlestick",
         "x": [
          "2024-04-10T00:00:00",
          "2024-04-11T00:00:00",
          "2024-04-12T00:00:00",
          "2024-04-15T00:00:00",
          "2024-04-16T00:00:00",
          "2024-04-17T00:00:00",
          "2024-04-18T00:00:00",
          "2024-04-19T00:00:00",
          "2024-04-22T00:00:00",
          "2024-04-23T00:00:00",
          "2024-04-24T00:00:00",
          "2024-04-25T00:00:00",
          "2024-04-26T00:00:00",
          "2024-04-29T00:00:00",
          "2024-04-30T00:00:00",
          "2024-05-01T00:00:00",
          "2024-05-02T00:00:00",
          "2024-05-03T00:00:00",
          "2024-05-06T00:00:00",
          "2024-05-07T00:00:00",
          "2024-05-08T00:00:00",
          "2024-05-09T00:00:00",
          "2024-05-10T00:00:00",
          "2024-05-13T00:00:00",
          "2024-05-14T00:00:00",
          "2024-05-15T00:00:00",
          "2024-05-16T00:00:00",
          "2024-05-17T00:00:00",
          "2024-05-20T00:00:00",
          "2024-05-21T00:00:00",
          "2024-05-22T00:00:00",
          "2024-05-23T00:00:00",
          "2024-05-24T00:00:00",
          "2024-05-28T00:00:00",
          "2024-05-29T00:00:00",
          "2024-05-30T00:00:00",
          "2024-05-31T00:00:00",
          "2024-06-03T00:00:00",
          "2024-06-04T00:00:00",
          "2024-06-05T00:00:00",
          "2024-06-06T00:00:00",
          "2024-06-07T00:00:00",
          "2024-06-10T00:00:00",
          "2024-06-12T00:00:00"
         ]
        },
        {
         "line": {
          "color": "blue"
         },
         "mode": "lines",
         "name": "TSI",
         "type": "scatter",
         "x": [
          "2024-04-10T00:00:00",
          "2024-04-11T00:00:00",
          "2024-04-12T00:00:00",
          "2024-04-15T00:00:00",
          "2024-04-16T00:00:00",
          "2024-04-17T00:00:00",
          "2024-04-18T00:00:00",
          "2024-04-19T00:00:00",
          "2024-04-22T00:00:00",
          "2024-04-23T00:00:00",
          "2024-04-24T00:00:00",
          "2024-04-25T00:00:00",
          "2024-04-26T00:00:00",
          "2024-04-29T00:00:00",
          "2024-04-30T00:00:00",
          "2024-05-01T00:00:00",
          "2024-05-02T00:00:00",
          "2024-05-03T00:00:00",
          "2024-05-06T00:00:00",
          "2024-05-07T00:00:00",
          "2024-05-08T00:00:00",
          "2024-05-09T00:00:00",
          "2024-05-10T00:00:00",
          "2024-05-13T00:00:00",
          "2024-05-14T00:00:00",
          "2024-05-15T00:00:00",
          "2024-05-16T00:00:00",
          "2024-05-17T00:00:00",
          "2024-05-20T00:00:00",
          "2024-05-21T00:00:00",
          "2024-05-22T00:00:00",
          "2024-05-23T00:00:00",
          "2024-05-24T00:00:00",
          "2024-05-28T00:00:00",
          "2024-05-29T00:00:00",
          "2024-05-30T00:00:00",
          "2024-05-31T00:00:00",
          "2024-06-03T00:00:00",
          "2024-06-04T00:00:00",
          "2024-06-05T00:00:00",
          "2024-06-06T00:00:00",
          "2024-06-07T00:00:00",
          "2024-06-10T00:00:00",
          "2024-06-12T00:00:00"
         ],
         "y": [
          null,
          null,
          null,
          null,
          null,
          null,
          null,
          null,
          null,
          null,
          null,
          null,
          null,
          null,
          null,
          null,
          null,
          null,
          null,
          null,
          null,
          -0.9234234117384225,
          10.500804121400169,
          10.476311883901468,
          13.49121587742884,
          20.926225565200625,
          23.52894078185715,
          29.402355325565004,
          35.56141696405556,
          36.68867999489135,
          30.221873778665802,
          15.775063752934637,
          6.68581854651506,
          3.992978532354467,
          -0.007693974639621616,
          -2.3198838413940153,
          -6.899436204289263,
          -6.085755330445779,
          -8.613574629792728,
          -5.500951013590086,
          -0.8599901183656719,
          -7.266543740563966,
          -10.765391558453317,
          -10.289887490325453
         ],
         "yaxis": "y2"
        },
        {
         "line": {
          "color": "black",
          "dash": "dash",
          "width": 0.5
         },
         "mode": "lines",
         "name": "Zero Line",
         "type": "scatter",
         "x": [
          "2024-04-10T00:00:00",
          "2024-04-11T00:00:00",
          "2024-04-12T00:00:00",
          "2024-04-15T00:00:00",
          "2024-04-16T00:00:00",
          "2024-04-17T00:00:00",
          "2024-04-18T00:00:00",
          "2024-04-19T00:00:00",
          "2024-04-22T00:00:00",
          "2024-04-23T00:00:00",
          "2024-04-24T00:00:00",
          "2024-04-25T00:00:00",
          "2024-04-26T00:00:00",
          "2024-04-29T00:00:00",
          "2024-04-30T00:00:00",
          "2024-05-01T00:00:00",
          "2024-05-02T00:00:00",
          "2024-05-03T00:00:00",
          "2024-05-06T00:00:00",
          "2024-05-07T00:00:00",
          "2024-05-08T00:00:00",
          "2024-05-09T00:00:00",
          "2024-05-10T00:00:00",
          "2024-05-13T00:00:00",
          "2024-05-14T00:00:00",
          "2024-05-15T00:00:00",
          "2024-05-16T00:00:00",
          "2024-05-17T00:00:00",
          "2024-05-20T00:00:00",
          "2024-05-21T00:00:00",
          "2024-05-22T00:00:00",
          "2024-05-23T00:00:00",
          "2024-05-24T00:00:00",
          "2024-05-28T00:00:00",
          "2024-05-29T00:00:00",
          "2024-05-30T00:00:00",
          "2024-05-31T00:00:00",
          "2024-06-03T00:00:00",
          "2024-06-04T00:00:00",
          "2024-06-05T00:00:00",
          "2024-06-06T00:00:00",
          "2024-06-07T00:00:00",
          "2024-06-10T00:00:00",
          "2024-06-12T00:00:00"
         ],
         "y": [
          0,
          0,
          0,
          0,
          0,
          0,
          0,
          0,
          0,
          0,
          0,
          0,
          0,
          0,
          0,
          0,
          0,
          0,
          0,
          0,
          0,
          0,
          0,
          0,
          0,
          0,
          0,
          0,
          0,
          0,
          0,
          0,
          0,
          0,
          0,
          0,
          0,
          0,
          0,
          0,
          0,
          0,
          0,
          0
         ],
         "yaxis": "y2"
        }
       ],
       "layout": {
        "legend": {
         "bgcolor": "rgba(255, 255, 255, 0)",
         "bordercolor": "rgba(255, 255, 255, 0)",
         "x": 0,
         "y": 1.2
        },
        "shapes": [
         {
          "line": {
           "color": "Red",
           "width": 1
          },
          "type": "line",
          "x0": "2024-04-13T00:00:00",
          "x1": "2024-04-13T00:00:00",
          "y0": 0,
          "y1": 1,
          "yref": "paper"
         },
         {
          "line": {
           "color": "Red",
           "width": 1
          },
          "type": "line",
          "x0": "2024-04-14T00:00:00",
          "x1": "2024-04-14T00:00:00",
          "y0": 0,
          "y1": 1,
          "yref": "paper"
         },
         {
          "line": {
           "color": "Red",
           "width": 1
          },
          "type": "line",
          "x0": "2024-04-20T00:00:00",
          "x1": "2024-04-20T00:00:00",
          "y0": 0,
          "y1": 1,
          "yref": "paper"
         },
         {
          "line": {
           "color": "Red",
           "width": 1
          },
          "type": "line",
          "x0": "2024-04-21T00:00:00",
          "x1": "2024-04-21T00:00:00",
          "y0": 0,
          "y1": 1,
          "yref": "paper"
         },
         {
          "line": {
           "color": "Red",
           "width": 1
          },
          "type": "line",
          "x0": "2024-04-27T00:00:00",
          "x1": "2024-04-27T00:00:00",
          "y0": 0,
          "y1": 1,
          "yref": "paper"
         },
         {
          "line": {
           "color": "Red",
           "width": 1
          },
          "type": "line",
          "x0": "2024-04-28T00:00:00",
          "x1": "2024-04-28T00:00:00",
          "y0": 0,
          "y1": 1,
          "yref": "paper"
         },
         {
          "line": {
           "color": "Red",
           "width": 1
          },
          "type": "line",
          "x0": "2024-05-04T00:00:00",
          "x1": "2024-05-04T00:00:00",
          "y0": 0,
          "y1": 1,
          "yref": "paper"
         },
         {
          "line": {
           "color": "Red",
           "width": 1
          },
          "type": "line",
          "x0": "2024-05-05T00:00:00",
          "x1": "2024-05-05T00:00:00",
          "y0": 0,
          "y1": 1,
          "yref": "paper"
         },
         {
          "line": {
           "color": "Red",
           "width": 1
          },
          "type": "line",
          "x0": "2024-05-11T00:00:00",
          "x1": "2024-05-11T00:00:00",
          "y0": 0,
          "y1": 1,
          "yref": "paper"
         },
         {
          "line": {
           "color": "Red",
           "width": 1
          },
          "type": "line",
          "x0": "2024-05-12T00:00:00",
          "x1": "2024-05-12T00:00:00",
          "y0": 0,
          "y1": 1,
          "yref": "paper"
         },
         {
          "line": {
           "color": "Red",
           "width": 1
          },
          "type": "line",
          "x0": "2024-05-18T00:00:00",
          "x1": "2024-05-18T00:00:00",
          "y0": 0,
          "y1": 1,
          "yref": "paper"
         },
         {
          "line": {
           "color": "Red",
           "width": 1
          },
          "type": "line",
          "x0": "2024-05-19T00:00:00",
          "x1": "2024-05-19T00:00:00",
          "y0": 0,
          "y1": 1,
          "yref": "paper"
         },
         {
          "line": {
           "color": "Red",
           "width": 1
          },
          "type": "line",
          "x0": "2024-05-25T00:00:00",
          "x1": "2024-05-25T00:00:00",
          "y0": 0,
          "y1": 1,
          "yref": "paper"
         },
         {
          "line": {
           "color": "Red",
           "width": 1
          },
          "type": "line",
          "x0": "2024-05-26T00:00:00",
          "x1": "2024-05-26T00:00:00",
          "y0": 0,
          "y1": 1,
          "yref": "paper"
         },
         {
          "line": {
           "color": "Red",
           "width": 1
          },
          "type": "line",
          "x0": "2024-05-27T00:00:00",
          "x1": "2024-05-27T00:00:00",
          "y0": 0,
          "y1": 1,
          "yref": "paper"
         },
         {
          "line": {
           "color": "Red",
           "width": 1
          },
          "type": "line",
          "x0": "2024-06-01T00:00:00",
          "x1": "2024-06-01T00:00:00",
          "y0": 0,
          "y1": 1,
          "yref": "paper"
         },
         {
          "line": {
           "color": "Red",
           "width": 1
          },
          "type": "line",
          "x0": "2024-06-02T00:00:00",
          "x1": "2024-06-02T00:00:00",
          "y0": 0,
          "y1": 1,
          "yref": "paper"
         },
         {
          "line": {
           "color": "Red",
           "width": 1
          },
          "type": "line",
          "x0": "2024-06-08T00:00:00",
          "x1": "2024-06-08T00:00:00",
          "y0": 0,
          "y1": 1,
          "yref": "paper"
         },
         {
          "line": {
           "color": "Red",
           "width": 1
          },
          "type": "line",
          "x0": "2024-06-09T00:00:00",
          "x1": "2024-06-09T00:00:00",
          "y0": 0,
          "y1": 1,
          "yref": "paper"
         },
         {
          "line": {
           "color": "Red",
           "width": 1
          },
          "type": "line",
          "x0": "2024-06-11T00:00:00",
          "x1": "2024-06-11T00:00:00",
          "y0": 0,
          "y1": 1,
          "yref": "paper"
         }
        ],
        "template": {
         "data": {
          "bar": [
           {
            "error_x": {
             "color": "#2a3f5f"
            },
            "error_y": {
             "color": "#2a3f5f"
            },
            "marker": {
             "line": {
              "color": "#E5ECF6",
              "width": 0.5
             },
             "pattern": {
              "fillmode": "overlay",
              "size": 10,
              "solidity": 0.2
             }
            },
            "type": "bar"
           }
          ],
          "barpolar": [
           {
            "marker": {
             "line": {
              "color": "#E5ECF6",
              "width": 0.5
             },
             "pattern": {
              "fillmode": "overlay",
              "size": 10,
              "solidity": 0.2
             }
            },
            "type": "barpolar"
           }
          ],
          "carpet": [
           {
            "aaxis": {
             "endlinecolor": "#2a3f5f",
             "gridcolor": "white",
             "linecolor": "white",
             "minorgridcolor": "white",
             "startlinecolor": "#2a3f5f"
            },
            "baxis": {
             "endlinecolor": "#2a3f5f",
             "gridcolor": "white",
             "linecolor": "white",
             "minorgridcolor": "white",
             "startlinecolor": "#2a3f5f"
            },
            "type": "carpet"
           }
          ],
          "choropleth": [
           {
            "colorbar": {
             "outlinewidth": 0,
             "ticks": ""
            },
            "type": "choropleth"
           }
          ],
          "contour": [
           {
            "colorbar": {
             "outlinewidth": 0,
             "ticks": ""
            },
            "colorscale": [
             [
              0,
              "#0d0887"
             ],
             [
              0.1111111111111111,
              "#46039f"
             ],
             [
              0.2222222222222222,
              "#7201a8"
             ],
             [
              0.3333333333333333,
              "#9c179e"
             ],
             [
              0.4444444444444444,
              "#bd3786"
             ],
             [
              0.5555555555555556,
              "#d8576b"
             ],
             [
              0.6666666666666666,
              "#ed7953"
             ],
             [
              0.7777777777777778,
              "#fb9f3a"
             ],
             [
              0.8888888888888888,
              "#fdca26"
             ],
             [
              1,
              "#f0f921"
             ]
            ],
            "type": "contour"
           }
          ],
          "contourcarpet": [
           {
            "colorbar": {
             "outlinewidth": 0,
             "ticks": ""
            },
            "type": "contourcarpet"
           }
          ],
          "heatmap": [
           {
            "colorbar": {
             "outlinewidth": 0,
             "ticks": ""
            },
            "colorscale": [
             [
              0,
              "#0d0887"
             ],
             [
              0.1111111111111111,
              "#46039f"
             ],
             [
              0.2222222222222222,
              "#7201a8"
             ],
             [
              0.3333333333333333,
              "#9c179e"
             ],
             [
              0.4444444444444444,
              "#bd3786"
             ],
             [
              0.5555555555555556,
              "#d8576b"
             ],
             [
              0.6666666666666666,
              "#ed7953"
             ],
             [
              0.7777777777777778,
              "#fb9f3a"
             ],
             [
              0.8888888888888888,
              "#fdca26"
             ],
             [
              1,
              "#f0f921"
             ]
            ],
            "type": "heatmap"
           }
          ],
          "heatmapgl": [
           {
            "colorbar": {
             "outlinewidth": 0,
             "ticks": ""
            },
            "colorscale": [
             [
              0,
              "#0d0887"
             ],
             [
              0.1111111111111111,
              "#46039f"
             ],
             [
              0.2222222222222222,
              "#7201a8"
             ],
             [
              0.3333333333333333,
              "#9c179e"
             ],
             [
              0.4444444444444444,
              "#bd3786"
             ],
             [
              0.5555555555555556,
              "#d8576b"
             ],
             [
              0.6666666666666666,
              "#ed7953"
             ],
             [
              0.7777777777777778,
              "#fb9f3a"
             ],
             [
              0.8888888888888888,
              "#fdca26"
             ],
             [
              1,
              "#f0f921"
             ]
            ],
            "type": "heatmapgl"
           }
          ],
          "histogram": [
           {
            "marker": {
             "pattern": {
              "fillmode": "overlay",
              "size": 10,
              "solidity": 0.2
             }
            },
            "type": "histogram"
           }
          ],
          "histogram2d": [
           {
            "colorbar": {
             "outlinewidth": 0,
             "ticks": ""
            },
            "colorscale": [
             [
              0,
              "#0d0887"
             ],
             [
              0.1111111111111111,
              "#46039f"
             ],
             [
              0.2222222222222222,
              "#7201a8"
             ],
             [
              0.3333333333333333,
              "#9c179e"
             ],
             [
              0.4444444444444444,
              "#bd3786"
             ],
             [
              0.5555555555555556,
              "#d8576b"
             ],
             [
              0.6666666666666666,
              "#ed7953"
             ],
             [
              0.7777777777777778,
              "#fb9f3a"
             ],
             [
              0.8888888888888888,
              "#fdca26"
             ],
             [
              1,
              "#f0f921"
             ]
            ],
            "type": "histogram2d"
           }
          ],
          "histogram2dcontour": [
           {
            "colorbar": {
             "outlinewidth": 0,
             "ticks": ""
            },
            "colorscale": [
             [
              0,
              "#0d0887"
             ],
             [
              0.1111111111111111,
              "#46039f"
             ],
             [
              0.2222222222222222,
              "#7201a8"
             ],
             [
              0.3333333333333333,
              "#9c179e"
             ],
             [
              0.4444444444444444,
              "#bd3786"
             ],
             [
              0.5555555555555556,
              "#d8576b"
             ],
             [
              0.6666666666666666,
              "#ed7953"
             ],
             [
              0.7777777777777778,
              "#fb9f3a"
             ],
             [
              0.8888888888888888,
              "#fdca26"
             ],
             [
              1,
              "#f0f921"
             ]
            ],
            "type": "histogram2dcontour"
           }
          ],
          "mesh3d": [
           {
            "colorbar": {
             "outlinewidth": 0,
             "ticks": ""
            },
            "type": "mesh3d"
           }
          ],
          "parcoords": [
           {
            "line": {
             "colorbar": {
              "outlinewidth": 0,
              "ticks": ""
             }
            },
            "type": "parcoords"
           }
          ],
          "pie": [
           {
            "automargin": true,
            "type": "pie"
           }
          ],
          "scatter": [
           {
            "fillpattern": {
             "fillmode": "overlay",
             "size": 10,
             "solidity": 0.2
            },
            "type": "scatter"
           }
          ],
          "scatter3d": [
           {
            "line": {
             "colorbar": {
              "outlinewidth": 0,
              "ticks": ""
             }
            },
            "marker": {
             "colorbar": {
              "outlinewidth": 0,
              "ticks": ""
             }
            },
            "type": "scatter3d"
           }
          ],
          "scattercarpet": [
           {
            "marker": {
             "colorbar": {
              "outlinewidth": 0,
              "ticks": ""
             }
            },
            "type": "scattercarpet"
           }
          ],
          "scattergeo": [
           {
            "marker": {
             "colorbar": {
              "outlinewidth": 0,
              "ticks": ""
             }
            },
            "type": "scattergeo"
           }
          ],
          "scattergl": [
           {
            "marker": {
             "colorbar": {
              "outlinewidth": 0,
              "ticks": ""
             }
            },
            "type": "scattergl"
           }
          ],
          "scattermapbox": [
           {
            "marker": {
             "colorbar": {
              "outlinewidth": 0,
              "ticks": ""
             }
            },
            "type": "scattermapbox"
           }
          ],
          "scatterpolar": [
           {
            "marker": {
             "colorbar": {
              "outlinewidth": 0,
              "ticks": ""
             }
            },
            "type": "scatterpolar"
           }
          ],
          "scatterpolargl": [
           {
            "marker": {
             "colorbar": {
              "outlinewidth": 0,
              "ticks": ""
             }
            },
            "type": "scatterpolargl"
           }
          ],
          "scatterternary": [
           {
            "marker": {
             "colorbar": {
              "outlinewidth": 0,
              "ticks": ""
             }
            },
            "type": "scatterternary"
           }
          ],
          "surface": [
           {
            "colorbar": {
             "outlinewidth": 0,
             "ticks": ""
            },
            "colorscale": [
             [
              0,
              "#0d0887"
             ],
             [
              0.1111111111111111,
              "#46039f"
             ],
             [
              0.2222222222222222,
              "#7201a8"
             ],
             [
              0.3333333333333333,
              "#9c179e"
             ],
             [
              0.4444444444444444,
              "#bd3786"
             ],
             [
              0.5555555555555556,
              "#d8576b"
             ],
             [
              0.6666666666666666,
              "#ed7953"
             ],
             [
              0.7777777777777778,
              "#fb9f3a"
             ],
             [
              0.8888888888888888,
              "#fdca26"
             ],
             [
              1,
              "#f0f921"
             ]
            ],
            "type": "surface"
           }
          ],
          "table": [
           {
            "cells": {
             "fill": {
              "color": "#EBF0F8"
             },
             "line": {
              "color": "white"
             }
            },
            "header": {
             "fill": {
              "color": "#C8D4E3"
             },
             "line": {
              "color": "white"
             }
            },
            "type": "table"
           }
          ]
         },
         "layout": {
          "annotationdefaults": {
           "arrowcolor": "#2a3f5f",
           "arrowhead": 0,
           "arrowwidth": 1
          },
          "autotypenumbers": "strict",
          "coloraxis": {
           "colorbar": {
            "outlinewidth": 0,
            "ticks": ""
           }
          },
          "colorscale": {
           "diverging": [
            [
             0,
             "#8e0152"
            ],
            [
             0.1,
             "#c51b7d"
            ],
            [
             0.2,
             "#de77ae"
            ],
            [
             0.3,
             "#f1b6da"
            ],
            [
             0.4,
             "#fde0ef"
            ],
            [
             0.5,
             "#f7f7f7"
            ],
            [
             0.6,
             "#e6f5d0"
            ],
            [
             0.7,
             "#b8e186"
            ],
            [
             0.8,
             "#7fbc41"
            ],
            [
             0.9,
             "#4d9221"
            ],
            [
             1,
             "#276419"
            ]
           ],
           "sequential": [
            [
             0,
             "#0d0887"
            ],
            [
             0.1111111111111111,
             "#46039f"
            ],
            [
             0.2222222222222222,
             "#7201a8"
            ],
            [
             0.3333333333333333,
             "#9c179e"
            ],
            [
             0.4444444444444444,
             "#bd3786"
            ],
            [
             0.5555555555555556,
             "#d8576b"
            ],
            [
             0.6666666666666666,
             "#ed7953"
            ],
            [
             0.7777777777777778,
             "#fb9f3a"
            ],
            [
             0.8888888888888888,
             "#fdca26"
            ],
            [
             1,
             "#f0f921"
            ]
           ],
           "sequentialminus": [
            [
             0,
             "#0d0887"
            ],
            [
             0.1111111111111111,
             "#46039f"
            ],
            [
             0.2222222222222222,
             "#7201a8"
            ],
            [
             0.3333333333333333,
             "#9c179e"
            ],
            [
             0.4444444444444444,
             "#bd3786"
            ],
            [
             0.5555555555555556,
             "#d8576b"
            ],
            [
             0.6666666666666666,
             "#ed7953"
            ],
            [
             0.7777777777777778,
             "#fb9f3a"
            ],
            [
             0.8888888888888888,
             "#fdca26"
            ],
            [
             1,
             "#f0f921"
            ]
           ]
          },
          "colorway": [
           "#636efa",
           "#EF553B",
           "#00cc96",
           "#ab63fa",
           "#FFA15A",
           "#19d3f3",
           "#FF6692",
           "#B6E880",
           "#FF97FF",
           "#FECB52"
          ],
          "font": {
           "color": "#2a3f5f"
          },
          "geo": {
           "bgcolor": "white",
           "lakecolor": "white",
           "landcolor": "#E5ECF6",
           "showlakes": true,
           "showland": true,
           "subunitcolor": "white"
          },
          "hoverlabel": {
           "align": "left"
          },
          "hovermode": "closest",
          "mapbox": {
           "style": "light"
          },
          "paper_bgcolor": "white",
          "plot_bgcolor": "#E5ECF6",
          "polar": {
           "angularaxis": {
            "gridcolor": "white",
            "linecolor": "white",
            "ticks": ""
           },
           "bgcolor": "#E5ECF6",
           "radialaxis": {
            "gridcolor": "white",
            "linecolor": "white",
            "ticks": ""
           }
          },
          "scene": {
           "xaxis": {
            "backgroundcolor": "#E5ECF6",
            "gridcolor": "white",
            "gridwidth": 2,
            "linecolor": "white",
            "showbackground": true,
            "ticks": "",
            "zerolinecolor": "white"
           },
           "yaxis": {
            "backgroundcolor": "#E5ECF6",
            "gridcolor": "white",
            "gridwidth": 2,
            "linecolor": "white",
            "showbackground": true,
            "ticks": "",
            "zerolinecolor": "white"
           },
           "zaxis": {
            "backgroundcolor": "#E5ECF6",
            "gridcolor": "white",
            "gridwidth": 2,
            "linecolor": "white",
            "showbackground": true,
            "ticks": "",
            "zerolinecolor": "white"
           }
          },
          "shapedefaults": {
           "line": {
            "color": "#2a3f5f"
           }
          },
          "ternary": {
           "aaxis": {
            "gridcolor": "white",
            "linecolor": "white",
            "ticks": ""
           },
           "baxis": {
            "gridcolor": "white",
            "linecolor": "white",
            "ticks": ""
           },
           "bgcolor": "#E5ECF6",
           "caxis": {
            "gridcolor": "white",
            "linecolor": "white",
            "ticks": ""
           }
          },
          "title": {
           "x": 0.05
          },
          "xaxis": {
           "automargin": true,
           "gridcolor": "white",
           "linecolor": "white",
           "ticks": "",
           "title": {
            "standoff": 15
           },
           "zerolinecolor": "white",
           "zerolinewidth": 2
          },
          "yaxis": {
           "automargin": true,
           "gridcolor": "white",
           "linecolor": "white",
           "ticks": "",
           "title": {
            "standoff": 15
           },
           "zerolinecolor": "white",
           "zerolinewidth": 2
          }
         }
        },
        "title": {
         "text": "Price Chart with TSI"
        },
        "xaxis": {
         "gridcolor": "LightGrey",
         "gridwidth": 1,
         "showgrid": true,
         "title": {
          "text": "Date"
         }
        },
        "yaxis": {
         "showgrid": false,
         "title": {
          "text": "Price"
         }
        },
        "yaxis2": {
         "overlaying": "y",
         "side": "right",
         "title": {
          "text": "TSI Value"
         }
        }
       }
      }
     },
     "metadata": {},
     "output_type": "display_data"
    }
   ],
   "source": [
    "from talipp.indicators import TSI\n",
    "\n",
    "def find_missing_dates(data: pd.DataFrame) -> pd.DatetimeIndex:\n",
    "    \"\"\"\n",
    "    找到从开始日期到结束日期之间缺失的日期。\n",
    "\n",
    "    参数:\n",
    "    data (pd.DataFrame): 包含日期索引的 DataFrame。\n",
    "\n",
    "    返回:\n",
    "    pd.DatetimeIndex: 缺失日期的索引。\n",
    "    \"\"\"\n",
    "    # 获取开始日期和结束日期\n",
    "    start_date = data.index.min()\n",
    "    end_date = data.index.max()\n",
    "\n",
    "    # 生成完整日期范围，包括所有日期\n",
    "    full_range = pd.date_range(start=start_date, end=end_date, freq='D')  # freq='D' 表示每天\n",
    "\n",
    "    # 找到缺失的日期\n",
    "    missing_dates = full_range.difference(data.index)\n",
    "\n",
    "    return missing_dates\n",
    "\n",
    "# # 示例调用\n",
    "# missing_dates = find_missing_dates(daily_data)\n",
    "# print(missing_dates)\n",
    "\n",
    "def plot_price_with_tsi(data: pd.DataFrame, EMA_short: int, EMA_long: int):\n",
    "    \"\"\"\n",
    "    使用 Plotly 绘制价格和 TSI 指标图表。\n",
    "\n",
    "    参数:\n",
    "    data (pd.DataFrame): 包含 'Open', 'High', 'Low', 'Close' 列的价格数据。\n",
    "    EMA_short (int): 短期EMA的周期,\n",
    "    EMA_long (int): 长期EMA的周期。\n",
    "    \n",
    "    计算 TSI 值并将其添加到 DataFrame 中，然后绘制价格和 TSI 指标图表。[Link](https://www.investopedia.com/terms/t/tsi.asp)\n",
    "    计算长短EMA，假设短周期为7，长周期为15，也就是说，我们需要计算7日EMA和15日EMA。[Link](https://www.investopedia.com/ask/answers/122314/what-exponential-moving-average-ema-formula-and-how-ema-calculated.asp)\n",
    "\n",
    "    Plotly图表包含烛台图和 TSI 线，TSI 线的值在右侧的第二个 y 轴上。\n",
    "    \n",
    "    TSI作用：识别超买和超卖信号，发现分歧，通过中心线识别趋势方向和变化，并通过信号线交叉突出显示短期价格动能\n",
    "    \"\"\"\n",
    "    # 计算 TSI 值\n",
    "    close_price = data['Close'].tolist()\n",
    "    tsi = TSI(EMA_short, EMA_long, close_price)\n",
    "    \n",
    "    # 将 TSI 值添加到 DataFrame\n",
    "    data['TSI'] = tsi\n",
    "\n",
    "    # 绘制图表\n",
    "    fig = go.Figure()\n",
    "\n",
    "    # 添加烛台图\n",
    "    fig.add_trace(go.Candlestick(\n",
    "        x=data.index,\n",
    "        open=data['Open'],\n",
    "        high=data['High'],\n",
    "        low=data['Low'],\n",
    "        close=data['Close'],\n",
    "        name='Price'\n",
    "    ))\n",
    "\n",
    "    # 添加 TSI 线\n",
    "    fig.add_trace(go.Scatter(\n",
    "        x=data.index,\n",
    "        y=data['TSI'],\n",
    "        mode='lines',\n",
    "        name='TSI',\n",
    "        yaxis='y2',\n",
    "        line=dict(color='blue')\n",
    "    ))\n",
    "\n",
    "    # 添加水平线表示 TSI 的 0 轴\n",
    "    fig.add_trace(go.Scatter(\n",
    "        x=data.index,\n",
    "        y=[0] * len(data),\n",
    "        mode='lines',\n",
    "        name='Zero Line',\n",
    "        yaxis='y2',\n",
    "        line=dict(color='black', width=0.5, dash='dash')\n",
    "    ))\n",
    "\n",
    "\n",
    "    # 查找非交易日\n",
    "    non_trading_days = find_missing_dates(daily_data)\n",
    "    # print(missing_dates)\n",
    "    # all_dates = pd.date_range(start=data.index.min(), end=data.index.max(), freq='B') # freq='B'表示工作日\n",
    "    # non_trading_days = all_dates.difference(data.index)\n",
    "    # print(non_trading_days)\n",
    "\n",
    "    # 在非交易日绘制垂直线\n",
    "    for non_trading_day in non_trading_days:\n",
    "        fig.add_shape(\n",
    "            dict(\n",
    "                type=\"line\",\n",
    "                x0=non_trading_day,\n",
    "                y0=0,\n",
    "                x1=non_trading_day,\n",
    "                y1=1,\n",
    "                yref=\"paper\",\n",
    "                line=dict(\n",
    "                    color=\"Red\",\n",
    "                    width=1\n",
    "                )\n",
    "            )\n",
    "        )\n",
    "\n",
    "    # 更新布局，只保留一种网格线\n",
    "    fig.update_layout(\n",
    "        title='Price Chart with TSI',\n",
    "        xaxis_title='Date',\n",
    "        yaxis_title='Price',\n",
    "        yaxis2=dict(\n",
    "            title='TSI Value',\n",
    "            overlaying='y',\n",
    "            side='right'\n",
    "        ),\n",
    "        xaxis=dict(\n",
    "            showgrid=True,\n",
    "            gridwidth=1,\n",
    "            gridcolor='LightGrey'\n",
    "        ),\n",
    "        yaxis=dict(\n",
    "            showgrid=False\n",
    "        ),\n",
    "        legend=dict(\n",
    "            x=0,\n",
    "            y=1.2,\n",
    "            bgcolor='rgba(255, 255, 255, 0)',\n",
    "            bordercolor='rgba(255, 255, 255, 0)'\n",
    "        )\n",
    "    )\n",
    "\n",
    "    # 显示图表\n",
    "    fig.show()\n",
    "\n",
    "\n",
    "# 调用函数绘制图表\n",
    "plot_price_with_tsi(daily_data, 7, 15)"
   ]
  },
  {
   "cell_type": "markdown",
   "metadata": {},
   "source": [
    "### 相对强弱指数 RSI (Relative Strength Index)"
   ]
  },
  {
   "cell_type": "code",
   "execution_count": null,
   "metadata": {},
   "outputs": [],
   "source": [
    "import plotly.graph_objs as go\n",
    "from talipp.indicators import RSI"
   ]
  },
  {
   "cell_type": "code",
   "execution_count": 99,
   "metadata": {},
   "outputs": [],
   "source": [
    "def plot_price_with_rsi_embedding(data: pd.DataFrame, period: int, oversold_level: int = 30, overbought_level: int = 70):\n",
    "    \"\"\"\n",
    "    使用 Plotly 绘制价格和 RSI 指标图表。\n",
    "\n",
    "    参数:\n",
    "    data (pd.DataFrame): 包含 'Open', 'High', 'Low', 'Close' 列的价格数据。\n",
    "    period (int): RSI 的计算周期。\n",
    "\n",
    "    返回:\n",
    "    None\n",
    "    \"\"\"\n",
    "    # 计算 RSI 值\n",
    "    close_price = data['Close'].tolist()\n",
    "    rsi = RSI(period, close_price)\n",
    "    \n",
    "    # 将 RSI 值添加到 DataFrame\n",
    "    data['RSI'] = rsi\n",
    "\n",
    "    # 绘制图表\n",
    "    fig = go.Figure()\n",
    "\n",
    "    # 添加烛台图\n",
    "    fig.add_trace(go.Candlestick(\n",
    "        x=data.index,\n",
    "        open=data['Open'],\n",
    "        high=data['High'],\n",
    "        low=data['Low'],\n",
    "        close=data['Close'],\n",
    "        name='Price'\n",
    "    ))\n",
    "\n",
    "    # 添加 RSI 线\n",
    "    fig.add_trace(go.Scatter(\n",
    "        x=data.index,\n",
    "        y=data['RSI'],\n",
    "        mode='lines',\n",
    "        name='RSI',\n",
    "        yaxis='y2',\n",
    "        line=dict(color='blue')\n",
    "    ))\n",
    "\n",
    "    # 添加水平线表示 RSI 的 30 和 70 水平\n",
    "    fig.add_trace(go.Scatter(\n",
    "        x=data.index,\n",
    "        y=[oversold_level] * len(data),  # Fixed the level to 30\n",
    "        mode='lines',\n",
    "        name='Oversold Line',\n",
    "        yaxis='y2',\n",
    "        line=dict(color='green', width=1.5, dash='dash') \n",
    "    ))\n",
    "\n",
    "    fig.add_trace(go.Scatter(\n",
    "        x=data.index,\n",
    "        y=[overbought_level] * len(data),  # Fixed the level to 70\n",
    "        mode='lines',\n",
    "        name='Overbought Line',\n",
    "        yaxis='y2',\n",
    "        line=dict(color='red', width=1.5, dash='dash')\n",
    "    ))\n",
    "\n",
    "    # 查找非交易日\n",
    "    non_trading_days = find_missing_dates(data)\n",
    "\n",
    "    # 在非交易日绘制垂直线\n",
    "    for non_trading_day in non_trading_days:\n",
    "        fig.add_shape(\n",
    "            dict(\n",
    "                type=\"line\",\n",
    "                x0=non_trading_day,\n",
    "                y0=0,  # Set to start from the bottom of the plot\n",
    "                x1=non_trading_day,\n",
    "                y1=1,\n",
    "                yref=\"paper\",\n",
    "                line=dict(\n",
    "                    color=\"Red\",\n",
    "                    width=1\n",
    "                )\n",
    "            )\n",
    "        )\n",
    "    \n",
    "    fig.update_layout(\n",
    "        title='Price Chart with RSI',\n",
    "        xaxis_title='Date',\n",
    "        yaxis_title='Price',\n",
    "        yaxis2=dict(\n",
    "            title='RSI Value',\n",
    "            overlaying='y',\n",
    "            side='right',\n",
    "            range=[10, 90]  # Fixed Y-axis range for RSI\n",
    "        ),\n",
    "        \n",
    "        xaxis=dict(\n",
    "            showgrid=True,\n",
    "            gridwidth=1,\n",
    "            gridcolor='LightGrey'\n",
    "        ),\n",
    "        yaxis=dict(\n",
    "            showgrid=False\n",
    "        ),\n",
    "        xaxis2=dict(\n",
    "            showgrid=True,\n",
    "            gridwidth=1,\n",
    "            gridcolor='LightGrey'\n",
    "        ),\n",
    "        # 调整图表的高度和宽度\n",
    "        height=600,  \n",
    "        width=1350,  \n",
    "        margin=dict(l=50, r=50, t=50, b=50)\n",
    "    )\n",
    "\n",
    "    # 显示图表\n",
    "    fig.show()"
   ]
  },
  {
   "cell_type": "code",
   "execution_count": 98,
   "metadata": {},
   "outputs": [],
   "source": [
    "def plot_price_with_rsi_seperate(data: pd.DataFrame, period: int, oversold_level: int = 30, overbought_level: int = 70):\n",
    "    \"\"\"\n",
    "    使用 Plotly 绘制价格和 RSI 指标图表。\n",
    "\n",
    "    参数:\n",
    "    data (pd.DataFrame): 包含 'Open', 'High', 'Low', 'Close' 列的价格数据。\n",
    "    period (int): RSI 的计算周期。\n",
    "\n",
    "    返回:\n",
    "    None\n",
    "    \"\"\"\n",
    "    # 计算 RSI 值\n",
    "    close_price = data['Close'].tolist()\n",
    "    rsi = RSI(period, close_price)\n",
    "    data['RSI'] = rsi\n",
    "\n",
    "    # 创建子图\n",
    "    fig = make_subplots(rows=2, cols=1, shared_xaxes=True, vertical_spacing=0.1, subplot_titles=('Price Chart', 'RSI'))\n",
    "\n",
    "    # 添加烛台图\n",
    "    fig.add_trace(go.Candlestick(\n",
    "        x=data.index,\n",
    "        open=data['Open'],\n",
    "        high=data['High'],\n",
    "        low=data['Low'],\n",
    "        close=data['Close'],\n",
    "        name='Price'\n",
    "    ), row=1, col=1)\n",
    "\n",
    "    # 添加 RSI 线\n",
    "    fig.add_trace(go.Scatter(\n",
    "        x=data.index,\n",
    "        y=data['RSI'],\n",
    "        mode='lines',\n",
    "        name='RSI',\n",
    "        line=dict(color='blue')\n",
    "    ), row=2, col=1)\n",
    "\n",
    "    # 添加水平线表示超买和超卖区域\n",
    "    fig.add_trace(go.Scatter(\n",
    "        x=data.index,\n",
    "        y=[45] * len(data),\n",
    "        mode='lines',\n",
    "        name='Oversold Line',\n",
    "        line=dict(color='green', width=2, dash='dash')\n",
    "    ), row=2, col=1)\n",
    "\n",
    "    fig.add_trace(go.Scatter(\n",
    "        x=data.index,\n",
    "        y=[70] * len(data),\n",
    "        mode='lines',\n",
    "        name='Overbought Line',\n",
    "        line=dict(color='red', width=2, dash='dash')\n",
    "    ), row=2, col=1)\n",
    "\n",
    "    # 查找非交易日\n",
    "    non_trading_days = find_missing_dates(data)\n",
    "\n",
    "    # 在每个图表上添加垂直线以表示非交易日\n",
    "    for non_trading_day in non_trading_days:\n",
    "        fig.add_shape(\n",
    "            dict(\n",
    "                type=\"line\",\n",
    "                x0=non_trading_day,\n",
    "                y0=data['Low'].min(),\n",
    "                x1=non_trading_day,\n",
    "                y1=data['High'].max(),\n",
    "                line=dict(\n",
    "                    color=\"Red\",\n",
    "                    width=1\n",
    "                )\n",
    "            ),\n",
    "            row=1, col=1\n",
    "        )\n",
    "        \n",
    "        fig.add_shape(\n",
    "            dict(\n",
    "                type=\"line\",\n",
    "                x0=non_trading_day,\n",
    "                y0=10,\n",
    "                x1=non_trading_day,\n",
    "                y1=90,\n",
    "                line=dict(\n",
    "                    color=\"Red\",\n",
    "                    width=1\n",
    "                )\n",
    "            ),\n",
    "            row=2, col=1\n",
    "        )\n",
    "\n",
    "    # 更新布局\n",
    "    fig.update_layout(\n",
    "        title='Price Chart with RSI',\n",
    "        xaxis=dict(\n",
    "            rangeslider=dict(\n",
    "                visible=False\n",
    "            ),\n",
    "            showticklabels=True,\n",
    "            showgrid=True,\n",
    "            gridwidth=1,\n",
    "            gridcolor='LightGrey'\n",
    "        ),\n",
    "        xaxis2=dict(\n",
    "            showticklabels=True,\n",
    "            showgrid=True,\n",
    "            gridwidth=1,\n",
    "            gridcolor='LightGrey'\n",
    "        ),\n",
    "        yaxis=dict(\n",
    "            title='Price',\n",
    "            showgrid=False\n",
    "        ),\n",
    "        yaxis2=dict(\n",
    "            title='RSI',\n",
    "            range=[10, 90],\n",
    "            showgrid=False\n",
    "        ),\n",
    "        height=800,\n",
    "        margin=dict(l=50, r=50, t=50, b=50)\n",
    "    )\n",
    "\n",
    "    # 将时间轴放在底部\n",
    "    fig.update_xaxes(rangeslider_visible=False, row=1, col=1)\n",
    "    fig.update_xaxes(rangeslider_visible=True, row=2, col=1)\n",
    "\n",
    "    # 显示图表\n",
    "    fig.show()"
   ]
  },
  {
   "cell_type": "code",
   "execution_count": 100,
   "metadata": {},
   "outputs": [
    {
     "data": {
      "application/vnd.plotly.v1+json": {
       "config": {
        "plotlyServerURL": "https://plot.ly"
       },
       "data": [
        {
         "close": [
          2329.60009765625,
          2354.800048828125,
          2356.199951171875,
          2365.800048828125,
          2390.800048828125,
          2371.699951171875,
          2382.300048828125,
          2398.39990234375,
          2332.199951171875,
          2327.699951171875,
          2324.5,
          2329.800048828125,
          2334.800048828125,
          2345.39990234375,
          2291.39990234375,
          2299.89990234375,
          2299.199951171875,
          2299,
          2321.60009765625,
          2315.199951171875,
          2313.60009765625,
          2332.10009765625,
          2367.300048828125,
          2336.10009765625,
          2353.39990234375,
          2388.699951171875,
          2380,
          2412.199951171875,
          2433.89990234375,
          2421.699951171875,
          2389.199951171875,
          2335,
          2332.5,
          2355.199951171875,
          2340.300048828125,
          2342.89990234375,
          2322.89990234375,
          2346.60009765625,
          2325.5,
          2354.10009765625,
          2370.300048828125,
          2305.199951171875,
          2307.699951171875,
          2325.199951171875
         ],
         "high": [
          2358.10009765625,
          2376.300048828125,
          2429,
          2384.699951171875,
          2390.800048828125,
          2391.39990234375,
          2384.39990234375,
          2399.800048828125,
          2383.300048828125,
          2330.800048828125,
          2328.699951171875,
          2329.800048828125,
          2347.89990234375,
          2345.5,
          2322.5,
          2327.300048828125,
          2324.699951171875,
          2301,
          2325.5,
          2324.300048828125,
          2313.60009765625,
          2339.5,
          2367.300048828125,
          2358.300048828125,
          2358,
          2388.699951171875,
          2392.199951171875,
          2415.800048828125,
          2435.800048828125,
          2429.5,
          2417.60009765625,
          2371.199951171875,
          2345.39990234375,
          2359.699951171875,
          2340.300048828125,
          2349.5,
          2354,
          2347.5,
          2347.699951171875,
          2354.300048828125,
          2375.800048828125,
          2385.10009765625,
          2309.300048828125,
          2341.300048828125
         ],
         "low": [
          2327.699951171875,
          2330.60009765625,
          2334.300048828125,
          2326,
          2371.39990234375,
          2369.300048828125,
          2368.39990234375,
          2377.300048828125,
          2326.89990234375,
          2294.199951171875,
          2314.60009765625,
          2305,
          2332.800048828125,
          2327.89990234375,
          2291.39990234375,
          2283.800048828125,
          2292.300048828125,
          2277.60009765625,
          2314.199951171875,
          2315.199951171875,
          2313.60009765625,
          2310.699951171875,
          2367.300048828125,
          2336.10009765625,
          2336,
          2356,
          2380,
          2380.699951171875,
          2409.699951171875,
          2421,
          2375.800048828125,
          2335,
          2332.5,
          2336.89990234375,
          2340.300048828125,
          2320.800048828125,
          2319,
          2312,
          2313.89990234375,
          2326.199951171875,
          2355,
          2285.39990234375,
          2290.5,
          2323.800048828125
         ],
         "name": "Price",
         "open": [
          2346.60009765625,
          2341.5,
          2377.300048828125,
          2362.10009765625,
          2384,
          2384.199951171875,
          2368.39990234375,
          2379.300048828125,
          2383.300048828125,
          2327.699951171875,
          2321.300048828125,
          2315,
          2347.89990234375,
          2334.800048828125,
          2322.5,
          2287.699951171875,
          2321.699951171875,
          2300,
          2322.800048828125,
          2324.300048828125,
          2313.60009765625,
          2310.699951171875,
          2367.300048828125,
          2358.300048828125,
          2336,
          2361.60009765625,
          2389.5,
          2380.699951171875,
          2415.800048828125,
          2429.5,
          2417.5,
          2371.199951171875,
          2342.60009765625,
          2336.89990234375,
          2340.300048828125,
          2336.89990234375,
          2344.10009765625,
          2322.60009765625,
          2347.5,
          2326.39990234375,
          2355,
          2379.89990234375,
          2290.60009765625,
          2340.89990234375
         ],
         "type": "candlestick",
         "x": [
          "2024-04-10T00:00:00",
          "2024-04-11T00:00:00",
          "2024-04-12T00:00:00",
          "2024-04-15T00:00:00",
          "2024-04-16T00:00:00",
          "2024-04-17T00:00:00",
          "2024-04-18T00:00:00",
          "2024-04-19T00:00:00",
          "2024-04-22T00:00:00",
          "2024-04-23T00:00:00",
          "2024-04-24T00:00:00",
          "2024-04-25T00:00:00",
          "2024-04-26T00:00:00",
          "2024-04-29T00:00:00",
          "2024-04-30T00:00:00",
          "2024-05-01T00:00:00",
          "2024-05-02T00:00:00",
          "2024-05-03T00:00:00",
          "2024-05-06T00:00:00",
          "2024-05-07T00:00:00",
          "2024-05-08T00:00:00",
          "2024-05-09T00:00:00",
          "2024-05-10T00:00:00",
          "2024-05-13T00:00:00",
          "2024-05-14T00:00:00",
          "2024-05-15T00:00:00",
          "2024-05-16T00:00:00",
          "2024-05-17T00:00:00",
          "2024-05-20T00:00:00",
          "2024-05-21T00:00:00",
          "2024-05-22T00:00:00",
          "2024-05-23T00:00:00",
          "2024-05-24T00:00:00",
          "2024-05-28T00:00:00",
          "2024-05-29T00:00:00",
          "2024-05-30T00:00:00",
          "2024-05-31T00:00:00",
          "2024-06-03T00:00:00",
          "2024-06-04T00:00:00",
          "2024-06-05T00:00:00",
          "2024-06-06T00:00:00",
          "2024-06-07T00:00:00",
          "2024-06-10T00:00:00",
          "2024-06-12T00:00:00"
         ]
        },
        {
         "line": {
          "color": "blue"
         },
         "mode": "lines",
         "name": "RSI",
         "type": "scatter",
         "x": [
          "2024-04-10T00:00:00",
          "2024-04-11T00:00:00",
          "2024-04-12T00:00:00",
          "2024-04-15T00:00:00",
          "2024-04-16T00:00:00",
          "2024-04-17T00:00:00",
          "2024-04-18T00:00:00",
          "2024-04-19T00:00:00",
          "2024-04-22T00:00:00",
          "2024-04-23T00:00:00",
          "2024-04-24T00:00:00",
          "2024-04-25T00:00:00",
          "2024-04-26T00:00:00",
          "2024-04-29T00:00:00",
          "2024-04-30T00:00:00",
          "2024-05-01T00:00:00",
          "2024-05-02T00:00:00",
          "2024-05-03T00:00:00",
          "2024-05-06T00:00:00",
          "2024-05-07T00:00:00",
          "2024-05-08T00:00:00",
          "2024-05-09T00:00:00",
          "2024-05-10T00:00:00",
          "2024-05-13T00:00:00",
          "2024-05-14T00:00:00",
          "2024-05-15T00:00:00",
          "2024-05-16T00:00:00",
          "2024-05-17T00:00:00",
          "2024-05-20T00:00:00",
          "2024-05-21T00:00:00",
          "2024-05-22T00:00:00",
          "2024-05-23T00:00:00",
          "2024-05-24T00:00:00",
          "2024-05-28T00:00:00",
          "2024-05-29T00:00:00",
          "2024-05-30T00:00:00",
          "2024-05-31T00:00:00",
          "2024-06-03T00:00:00",
          "2024-06-04T00:00:00",
          "2024-06-05T00:00:00",
          "2024-06-06T00:00:00",
          "2024-06-07T00:00:00",
          "2024-06-10T00:00:00",
          "2024-06-12T00:00:00"
         ],
         "y": [
          null,
          null,
          null,
          null,
          null,
          null,
          null,
          null,
          null,
          null,
          null,
          null,
          null,
          null,
          42.533185207242916,
          44.51859805169344,
          44.38261646481623,
          44.340950205406614,
          50.0489892822291,
          48.531115345242554,
          48.13810465080577,
          52.88907101738173,
          60.33467025543059,
          52.42571866114869,
          55.879275280852326,
          61.949123105024775,
          59.76678879608194,
          64.72050935957176,
          67.61442976949954,
          64.41526159612229,
          56.71655956154872,
          46.69378364363234,
          46.28746445689147,
          50.499459064310784,
          47.8472236048869,
          48.3568921849484,
          44.73509141404571,
          49.556541173174274,
          45.731298871407624,
          51.226795975158794,
          54.064314039439346,
          43.190174027567316,
          43.65882890939554,
          46.9574812685849
         ],
         "yaxis": "y2"
        },
        {
         "line": {
          "color": "green",
          "dash": "dash",
          "width": 1.5
         },
         "mode": "lines",
         "name": "Oversold Line",
         "type": "scatter",
         "x": [
          "2024-04-10T00:00:00",
          "2024-04-11T00:00:00",
          "2024-04-12T00:00:00",
          "2024-04-15T00:00:00",
          "2024-04-16T00:00:00",
          "2024-04-17T00:00:00",
          "2024-04-18T00:00:00",
          "2024-04-19T00:00:00",
          "2024-04-22T00:00:00",
          "2024-04-23T00:00:00",
          "2024-04-24T00:00:00",
          "2024-04-25T00:00:00",
          "2024-04-26T00:00:00",
          "2024-04-29T00:00:00",
          "2024-04-30T00:00:00",
          "2024-05-01T00:00:00",
          "2024-05-02T00:00:00",
          "2024-05-03T00:00:00",
          "2024-05-06T00:00:00",
          "2024-05-07T00:00:00",
          "2024-05-08T00:00:00",
          "2024-05-09T00:00:00",
          "2024-05-10T00:00:00",
          "2024-05-13T00:00:00",
          "2024-05-14T00:00:00",
          "2024-05-15T00:00:00",
          "2024-05-16T00:00:00",
          "2024-05-17T00:00:00",
          "2024-05-20T00:00:00",
          "2024-05-21T00:00:00",
          "2024-05-22T00:00:00",
          "2024-05-23T00:00:00",
          "2024-05-24T00:00:00",
          "2024-05-28T00:00:00",
          "2024-05-29T00:00:00",
          "2024-05-30T00:00:00",
          "2024-05-31T00:00:00",
          "2024-06-03T00:00:00",
          "2024-06-04T00:00:00",
          "2024-06-05T00:00:00",
          "2024-06-06T00:00:00",
          "2024-06-07T00:00:00",
          "2024-06-10T00:00:00",
          "2024-06-12T00:00:00"
         ],
         "y": [
          45,
          45,
          45,
          45,
          45,
          45,
          45,
          45,
          45,
          45,
          45,
          45,
          45,
          45,
          45,
          45,
          45,
          45,
          45,
          45,
          45,
          45,
          45,
          45,
          45,
          45,
          45,
          45,
          45,
          45,
          45,
          45,
          45,
          45,
          45,
          45,
          45,
          45,
          45,
          45,
          45,
          45,
          45,
          45
         ],
         "yaxis": "y2"
        },
        {
         "line": {
          "color": "red",
          "dash": "dash",
          "width": 1.5
         },
         "mode": "lines",
         "name": "Overbought Line",
         "type": "scatter",
         "x": [
          "2024-04-10T00:00:00",
          "2024-04-11T00:00:00",
          "2024-04-12T00:00:00",
          "2024-04-15T00:00:00",
          "2024-04-16T00:00:00",
          "2024-04-17T00:00:00",
          "2024-04-18T00:00:00",
          "2024-04-19T00:00:00",
          "2024-04-22T00:00:00",
          "2024-04-23T00:00:00",
          "2024-04-24T00:00:00",
          "2024-04-25T00:00:00",
          "2024-04-26T00:00:00",
          "2024-04-29T00:00:00",
          "2024-04-30T00:00:00",
          "2024-05-01T00:00:00",
          "2024-05-02T00:00:00",
          "2024-05-03T00:00:00",
          "2024-05-06T00:00:00",
          "2024-05-07T00:00:00",
          "2024-05-08T00:00:00",
          "2024-05-09T00:00:00",
          "2024-05-10T00:00:00",
          "2024-05-13T00:00:00",
          "2024-05-14T00:00:00",
          "2024-05-15T00:00:00",
          "2024-05-16T00:00:00",
          "2024-05-17T00:00:00",
          "2024-05-20T00:00:00",
          "2024-05-21T00:00:00",
          "2024-05-22T00:00:00",
          "2024-05-23T00:00:00",
          "2024-05-24T00:00:00",
          "2024-05-28T00:00:00",
          "2024-05-29T00:00:00",
          "2024-05-30T00:00:00",
          "2024-05-31T00:00:00",
          "2024-06-03T00:00:00",
          "2024-06-04T00:00:00",
          "2024-06-05T00:00:00",
          "2024-06-06T00:00:00",
          "2024-06-07T00:00:00",
          "2024-06-10T00:00:00",
          "2024-06-12T00:00:00"
         ],
         "y": [
          70,
          70,
          70,
          70,
          70,
          70,
          70,
          70,
          70,
          70,
          70,
          70,
          70,
          70,
          70,
          70,
          70,
          70,
          70,
          70,
          70,
          70,
          70,
          70,
          70,
          70,
          70,
          70,
          70,
          70,
          70,
          70,
          70,
          70,
          70,
          70,
          70,
          70,
          70,
          70,
          70,
          70,
          70,
          70
         ],
         "yaxis": "y2"
        }
       ],
       "layout": {
        "height": 600,
        "margin": {
         "b": 50,
         "l": 50,
         "r": 50,
         "t": 50
        },
        "shapes": [
         {
          "line": {
           "color": "Red",
           "width": 1
          },
          "type": "line",
          "x0": "2024-04-13T00:00:00",
          "x1": "2024-04-13T00:00:00",
          "y0": 0,
          "y1": 1,
          "yref": "paper"
         },
         {
          "line": {
           "color": "Red",
           "width": 1
          },
          "type": "line",
          "x0": "2024-04-14T00:00:00",
          "x1": "2024-04-14T00:00:00",
          "y0": 0,
          "y1": 1,
          "yref": "paper"
         },
         {
          "line": {
           "color": "Red",
           "width": 1
          },
          "type": "line",
          "x0": "2024-04-20T00:00:00",
          "x1": "2024-04-20T00:00:00",
          "y0": 0,
          "y1": 1,
          "yref": "paper"
         },
         {
          "line": {
           "color": "Red",
           "width": 1
          },
          "type": "line",
          "x0": "2024-04-21T00:00:00",
          "x1": "2024-04-21T00:00:00",
          "y0": 0,
          "y1": 1,
          "yref": "paper"
         },
         {
          "line": {
           "color": "Red",
           "width": 1
          },
          "type": "line",
          "x0": "2024-04-27T00:00:00",
          "x1": "2024-04-27T00:00:00",
          "y0": 0,
          "y1": 1,
          "yref": "paper"
         },
         {
          "line": {
           "color": "Red",
           "width": 1
          },
          "type": "line",
          "x0": "2024-04-28T00:00:00",
          "x1": "2024-04-28T00:00:00",
          "y0": 0,
          "y1": 1,
          "yref": "paper"
         },
         {
          "line": {
           "color": "Red",
           "width": 1
          },
          "type": "line",
          "x0": "2024-05-04T00:00:00",
          "x1": "2024-05-04T00:00:00",
          "y0": 0,
          "y1": 1,
          "yref": "paper"
         },
         {
          "line": {
           "color": "Red",
           "width": 1
          },
          "type": "line",
          "x0": "2024-05-05T00:00:00",
          "x1": "2024-05-05T00:00:00",
          "y0": 0,
          "y1": 1,
          "yref": "paper"
         },
         {
          "line": {
           "color": "Red",
           "width": 1
          },
          "type": "line",
          "x0": "2024-05-11T00:00:00",
          "x1": "2024-05-11T00:00:00",
          "y0": 0,
          "y1": 1,
          "yref": "paper"
         },
         {
          "line": {
           "color": "Red",
           "width": 1
          },
          "type": "line",
          "x0": "2024-05-12T00:00:00",
          "x1": "2024-05-12T00:00:00",
          "y0": 0,
          "y1": 1,
          "yref": "paper"
         },
         {
          "line": {
           "color": "Red",
           "width": 1
          },
          "type": "line",
          "x0": "2024-05-18T00:00:00",
          "x1": "2024-05-18T00:00:00",
          "y0": 0,
          "y1": 1,
          "yref": "paper"
         },
         {
          "line": {
           "color": "Red",
           "width": 1
          },
          "type": "line",
          "x0": "2024-05-19T00:00:00",
          "x1": "2024-05-19T00:00:00",
          "y0": 0,
          "y1": 1,
          "yref": "paper"
         },
         {
          "line": {
           "color": "Red",
           "width": 1
          },
          "type": "line",
          "x0": "2024-05-25T00:00:00",
          "x1": "2024-05-25T00:00:00",
          "y0": 0,
          "y1": 1,
          "yref": "paper"
         },
         {
          "line": {
           "color": "Red",
           "width": 1
          },
          "type": "line",
          "x0": "2024-05-26T00:00:00",
          "x1": "2024-05-26T00:00:00",
          "y0": 0,
          "y1": 1,
          "yref": "paper"
         },
         {
          "line": {
           "color": "Red",
           "width": 1
          },
          "type": "line",
          "x0": "2024-05-27T00:00:00",
          "x1": "2024-05-27T00:00:00",
          "y0": 0,
          "y1": 1,
          "yref": "paper"
         },
         {
          "line": {
           "color": "Red",
           "width": 1
          },
          "type": "line",
          "x0": "2024-06-01T00:00:00",
          "x1": "2024-06-01T00:00:00",
          "y0": 0,
          "y1": 1,
          "yref": "paper"
         },
         {
          "line": {
           "color": "Red",
           "width": 1
          },
          "type": "line",
          "x0": "2024-06-02T00:00:00",
          "x1": "2024-06-02T00:00:00",
          "y0": 0,
          "y1": 1,
          "yref": "paper"
         },
         {
          "line": {
           "color": "Red",
           "width": 1
          },
          "type": "line",
          "x0": "2024-06-08T00:00:00",
          "x1": "2024-06-08T00:00:00",
          "y0": 0,
          "y1": 1,
          "yref": "paper"
         },
         {
          "line": {
           "color": "Red",
           "width": 1
          },
          "type": "line",
          "x0": "2024-06-09T00:00:00",
          "x1": "2024-06-09T00:00:00",
          "y0": 0,
          "y1": 1,
          "yref": "paper"
         },
         {
          "line": {
           "color": "Red",
           "width": 1
          },
          "type": "line",
          "x0": "2024-06-11T00:00:00",
          "x1": "2024-06-11T00:00:00",
          "y0": 0,
          "y1": 1,
          "yref": "paper"
         }
        ],
        "template": {
         "data": {
          "bar": [
           {
            "error_x": {
             "color": "#2a3f5f"
            },
            "error_y": {
             "color": "#2a3f5f"
            },
            "marker": {
             "line": {
              "color": "#E5ECF6",
              "width": 0.5
             },
             "pattern": {
              "fillmode": "overlay",
              "size": 10,
              "solidity": 0.2
             }
            },
            "type": "bar"
           }
          ],
          "barpolar": [
           {
            "marker": {
             "line": {
              "color": "#E5ECF6",
              "width": 0.5
             },
             "pattern": {
              "fillmode": "overlay",
              "size": 10,
              "solidity": 0.2
             }
            },
            "type": "barpolar"
           }
          ],
          "carpet": [
           {
            "aaxis": {
             "endlinecolor": "#2a3f5f",
             "gridcolor": "white",
             "linecolor": "white",
             "minorgridcolor": "white",
             "startlinecolor": "#2a3f5f"
            },
            "baxis": {
             "endlinecolor": "#2a3f5f",
             "gridcolor": "white",
             "linecolor": "white",
             "minorgridcolor": "white",
             "startlinecolor": "#2a3f5f"
            },
            "type": "carpet"
           }
          ],
          "choropleth": [
           {
            "colorbar": {
             "outlinewidth": 0,
             "ticks": ""
            },
            "type": "choropleth"
           }
          ],
          "contour": [
           {
            "colorbar": {
             "outlinewidth": 0,
             "ticks": ""
            },
            "colorscale": [
             [
              0,
              "#0d0887"
             ],
             [
              0.1111111111111111,
              "#46039f"
             ],
             [
              0.2222222222222222,
              "#7201a8"
             ],
             [
              0.3333333333333333,
              "#9c179e"
             ],
             [
              0.4444444444444444,
              "#bd3786"
             ],
             [
              0.5555555555555556,
              "#d8576b"
             ],
             [
              0.6666666666666666,
              "#ed7953"
             ],
             [
              0.7777777777777778,
              "#fb9f3a"
             ],
             [
              0.8888888888888888,
              "#fdca26"
             ],
             [
              1,
              "#f0f921"
             ]
            ],
            "type": "contour"
           }
          ],
          "contourcarpet": [
           {
            "colorbar": {
             "outlinewidth": 0,
             "ticks": ""
            },
            "type": "contourcarpet"
           }
          ],
          "heatmap": [
           {
            "colorbar": {
             "outlinewidth": 0,
             "ticks": ""
            },
            "colorscale": [
             [
              0,
              "#0d0887"
             ],
             [
              0.1111111111111111,
              "#46039f"
             ],
             [
              0.2222222222222222,
              "#7201a8"
             ],
             [
              0.3333333333333333,
              "#9c179e"
             ],
             [
              0.4444444444444444,
              "#bd3786"
             ],
             [
              0.5555555555555556,
              "#d8576b"
             ],
             [
              0.6666666666666666,
              "#ed7953"
             ],
             [
              0.7777777777777778,
              "#fb9f3a"
             ],
             [
              0.8888888888888888,
              "#fdca26"
             ],
             [
              1,
              "#f0f921"
             ]
            ],
            "type": "heatmap"
           }
          ],
          "heatmapgl": [
           {
            "colorbar": {
             "outlinewidth": 0,
             "ticks": ""
            },
            "colorscale": [
             [
              0,
              "#0d0887"
             ],
             [
              0.1111111111111111,
              "#46039f"
             ],
             [
              0.2222222222222222,
              "#7201a8"
             ],
             [
              0.3333333333333333,
              "#9c179e"
             ],
             [
              0.4444444444444444,
              "#bd3786"
             ],
             [
              0.5555555555555556,
              "#d8576b"
             ],
             [
              0.6666666666666666,
              "#ed7953"
             ],
             [
              0.7777777777777778,
              "#fb9f3a"
             ],
             [
              0.8888888888888888,
              "#fdca26"
             ],
             [
              1,
              "#f0f921"
             ]
            ],
            "type": "heatmapgl"
           }
          ],
          "histogram": [
           {
            "marker": {
             "pattern": {
              "fillmode": "overlay",
              "size": 10,
              "solidity": 0.2
             }
            },
            "type": "histogram"
           }
          ],
          "histogram2d": [
           {
            "colorbar": {
             "outlinewidth": 0,
             "ticks": ""
            },
            "colorscale": [
             [
              0,
              "#0d0887"
             ],
             [
              0.1111111111111111,
              "#46039f"
             ],
             [
              0.2222222222222222,
              "#7201a8"
             ],
             [
              0.3333333333333333,
              "#9c179e"
             ],
             [
              0.4444444444444444,
              "#bd3786"
             ],
             [
              0.5555555555555556,
              "#d8576b"
             ],
             [
              0.6666666666666666,
              "#ed7953"
             ],
             [
              0.7777777777777778,
              "#fb9f3a"
             ],
             [
              0.8888888888888888,
              "#fdca26"
             ],
             [
              1,
              "#f0f921"
             ]
            ],
            "type": "histogram2d"
           }
          ],
          "histogram2dcontour": [
           {
            "colorbar": {
             "outlinewidth": 0,
             "ticks": ""
            },
            "colorscale": [
             [
              0,
              "#0d0887"
             ],
             [
              0.1111111111111111,
              "#46039f"
             ],
             [
              0.2222222222222222,
              "#7201a8"
             ],
             [
              0.3333333333333333,
              "#9c179e"
             ],
             [
              0.4444444444444444,
              "#bd3786"
             ],
             [
              0.5555555555555556,
              "#d8576b"
             ],
             [
              0.6666666666666666,
              "#ed7953"
             ],
             [
              0.7777777777777778,
              "#fb9f3a"
             ],
             [
              0.8888888888888888,
              "#fdca26"
             ],
             [
              1,
              "#f0f921"
             ]
            ],
            "type": "histogram2dcontour"
           }
          ],
          "mesh3d": [
           {
            "colorbar": {
             "outlinewidth": 0,
             "ticks": ""
            },
            "type": "mesh3d"
           }
          ],
          "parcoords": [
           {
            "line": {
             "colorbar": {
              "outlinewidth": 0,
              "ticks": ""
             }
            },
            "type": "parcoords"
           }
          ],
          "pie": [
           {
            "automargin": true,
            "type": "pie"
           }
          ],
          "scatter": [
           {
            "fillpattern": {
             "fillmode": "overlay",
             "size": 10,
             "solidity": 0.2
            },
            "type": "scatter"
           }
          ],
          "scatter3d": [
           {
            "line": {
             "colorbar": {
              "outlinewidth": 0,
              "ticks": ""
             }
            },
            "marker": {
             "colorbar": {
              "outlinewidth": 0,
              "ticks": ""
             }
            },
            "type": "scatter3d"
           }
          ],
          "scattercarpet": [
           {
            "marker": {
             "colorbar": {
              "outlinewidth": 0,
              "ticks": ""
             }
            },
            "type": "scattercarpet"
           }
          ],
          "scattergeo": [
           {
            "marker": {
             "colorbar": {
              "outlinewidth": 0,
              "ticks": ""
             }
            },
            "type": "scattergeo"
           }
          ],
          "scattergl": [
           {
            "marker": {
             "colorbar": {
              "outlinewidth": 0,
              "ticks": ""
             }
            },
            "type": "scattergl"
           }
          ],
          "scattermapbox": [
           {
            "marker": {
             "colorbar": {
              "outlinewidth": 0,
              "ticks": ""
             }
            },
            "type": "scattermapbox"
           }
          ],
          "scatterpolar": [
           {
            "marker": {
             "colorbar": {
              "outlinewidth": 0,
              "ticks": ""
             }
            },
            "type": "scatterpolar"
           }
          ],
          "scatterpolargl": [
           {
            "marker": {
             "colorbar": {
              "outlinewidth": 0,
              "ticks": ""
             }
            },
            "type": "scatterpolargl"
           }
          ],
          "scatterternary": [
           {
            "marker": {
             "colorbar": {
              "outlinewidth": 0,
              "ticks": ""
             }
            },
            "type": "scatterternary"
           }
          ],
          "surface": [
           {
            "colorbar": {
             "outlinewidth": 0,
             "ticks": ""
            },
            "colorscale": [
             [
              0,
              "#0d0887"
             ],
             [
              0.1111111111111111,
              "#46039f"
             ],
             [
              0.2222222222222222,
              "#7201a8"
             ],
             [
              0.3333333333333333,
              "#9c179e"
             ],
             [
              0.4444444444444444,
              "#bd3786"
             ],
             [
              0.5555555555555556,
              "#d8576b"
             ],
             [
              0.6666666666666666,
              "#ed7953"
             ],
             [
              0.7777777777777778,
              "#fb9f3a"
             ],
             [
              0.8888888888888888,
              "#fdca26"
             ],
             [
              1,
              "#f0f921"
             ]
            ],
            "type": "surface"
           }
          ],
          "table": [
           {
            "cells": {
             "fill": {
              "color": "#EBF0F8"
             },
             "line": {
              "color": "white"
             }
            },
            "header": {
             "fill": {
              "color": "#C8D4E3"
             },
             "line": {
              "color": "white"
             }
            },
            "type": "table"
           }
          ]
         },
         "layout": {
          "annotationdefaults": {
           "arrowcolor": "#2a3f5f",
           "arrowhead": 0,
           "arrowwidth": 1
          },
          "autotypenumbers": "strict",
          "coloraxis": {
           "colorbar": {
            "outlinewidth": 0,
            "ticks": ""
           }
          },
          "colorscale": {
           "diverging": [
            [
             0,
             "#8e0152"
            ],
            [
             0.1,
             "#c51b7d"
            ],
            [
             0.2,
             "#de77ae"
            ],
            [
             0.3,
             "#f1b6da"
            ],
            [
             0.4,
             "#fde0ef"
            ],
            [
             0.5,
             "#f7f7f7"
            ],
            [
             0.6,
             "#e6f5d0"
            ],
            [
             0.7,
             "#b8e186"
            ],
            [
             0.8,
             "#7fbc41"
            ],
            [
             0.9,
             "#4d9221"
            ],
            [
             1,
             "#276419"
            ]
           ],
           "sequential": [
            [
             0,
             "#0d0887"
            ],
            [
             0.1111111111111111,
             "#46039f"
            ],
            [
             0.2222222222222222,
             "#7201a8"
            ],
            [
             0.3333333333333333,
             "#9c179e"
            ],
            [
             0.4444444444444444,
             "#bd3786"
            ],
            [
             0.5555555555555556,
             "#d8576b"
            ],
            [
             0.6666666666666666,
             "#ed7953"
            ],
            [
             0.7777777777777778,
             "#fb9f3a"
            ],
            [
             0.8888888888888888,
             "#fdca26"
            ],
            [
             1,
             "#f0f921"
            ]
           ],
           "sequentialminus": [
            [
             0,
             "#0d0887"
            ],
            [
             0.1111111111111111,
             "#46039f"
            ],
            [
             0.2222222222222222,
             "#7201a8"
            ],
            [
             0.3333333333333333,
             "#9c179e"
            ],
            [
             0.4444444444444444,
             "#bd3786"
            ],
            [
             0.5555555555555556,
             "#d8576b"
            ],
            [
             0.6666666666666666,
             "#ed7953"
            ],
            [
             0.7777777777777778,
             "#fb9f3a"
            ],
            [
             0.8888888888888888,
             "#fdca26"
            ],
            [
             1,
             "#f0f921"
            ]
           ]
          },
          "colorway": [
           "#636efa",
           "#EF553B",
           "#00cc96",
           "#ab63fa",
           "#FFA15A",
           "#19d3f3",
           "#FF6692",
           "#B6E880",
           "#FF97FF",
           "#FECB52"
          ],
          "font": {
           "color": "#2a3f5f"
          },
          "geo": {
           "bgcolor": "white",
           "lakecolor": "white",
           "landcolor": "#E5ECF6",
           "showlakes": true,
           "showland": true,
           "subunitcolor": "white"
          },
          "hoverlabel": {
           "align": "left"
          },
          "hovermode": "closest",
          "mapbox": {
           "style": "light"
          },
          "paper_bgcolor": "white",
          "plot_bgcolor": "#E5ECF6",
          "polar": {
           "angularaxis": {
            "gridcolor": "white",
            "linecolor": "white",
            "ticks": ""
           },
           "bgcolor": "#E5ECF6",
           "radialaxis": {
            "gridcolor": "white",
            "linecolor": "white",
            "ticks": ""
           }
          },
          "scene": {
           "xaxis": {
            "backgroundcolor": "#E5ECF6",
            "gridcolor": "white",
            "gridwidth": 2,
            "linecolor": "white",
            "showbackground": true,
            "ticks": "",
            "zerolinecolor": "white"
           },
           "yaxis": {
            "backgroundcolor": "#E5ECF6",
            "gridcolor": "white",
            "gridwidth": 2,
            "linecolor": "white",
            "showbackground": true,
            "ticks": "",
            "zerolinecolor": "white"
           },
           "zaxis": {
            "backgroundcolor": "#E5ECF6",
            "gridcolor": "white",
            "gridwidth": 2,
            "linecolor": "white",
            "showbackground": true,
            "ticks": "",
            "zerolinecolor": "white"
           }
          },
          "shapedefaults": {
           "line": {
            "color": "#2a3f5f"
           }
          },
          "ternary": {
           "aaxis": {
            "gridcolor": "white",
            "linecolor": "white",
            "ticks": ""
           },
           "baxis": {
            "gridcolor": "white",
            "linecolor": "white",
            "ticks": ""
           },
           "bgcolor": "#E5ECF6",
           "caxis": {
            "gridcolor": "white",
            "linecolor": "white",
            "ticks": ""
           }
          },
          "title": {
           "x": 0.05
          },
          "xaxis": {
           "automargin": true,
           "gridcolor": "white",
           "linecolor": "white",
           "ticks": "",
           "title": {
            "standoff": 15
           },
           "zerolinecolor": "white",
           "zerolinewidth": 2
          },
          "yaxis": {
           "automargin": true,
           "gridcolor": "white",
           "linecolor": "white",
           "ticks": "",
           "title": {
            "standoff": 15
           },
           "zerolinecolor": "white",
           "zerolinewidth": 2
          }
         }
        },
        "title": {
         "text": "Price Chart with RSI"
        },
        "width": 1350,
        "xaxis": {
         "gridcolor": "LightGrey",
         "gridwidth": 1,
         "showgrid": true,
         "title": {
          "text": "Date"
         }
        },
        "xaxis2": {
         "gridcolor": "LightGrey",
         "gridwidth": 1,
         "showgrid": true
        },
        "yaxis": {
         "showgrid": false,
         "title": {
          "text": "Price"
         }
        },
        "yaxis2": {
         "overlaying": "y",
         "range": [
          10,
          90
         ],
         "side": "right",
         "title": {
          "text": "RSI Value"
         }
        }
       }
      }
     },
     "metadata": {},
     "output_type": "display_data"
    }
   ],
   "source": [
    "# 调用函数绘制图表\n",
    "def plot_price_with_rsi(data: pd.DataFrame, period: int, oversold_level: int = 45, overbought_level: int = 70, embedding: bool = True):\n",
    "    \"\"\"\n",
    "    使用 Plotly 绘制价格和 RSI 指标图表。\n",
    "\n",
    "    RSI (Relative Strength Index) 是一种动量振荡器，旨在衡量价格变动的速度和变化，用于识别超买和超卖条件。\n",
    "\n",
    "    更多信息请参阅 [RSI](https://www.investopedia.com/terms/r/rsi.asp)\n",
    "\n",
    "    参数:\n",
    "    data (pd.DataFrame): 包含 'Open', 'High', 'Low', 'Close' 列的价格数据。\n",
    "    period (int): 计算 RSI 的周期。\n",
    "    oversold_level (int, optional): 设定的超卖水平线。默认值为 45。\n",
    "    overbought_level (int, optional): 设定的超买水平线。默认值为 70。\n",
    "    embedding (bool, optional): 决定是否将 RSI 嵌入在价格图表中。如果为 True，则嵌入。如果为 False，则单独绘制 RSI 图表。默认值为 True。\n",
    "\n",
    "    返回:\n",
    "    None\n",
    "    \"\"\"\n",
    "    if embedding:\n",
    "        plot_price_with_rsi_embedding(data, period, oversold_level, overbought_level)\n",
    "    else:\n",
    "        plot_price_with_rsi_seperate(data, period, oversold_level, overbought_level)\n",
    "\n",
    "# 调用函数绘制图表\n",
    "plot_price_with_rsi(daily_data, 14, embedding=True)"
   ]
  },
  {
   "cell_type": "code",
   "execution_count": null,
   "metadata": {},
   "outputs": [],
   "source": []
  }
 ],
 "metadata": {
  "kernelspec": {
   "display_name": "Python 3",
   "language": "python",
   "name": "python3"
  },
  "language_info": {
   "codemirror_mode": {
    "name": "ipython",
    "version": 3
   },
   "file_extension": ".py",
   "mimetype": "text/x-python",
   "name": "python",
   "nbconvert_exporter": "python",
   "pygments_lexer": "ipython3",
   "version": "3.11.4"
  }
 },
 "nbformat": 4,
 "nbformat_minor": 2
}
