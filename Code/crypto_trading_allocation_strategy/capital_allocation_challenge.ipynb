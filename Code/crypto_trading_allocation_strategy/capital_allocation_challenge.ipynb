{
 "cells": [
  {
   "cell_type": "markdown",
   "id": "b754a915",
   "metadata": {},
   "source": [
    "# Capital Allocation Model - Data Science Coding Challenge\n",
    "\n",
    "## Background\n",
    "\n",
    "Our trading strategy operates across various trading instruments. Among those trading instruments, the cryptocurrency futures market is a significant component. For this test, assume that our strategy is applied to four different cryptocurrencies. You will be provided with profit and loss (PnL) data for each of these cryptocurrencies.\n",
    "\n",
    "## Objective\n",
    "\n",
    "Develop a capital allocation strategy (e.g., a neural network, a statistical approach, etc.) that optimally allocate capital among different cryptocurrencies to maximizes the total returns.\n"
   ]
  },
  {
   "cell_type": "markdown",
   "id": "4d9ce5f2",
   "metadata": {},
   "source": [
    "## Instructions\n",
    "\n",
    "1. **Data Description**:\n",
    "\n",
    "   - Each dataset `{crypto}.csv` contains hourly PnL data for a cryptocurrency.\n",
    "   - Columns in the dataset:\n",
    "     - `ts_hour`: Timestamp of the PnL data, incremented by one hour.\n",
    "     - `pnl`: PnL of our strategy for the cryptocurrency.\n",
    "\n",
    "2. **Your Task**:\n",
    "\n",
    "   - Develop a strategy to allocate capital among the four cryptocurrencies to maximize cumulative returns.\n",
    "\n",
    "   - Possible allocations for an hour include:\n",
    "     - Equal allocation (e.g., 25% each).\n",
    "     - Biased allocation (e.g., 80% to one cryptocurrency, 20% distributed among others).\n",
    "     - Zero allocation to any or all cryptocurrencies.\n",
    "\n",
    "3. **Assumptions**:\n",
    "\n",
    "   Due to the time limit to solve the test, let's simplify the problem by assuming:\n",
    "\n",
    "   - You can rebalance your allocations as frequently as you wish with no additional trading cost.\n",
    "   - Allocation changes are immediate with no delay.\n",
    "\n",
    "4. **Deliverables**:\n",
    "\n",
    "   - A Jupyter notebook containing:\n",
    "     - Your capital allocation strategy.\n",
    "     - A brief explanation of your approach.\n",
    "   - A `requirements.txt` file listing all the necessary packages to run your notebook.\n",
    "   - Other necessary files such as model weights, etc.\n",
    "\n",
    "5. **Evaluation Criteria**:\n",
    "\n",
    "   We will evaluate the effectiveness of your model using a separate test dataset. Your strategy will be evaluated based on the following criteria:\n",
    "\n",
    "   - **Accuracy**: How well does your strategy maximize returns?\n",
    "   - **Clarity**: Is your code well-documented and your approach clearly explained?\n",
    "\n",
    "6. **Testing Your Results**:\n",
    "   - You should provide a function `generate_allocation_prediction` that takes a list of historical PnL data of the four cryptocurrencies as input and outputs the allocation for the next hour.\n",
    "   - We will use the `evaluate_strategy` function that is provided to you in the notebook to test the effectiveness of your strategy on a separate test dataset."
   ]
  },
  {
   "cell_type": "markdown",
   "id": "1336226a",
   "metadata": {},
   "source": [
    "## Implementation Constraints\n",
    "\n",
    "This coding challenge should be completed within 3 working days (24 working hours) from the time you receive it. If you are working on it part-time, it should be completed within 7 working days.\n",
    "\n",
    "Please note that the time constraint is not a strict deadline. You do not need to stress about submitting at the last minute. However, we expect you to complete the challenge within this approximate timeframe.\n",
    "\n",
    "Once you have completed the challenge, please send your submission to `codingchallenges@eonlabs.com`.\n",
    "\n",
    "### Email Submission Guidelines\n",
    "\n",
    "- **Subject Line**: `Data Scientist Coding Challenge Submission - [Your Full Name]`\n",
    "- **Email Body**:\n",
    "  - Attach a zip file containing all your deliverables (Jupyter notebook, `requirements.txt`, and any other necessary files). Please ensure the zip file is named as `[Your Full Name]_submission.zip`.\n",
    "\n",
    "If you have any questions, please feel free to reach out to `codingchallenges+questions@eonlabs.com`."
   ]
  },
  {
   "cell_type": "markdown",
   "id": "feb65228",
   "metadata": {},
   "source": [
    "\n",
    "## Data Loading Example\n",
    "Here is an example of how to read the data:"
   ]
  },
  {
   "cell_type": "code",
   "execution_count": null,
   "id": "29e419ab",
   "metadata": {},
   "outputs": [],
   "source": [
    "import pandas as pd\n",
    "\n",
    "cryptos = [\"BTC\", \"ETH\", \"ADA\", \"DOGE\"]\n",
    "# Read the CSV file into a pandas DataFrame\n",
    "pnl_df_list = [pd.read_csv(f'data/{crypto}.csv') for crypto in cryptos]\n",
    "\n",
    "# Print the head of each DataFrame to verify the data\n",
    "for crypto, df in zip(cryptos, pnl_df_list):\n",
    "    print(df.head())\n",
    "    print(\"\\n\")"
   ]
  },
  {
   "cell_type": "markdown",
   "id": "f2310383",
   "metadata": {},
   "source": [
    "## Example Allocation Function\n",
    "Here is an example template for the allocation function:"
   ]
  },
  {
   "cell_type": "code",
   "execution_count": 3,
   "id": "fa6f2660",
   "metadata": {},
   "outputs": [],
   "source": [
    "def generate_allocation_prediction(pnl_df_list):\n",
    "    \"\"\" Generate allocation plan for the future hour, based on the current and historical pnl data \"\"\"\n",
    "    # In this example, we assume equal allocation to each of the cryptocurrencies\n",
    "    allocation = [1/len(pnl_df_list)] * len(pnl_df_list)\n",
    "    return allocation\n"
   ]
  },
  {
   "cell_type": "markdown",
   "id": "6d0c1591",
   "metadata": {},
   "source": [
    "## Evaluation Criteria\n",
    "Your `generate_allocation_prediction` function will be evaluated using the following method:\n",
    "\n",
    "1. The function's input is a list of DataFrames, each containing historical PnL data for a specific cryptocurrency.\n",
    "2. The function should return a list of allocation percentages for each cryptocurrency.\n",
    "3. The sum of the allocation percentages should not exceed 100%.\n",
    "4. The function will be tested using the `evaluate_strategy` function with our interval data as shown below.\n"
   ]
  },
  {
   "cell_type": "markdown",
   "id": "944e8566",
   "metadata": {},
   "source": [
    "## Strategy Evaluation\n",
    "\n"
   ]
  },
  {
   "cell_type": "code",
   "execution_count": null,
   "id": "cc380526",
   "metadata": {},
   "outputs": [],
   "source": [
    "def evaluate_strategy(pnl_df_list):\n",
    "    # Initialize cumulative returns\n",
    "    cumulative_return = 1\n",
    "\n",
    "    # Generate the date range for the evaluation period\n",
    "    date_range = pd.date_range(start='2023-06-01 00:00:00', end='2024-06-01 00:00:00', freq='H')\n",
    "    date_strings = date_range.strftime('%Y-%m-%dT%H:%M:%S').tolist()\n",
    "    \n",
    "    # Preprocess data to avoid filtering in the loop\n",
    "    pnl_dict = {crypto: df.set_index('ts_hour')['pnl'] for crypto, df in zip(cryptos, pnl_df_list)}\n",
    "\n",
    "    for i in range(len(date_strings) - 1):\n",
    "        date_string = date_strings[i]\n",
    "        next_date_string = date_strings[i + 1]\n",
    "        \n",
    "        # Prepare data for the current date\n",
    "        pnl_df_list_for_date = [pnl_dict[crypto].loc[:date_string] for crypto in cryptos]\n",
    "        \n",
    "        # Get the next hour PnL values\n",
    "        next_hour_pnl_list = [pnl_dict[crypto].get(next_date_string, 0) for crypto in cryptos]\n",
    "        \n",
    "        # Get the allocation predictions\n",
    "        allocation = generate_allocation_prediction(pnl_df_list_for_date)\n",
    "        \n",
    "        if len(allocation) != len(pnl_df_list):\n",
    "            raise ValueError(\"Allocation length does not match the number of cryptocurrencies\")\n",
    "        if sum(allocation) > 1:\n",
    "            raise ValueError(\"Sum of allocation is greater than 1\")\n",
    "\n",
    "        # Calculate period return\n",
    "        period_return = sum(allocation[i] * next_hour_pnl_list[i] for i in range(len(allocation)))\n",
    "        cumulative_return = cumulative_return * (1 + period_return)\n",
    "    \n",
    "    return cumulative_return\n",
    "    \n",
    "\n",
    "cryptos = [\"BTC\", \"ETH\", \"ADA\", \"DOGE\"]\n",
    "pnl_df_list = [pd.read_csv(f'test_data/{crypto}.csv') for crypto in cryptos]\n",
    "cumulative_return = evaluate_strategy(pnl_df_list)\n",
    "print(cumulative_return)"
   ]
  },
  {
   "cell_type": "markdown",
   "id": "5499751b",
   "metadata": {},
   "source": [
    "## Start your work here\n",
    "You can start by exploring the data and then proceed to develop your capital allocation strategy. We wish you the best of luck and look forward to seeing your innovative solutions!"
   ]
  }
 ],
 "metadata": {
  "kernelspec": {
   "display_name": "tf25",
   "language": "python",
   "name": "python3"
  },
  "language_info": {
   "codemirror_mode": {
    "name": "ipython",
    "version": 3
   },
   "file_extension": ".py",
   "mimetype": "text/x-python",
   "name": "python",
   "nbconvert_exporter": "python",
   "pygments_lexer": "ipython3",
   "version": "3.9.12"
  }
 },
 "nbformat": 4,
 "nbformat_minor": 5
}
