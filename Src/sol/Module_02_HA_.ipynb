{
  "cells": [
    {
      "cell_type": "code",
      "execution_count": null,
      "metadata": {
        "id": "Uxqs72pqcBGc"
      },
      "outputs": [],
      "source": [
        "# IMPORTS\n",
        "import numpy as np\n",
        "import pandas as pd\n",
        "\n",
        "#Fin Data Sources\n",
        "import yfinance as yf\n",
        "import pandas_datareader as pdr\n",
        "\n",
        "#Data viz\n",
        "import plotly.graph_objs as go\n",
        "import plotly.express as px\n",
        "\n",
        "import time\n",
        "from datetime import date"
      ]
    },
    {
      "cell_type": "code",
      "execution_count": null,
      "metadata": {
        "colab": {
          "base_uri": "https://localhost:8080/"
        },
        "id": "kXq8d-BqcLGV",
        "outputId": "ec2bb51f-6fa9-448a-d552-49c466fab297"
      },
      "outputs": [
        {
          "output_type": "stream",
          "name": "stdout",
          "text": [
            "Year = 2024; month= 5; day=1\n",
            "Period for indexes: 1924-05-01 to 2024-05-01 \n"
          ]
        }
      ],
      "source": [
        "end = date.today()\n",
        "print(f'Year = {end.year}; month= {end.month}; day={end.day}')\n",
        "\n",
        "start = date(year=end.year-100, month=end.month, day=end.day)\n",
        "print(f'Period for indexes: {start} to {end} ')"
      ]
    },
    {
      "cell_type": "markdown",
      "metadata": {
        "id": "AJmjEd9vcPMH"
      },
      "source": [
        "#Answers\n",
        "* A1: 286\n",
        "* A2: 28\n",
        "* A3: 47\n",
        "* A4: 1"
      ]
    },
    {
      "cell_type": "markdown",
      "metadata": {
        "id": "bVj2gx35caUf"
      },
      "source": [
        "# Q1: IPOs: download and process the fillings"
      ]
    },
    {
      "cell_type": "code",
      "execution_count": null,
      "metadata": {
        "id": "oj0cGhfgclqn"
      },
      "outputs": [],
      "source": [
        "# https://www.dfinsolutions.com/knowledge-hub/thought-leadership/knowledge-resources/what-s-1-ipo-filing#:~:text=An%20S%2D1%20Form%20is,the%20company%20with%20the%20SEC.\n",
        "\n",
        "# Q1: Data processing from Web.\n",
        "# Use the [Code Snippet 1] example to get the data from Web:  https://stockanalysis.com/ipos/filings/\n",
        "\n",
        "# Convert 'Filing Date' to datetime(),\n",
        "# Shares Offered to float64 (if '-': populate with NaNs)\n",
        "# Define a new field 'Avg_price', which equals to NaN (if no price specified), to price (if 1 number), or to the average of 2 prices (if 2 numbers in the range)\n",
        "# You may be inspired by the function extract_numbers() in [Code Snippet 4], or you can write your own function to \"parse\" a string\n",
        "\n",
        "# Define column \"Shares_offered_value\", which equals to \"Shares Offered\" * \"Avg_price\" (when both columns are defined, otherwise it's NaN)\n",
        "\n",
        "# Find the total SUM in $m (closest INTEGER number) for all Fillings during 2023, which happened on Fridays (.dt.dayofweek()==4)\n",
        "\n",
        "\n",
        "import pandas as pd\n",
        "import requests\n",
        "\n",
        "headers = {\n",
        "    'User-Agent': 'Mozilla/5.0 (Windows NT 10.0; Win64; x64) AppleWebKit/537.36 (KHTML, like Gecko) Chrome/58.0.3029.110 Safari/537.3',\n",
        "}\n",
        "\n",
        "url = \"https://stockanalysis.com/ipos/filings/\"\n",
        "response = requests.get(url, headers=headers)\n",
        "\n",
        "filings_dfs = pd.read_html(response.text)"
      ]
    },
    {
      "cell_type": "code",
      "execution_count": null,
      "metadata": {
        "id": "79ate6c3J98H"
      },
      "outputs": [],
      "source": [
        "df = filings_dfs[0]"
      ]
    },
    {
      "cell_type": "code",
      "execution_count": null,
      "metadata": {
        "colab": {
          "base_uri": "https://localhost:8080/",
          "height": 424
        },
        "id": "m7Tb3Td2Kbsk",
        "outputId": "407c75c2-d1a7-4d7f-d45c-d21e739f9b14"
      },
      "outputs": [
        {
          "output_type": "execute_result",
          "data": {
            "text/plain": [
              "      Filing Date Symbol                           Company Name  \\\n",
              "0    Apr 26, 2024   EURK                Eureka Acquisition Corp   \n",
              "1    Apr 26, 2024    HDL    Super Hi International Holding Ltd.   \n",
              "2    Apr 22, 2024   DRJT                        Derun Group Inc   \n",
              "3    Apr 19, 2024   GPAT           GP-Act III Acquisition Corp.   \n",
              "4    Apr 16, 2024   JLJT                  Jialiang Holdings Ltd   \n",
              "..            ...    ...                                    ...   \n",
              "321  Jan 21, 2020   GOXS                            Goxus, Inc.   \n",
              "322  Jan 21, 2020   UTXO                 UTXO Acquisition, Inc.   \n",
              "323   Dec 9, 2019   LOHA                           Loha Co. Ltd   \n",
              "324   Oct 4, 2019   ZGHB  China Eco-Materials Group Co. Limited   \n",
              "325  Dec 27, 2018   FBOX              Fit Boxx Holdings Limited   \n",
              "\n",
              "        Price Range Shares Offered  \n",
              "0            $10.00        5000000  \n",
              "1                 -              -  \n",
              "2             $5.00              -  \n",
              "3            $10.00       25000000  \n",
              "4             $5.00              -  \n",
              "..              ...            ...  \n",
              "321  $8.00 - $10.00        1500000  \n",
              "322          $10.00        5000000  \n",
              "323  $8.00 - $10.00        2500000  \n",
              "324           $4.00        4300000  \n",
              "325   $5.00 - $6.50        2000000  \n",
              "\n",
              "[326 rows x 5 columns]"
            ],
            "text/html": [
              "\n",
              "  <div id=\"df-3dc86db0-4191-4840-97c6-19488e06e6ca\" class=\"colab-df-container\">\n",
              "    <div>\n",
              "<style scoped>\n",
              "    .dataframe tbody tr th:only-of-type {\n",
              "        vertical-align: middle;\n",
              "    }\n",
              "\n",
              "    .dataframe tbody tr th {\n",
              "        vertical-align: top;\n",
              "    }\n",
              "\n",
              "    .dataframe thead th {\n",
              "        text-align: right;\n",
              "    }\n",
              "</style>\n",
              "<table border=\"1\" class=\"dataframe\">\n",
              "  <thead>\n",
              "    <tr style=\"text-align: right;\">\n",
              "      <th></th>\n",
              "      <th>Filing Date</th>\n",
              "      <th>Symbol</th>\n",
              "      <th>Company Name</th>\n",
              "      <th>Price Range</th>\n",
              "      <th>Shares Offered</th>\n",
              "    </tr>\n",
              "  </thead>\n",
              "  <tbody>\n",
              "    <tr>\n",
              "      <th>0</th>\n",
              "      <td>Apr 26, 2024</td>\n",
              "      <td>EURK</td>\n",
              "      <td>Eureka Acquisition Corp</td>\n",
              "      <td>$10.00</td>\n",
              "      <td>5000000</td>\n",
              "    </tr>\n",
              "    <tr>\n",
              "      <th>1</th>\n",
              "      <td>Apr 26, 2024</td>\n",
              "      <td>HDL</td>\n",
              "      <td>Super Hi International Holding Ltd.</td>\n",
              "      <td>-</td>\n",
              "      <td>-</td>\n",
              "    </tr>\n",
              "    <tr>\n",
              "      <th>2</th>\n",
              "      <td>Apr 22, 2024</td>\n",
              "      <td>DRJT</td>\n",
              "      <td>Derun Group Inc</td>\n",
              "      <td>$5.00</td>\n",
              "      <td>-</td>\n",
              "    </tr>\n",
              "    <tr>\n",
              "      <th>3</th>\n",
              "      <td>Apr 19, 2024</td>\n",
              "      <td>GPAT</td>\n",
              "      <td>GP-Act III Acquisition Corp.</td>\n",
              "      <td>$10.00</td>\n",
              "      <td>25000000</td>\n",
              "    </tr>\n",
              "    <tr>\n",
              "      <th>4</th>\n",
              "      <td>Apr 16, 2024</td>\n",
              "      <td>JLJT</td>\n",
              "      <td>Jialiang Holdings Ltd</td>\n",
              "      <td>$5.00</td>\n",
              "      <td>-</td>\n",
              "    </tr>\n",
              "    <tr>\n",
              "      <th>...</th>\n",
              "      <td>...</td>\n",
              "      <td>...</td>\n",
              "      <td>...</td>\n",
              "      <td>...</td>\n",
              "      <td>...</td>\n",
              "    </tr>\n",
              "    <tr>\n",
              "      <th>321</th>\n",
              "      <td>Jan 21, 2020</td>\n",
              "      <td>GOXS</td>\n",
              "      <td>Goxus, Inc.</td>\n",
              "      <td>$8.00 - $10.00</td>\n",
              "      <td>1500000</td>\n",
              "    </tr>\n",
              "    <tr>\n",
              "      <th>322</th>\n",
              "      <td>Jan 21, 2020</td>\n",
              "      <td>UTXO</td>\n",
              "      <td>UTXO Acquisition, Inc.</td>\n",
              "      <td>$10.00</td>\n",
              "      <td>5000000</td>\n",
              "    </tr>\n",
              "    <tr>\n",
              "      <th>323</th>\n",
              "      <td>Dec 9, 2019</td>\n",
              "      <td>LOHA</td>\n",
              "      <td>Loha Co. Ltd</td>\n",
              "      <td>$8.00 - $10.00</td>\n",
              "      <td>2500000</td>\n",
              "    </tr>\n",
              "    <tr>\n",
              "      <th>324</th>\n",
              "      <td>Oct 4, 2019</td>\n",
              "      <td>ZGHB</td>\n",
              "      <td>China Eco-Materials Group Co. Limited</td>\n",
              "      <td>$4.00</td>\n",
              "      <td>4300000</td>\n",
              "    </tr>\n",
              "    <tr>\n",
              "      <th>325</th>\n",
              "      <td>Dec 27, 2018</td>\n",
              "      <td>FBOX</td>\n",
              "      <td>Fit Boxx Holdings Limited</td>\n",
              "      <td>$5.00 - $6.50</td>\n",
              "      <td>2000000</td>\n",
              "    </tr>\n",
              "  </tbody>\n",
              "</table>\n",
              "<p>326 rows × 5 columns</p>\n",
              "</div>\n",
              "    <div class=\"colab-df-buttons\">\n",
              "\n",
              "  <div class=\"colab-df-container\">\n",
              "    <button class=\"colab-df-convert\" onclick=\"convertToInteractive('df-3dc86db0-4191-4840-97c6-19488e06e6ca')\"\n",
              "            title=\"Convert this dataframe to an interactive table.\"\n",
              "            style=\"display:none;\">\n",
              "\n",
              "  <svg xmlns=\"http://www.w3.org/2000/svg\" height=\"24px\" viewBox=\"0 -960 960 960\">\n",
              "    <path d=\"M120-120v-720h720v720H120Zm60-500h600v-160H180v160Zm220 220h160v-160H400v160Zm0 220h160v-160H400v160ZM180-400h160v-160H180v160Zm440 0h160v-160H620v160ZM180-180h160v-160H180v160Zm440 0h160v-160H620v160Z\"/>\n",
              "  </svg>\n",
              "    </button>\n",
              "\n",
              "  <style>\n",
              "    .colab-df-container {\n",
              "      display:flex;\n",
              "      gap: 12px;\n",
              "    }\n",
              "\n",
              "    .colab-df-convert {\n",
              "      background-color: #E8F0FE;\n",
              "      border: none;\n",
              "      border-radius: 50%;\n",
              "      cursor: pointer;\n",
              "      display: none;\n",
              "      fill: #1967D2;\n",
              "      height: 32px;\n",
              "      padding: 0 0 0 0;\n",
              "      width: 32px;\n",
              "    }\n",
              "\n",
              "    .colab-df-convert:hover {\n",
              "      background-color: #E2EBFA;\n",
              "      box-shadow: 0px 1px 2px rgba(60, 64, 67, 0.3), 0px 1px 3px 1px rgba(60, 64, 67, 0.15);\n",
              "      fill: #174EA6;\n",
              "    }\n",
              "\n",
              "    .colab-df-buttons div {\n",
              "      margin-bottom: 4px;\n",
              "    }\n",
              "\n",
              "    [theme=dark] .colab-df-convert {\n",
              "      background-color: #3B4455;\n",
              "      fill: #D2E3FC;\n",
              "    }\n",
              "\n",
              "    [theme=dark] .colab-df-convert:hover {\n",
              "      background-color: #434B5C;\n",
              "      box-shadow: 0px 1px 3px 1px rgba(0, 0, 0, 0.15);\n",
              "      filter: drop-shadow(0px 1px 2px rgba(0, 0, 0, 0.3));\n",
              "      fill: #FFFFFF;\n",
              "    }\n",
              "  </style>\n",
              "\n",
              "    <script>\n",
              "      const buttonEl =\n",
              "        document.querySelector('#df-3dc86db0-4191-4840-97c6-19488e06e6ca button.colab-df-convert');\n",
              "      buttonEl.style.display =\n",
              "        google.colab.kernel.accessAllowed ? 'block' : 'none';\n",
              "\n",
              "      async function convertToInteractive(key) {\n",
              "        const element = document.querySelector('#df-3dc86db0-4191-4840-97c6-19488e06e6ca');\n",
              "        const dataTable =\n",
              "          await google.colab.kernel.invokeFunction('convertToInteractive',\n",
              "                                                    [key], {});\n",
              "        if (!dataTable) return;\n",
              "\n",
              "        const docLinkHtml = 'Like what you see? Visit the ' +\n",
              "          '<a target=\"_blank\" href=https://colab.research.google.com/notebooks/data_table.ipynb>data table notebook</a>'\n",
              "          + ' to learn more about interactive tables.';\n",
              "        element.innerHTML = '';\n",
              "        dataTable['output_type'] = 'display_data';\n",
              "        await google.colab.output.renderOutput(dataTable, element);\n",
              "        const docLink = document.createElement('div');\n",
              "        docLink.innerHTML = docLinkHtml;\n",
              "        element.appendChild(docLink);\n",
              "      }\n",
              "    </script>\n",
              "  </div>\n",
              "\n",
              "\n",
              "<div id=\"df-45c4b3e8-c17d-4b69-a003-6b2a3d6ecba4\">\n",
              "  <button class=\"colab-df-quickchart\" onclick=\"quickchart('df-45c4b3e8-c17d-4b69-a003-6b2a3d6ecba4')\"\n",
              "            title=\"Suggest charts\"\n",
              "            style=\"display:none;\">\n",
              "\n",
              "<svg xmlns=\"http://www.w3.org/2000/svg\" height=\"24px\"viewBox=\"0 0 24 24\"\n",
              "     width=\"24px\">\n",
              "    <g>\n",
              "        <path d=\"M19 3H5c-1.1 0-2 .9-2 2v14c0 1.1.9 2 2 2h14c1.1 0 2-.9 2-2V5c0-1.1-.9-2-2-2zM9 17H7v-7h2v7zm4 0h-2V7h2v10zm4 0h-2v-4h2v4z\"/>\n",
              "    </g>\n",
              "</svg>\n",
              "  </button>\n",
              "\n",
              "<style>\n",
              "  .colab-df-quickchart {\n",
              "      --bg-color: #E8F0FE;\n",
              "      --fill-color: #1967D2;\n",
              "      --hover-bg-color: #E2EBFA;\n",
              "      --hover-fill-color: #174EA6;\n",
              "      --disabled-fill-color: #AAA;\n",
              "      --disabled-bg-color: #DDD;\n",
              "  }\n",
              "\n",
              "  [theme=dark] .colab-df-quickchart {\n",
              "      --bg-color: #3B4455;\n",
              "      --fill-color: #D2E3FC;\n",
              "      --hover-bg-color: #434B5C;\n",
              "      --hover-fill-color: #FFFFFF;\n",
              "      --disabled-bg-color: #3B4455;\n",
              "      --disabled-fill-color: #666;\n",
              "  }\n",
              "\n",
              "  .colab-df-quickchart {\n",
              "    background-color: var(--bg-color);\n",
              "    border: none;\n",
              "    border-radius: 50%;\n",
              "    cursor: pointer;\n",
              "    display: none;\n",
              "    fill: var(--fill-color);\n",
              "    height: 32px;\n",
              "    padding: 0;\n",
              "    width: 32px;\n",
              "  }\n",
              "\n",
              "  .colab-df-quickchart:hover {\n",
              "    background-color: var(--hover-bg-color);\n",
              "    box-shadow: 0 1px 2px rgba(60, 64, 67, 0.3), 0 1px 3px 1px rgba(60, 64, 67, 0.15);\n",
              "    fill: var(--button-hover-fill-color);\n",
              "  }\n",
              "\n",
              "  .colab-df-quickchart-complete:disabled,\n",
              "  .colab-df-quickchart-complete:disabled:hover {\n",
              "    background-color: var(--disabled-bg-color);\n",
              "    fill: var(--disabled-fill-color);\n",
              "    box-shadow: none;\n",
              "  }\n",
              "\n",
              "  .colab-df-spinner {\n",
              "    border: 2px solid var(--fill-color);\n",
              "    border-color: transparent;\n",
              "    border-bottom-color: var(--fill-color);\n",
              "    animation:\n",
              "      spin 1s steps(1) infinite;\n",
              "  }\n",
              "\n",
              "  @keyframes spin {\n",
              "    0% {\n",
              "      border-color: transparent;\n",
              "      border-bottom-color: var(--fill-color);\n",
              "      border-left-color: var(--fill-color);\n",
              "    }\n",
              "    20% {\n",
              "      border-color: transparent;\n",
              "      border-left-color: var(--fill-color);\n",
              "      border-top-color: var(--fill-color);\n",
              "    }\n",
              "    30% {\n",
              "      border-color: transparent;\n",
              "      border-left-color: var(--fill-color);\n",
              "      border-top-color: var(--fill-color);\n",
              "      border-right-color: var(--fill-color);\n",
              "    }\n",
              "    40% {\n",
              "      border-color: transparent;\n",
              "      border-right-color: var(--fill-color);\n",
              "      border-top-color: var(--fill-color);\n",
              "    }\n",
              "    60% {\n",
              "      border-color: transparent;\n",
              "      border-right-color: var(--fill-color);\n",
              "    }\n",
              "    80% {\n",
              "      border-color: transparent;\n",
              "      border-right-color: var(--fill-color);\n",
              "      border-bottom-color: var(--fill-color);\n",
              "    }\n",
              "    90% {\n",
              "      border-color: transparent;\n",
              "      border-bottom-color: var(--fill-color);\n",
              "    }\n",
              "  }\n",
              "</style>\n",
              "\n",
              "  <script>\n",
              "    async function quickchart(key) {\n",
              "      const quickchartButtonEl =\n",
              "        document.querySelector('#' + key + ' button');\n",
              "      quickchartButtonEl.disabled = true;  // To prevent multiple clicks.\n",
              "      quickchartButtonEl.classList.add('colab-df-spinner');\n",
              "      try {\n",
              "        const charts = await google.colab.kernel.invokeFunction(\n",
              "            'suggestCharts', [key], {});\n",
              "      } catch (error) {\n",
              "        console.error('Error during call to suggestCharts:', error);\n",
              "      }\n",
              "      quickchartButtonEl.classList.remove('colab-df-spinner');\n",
              "      quickchartButtonEl.classList.add('colab-df-quickchart-complete');\n",
              "    }\n",
              "    (() => {\n",
              "      let quickchartButtonEl =\n",
              "        document.querySelector('#df-45c4b3e8-c17d-4b69-a003-6b2a3d6ecba4 button');\n",
              "      quickchartButtonEl.style.display =\n",
              "        google.colab.kernel.accessAllowed ? 'block' : 'none';\n",
              "    })();\n",
              "  </script>\n",
              "</div>\n",
              "    </div>\n",
              "  </div>\n"
            ],
            "application/vnd.google.colaboratory.intrinsic+json": {
              "type": "dataframe",
              "variable_name": "df",
              "summary": "{\n  \"name\": \"df\",\n  \"rows\": 326,\n  \"fields\": [\n    {\n      \"column\": \"Filing Date\",\n      \"properties\": {\n        \"dtype\": \"object\",\n        \"num_unique_values\": 255,\n        \"samples\": [\n          \"Dec 10, 2021\",\n          \"Apr 5, 2024\",\n          \"Aug 31, 2023\"\n        ],\n        \"semantic_type\": \"\",\n        \"description\": \"\"\n      }\n    },\n    {\n      \"column\": \"Symbol\",\n      \"properties\": {\n        \"dtype\": \"string\",\n        \"num_unique_values\": 326,\n        \"samples\": [\n          \"LEDG\",\n          \"ZXTY\",\n          \"BXHA\"\n        ],\n        \"semantic_type\": \"\",\n        \"description\": \"\"\n      }\n    },\n    {\n      \"column\": \"Company Name\",\n      \"properties\": {\n        \"dtype\": \"string\",\n        \"num_unique_values\": 326,\n        \"samples\": [\n          \"Ledger Acquisition Company\",\n          \"Zhongxing Holding Group Ltd\",\n          \"Bombax Healthcare Acquisition Corporation\"\n        ],\n        \"semantic_type\": \"\",\n        \"description\": \"\"\n      }\n    },\n    {\n      \"column\": \"Price Range\",\n      \"properties\": {\n        \"dtype\": \"category\",\n        \"num_unique_values\": 45,\n        \"samples\": [\n          \"$7.00 - $9.00\",\n          \"$4.35 - $6.35\",\n          \"$20.00\"\n        ],\n        \"semantic_type\": \"\",\n        \"description\": \"\"\n      }\n    },\n    {\n      \"column\": \"Shares Offered\",\n      \"properties\": {\n        \"dtype\": \"category\",\n        \"num_unique_values\": 84,\n        \"samples\": [\n          \"10526316\",\n          \"5000000\",\n          \"4600000\"\n        ],\n        \"semantic_type\": \"\",\n        \"description\": \"\"\n      }\n    }\n  ]\n}"
            }
          },
          "metadata": {},
          "execution_count": 5
        }
      ],
      "source": [
        "df"
      ]
    },
    {
      "cell_type": "code",
      "execution_count": null,
      "metadata": {
        "colab": {
          "base_uri": "https://localhost:8080/"
        },
        "id": "7fPIuSu2L7WX",
        "outputId": "75a9be33-06eb-4873-db00-e93d4bd5ed1d"
      },
      "outputs": [
        {
          "output_type": "stream",
          "name": "stdout",
          "text": [
            "<class 'pandas.core.frame.DataFrame'>\n",
            "RangeIndex: 326 entries, 0 to 325\n",
            "Data columns (total 5 columns):\n",
            " #   Column          Non-Null Count  Dtype \n",
            "---  ------          --------------  ----- \n",
            " 0   Filing Date     326 non-null    object\n",
            " 1   Symbol          326 non-null    object\n",
            " 2   Company Name    326 non-null    object\n",
            " 3   Price Range     326 non-null    object\n",
            " 4   Shares Offered  326 non-null    object\n",
            "dtypes: object(5)\n",
            "memory usage: 12.9+ KB\n"
          ]
        }
      ],
      "source": [
        "df.info()"
      ]
    },
    {
      "cell_type": "code",
      "execution_count": null,
      "metadata": {
        "colab": {
          "base_uri": "https://localhost:8080/",
          "height": 424
        },
        "id": "BfgftElML9z5",
        "outputId": "f940ba4b-1cad-46cd-f2ab-4d0c5f57edef"
      },
      "outputs": [
        {
          "output_type": "execute_result",
          "data": {
            "text/plain": [
              "      Filing Date Symbol                           Company Name  \\\n",
              "0    Apr 26, 2024   EURK                Eureka Acquisition Corp   \n",
              "1    Apr 26, 2024    HDL    Super Hi International Holding Ltd.   \n",
              "2    Apr 22, 2024   DRJT                        Derun Group Inc   \n",
              "3    Apr 19, 2024   GPAT           GP-Act III Acquisition Corp.   \n",
              "4    Apr 16, 2024   JLJT                  Jialiang Holdings Ltd   \n",
              "..            ...    ...                                    ...   \n",
              "321  Jan 21, 2020   GOXS                            Goxus, Inc.   \n",
              "322  Jan 21, 2020   UTXO                 UTXO Acquisition, Inc.   \n",
              "323   Dec 9, 2019   LOHA                           Loha Co. Ltd   \n",
              "324   Oct 4, 2019   ZGHB  China Eco-Materials Group Co. Limited   \n",
              "325  Dec 27, 2018   FBOX              Fit Boxx Holdings Limited   \n",
              "\n",
              "        Price Range Shares Offered  \n",
              "0            $10.00        5000000  \n",
              "1                 -              -  \n",
              "2             $5.00              -  \n",
              "3            $10.00       25000000  \n",
              "4             $5.00              -  \n",
              "..              ...            ...  \n",
              "321  $8.00 - $10.00        1500000  \n",
              "322          $10.00        5000000  \n",
              "323  $8.00 - $10.00        2500000  \n",
              "324           $4.00        4300000  \n",
              "325   $5.00 - $6.50        2000000  \n",
              "\n",
              "[326 rows x 5 columns]"
            ],
            "text/html": [
              "\n",
              "  <div id=\"df-86e2ee00-cc2a-446a-946f-6f95bf2d5e8e\" class=\"colab-df-container\">\n",
              "    <div>\n",
              "<style scoped>\n",
              "    .dataframe tbody tr th:only-of-type {\n",
              "        vertical-align: middle;\n",
              "    }\n",
              "\n",
              "    .dataframe tbody tr th {\n",
              "        vertical-align: top;\n",
              "    }\n",
              "\n",
              "    .dataframe thead th {\n",
              "        text-align: right;\n",
              "    }\n",
              "</style>\n",
              "<table border=\"1\" class=\"dataframe\">\n",
              "  <thead>\n",
              "    <tr style=\"text-align: right;\">\n",
              "      <th></th>\n",
              "      <th>Filing Date</th>\n",
              "      <th>Symbol</th>\n",
              "      <th>Company Name</th>\n",
              "      <th>Price Range</th>\n",
              "      <th>Shares Offered</th>\n",
              "    </tr>\n",
              "  </thead>\n",
              "  <tbody>\n",
              "    <tr>\n",
              "      <th>0</th>\n",
              "      <td>Apr 26, 2024</td>\n",
              "      <td>EURK</td>\n",
              "      <td>Eureka Acquisition Corp</td>\n",
              "      <td>$10.00</td>\n",
              "      <td>5000000</td>\n",
              "    </tr>\n",
              "    <tr>\n",
              "      <th>1</th>\n",
              "      <td>Apr 26, 2024</td>\n",
              "      <td>HDL</td>\n",
              "      <td>Super Hi International Holding Ltd.</td>\n",
              "      <td>-</td>\n",
              "      <td>-</td>\n",
              "    </tr>\n",
              "    <tr>\n",
              "      <th>2</th>\n",
              "      <td>Apr 22, 2024</td>\n",
              "      <td>DRJT</td>\n",
              "      <td>Derun Group Inc</td>\n",
              "      <td>$5.00</td>\n",
              "      <td>-</td>\n",
              "    </tr>\n",
              "    <tr>\n",
              "      <th>3</th>\n",
              "      <td>Apr 19, 2024</td>\n",
              "      <td>GPAT</td>\n",
              "      <td>GP-Act III Acquisition Corp.</td>\n",
              "      <td>$10.00</td>\n",
              "      <td>25000000</td>\n",
              "    </tr>\n",
              "    <tr>\n",
              "      <th>4</th>\n",
              "      <td>Apr 16, 2024</td>\n",
              "      <td>JLJT</td>\n",
              "      <td>Jialiang Holdings Ltd</td>\n",
              "      <td>$5.00</td>\n",
              "      <td>-</td>\n",
              "    </tr>\n",
              "    <tr>\n",
              "      <th>...</th>\n",
              "      <td>...</td>\n",
              "      <td>...</td>\n",
              "      <td>...</td>\n",
              "      <td>...</td>\n",
              "      <td>...</td>\n",
              "    </tr>\n",
              "    <tr>\n",
              "      <th>321</th>\n",
              "      <td>Jan 21, 2020</td>\n",
              "      <td>GOXS</td>\n",
              "      <td>Goxus, Inc.</td>\n",
              "      <td>$8.00 - $10.00</td>\n",
              "      <td>1500000</td>\n",
              "    </tr>\n",
              "    <tr>\n",
              "      <th>322</th>\n",
              "      <td>Jan 21, 2020</td>\n",
              "      <td>UTXO</td>\n",
              "      <td>UTXO Acquisition, Inc.</td>\n",
              "      <td>$10.00</td>\n",
              "      <td>5000000</td>\n",
              "    </tr>\n",
              "    <tr>\n",
              "      <th>323</th>\n",
              "      <td>Dec 9, 2019</td>\n",
              "      <td>LOHA</td>\n",
              "      <td>Loha Co. Ltd</td>\n",
              "      <td>$8.00 - $10.00</td>\n",
              "      <td>2500000</td>\n",
              "    </tr>\n",
              "    <tr>\n",
              "      <th>324</th>\n",
              "      <td>Oct 4, 2019</td>\n",
              "      <td>ZGHB</td>\n",
              "      <td>China Eco-Materials Group Co. Limited</td>\n",
              "      <td>$4.00</td>\n",
              "      <td>4300000</td>\n",
              "    </tr>\n",
              "    <tr>\n",
              "      <th>325</th>\n",
              "      <td>Dec 27, 2018</td>\n",
              "      <td>FBOX</td>\n",
              "      <td>Fit Boxx Holdings Limited</td>\n",
              "      <td>$5.00 - $6.50</td>\n",
              "      <td>2000000</td>\n",
              "    </tr>\n",
              "  </tbody>\n",
              "</table>\n",
              "<p>326 rows × 5 columns</p>\n",
              "</div>\n",
              "    <div class=\"colab-df-buttons\">\n",
              "\n",
              "  <div class=\"colab-df-container\">\n",
              "    <button class=\"colab-df-convert\" onclick=\"convertToInteractive('df-86e2ee00-cc2a-446a-946f-6f95bf2d5e8e')\"\n",
              "            title=\"Convert this dataframe to an interactive table.\"\n",
              "            style=\"display:none;\">\n",
              "\n",
              "  <svg xmlns=\"http://www.w3.org/2000/svg\" height=\"24px\" viewBox=\"0 -960 960 960\">\n",
              "    <path d=\"M120-120v-720h720v720H120Zm60-500h600v-160H180v160Zm220 220h160v-160H400v160Zm0 220h160v-160H400v160ZM180-400h160v-160H180v160Zm440 0h160v-160H620v160ZM180-180h160v-160H180v160Zm440 0h160v-160H620v160Z\"/>\n",
              "  </svg>\n",
              "    </button>\n",
              "\n",
              "  <style>\n",
              "    .colab-df-container {\n",
              "      display:flex;\n",
              "      gap: 12px;\n",
              "    }\n",
              "\n",
              "    .colab-df-convert {\n",
              "      background-color: #E8F0FE;\n",
              "      border: none;\n",
              "      border-radius: 50%;\n",
              "      cursor: pointer;\n",
              "      display: none;\n",
              "      fill: #1967D2;\n",
              "      height: 32px;\n",
              "      padding: 0 0 0 0;\n",
              "      width: 32px;\n",
              "    }\n",
              "\n",
              "    .colab-df-convert:hover {\n",
              "      background-color: #E2EBFA;\n",
              "      box-shadow: 0px 1px 2px rgba(60, 64, 67, 0.3), 0px 1px 3px 1px rgba(60, 64, 67, 0.15);\n",
              "      fill: #174EA6;\n",
              "    }\n",
              "\n",
              "    .colab-df-buttons div {\n",
              "      margin-bottom: 4px;\n",
              "    }\n",
              "\n",
              "    [theme=dark] .colab-df-convert {\n",
              "      background-color: #3B4455;\n",
              "      fill: #D2E3FC;\n",
              "    }\n",
              "\n",
              "    [theme=dark] .colab-df-convert:hover {\n",
              "      background-color: #434B5C;\n",
              "      box-shadow: 0px 1px 3px 1px rgba(0, 0, 0, 0.15);\n",
              "      filter: drop-shadow(0px 1px 2px rgba(0, 0, 0, 0.3));\n",
              "      fill: #FFFFFF;\n",
              "    }\n",
              "  </style>\n",
              "\n",
              "    <script>\n",
              "      const buttonEl =\n",
              "        document.querySelector('#df-86e2ee00-cc2a-446a-946f-6f95bf2d5e8e button.colab-df-convert');\n",
              "      buttonEl.style.display =\n",
              "        google.colab.kernel.accessAllowed ? 'block' : 'none';\n",
              "\n",
              "      async function convertToInteractive(key) {\n",
              "        const element = document.querySelector('#df-86e2ee00-cc2a-446a-946f-6f95bf2d5e8e');\n",
              "        const dataTable =\n",
              "          await google.colab.kernel.invokeFunction('convertToInteractive',\n",
              "                                                    [key], {});\n",
              "        if (!dataTable) return;\n",
              "\n",
              "        const docLinkHtml = 'Like what you see? Visit the ' +\n",
              "          '<a target=\"_blank\" href=https://colab.research.google.com/notebooks/data_table.ipynb>data table notebook</a>'\n",
              "          + ' to learn more about interactive tables.';\n",
              "        element.innerHTML = '';\n",
              "        dataTable['output_type'] = 'display_data';\n",
              "        await google.colab.output.renderOutput(dataTable, element);\n",
              "        const docLink = document.createElement('div');\n",
              "        docLink.innerHTML = docLinkHtml;\n",
              "        element.appendChild(docLink);\n",
              "      }\n",
              "    </script>\n",
              "  </div>\n",
              "\n",
              "\n",
              "<div id=\"df-751fe1c1-e7ca-4d5b-bf07-c386daf01ad8\">\n",
              "  <button class=\"colab-df-quickchart\" onclick=\"quickchart('df-751fe1c1-e7ca-4d5b-bf07-c386daf01ad8')\"\n",
              "            title=\"Suggest charts\"\n",
              "            style=\"display:none;\">\n",
              "\n",
              "<svg xmlns=\"http://www.w3.org/2000/svg\" height=\"24px\"viewBox=\"0 0 24 24\"\n",
              "     width=\"24px\">\n",
              "    <g>\n",
              "        <path d=\"M19 3H5c-1.1 0-2 .9-2 2v14c0 1.1.9 2 2 2h14c1.1 0 2-.9 2-2V5c0-1.1-.9-2-2-2zM9 17H7v-7h2v7zm4 0h-2V7h2v10zm4 0h-2v-4h2v4z\"/>\n",
              "    </g>\n",
              "</svg>\n",
              "  </button>\n",
              "\n",
              "<style>\n",
              "  .colab-df-quickchart {\n",
              "      --bg-color: #E8F0FE;\n",
              "      --fill-color: #1967D2;\n",
              "      --hover-bg-color: #E2EBFA;\n",
              "      --hover-fill-color: #174EA6;\n",
              "      --disabled-fill-color: #AAA;\n",
              "      --disabled-bg-color: #DDD;\n",
              "  }\n",
              "\n",
              "  [theme=dark] .colab-df-quickchart {\n",
              "      --bg-color: #3B4455;\n",
              "      --fill-color: #D2E3FC;\n",
              "      --hover-bg-color: #434B5C;\n",
              "      --hover-fill-color: #FFFFFF;\n",
              "      --disabled-bg-color: #3B4455;\n",
              "      --disabled-fill-color: #666;\n",
              "  }\n",
              "\n",
              "  .colab-df-quickchart {\n",
              "    background-color: var(--bg-color);\n",
              "    border: none;\n",
              "    border-radius: 50%;\n",
              "    cursor: pointer;\n",
              "    display: none;\n",
              "    fill: var(--fill-color);\n",
              "    height: 32px;\n",
              "    padding: 0;\n",
              "    width: 32px;\n",
              "  }\n",
              "\n",
              "  .colab-df-quickchart:hover {\n",
              "    background-color: var(--hover-bg-color);\n",
              "    box-shadow: 0 1px 2px rgba(60, 64, 67, 0.3), 0 1px 3px 1px rgba(60, 64, 67, 0.15);\n",
              "    fill: var(--button-hover-fill-color);\n",
              "  }\n",
              "\n",
              "  .colab-df-quickchart-complete:disabled,\n",
              "  .colab-df-quickchart-complete:disabled:hover {\n",
              "    background-color: var(--disabled-bg-color);\n",
              "    fill: var(--disabled-fill-color);\n",
              "    box-shadow: none;\n",
              "  }\n",
              "\n",
              "  .colab-df-spinner {\n",
              "    border: 2px solid var(--fill-color);\n",
              "    border-color: transparent;\n",
              "    border-bottom-color: var(--fill-color);\n",
              "    animation:\n",
              "      spin 1s steps(1) infinite;\n",
              "  }\n",
              "\n",
              "  @keyframes spin {\n",
              "    0% {\n",
              "      border-color: transparent;\n",
              "      border-bottom-color: var(--fill-color);\n",
              "      border-left-color: var(--fill-color);\n",
              "    }\n",
              "    20% {\n",
              "      border-color: transparent;\n",
              "      border-left-color: var(--fill-color);\n",
              "      border-top-color: var(--fill-color);\n",
              "    }\n",
              "    30% {\n",
              "      border-color: transparent;\n",
              "      border-left-color: var(--fill-color);\n",
              "      border-top-color: var(--fill-color);\n",
              "      border-right-color: var(--fill-color);\n",
              "    }\n",
              "    40% {\n",
              "      border-color: transparent;\n",
              "      border-right-color: var(--fill-color);\n",
              "      border-top-color: var(--fill-color);\n",
              "    }\n",
              "    60% {\n",
              "      border-color: transparent;\n",
              "      border-right-color: var(--fill-color);\n",
              "    }\n",
              "    80% {\n",
              "      border-color: transparent;\n",
              "      border-right-color: var(--fill-color);\n",
              "      border-bottom-color: var(--fill-color);\n",
              "    }\n",
              "    90% {\n",
              "      border-color: transparent;\n",
              "      border-bottom-color: var(--fill-color);\n",
              "    }\n",
              "  }\n",
              "</style>\n",
              "\n",
              "  <script>\n",
              "    async function quickchart(key) {\n",
              "      const quickchartButtonEl =\n",
              "        document.querySelector('#' + key + ' button');\n",
              "      quickchartButtonEl.disabled = true;  // To prevent multiple clicks.\n",
              "      quickchartButtonEl.classList.add('colab-df-spinner');\n",
              "      try {\n",
              "        const charts = await google.colab.kernel.invokeFunction(\n",
              "            'suggestCharts', [key], {});\n",
              "      } catch (error) {\n",
              "        console.error('Error during call to suggestCharts:', error);\n",
              "      }\n",
              "      quickchartButtonEl.classList.remove('colab-df-spinner');\n",
              "      quickchartButtonEl.classList.add('colab-df-quickchart-complete');\n",
              "    }\n",
              "    (() => {\n",
              "      let quickchartButtonEl =\n",
              "        document.querySelector('#df-751fe1c1-e7ca-4d5b-bf07-c386daf01ad8 button');\n",
              "      quickchartButtonEl.style.display =\n",
              "        google.colab.kernel.accessAllowed ? 'block' : 'none';\n",
              "    })();\n",
              "  </script>\n",
              "</div>\n",
              "    </div>\n",
              "  </div>\n"
            ],
            "application/vnd.google.colaboratory.intrinsic+json": {
              "type": "dataframe",
              "variable_name": "df",
              "summary": "{\n  \"name\": \"df\",\n  \"rows\": 326,\n  \"fields\": [\n    {\n      \"column\": \"Filing Date\",\n      \"properties\": {\n        \"dtype\": \"object\",\n        \"num_unique_values\": 255,\n        \"samples\": [\n          \"Dec 10, 2021\",\n          \"Apr 5, 2024\",\n          \"Aug 31, 2023\"\n        ],\n        \"semantic_type\": \"\",\n        \"description\": \"\"\n      }\n    },\n    {\n      \"column\": \"Symbol\",\n      \"properties\": {\n        \"dtype\": \"string\",\n        \"num_unique_values\": 326,\n        \"samples\": [\n          \"LEDG\",\n          \"ZXTY\",\n          \"BXHA\"\n        ],\n        \"semantic_type\": \"\",\n        \"description\": \"\"\n      }\n    },\n    {\n      \"column\": \"Company Name\",\n      \"properties\": {\n        \"dtype\": \"string\",\n        \"num_unique_values\": 326,\n        \"samples\": [\n          \"Ledger Acquisition Company\",\n          \"Zhongxing Holding Group Ltd\",\n          \"Bombax Healthcare Acquisition Corporation\"\n        ],\n        \"semantic_type\": \"\",\n        \"description\": \"\"\n      }\n    },\n    {\n      \"column\": \"Price Range\",\n      \"properties\": {\n        \"dtype\": \"category\",\n        \"num_unique_values\": 45,\n        \"samples\": [\n          \"$7.00 - $9.00\",\n          \"$4.35 - $6.35\",\n          \"$20.00\"\n        ],\n        \"semantic_type\": \"\",\n        \"description\": \"\"\n      }\n    },\n    {\n      \"column\": \"Shares Offered\",\n      \"properties\": {\n        \"dtype\": \"category\",\n        \"num_unique_values\": 84,\n        \"samples\": [\n          \"10526316\",\n          \"5000000\",\n          \"4600000\"\n        ],\n        \"semantic_type\": \"\",\n        \"description\": \"\"\n      }\n    }\n  ]\n}"
            }
          },
          "metadata": {},
          "execution_count": 7
        }
      ],
      "source": [
        "df"
      ]
    },
    {
      "cell_type": "code",
      "execution_count": null,
      "metadata": {
        "colab": {
          "base_uri": "https://localhost:8080/"
        },
        "id": "qdwp7XQ5L_Gx",
        "outputId": "e81e2d7d-2026-4acf-ea64-03b13a1fbcb6"
      },
      "outputs": [
        {
          "output_type": "stream",
          "name": "stdout",
          "text": [
            "None\n",
            "5.0\n",
            "9.0\n"
          ]
        }
      ],
      "source": [
        "import re\n",
        "\n",
        "def convert_price_range_to_avg(input_str):\n",
        "    # Regular expression to extract numerical values\n",
        "    pattern = r'\\$?(\\d+\\.\\d+)'\n",
        "\n",
        "    # Find all matches\n",
        "    matches = re.findall(pattern, input_str)\n",
        "\n",
        "    # If no matches found, return None\n",
        "    if not matches:\n",
        "        return None\n",
        "\n",
        "    # Convert matches to float\n",
        "    prices = [float(match) for match in matches]\n",
        "\n",
        "    # If only one price found, return it\n",
        "    if len(prices) == 1:\n",
        "        return prices[0]\n",
        "\n",
        "    # If range found, calculate average\n",
        "    avg_price = sum(prices) / len(prices)\n",
        "    return avg_price\n",
        "\n",
        "# Test cases\n",
        "print(convert_price_range_to_avg('-'))                  # None\n",
        "print(convert_price_range_to_avg('$5.00'))              # 5.0\n",
        "print(convert_price_range_to_avg('$8.00-$10.00'))      # 9.0"
      ]
    },
    {
      "cell_type": "code",
      "execution_count": null,
      "metadata": {
        "id": "LOs5pHgNMvIP"
      },
      "outputs": [],
      "source": [
        "# convert to datetime\n",
        "df['Filing Date'] = pd.to_datetime(df['Filing Date'])"
      ]
    },
    {
      "cell_type": "code",
      "execution_count": null,
      "metadata": {
        "colab": {
          "base_uri": "https://localhost:8080/"
        },
        "id": "Kcf5ASWjNH9v",
        "outputId": "fa15522b-8b36-4687-bbac-426a46af3e05"
      },
      "outputs": [
        {
          "output_type": "execute_result",
          "data": {
            "text/plain": [
              "Filing Date\n",
              "4    89\n",
              "1    68\n",
              "3    58\n",
              "0    57\n",
              "2    54\n",
              "Name: count, dtype: int64"
            ]
          },
          "metadata": {},
          "execution_count": 10
        }
      ],
      "source": [
        "# Friday = 4 (dt.dayofweek==Friday)\n",
        "df['Filing Date'].dt.dayofweek.value_counts()"
      ]
    },
    {
      "cell_type": "code",
      "execution_count": null,
      "metadata": {
        "id": "wrIpeMcqNtlm"
      },
      "outputs": [],
      "source": [
        "df['Avg_price'] = df['Price Range'].apply(lambda x: convert_price_range_to_avg(x))"
      ]
    },
    {
      "cell_type": "code",
      "execution_count": null,
      "metadata": {
        "id": "6MEeOBOBN-4L"
      },
      "outputs": [],
      "source": [
        "df['Shares Offered'] = pd.to_numeric(df['Shares Offered'],errors='coerce')"
      ]
    },
    {
      "cell_type": "code",
      "execution_count": null,
      "metadata": {
        "colab": {
          "base_uri": "https://localhost:8080/",
          "height": 677
        },
        "id": "2AwNeGhUOT_p",
        "outputId": "1094da59-861e-4d2b-dfc1-76099bdedd35"
      },
      "outputs": [
        {
          "output_type": "execute_result",
          "data": {
            "text/plain": [
              "   Filing Date Symbol                              Company Name  \\\n",
              "0   2024-04-26   EURK                   Eureka Acquisition Corp   \n",
              "1   2024-04-26    HDL       Super Hi International Holding Ltd.   \n",
              "2   2024-04-22   DRJT                           Derun Group Inc   \n",
              "3   2024-04-19   GPAT              GP-Act III Acquisition Corp.   \n",
              "4   2024-04-16   JLJT                     Jialiang Holdings Ltd   \n",
              "5   2024-04-16    GGL                      Games Global Limited   \n",
              "6   2024-04-15   GAUZ                                Gauzy Ltd.   \n",
              "7   2024-04-12    BOW           Bowhead Specialty Holdings Inc.   \n",
              "8   2024-04-05   SPHL                   Springview Holdings Ltd   \n",
              "9   2024-04-02   FFFZ                Fuxing China Group Limited   \n",
              "10  2024-04-01    LSH                  Lakeside Holding Limited   \n",
              "11  2024-04-01    XXC  Xinxu Copper Industry Technology Limited   \n",
              "12  2024-03-29    OCP                 Huge Amount Group Limited   \n",
              "13  2024-03-28   RITR           Reitar Logtech Holdings Limited   \n",
              "14  2024-03-26   NTCL                   NetClass Technology Inc   \n",
              "15  2024-03-25    JCY                  Jingcaoyuan Holdings Inc   \n",
              "16  2024-03-22   CCIX                 Churchill Capital Corp IX   \n",
              "17  2024-03-21   LXTM                Lei Xin Holdings Co., Ltd.   \n",
              "18  2024-03-15   LBRJ            Libera Gaming Operations, Inc.   \n",
              "19  2024-03-15   MCTR                        CTRL Group Limited   \n",
              "\n",
              "      Price Range  Shares Offered  Avg_price  \n",
              "0          $10.00       5000000.0      10.00  \n",
              "1               -             NaN        NaN  \n",
              "2           $5.00             NaN       5.00  \n",
              "3          $10.00      25000000.0      10.00  \n",
              "4           $5.00             NaN       5.00  \n",
              "5               -             NaN        NaN  \n",
              "6               -             NaN        NaN  \n",
              "7               -             NaN        NaN  \n",
              "8   $4.00 - $5.00       2000000.0       4.50  \n",
              "9   $4.00 - $4.50       2000000.0       4.25  \n",
              "10  $4.00 - $5.00       1250000.0       4.50  \n",
              "11              -             NaN        NaN  \n",
              "12              -             NaN        NaN  \n",
              "13  $4.00 - $5.00       2500000.0       4.50  \n",
              "14  $5.00 - $6.00       1800000.0       5.50  \n",
              "15              -             NaN        NaN  \n",
              "16         $10.00      25000000.0      10.00  \n",
              "17              -             NaN        NaN  \n",
              "18  $5.00 - $7.00       1000000.0       6.00  \n",
              "19              -             NaN        NaN  "
            ],
            "text/html": [
              "\n",
              "  <div id=\"df-fb72908e-17f8-4a8f-9a47-40daa81aa77a\" class=\"colab-df-container\">\n",
              "    <div>\n",
              "<style scoped>\n",
              "    .dataframe tbody tr th:only-of-type {\n",
              "        vertical-align: middle;\n",
              "    }\n",
              "\n",
              "    .dataframe tbody tr th {\n",
              "        vertical-align: top;\n",
              "    }\n",
              "\n",
              "    .dataframe thead th {\n",
              "        text-align: right;\n",
              "    }\n",
              "</style>\n",
              "<table border=\"1\" class=\"dataframe\">\n",
              "  <thead>\n",
              "    <tr style=\"text-align: right;\">\n",
              "      <th></th>\n",
              "      <th>Filing Date</th>\n",
              "      <th>Symbol</th>\n",
              "      <th>Company Name</th>\n",
              "      <th>Price Range</th>\n",
              "      <th>Shares Offered</th>\n",
              "      <th>Avg_price</th>\n",
              "    </tr>\n",
              "  </thead>\n",
              "  <tbody>\n",
              "    <tr>\n",
              "      <th>0</th>\n",
              "      <td>2024-04-26</td>\n",
              "      <td>EURK</td>\n",
              "      <td>Eureka Acquisition Corp</td>\n",
              "      <td>$10.00</td>\n",
              "      <td>5000000.0</td>\n",
              "      <td>10.00</td>\n",
              "    </tr>\n",
              "    <tr>\n",
              "      <th>1</th>\n",
              "      <td>2024-04-26</td>\n",
              "      <td>HDL</td>\n",
              "      <td>Super Hi International Holding Ltd.</td>\n",
              "      <td>-</td>\n",
              "      <td>NaN</td>\n",
              "      <td>NaN</td>\n",
              "    </tr>\n",
              "    <tr>\n",
              "      <th>2</th>\n",
              "      <td>2024-04-22</td>\n",
              "      <td>DRJT</td>\n",
              "      <td>Derun Group Inc</td>\n",
              "      <td>$5.00</td>\n",
              "      <td>NaN</td>\n",
              "      <td>5.00</td>\n",
              "    </tr>\n",
              "    <tr>\n",
              "      <th>3</th>\n",
              "      <td>2024-04-19</td>\n",
              "      <td>GPAT</td>\n",
              "      <td>GP-Act III Acquisition Corp.</td>\n",
              "      <td>$10.00</td>\n",
              "      <td>25000000.0</td>\n",
              "      <td>10.00</td>\n",
              "    </tr>\n",
              "    <tr>\n",
              "      <th>4</th>\n",
              "      <td>2024-04-16</td>\n",
              "      <td>JLJT</td>\n",
              "      <td>Jialiang Holdings Ltd</td>\n",
              "      <td>$5.00</td>\n",
              "      <td>NaN</td>\n",
              "      <td>5.00</td>\n",
              "    </tr>\n",
              "    <tr>\n",
              "      <th>5</th>\n",
              "      <td>2024-04-16</td>\n",
              "      <td>GGL</td>\n",
              "      <td>Games Global Limited</td>\n",
              "      <td>-</td>\n",
              "      <td>NaN</td>\n",
              "      <td>NaN</td>\n",
              "    </tr>\n",
              "    <tr>\n",
              "      <th>6</th>\n",
              "      <td>2024-04-15</td>\n",
              "      <td>GAUZ</td>\n",
              "      <td>Gauzy Ltd.</td>\n",
              "      <td>-</td>\n",
              "      <td>NaN</td>\n",
              "      <td>NaN</td>\n",
              "    </tr>\n",
              "    <tr>\n",
              "      <th>7</th>\n",
              "      <td>2024-04-12</td>\n",
              "      <td>BOW</td>\n",
              "      <td>Bowhead Specialty Holdings Inc.</td>\n",
              "      <td>-</td>\n",
              "      <td>NaN</td>\n",
              "      <td>NaN</td>\n",
              "    </tr>\n",
              "    <tr>\n",
              "      <th>8</th>\n",
              "      <td>2024-04-05</td>\n",
              "      <td>SPHL</td>\n",
              "      <td>Springview Holdings Ltd</td>\n",
              "      <td>$4.00 - $5.00</td>\n",
              "      <td>2000000.0</td>\n",
              "      <td>4.50</td>\n",
              "    </tr>\n",
              "    <tr>\n",
              "      <th>9</th>\n",
              "      <td>2024-04-02</td>\n",
              "      <td>FFFZ</td>\n",
              "      <td>Fuxing China Group Limited</td>\n",
              "      <td>$4.00 - $4.50</td>\n",
              "      <td>2000000.0</td>\n",
              "      <td>4.25</td>\n",
              "    </tr>\n",
              "    <tr>\n",
              "      <th>10</th>\n",
              "      <td>2024-04-01</td>\n",
              "      <td>LSH</td>\n",
              "      <td>Lakeside Holding Limited</td>\n",
              "      <td>$4.00 - $5.00</td>\n",
              "      <td>1250000.0</td>\n",
              "      <td>4.50</td>\n",
              "    </tr>\n",
              "    <tr>\n",
              "      <th>11</th>\n",
              "      <td>2024-04-01</td>\n",
              "      <td>XXC</td>\n",
              "      <td>Xinxu Copper Industry Technology Limited</td>\n",
              "      <td>-</td>\n",
              "      <td>NaN</td>\n",
              "      <td>NaN</td>\n",
              "    </tr>\n",
              "    <tr>\n",
              "      <th>12</th>\n",
              "      <td>2024-03-29</td>\n",
              "      <td>OCP</td>\n",
              "      <td>Huge Amount Group Limited</td>\n",
              "      <td>-</td>\n",
              "      <td>NaN</td>\n",
              "      <td>NaN</td>\n",
              "    </tr>\n",
              "    <tr>\n",
              "      <th>13</th>\n",
              "      <td>2024-03-28</td>\n",
              "      <td>RITR</td>\n",
              "      <td>Reitar Logtech Holdings Limited</td>\n",
              "      <td>$4.00 - $5.00</td>\n",
              "      <td>2500000.0</td>\n",
              "      <td>4.50</td>\n",
              "    </tr>\n",
              "    <tr>\n",
              "      <th>14</th>\n",
              "      <td>2024-03-26</td>\n",
              "      <td>NTCL</td>\n",
              "      <td>NetClass Technology Inc</td>\n",
              "      <td>$5.00 - $6.00</td>\n",
              "      <td>1800000.0</td>\n",
              "      <td>5.50</td>\n",
              "    </tr>\n",
              "    <tr>\n",
              "      <th>15</th>\n",
              "      <td>2024-03-25</td>\n",
              "      <td>JCY</td>\n",
              "      <td>Jingcaoyuan Holdings Inc</td>\n",
              "      <td>-</td>\n",
              "      <td>NaN</td>\n",
              "      <td>NaN</td>\n",
              "    </tr>\n",
              "    <tr>\n",
              "      <th>16</th>\n",
              "      <td>2024-03-22</td>\n",
              "      <td>CCIX</td>\n",
              "      <td>Churchill Capital Corp IX</td>\n",
              "      <td>$10.00</td>\n",
              "      <td>25000000.0</td>\n",
              "      <td>10.00</td>\n",
              "    </tr>\n",
              "    <tr>\n",
              "      <th>17</th>\n",
              "      <td>2024-03-21</td>\n",
              "      <td>LXTM</td>\n",
              "      <td>Lei Xin Holdings Co., Ltd.</td>\n",
              "      <td>-</td>\n",
              "      <td>NaN</td>\n",
              "      <td>NaN</td>\n",
              "    </tr>\n",
              "    <tr>\n",
              "      <th>18</th>\n",
              "      <td>2024-03-15</td>\n",
              "      <td>LBRJ</td>\n",
              "      <td>Libera Gaming Operations, Inc.</td>\n",
              "      <td>$5.00 - $7.00</td>\n",
              "      <td>1000000.0</td>\n",
              "      <td>6.00</td>\n",
              "    </tr>\n",
              "    <tr>\n",
              "      <th>19</th>\n",
              "      <td>2024-03-15</td>\n",
              "      <td>MCTR</td>\n",
              "      <td>CTRL Group Limited</td>\n",
              "      <td>-</td>\n",
              "      <td>NaN</td>\n",
              "      <td>NaN</td>\n",
              "    </tr>\n",
              "  </tbody>\n",
              "</table>\n",
              "</div>\n",
              "    <div class=\"colab-df-buttons\">\n",
              "\n",
              "  <div class=\"colab-df-container\">\n",
              "    <button class=\"colab-df-convert\" onclick=\"convertToInteractive('df-fb72908e-17f8-4a8f-9a47-40daa81aa77a')\"\n",
              "            title=\"Convert this dataframe to an interactive table.\"\n",
              "            style=\"display:none;\">\n",
              "\n",
              "  <svg xmlns=\"http://www.w3.org/2000/svg\" height=\"24px\" viewBox=\"0 -960 960 960\">\n",
              "    <path d=\"M120-120v-720h720v720H120Zm60-500h600v-160H180v160Zm220 220h160v-160H400v160Zm0 220h160v-160H400v160ZM180-400h160v-160H180v160Zm440 0h160v-160H620v160ZM180-180h160v-160H180v160Zm440 0h160v-160H620v160Z\"/>\n",
              "  </svg>\n",
              "    </button>\n",
              "\n",
              "  <style>\n",
              "    .colab-df-container {\n",
              "      display:flex;\n",
              "      gap: 12px;\n",
              "    }\n",
              "\n",
              "    .colab-df-convert {\n",
              "      background-color: #E8F0FE;\n",
              "      border: none;\n",
              "      border-radius: 50%;\n",
              "      cursor: pointer;\n",
              "      display: none;\n",
              "      fill: #1967D2;\n",
              "      height: 32px;\n",
              "      padding: 0 0 0 0;\n",
              "      width: 32px;\n",
              "    }\n",
              "\n",
              "    .colab-df-convert:hover {\n",
              "      background-color: #E2EBFA;\n",
              "      box-shadow: 0px 1px 2px rgba(60, 64, 67, 0.3), 0px 1px 3px 1px rgba(60, 64, 67, 0.15);\n",
              "      fill: #174EA6;\n",
              "    }\n",
              "\n",
              "    .colab-df-buttons div {\n",
              "      margin-bottom: 4px;\n",
              "    }\n",
              "\n",
              "    [theme=dark] .colab-df-convert {\n",
              "      background-color: #3B4455;\n",
              "      fill: #D2E3FC;\n",
              "    }\n",
              "\n",
              "    [theme=dark] .colab-df-convert:hover {\n",
              "      background-color: #434B5C;\n",
              "      box-shadow: 0px 1px 3px 1px rgba(0, 0, 0, 0.15);\n",
              "      filter: drop-shadow(0px 1px 2px rgba(0, 0, 0, 0.3));\n",
              "      fill: #FFFFFF;\n",
              "    }\n",
              "  </style>\n",
              "\n",
              "    <script>\n",
              "      const buttonEl =\n",
              "        document.querySelector('#df-fb72908e-17f8-4a8f-9a47-40daa81aa77a button.colab-df-convert');\n",
              "      buttonEl.style.display =\n",
              "        google.colab.kernel.accessAllowed ? 'block' : 'none';\n",
              "\n",
              "      async function convertToInteractive(key) {\n",
              "        const element = document.querySelector('#df-fb72908e-17f8-4a8f-9a47-40daa81aa77a');\n",
              "        const dataTable =\n",
              "          await google.colab.kernel.invokeFunction('convertToInteractive',\n",
              "                                                    [key], {});\n",
              "        if (!dataTable) return;\n",
              "\n",
              "        const docLinkHtml = 'Like what you see? Visit the ' +\n",
              "          '<a target=\"_blank\" href=https://colab.research.google.com/notebooks/data_table.ipynb>data table notebook</a>'\n",
              "          + ' to learn more about interactive tables.';\n",
              "        element.innerHTML = '';\n",
              "        dataTable['output_type'] = 'display_data';\n",
              "        await google.colab.output.renderOutput(dataTable, element);\n",
              "        const docLink = document.createElement('div');\n",
              "        docLink.innerHTML = docLinkHtml;\n",
              "        element.appendChild(docLink);\n",
              "      }\n",
              "    </script>\n",
              "  </div>\n",
              "\n",
              "\n",
              "<div id=\"df-da90db6d-793f-4484-84eb-e9b79aaff254\">\n",
              "  <button class=\"colab-df-quickchart\" onclick=\"quickchart('df-da90db6d-793f-4484-84eb-e9b79aaff254')\"\n",
              "            title=\"Suggest charts\"\n",
              "            style=\"display:none;\">\n",
              "\n",
              "<svg xmlns=\"http://www.w3.org/2000/svg\" height=\"24px\"viewBox=\"0 0 24 24\"\n",
              "     width=\"24px\">\n",
              "    <g>\n",
              "        <path d=\"M19 3H5c-1.1 0-2 .9-2 2v14c0 1.1.9 2 2 2h14c1.1 0 2-.9 2-2V5c0-1.1-.9-2-2-2zM9 17H7v-7h2v7zm4 0h-2V7h2v10zm4 0h-2v-4h2v4z\"/>\n",
              "    </g>\n",
              "</svg>\n",
              "  </button>\n",
              "\n",
              "<style>\n",
              "  .colab-df-quickchart {\n",
              "      --bg-color: #E8F0FE;\n",
              "      --fill-color: #1967D2;\n",
              "      --hover-bg-color: #E2EBFA;\n",
              "      --hover-fill-color: #174EA6;\n",
              "      --disabled-fill-color: #AAA;\n",
              "      --disabled-bg-color: #DDD;\n",
              "  }\n",
              "\n",
              "  [theme=dark] .colab-df-quickchart {\n",
              "      --bg-color: #3B4455;\n",
              "      --fill-color: #D2E3FC;\n",
              "      --hover-bg-color: #434B5C;\n",
              "      --hover-fill-color: #FFFFFF;\n",
              "      --disabled-bg-color: #3B4455;\n",
              "      --disabled-fill-color: #666;\n",
              "  }\n",
              "\n",
              "  .colab-df-quickchart {\n",
              "    background-color: var(--bg-color);\n",
              "    border: none;\n",
              "    border-radius: 50%;\n",
              "    cursor: pointer;\n",
              "    display: none;\n",
              "    fill: var(--fill-color);\n",
              "    height: 32px;\n",
              "    padding: 0;\n",
              "    width: 32px;\n",
              "  }\n",
              "\n",
              "  .colab-df-quickchart:hover {\n",
              "    background-color: var(--hover-bg-color);\n",
              "    box-shadow: 0 1px 2px rgba(60, 64, 67, 0.3), 0 1px 3px 1px rgba(60, 64, 67, 0.15);\n",
              "    fill: var(--button-hover-fill-color);\n",
              "  }\n",
              "\n",
              "  .colab-df-quickchart-complete:disabled,\n",
              "  .colab-df-quickchart-complete:disabled:hover {\n",
              "    background-color: var(--disabled-bg-color);\n",
              "    fill: var(--disabled-fill-color);\n",
              "    box-shadow: none;\n",
              "  }\n",
              "\n",
              "  .colab-df-spinner {\n",
              "    border: 2px solid var(--fill-color);\n",
              "    border-color: transparent;\n",
              "    border-bottom-color: var(--fill-color);\n",
              "    animation:\n",
              "      spin 1s steps(1) infinite;\n",
              "  }\n",
              "\n",
              "  @keyframes spin {\n",
              "    0% {\n",
              "      border-color: transparent;\n",
              "      border-bottom-color: var(--fill-color);\n",
              "      border-left-color: var(--fill-color);\n",
              "    }\n",
              "    20% {\n",
              "      border-color: transparent;\n",
              "      border-left-color: var(--fill-color);\n",
              "      border-top-color: var(--fill-color);\n",
              "    }\n",
              "    30% {\n",
              "      border-color: transparent;\n",
              "      border-left-color: var(--fill-color);\n",
              "      border-top-color: var(--fill-color);\n",
              "      border-right-color: var(--fill-color);\n",
              "    }\n",
              "    40% {\n",
              "      border-color: transparent;\n",
              "      border-right-color: var(--fill-color);\n",
              "      border-top-color: var(--fill-color);\n",
              "    }\n",
              "    60% {\n",
              "      border-color: transparent;\n",
              "      border-right-color: var(--fill-color);\n",
              "    }\n",
              "    80% {\n",
              "      border-color: transparent;\n",
              "      border-right-color: var(--fill-color);\n",
              "      border-bottom-color: var(--fill-color);\n",
              "    }\n",
              "    90% {\n",
              "      border-color: transparent;\n",
              "      border-bottom-color: var(--fill-color);\n",
              "    }\n",
              "  }\n",
              "</style>\n",
              "\n",
              "  <script>\n",
              "    async function quickchart(key) {\n",
              "      const quickchartButtonEl =\n",
              "        document.querySelector('#' + key + ' button');\n",
              "      quickchartButtonEl.disabled = true;  // To prevent multiple clicks.\n",
              "      quickchartButtonEl.classList.add('colab-df-spinner');\n",
              "      try {\n",
              "        const charts = await google.colab.kernel.invokeFunction(\n",
              "            'suggestCharts', [key], {});\n",
              "      } catch (error) {\n",
              "        console.error('Error during call to suggestCharts:', error);\n",
              "      }\n",
              "      quickchartButtonEl.classList.remove('colab-df-spinner');\n",
              "      quickchartButtonEl.classList.add('colab-df-quickchart-complete');\n",
              "    }\n",
              "    (() => {\n",
              "      let quickchartButtonEl =\n",
              "        document.querySelector('#df-da90db6d-793f-4484-84eb-e9b79aaff254 button');\n",
              "      quickchartButtonEl.style.display =\n",
              "        google.colab.kernel.accessAllowed ? 'block' : 'none';\n",
              "    })();\n",
              "  </script>\n",
              "</div>\n",
              "    </div>\n",
              "  </div>\n"
            ],
            "application/vnd.google.colaboratory.intrinsic+json": {
              "type": "dataframe",
              "variable_name": "df",
              "summary": "{\n  \"name\": \"df\",\n  \"rows\": 326,\n  \"fields\": [\n    {\n      \"column\": \"Filing Date\",\n      \"properties\": {\n        \"dtype\": \"date\",\n        \"min\": \"2018-12-27 00:00:00\",\n        \"max\": \"2024-04-26 00:00:00\",\n        \"num_unique_values\": 255,\n        \"samples\": [\n          \"2021-12-10 00:00:00\",\n          \"2024-04-05 00:00:00\",\n          \"2023-08-31 00:00:00\"\n        ],\n        \"semantic_type\": \"\",\n        \"description\": \"\"\n      }\n    },\n    {\n      \"column\": \"Symbol\",\n      \"properties\": {\n        \"dtype\": \"string\",\n        \"num_unique_values\": 326,\n        \"samples\": [\n          \"LEDG\",\n          \"ZXTY\",\n          \"BXHA\"\n        ],\n        \"semantic_type\": \"\",\n        \"description\": \"\"\n      }\n    },\n    {\n      \"column\": \"Company Name\",\n      \"properties\": {\n        \"dtype\": \"string\",\n        \"num_unique_values\": 326,\n        \"samples\": [\n          \"Ledger Acquisition Company\",\n          \"Zhongxing Holding Group Ltd\",\n          \"Bombax Healthcare Acquisition Corporation\"\n        ],\n        \"semantic_type\": \"\",\n        \"description\": \"\"\n      }\n    },\n    {\n      \"column\": \"Price Range\",\n      \"properties\": {\n        \"dtype\": \"category\",\n        \"num_unique_values\": 45,\n        \"samples\": [\n          \"$7.00 - $9.00\",\n          \"$4.35 - $6.35\",\n          \"$20.00\"\n        ],\n        \"semantic_type\": \"\",\n        \"description\": \"\"\n      }\n    },\n    {\n      \"column\": \"Shares Offered\",\n      \"properties\": {\n        \"dtype\": \"number\",\n        \"std\": 10842446.005440334,\n        \"min\": 360000.0,\n        \"max\": 100000000.0,\n        \"num_unique_values\": 83,\n        \"samples\": [\n          800000.0,\n          5000000.0,\n          6000000.0\n        ],\n        \"semantic_type\": \"\",\n        \"description\": \"\"\n      }\n    },\n    {\n      \"column\": \"Avg_price\",\n      \"properties\": {\n        \"dtype\": \"number\",\n        \"std\": 2.807935292999704,\n        \"min\": 3.5,\n        \"max\": 20.0,\n        \"num_unique_values\": 29,\n        \"samples\": [\n          19.0,\n          6.25,\n          9.0\n        ],\n        \"semantic_type\": \"\",\n        \"description\": \"\"\n      }\n    }\n  ]\n}"
            }
          },
          "metadata": {},
          "execution_count": 13
        }
      ],
      "source": [
        "df.head(20)"
      ]
    },
    {
      "cell_type": "code",
      "execution_count": null,
      "metadata": {
        "colab": {
          "base_uri": "https://localhost:8080/"
        },
        "id": "vJ1J_VMtOZTI",
        "outputId": "57e8eaf2-91e7-4e24-8577-14aa72c86c2e"
      },
      "outputs": [
        {
          "output_type": "execute_result",
          "data": {
            "text/plain": [
              "(32, 6)"
            ]
          },
          "metadata": {},
          "execution_count": 14
        }
      ],
      "source": [
        "filtered_df = df[(df['Filing Date'].dt.year==2023) & (df['Filing Date'].dt.dayofweek==4)]\n",
        "filtered_df.shape"
      ]
    },
    {
      "cell_type": "code",
      "execution_count": null,
      "metadata": {
        "colab": {
          "base_uri": "https://localhost:8080/",
          "height": 1000
        },
        "id": "1d9tkf23Ouh8",
        "outputId": "b11918b5-3008-4ee1-d867-b1c139151908"
      },
      "outputs": [
        {
          "output_type": "stream",
          "name": "stderr",
          "text": [
            "<ipython-input-15-cdf097aa51e0>:1: SettingWithCopyWarning: \n",
            "A value is trying to be set on a copy of a slice from a DataFrame.\n",
            "Try using .loc[row_indexer,col_indexer] = value instead\n",
            "\n",
            "See the caveats in the documentation: https://pandas.pydata.org/pandas-docs/stable/user_guide/indexing.html#returning-a-view-versus-a-copy\n",
            "  filtered_df.loc[:,'Shares_offered_value'] = filtered_df['Shares Offered'] * filtered_df['Avg_price']\n"
          ]
        },
        {
          "output_type": "execute_result",
          "data": {
            "text/plain": [
              "    Filing Date Symbol                                     Company Name  \\\n",
              "49   2023-12-29    LEC                            Lafayette Energy Corp   \n",
              "50   2023-12-29   EPSM                        Epsium Enterprise Limited   \n",
              "53   2023-12-22   CHLW  Chun Hui Le Wan International Holding Group Ltd   \n",
              "54   2023-12-22   LZMH                   LZ Technology Holdings Limited   \n",
              "59   2023-12-15    GIT      Going International Holding Company Limited   \n",
              "61   2023-12-08   ENGS                            Energys Group Limited   \n",
              "62   2023-12-08   LNKS                       Linkers Industries Limited   \n",
              "82   2023-10-27    RAY                          Raytech Holding Limited   \n",
              "89   2023-10-13   ORIS                   Oriental Rise Holdings Limited   \n",
              "92   2023-10-06   QMMM                            QMMM Holdings Limited   \n",
              "96   2023-09-29   KAPA                              Kairos Pharma, Ltd.   \n",
              "97   2023-09-29   VAPA                        Valens Pay Global Limited   \n",
              "104  2023-09-15   ACSB                      Acesis Holdings Corporation   \n",
              "110  2023-08-11   ZXTY                      Zhongxing Holding Group Ltd   \n",
              "114  2023-08-04    JZL                     Jizhilong Holding Group Ltd.   \n",
              "122  2023-07-07    AZI         Autozi Internet Technology (Global) Ltd.   \n",
              "125  2023-06-30   SUBL                       BioLingus (Cayman) Limited   \n",
              "126  2023-06-30   RLND                        The RoyaLand Company Ltd.   \n",
              "127  2023-06-23    MSW                Ming Shing Group Holdings Limited   \n",
              "130  2023-06-09   MDRN                   Modern Mining Technology Corp.   \n",
              "135  2023-04-28   MJID                      Majestic Ideal Holdings Ltd   \n",
              "138  2023-04-21   XJET                                        XJet Ltd.   \n",
              "139  2023-04-21    JPO                              JP Outfitters, Inc.   \n",
              "140  2023-03-31   SUNH                          Xuhang Holdings Limited   \n",
              "141  2023-03-31   OSTX                        OS Therapies Incorporated   \n",
              "142  2023-03-31   GFCX                        GoodFaith Technology Inc.   \n",
              "144  2023-03-24   USEE                     USEE Electronic Commerce Ltd   \n",
              "150  2023-02-24    NTV                              NeoTV Group Limited   \n",
              "151  2023-02-24   BSME                    MED EIBY Holding Co., Limited   \n",
              "157  2023-02-10   WETO                      Webus International Limited   \n",
              "158  2023-02-10   HXHX                          Haoxin Holdings Limited   \n",
              "166  2023-01-13   RVGO                                  RVeloCITY, Inc.   \n",
              "\n",
              "       Price Range  Shares Offered  Avg_price  Shares_offered_value  \n",
              "49   $3.50 - $4.50       1200000.0       4.00             4800000.0  \n",
              "50               -             NaN        NaN                   NaN  \n",
              "53               -             NaN        NaN                   NaN  \n",
              "54               -             NaN        NaN                   NaN  \n",
              "59               -             NaN        NaN                   NaN  \n",
              "61   $4.00 - $6.00       2000000.0       5.00            10000000.0  \n",
              "62   $4.00 - $6.00       2200000.0       5.00            11000000.0  \n",
              "82   $4.00 - $5.00       1500000.0       4.50             6750000.0  \n",
              "89           $4.00       2000000.0       4.00             8000000.0  \n",
              "92           $4.00       2125000.0       4.00             8500000.0  \n",
              "96           $4.00       1550000.0       4.00             6200000.0  \n",
              "97   $5.00 - $6.00       1000000.0       5.50             5500000.0  \n",
              "104  $4.00 - $6.00       1300000.0       5.00             6500000.0  \n",
              "110              -             NaN        NaN                   NaN  \n",
              "114              -             NaN        NaN                   NaN  \n",
              "122  $4.00 - $5.00       1250000.0       4.50             5625000.0  \n",
              "125         $20.00        360000.0      20.00             7200000.0  \n",
              "126  $5.00 - $6.00       1250000.0       5.50             6875000.0  \n",
              "127  $5.00 - $8.00       1500000.0       6.50             9750000.0  \n",
              "130  $4.50 - $5.50       2000000.0       5.00            10000000.0  \n",
              "135  $4.00 - $5.00       2500000.0       4.50            11250000.0  \n",
              "138          $4.00       1600000.0       4.00             6400000.0  \n",
              "139          $4.00       2400000.0       4.00             9600000.0  \n",
              "140  $4.00 - $5.00       2750000.0       4.50            12375000.0  \n",
              "141          $5.00       2000000.0       5.00            10000000.0  \n",
              "142  $4.00 - $6.00       3000000.0       5.00            15000000.0  \n",
              "144              -             NaN        NaN                   NaN  \n",
              "150  $6.00 - $6.50       6800000.0       6.25            42500000.0  \n",
              "151  $4.00 - $6.00       4000000.0       5.00            20000000.0  \n",
              "157  $4.00 - $6.00       4000000.0       5.00            20000000.0  \n",
              "158  $4.00 - $6.00       3000000.0       5.00            15000000.0  \n",
              "166  $4.00 - $5.00       3750000.0       4.50            16875000.0  "
            ],
            "text/html": [
              "\n",
              "  <div id=\"df-eedfc7b6-f751-4323-8616-37b0d6512aef\" class=\"colab-df-container\">\n",
              "    <div>\n",
              "<style scoped>\n",
              "    .dataframe tbody tr th:only-of-type {\n",
              "        vertical-align: middle;\n",
              "    }\n",
              "\n",
              "    .dataframe tbody tr th {\n",
              "        vertical-align: top;\n",
              "    }\n",
              "\n",
              "    .dataframe thead th {\n",
              "        text-align: right;\n",
              "    }\n",
              "</style>\n",
              "<table border=\"1\" class=\"dataframe\">\n",
              "  <thead>\n",
              "    <tr style=\"text-align: right;\">\n",
              "      <th></th>\n",
              "      <th>Filing Date</th>\n",
              "      <th>Symbol</th>\n",
              "      <th>Company Name</th>\n",
              "      <th>Price Range</th>\n",
              "      <th>Shares Offered</th>\n",
              "      <th>Avg_price</th>\n",
              "      <th>Shares_offered_value</th>\n",
              "    </tr>\n",
              "  </thead>\n",
              "  <tbody>\n",
              "    <tr>\n",
              "      <th>49</th>\n",
              "      <td>2023-12-29</td>\n",
              "      <td>LEC</td>\n",
              "      <td>Lafayette Energy Corp</td>\n",
              "      <td>$3.50 - $4.50</td>\n",
              "      <td>1200000.0</td>\n",
              "      <td>4.00</td>\n",
              "      <td>4800000.0</td>\n",
              "    </tr>\n",
              "    <tr>\n",
              "      <th>50</th>\n",
              "      <td>2023-12-29</td>\n",
              "      <td>EPSM</td>\n",
              "      <td>Epsium Enterprise Limited</td>\n",
              "      <td>-</td>\n",
              "      <td>NaN</td>\n",
              "      <td>NaN</td>\n",
              "      <td>NaN</td>\n",
              "    </tr>\n",
              "    <tr>\n",
              "      <th>53</th>\n",
              "      <td>2023-12-22</td>\n",
              "      <td>CHLW</td>\n",
              "      <td>Chun Hui Le Wan International Holding Group Ltd</td>\n",
              "      <td>-</td>\n",
              "      <td>NaN</td>\n",
              "      <td>NaN</td>\n",
              "      <td>NaN</td>\n",
              "    </tr>\n",
              "    <tr>\n",
              "      <th>54</th>\n",
              "      <td>2023-12-22</td>\n",
              "      <td>LZMH</td>\n",
              "      <td>LZ Technology Holdings Limited</td>\n",
              "      <td>-</td>\n",
              "      <td>NaN</td>\n",
              "      <td>NaN</td>\n",
              "      <td>NaN</td>\n",
              "    </tr>\n",
              "    <tr>\n",
              "      <th>59</th>\n",
              "      <td>2023-12-15</td>\n",
              "      <td>GIT</td>\n",
              "      <td>Going International Holding Company Limited</td>\n",
              "      <td>-</td>\n",
              "      <td>NaN</td>\n",
              "      <td>NaN</td>\n",
              "      <td>NaN</td>\n",
              "    </tr>\n",
              "    <tr>\n",
              "      <th>61</th>\n",
              "      <td>2023-12-08</td>\n",
              "      <td>ENGS</td>\n",
              "      <td>Energys Group Limited</td>\n",
              "      <td>$4.00 - $6.00</td>\n",
              "      <td>2000000.0</td>\n",
              "      <td>5.00</td>\n",
              "      <td>10000000.0</td>\n",
              "    </tr>\n",
              "    <tr>\n",
              "      <th>62</th>\n",
              "      <td>2023-12-08</td>\n",
              "      <td>LNKS</td>\n",
              "      <td>Linkers Industries Limited</td>\n",
              "      <td>$4.00 - $6.00</td>\n",
              "      <td>2200000.0</td>\n",
              "      <td>5.00</td>\n",
              "      <td>11000000.0</td>\n",
              "    </tr>\n",
              "    <tr>\n",
              "      <th>82</th>\n",
              "      <td>2023-10-27</td>\n",
              "      <td>RAY</td>\n",
              "      <td>Raytech Holding Limited</td>\n",
              "      <td>$4.00 - $5.00</td>\n",
              "      <td>1500000.0</td>\n",
              "      <td>4.50</td>\n",
              "      <td>6750000.0</td>\n",
              "    </tr>\n",
              "    <tr>\n",
              "      <th>89</th>\n",
              "      <td>2023-10-13</td>\n",
              "      <td>ORIS</td>\n",
              "      <td>Oriental Rise Holdings Limited</td>\n",
              "      <td>$4.00</td>\n",
              "      <td>2000000.0</td>\n",
              "      <td>4.00</td>\n",
              "      <td>8000000.0</td>\n",
              "    </tr>\n",
              "    <tr>\n",
              "      <th>92</th>\n",
              "      <td>2023-10-06</td>\n",
              "      <td>QMMM</td>\n",
              "      <td>QMMM Holdings Limited</td>\n",
              "      <td>$4.00</td>\n",
              "      <td>2125000.0</td>\n",
              "      <td>4.00</td>\n",
              "      <td>8500000.0</td>\n",
              "    </tr>\n",
              "    <tr>\n",
              "      <th>96</th>\n",
              "      <td>2023-09-29</td>\n",
              "      <td>KAPA</td>\n",
              "      <td>Kairos Pharma, Ltd.</td>\n",
              "      <td>$4.00</td>\n",
              "      <td>1550000.0</td>\n",
              "      <td>4.00</td>\n",
              "      <td>6200000.0</td>\n",
              "    </tr>\n",
              "    <tr>\n",
              "      <th>97</th>\n",
              "      <td>2023-09-29</td>\n",
              "      <td>VAPA</td>\n",
              "      <td>Valens Pay Global Limited</td>\n",
              "      <td>$5.00 - $6.00</td>\n",
              "      <td>1000000.0</td>\n",
              "      <td>5.50</td>\n",
              "      <td>5500000.0</td>\n",
              "    </tr>\n",
              "    <tr>\n",
              "      <th>104</th>\n",
              "      <td>2023-09-15</td>\n",
              "      <td>ACSB</td>\n",
              "      <td>Acesis Holdings Corporation</td>\n",
              "      <td>$4.00 - $6.00</td>\n",
              "      <td>1300000.0</td>\n",
              "      <td>5.00</td>\n",
              "      <td>6500000.0</td>\n",
              "    </tr>\n",
              "    <tr>\n",
              "      <th>110</th>\n",
              "      <td>2023-08-11</td>\n",
              "      <td>ZXTY</td>\n",
              "      <td>Zhongxing Holding Group Ltd</td>\n",
              "      <td>-</td>\n",
              "      <td>NaN</td>\n",
              "      <td>NaN</td>\n",
              "      <td>NaN</td>\n",
              "    </tr>\n",
              "    <tr>\n",
              "      <th>114</th>\n",
              "      <td>2023-08-04</td>\n",
              "      <td>JZL</td>\n",
              "      <td>Jizhilong Holding Group Ltd.</td>\n",
              "      <td>-</td>\n",
              "      <td>NaN</td>\n",
              "      <td>NaN</td>\n",
              "      <td>NaN</td>\n",
              "    </tr>\n",
              "    <tr>\n",
              "      <th>122</th>\n",
              "      <td>2023-07-07</td>\n",
              "      <td>AZI</td>\n",
              "      <td>Autozi Internet Technology (Global) Ltd.</td>\n",
              "      <td>$4.00 - $5.00</td>\n",
              "      <td>1250000.0</td>\n",
              "      <td>4.50</td>\n",
              "      <td>5625000.0</td>\n",
              "    </tr>\n",
              "    <tr>\n",
              "      <th>125</th>\n",
              "      <td>2023-06-30</td>\n",
              "      <td>SUBL</td>\n",
              "      <td>BioLingus (Cayman) Limited</td>\n",
              "      <td>$20.00</td>\n",
              "      <td>360000.0</td>\n",
              "      <td>20.00</td>\n",
              "      <td>7200000.0</td>\n",
              "    </tr>\n",
              "    <tr>\n",
              "      <th>126</th>\n",
              "      <td>2023-06-30</td>\n",
              "      <td>RLND</td>\n",
              "      <td>The RoyaLand Company Ltd.</td>\n",
              "      <td>$5.00 - $6.00</td>\n",
              "      <td>1250000.0</td>\n",
              "      <td>5.50</td>\n",
              "      <td>6875000.0</td>\n",
              "    </tr>\n",
              "    <tr>\n",
              "      <th>127</th>\n",
              "      <td>2023-06-23</td>\n",
              "      <td>MSW</td>\n",
              "      <td>Ming Shing Group Holdings Limited</td>\n",
              "      <td>$5.00 - $8.00</td>\n",
              "      <td>1500000.0</td>\n",
              "      <td>6.50</td>\n",
              "      <td>9750000.0</td>\n",
              "    </tr>\n",
              "    <tr>\n",
              "      <th>130</th>\n",
              "      <td>2023-06-09</td>\n",
              "      <td>MDRN</td>\n",
              "      <td>Modern Mining Technology Corp.</td>\n",
              "      <td>$4.50 - $5.50</td>\n",
              "      <td>2000000.0</td>\n",
              "      <td>5.00</td>\n",
              "      <td>10000000.0</td>\n",
              "    </tr>\n",
              "    <tr>\n",
              "      <th>135</th>\n",
              "      <td>2023-04-28</td>\n",
              "      <td>MJID</td>\n",
              "      <td>Majestic Ideal Holdings Ltd</td>\n",
              "      <td>$4.00 - $5.00</td>\n",
              "      <td>2500000.0</td>\n",
              "      <td>4.50</td>\n",
              "      <td>11250000.0</td>\n",
              "    </tr>\n",
              "    <tr>\n",
              "      <th>138</th>\n",
              "      <td>2023-04-21</td>\n",
              "      <td>XJET</td>\n",
              "      <td>XJet Ltd.</td>\n",
              "      <td>$4.00</td>\n",
              "      <td>1600000.0</td>\n",
              "      <td>4.00</td>\n",
              "      <td>6400000.0</td>\n",
              "    </tr>\n",
              "    <tr>\n",
              "      <th>139</th>\n",
              "      <td>2023-04-21</td>\n",
              "      <td>JPO</td>\n",
              "      <td>JP Outfitters, Inc.</td>\n",
              "      <td>$4.00</td>\n",
              "      <td>2400000.0</td>\n",
              "      <td>4.00</td>\n",
              "      <td>9600000.0</td>\n",
              "    </tr>\n",
              "    <tr>\n",
              "      <th>140</th>\n",
              "      <td>2023-03-31</td>\n",
              "      <td>SUNH</td>\n",
              "      <td>Xuhang Holdings Limited</td>\n",
              "      <td>$4.00 - $5.00</td>\n",
              "      <td>2750000.0</td>\n",
              "      <td>4.50</td>\n",
              "      <td>12375000.0</td>\n",
              "    </tr>\n",
              "    <tr>\n",
              "      <th>141</th>\n",
              "      <td>2023-03-31</td>\n",
              "      <td>OSTX</td>\n",
              "      <td>OS Therapies Incorporated</td>\n",
              "      <td>$5.00</td>\n",
              "      <td>2000000.0</td>\n",
              "      <td>5.00</td>\n",
              "      <td>10000000.0</td>\n",
              "    </tr>\n",
              "    <tr>\n",
              "      <th>142</th>\n",
              "      <td>2023-03-31</td>\n",
              "      <td>GFCX</td>\n",
              "      <td>GoodFaith Technology Inc.</td>\n",
              "      <td>$4.00 - $6.00</td>\n",
              "      <td>3000000.0</td>\n",
              "      <td>5.00</td>\n",
              "      <td>15000000.0</td>\n",
              "    </tr>\n",
              "    <tr>\n",
              "      <th>144</th>\n",
              "      <td>2023-03-24</td>\n",
              "      <td>USEE</td>\n",
              "      <td>USEE Electronic Commerce Ltd</td>\n",
              "      <td>-</td>\n",
              "      <td>NaN</td>\n",
              "      <td>NaN</td>\n",
              "      <td>NaN</td>\n",
              "    </tr>\n",
              "    <tr>\n",
              "      <th>150</th>\n",
              "      <td>2023-02-24</td>\n",
              "      <td>NTV</td>\n",
              "      <td>NeoTV Group Limited</td>\n",
              "      <td>$6.00 - $6.50</td>\n",
              "      <td>6800000.0</td>\n",
              "      <td>6.25</td>\n",
              "      <td>42500000.0</td>\n",
              "    </tr>\n",
              "    <tr>\n",
              "      <th>151</th>\n",
              "      <td>2023-02-24</td>\n",
              "      <td>BSME</td>\n",
              "      <td>MED EIBY Holding Co., Limited</td>\n",
              "      <td>$4.00 - $6.00</td>\n",
              "      <td>4000000.0</td>\n",
              "      <td>5.00</td>\n",
              "      <td>20000000.0</td>\n",
              "    </tr>\n",
              "    <tr>\n",
              "      <th>157</th>\n",
              "      <td>2023-02-10</td>\n",
              "      <td>WETO</td>\n",
              "      <td>Webus International Limited</td>\n",
              "      <td>$4.00 - $6.00</td>\n",
              "      <td>4000000.0</td>\n",
              "      <td>5.00</td>\n",
              "      <td>20000000.0</td>\n",
              "    </tr>\n",
              "    <tr>\n",
              "      <th>158</th>\n",
              "      <td>2023-02-10</td>\n",
              "      <td>HXHX</td>\n",
              "      <td>Haoxin Holdings Limited</td>\n",
              "      <td>$4.00 - $6.00</td>\n",
              "      <td>3000000.0</td>\n",
              "      <td>5.00</td>\n",
              "      <td>15000000.0</td>\n",
              "    </tr>\n",
              "    <tr>\n",
              "      <th>166</th>\n",
              "      <td>2023-01-13</td>\n",
              "      <td>RVGO</td>\n",
              "      <td>RVeloCITY, Inc.</td>\n",
              "      <td>$4.00 - $5.00</td>\n",
              "      <td>3750000.0</td>\n",
              "      <td>4.50</td>\n",
              "      <td>16875000.0</td>\n",
              "    </tr>\n",
              "  </tbody>\n",
              "</table>\n",
              "</div>\n",
              "    <div class=\"colab-df-buttons\">\n",
              "\n",
              "  <div class=\"colab-df-container\">\n",
              "    <button class=\"colab-df-convert\" onclick=\"convertToInteractive('df-eedfc7b6-f751-4323-8616-37b0d6512aef')\"\n",
              "            title=\"Convert this dataframe to an interactive table.\"\n",
              "            style=\"display:none;\">\n",
              "\n",
              "  <svg xmlns=\"http://www.w3.org/2000/svg\" height=\"24px\" viewBox=\"0 -960 960 960\">\n",
              "    <path d=\"M120-120v-720h720v720H120Zm60-500h600v-160H180v160Zm220 220h160v-160H400v160Zm0 220h160v-160H400v160ZM180-400h160v-160H180v160Zm440 0h160v-160H620v160ZM180-180h160v-160H180v160Zm440 0h160v-160H620v160Z\"/>\n",
              "  </svg>\n",
              "    </button>\n",
              "\n",
              "  <style>\n",
              "    .colab-df-container {\n",
              "      display:flex;\n",
              "      gap: 12px;\n",
              "    }\n",
              "\n",
              "    .colab-df-convert {\n",
              "      background-color: #E8F0FE;\n",
              "      border: none;\n",
              "      border-radius: 50%;\n",
              "      cursor: pointer;\n",
              "      display: none;\n",
              "      fill: #1967D2;\n",
              "      height: 32px;\n",
              "      padding: 0 0 0 0;\n",
              "      width: 32px;\n",
              "    }\n",
              "\n",
              "    .colab-df-convert:hover {\n",
              "      background-color: #E2EBFA;\n",
              "      box-shadow: 0px 1px 2px rgba(60, 64, 67, 0.3), 0px 1px 3px 1px rgba(60, 64, 67, 0.15);\n",
              "      fill: #174EA6;\n",
              "    }\n",
              "\n",
              "    .colab-df-buttons div {\n",
              "      margin-bottom: 4px;\n",
              "    }\n",
              "\n",
              "    [theme=dark] .colab-df-convert {\n",
              "      background-color: #3B4455;\n",
              "      fill: #D2E3FC;\n",
              "    }\n",
              "\n",
              "    [theme=dark] .colab-df-convert:hover {\n",
              "      background-color: #434B5C;\n",
              "      box-shadow: 0px 1px 3px 1px rgba(0, 0, 0, 0.15);\n",
              "      filter: drop-shadow(0px 1px 2px rgba(0, 0, 0, 0.3));\n",
              "      fill: #FFFFFF;\n",
              "    }\n",
              "  </style>\n",
              "\n",
              "    <script>\n",
              "      const buttonEl =\n",
              "        document.querySelector('#df-eedfc7b6-f751-4323-8616-37b0d6512aef button.colab-df-convert');\n",
              "      buttonEl.style.display =\n",
              "        google.colab.kernel.accessAllowed ? 'block' : 'none';\n",
              "\n",
              "      async function convertToInteractive(key) {\n",
              "        const element = document.querySelector('#df-eedfc7b6-f751-4323-8616-37b0d6512aef');\n",
              "        const dataTable =\n",
              "          await google.colab.kernel.invokeFunction('convertToInteractive',\n",
              "                                                    [key], {});\n",
              "        if (!dataTable) return;\n",
              "\n",
              "        const docLinkHtml = 'Like what you see? Visit the ' +\n",
              "          '<a target=\"_blank\" href=https://colab.research.google.com/notebooks/data_table.ipynb>data table notebook</a>'\n",
              "          + ' to learn more about interactive tables.';\n",
              "        element.innerHTML = '';\n",
              "        dataTable['output_type'] = 'display_data';\n",
              "        await google.colab.output.renderOutput(dataTable, element);\n",
              "        const docLink = document.createElement('div');\n",
              "        docLink.innerHTML = docLinkHtml;\n",
              "        element.appendChild(docLink);\n",
              "      }\n",
              "    </script>\n",
              "  </div>\n",
              "\n",
              "\n",
              "<div id=\"df-bd41b76e-d1e8-45c5-b958-6ed014d212a2\">\n",
              "  <button class=\"colab-df-quickchart\" onclick=\"quickchart('df-bd41b76e-d1e8-45c5-b958-6ed014d212a2')\"\n",
              "            title=\"Suggest charts\"\n",
              "            style=\"display:none;\">\n",
              "\n",
              "<svg xmlns=\"http://www.w3.org/2000/svg\" height=\"24px\"viewBox=\"0 0 24 24\"\n",
              "     width=\"24px\">\n",
              "    <g>\n",
              "        <path d=\"M19 3H5c-1.1 0-2 .9-2 2v14c0 1.1.9 2 2 2h14c1.1 0 2-.9 2-2V5c0-1.1-.9-2-2-2zM9 17H7v-7h2v7zm4 0h-2V7h2v10zm4 0h-2v-4h2v4z\"/>\n",
              "    </g>\n",
              "</svg>\n",
              "  </button>\n",
              "\n",
              "<style>\n",
              "  .colab-df-quickchart {\n",
              "      --bg-color: #E8F0FE;\n",
              "      --fill-color: #1967D2;\n",
              "      --hover-bg-color: #E2EBFA;\n",
              "      --hover-fill-color: #174EA6;\n",
              "      --disabled-fill-color: #AAA;\n",
              "      --disabled-bg-color: #DDD;\n",
              "  }\n",
              "\n",
              "  [theme=dark] .colab-df-quickchart {\n",
              "      --bg-color: #3B4455;\n",
              "      --fill-color: #D2E3FC;\n",
              "      --hover-bg-color: #434B5C;\n",
              "      --hover-fill-color: #FFFFFF;\n",
              "      --disabled-bg-color: #3B4455;\n",
              "      --disabled-fill-color: #666;\n",
              "  }\n",
              "\n",
              "  .colab-df-quickchart {\n",
              "    background-color: var(--bg-color);\n",
              "    border: none;\n",
              "    border-radius: 50%;\n",
              "    cursor: pointer;\n",
              "    display: none;\n",
              "    fill: var(--fill-color);\n",
              "    height: 32px;\n",
              "    padding: 0;\n",
              "    width: 32px;\n",
              "  }\n",
              "\n",
              "  .colab-df-quickchart:hover {\n",
              "    background-color: var(--hover-bg-color);\n",
              "    box-shadow: 0 1px 2px rgba(60, 64, 67, 0.3), 0 1px 3px 1px rgba(60, 64, 67, 0.15);\n",
              "    fill: var(--button-hover-fill-color);\n",
              "  }\n",
              "\n",
              "  .colab-df-quickchart-complete:disabled,\n",
              "  .colab-df-quickchart-complete:disabled:hover {\n",
              "    background-color: var(--disabled-bg-color);\n",
              "    fill: var(--disabled-fill-color);\n",
              "    box-shadow: none;\n",
              "  }\n",
              "\n",
              "  .colab-df-spinner {\n",
              "    border: 2px solid var(--fill-color);\n",
              "    border-color: transparent;\n",
              "    border-bottom-color: var(--fill-color);\n",
              "    animation:\n",
              "      spin 1s steps(1) infinite;\n",
              "  }\n",
              "\n",
              "  @keyframes spin {\n",
              "    0% {\n",
              "      border-color: transparent;\n",
              "      border-bottom-color: var(--fill-color);\n",
              "      border-left-color: var(--fill-color);\n",
              "    }\n",
              "    20% {\n",
              "      border-color: transparent;\n",
              "      border-left-color: var(--fill-color);\n",
              "      border-top-color: var(--fill-color);\n",
              "    }\n",
              "    30% {\n",
              "      border-color: transparent;\n",
              "      border-left-color: var(--fill-color);\n",
              "      border-top-color: var(--fill-color);\n",
              "      border-right-color: var(--fill-color);\n",
              "    }\n",
              "    40% {\n",
              "      border-color: transparent;\n",
              "      border-right-color: var(--fill-color);\n",
              "      border-top-color: var(--fill-color);\n",
              "    }\n",
              "    60% {\n",
              "      border-color: transparent;\n",
              "      border-right-color: var(--fill-color);\n",
              "    }\n",
              "    80% {\n",
              "      border-color: transparent;\n",
              "      border-right-color: var(--fill-color);\n",
              "      border-bottom-color: var(--fill-color);\n",
              "    }\n",
              "    90% {\n",
              "      border-color: transparent;\n",
              "      border-bottom-color: var(--fill-color);\n",
              "    }\n",
              "  }\n",
              "</style>\n",
              "\n",
              "  <script>\n",
              "    async function quickchart(key) {\n",
              "      const quickchartButtonEl =\n",
              "        document.querySelector('#' + key + ' button');\n",
              "      quickchartButtonEl.disabled = true;  // To prevent multiple clicks.\n",
              "      quickchartButtonEl.classList.add('colab-df-spinner');\n",
              "      try {\n",
              "        const charts = await google.colab.kernel.invokeFunction(\n",
              "            'suggestCharts', [key], {});\n",
              "      } catch (error) {\n",
              "        console.error('Error during call to suggestCharts:', error);\n",
              "      }\n",
              "      quickchartButtonEl.classList.remove('colab-df-spinner');\n",
              "      quickchartButtonEl.classList.add('colab-df-quickchart-complete');\n",
              "    }\n",
              "    (() => {\n",
              "      let quickchartButtonEl =\n",
              "        document.querySelector('#df-bd41b76e-d1e8-45c5-b958-6ed014d212a2 button');\n",
              "      quickchartButtonEl.style.display =\n",
              "        google.colab.kernel.accessAllowed ? 'block' : 'none';\n",
              "    })();\n",
              "  </script>\n",
              "</div>\n",
              "    </div>\n",
              "  </div>\n"
            ],
            "application/vnd.google.colaboratory.intrinsic+json": {
              "type": "dataframe",
              "variable_name": "filtered_df",
              "summary": "{\n  \"name\": \"filtered_df\",\n  \"rows\": 32,\n  \"fields\": [\n    {\n      \"column\": \"Filing Date\",\n      \"properties\": {\n        \"dtype\": \"date\",\n        \"min\": \"2023-01-13 00:00:00\",\n        \"max\": \"2023-12-29 00:00:00\",\n        \"num_unique_values\": 22,\n        \"samples\": [\n          \"2023-12-29 00:00:00\",\n          \"2023-06-23 00:00:00\",\n          \"2023-09-15 00:00:00\"\n        ],\n        \"semantic_type\": \"\",\n        \"description\": \"\"\n      }\n    },\n    {\n      \"column\": \"Symbol\",\n      \"properties\": {\n        \"dtype\": \"string\",\n        \"num_unique_values\": 32,\n        \"samples\": [\n          \"WETO\",\n          \"AZI\",\n          \"OSTX\"\n        ],\n        \"semantic_type\": \"\",\n        \"description\": \"\"\n      }\n    },\n    {\n      \"column\": \"Company Name\",\n      \"properties\": {\n        \"dtype\": \"string\",\n        \"num_unique_values\": 32,\n        \"samples\": [\n          \"Webus International Limited\",\n          \"Autozi Internet Technology (Global) Ltd.\",\n          \"OS Therapies Incorporated\"\n        ],\n        \"semantic_type\": \"\",\n        \"description\": \"\"\n      }\n    },\n    {\n      \"column\": \"Price Range\",\n      \"properties\": {\n        \"dtype\": \"category\",\n        \"num_unique_values\": 11,\n        \"samples\": [\n          \"$5.00 - $6.00\",\n          \"$3.50 - $4.50\",\n          \"$5.00\"\n        ],\n        \"semantic_type\": \"\",\n        \"description\": \"\"\n      }\n    },\n    {\n      \"column\": \"Shares Offered\",\n      \"properties\": {\n        \"dtype\": \"number\",\n        \"std\": 1322215.2497481895,\n        \"min\": 360000.0,\n        \"max\": 6800000.0,\n        \"num_unique_values\": 18,\n        \"samples\": [\n          1200000.0,\n          2000000.0,\n          1250000.0\n        ],\n        \"semantic_type\": \"\",\n        \"description\": \"\"\n      }\n    },\n    {\n      \"column\": \"Avg_price\",\n      \"properties\": {\n        \"dtype\": \"number\",\n        \"std\": 3.111537669170448,\n        \"min\": 4.0,\n        \"max\": 20.0,\n        \"num_unique_values\": 7,\n        \"samples\": [\n          4.0,\n          5.0,\n          6.5\n        ],\n        \"semantic_type\": \"\",\n        \"description\": \"\"\n      }\n    },\n    {\n      \"column\": \"Shares_offered_value\",\n      \"properties\": {\n        \"dtype\": \"number\",\n        \"std\": 7776729.175345292,\n        \"min\": 4800000.0,\n        \"max\": 42500000.0,\n        \"num_unique_values\": 21,\n        \"samples\": [\n          4800000.0,\n          15000000.0,\n          9600000.0\n        ],\n        \"semantic_type\": \"\",\n        \"description\": \"\"\n      }\n    }\n  ]\n}"
            }
          },
          "metadata": {},
          "execution_count": 15
        }
      ],
      "source": [
        "filtered_df.loc[:,'Shares_offered_value'] = filtered_df['Shares Offered'] * filtered_df['Avg_price']\n",
        "filtered_df"
      ]
    },
    {
      "cell_type": "code",
      "execution_count": null,
      "metadata": {
        "colab": {
          "base_uri": "https://localhost:8080/"
        },
        "id": "BbmcHh8Rsk3y",
        "outputId": "54008e46-8a74-42f7-9b56-26d106662f47"
      },
      "outputs": [
        {
          "output_type": "execute_result",
          "data": {
            "text/plain": [
              "Shares_offered_value\n",
              "False    25\n",
              "True      7\n",
              "Name: count, dtype: int64"
            ]
          },
          "metadata": {},
          "execution_count": 16
        }
      ],
      "source": [
        "filtered_df.Shares_offered_value.isnull().value_counts()"
      ]
    },
    {
      "cell_type": "code",
      "execution_count": null,
      "metadata": {
        "colab": {
          "base_uri": "https://localhost:8080/"
        },
        "id": "fDF2SF3LPK27",
        "outputId": "ae30d5c4-0033-4cf7-c876-d8c0a70b27f5"
      },
      "outputs": [
        {
          "output_type": "execute_result",
          "data": {
            "text/plain": [
              "285.7"
            ]
          },
          "metadata": {},
          "execution_count": 17
        }
      ],
      "source": [
        "# 293M was offered in 2023 during IPOs on Fridays\n",
        "filtered_df.Shares_offered_value.sum()/1e6"
      ]
    },
    {
      "cell_type": "markdown",
      "metadata": {
        "id": "r_nfohVJcwIb"
      },
      "source": [
        "# Q2: IPOs: \"Fixed days hold\" strategy"
      ]
    },
    {
      "cell_type": "code",
      "execution_count": null,
      "metadata": {
        "id": "DHytUVXoc0m9"
      },
      "outputs": [],
      "source": [
        "# Reuse the [Code Snippet 1] to get list of IPOs from 2023 and 2024\n",
        "# (URLs: https://stockanalysis.com/ipos/2023/ and https://stockanalysis.com/ipos/2024/)\n",
        "\n",
        "# Get all OHLCV daily prices on all (xx) tickers\n",
        "\n",
        "# Let's assume you managed to buy on a first day at the [Adj Close price].\n",
        "# Your strategy is to hold exactly X (X is between 1 and 30) and sell at the Adj. Close price in X days (if X=1 --> you sell on the next day)\n",
        "# Find X, when the MEDIAN growth (not mean/average, but 50% quantile if you use .describe() function) for all IPOs in 2023 is the best.\n",
        "\n",
        "# (additional: try this X for 2024 IPOs from Jan and Feb, do you see the similar distribution of returns? Does the median return is positive and similar?)\n",
        "# do you see the same jump of price (for a avg/median case) in a few days after the IPO?"
      ]
    },
    {
      "cell_type": "code",
      "execution_count": null,
      "metadata": {
        "id": "a5wDOV1VT9N4"
      },
      "outputs": [],
      "source": [
        "import pandas as pd\n",
        "import requests\n",
        "\n",
        "headers = {\n",
        "    'User-Agent': 'Mozilla/5.0 (Windows NT 10.0; Win64; x64) AppleWebKit/537.36 (KHTML, like Gecko) Chrome/58.0.3029.110 Safari/537.3',\n",
        "}\n",
        "\n",
        "url = \"https://stockanalysis.com/ipos/2023/\"\n",
        "response = requests.get(url, headers=headers)\n",
        "\n",
        "ipo_dfs = pd.read_html(response.text)"
      ]
    },
    {
      "cell_type": "code",
      "execution_count": null,
      "metadata": {
        "colab": {
          "base_uri": "https://localhost:8080/"
        },
        "id": "fXKQomkMT-V3",
        "outputId": "6a6b6f86-1bae-4526-bead-f1e8a4d6cb26"
      },
      "outputs": [
        {
          "output_type": "stream",
          "name": "stdout",
          "text": [
            "<class 'pandas.core.frame.DataFrame'>\n",
            "RangeIndex: 154 entries, 0 to 153\n",
            "Data columns (total 6 columns):\n",
            " #   Column        Non-Null Count  Dtype \n",
            "---  ------        --------------  ----- \n",
            " 0   IPO Date      154 non-null    object\n",
            " 1   Symbol        154 non-null    object\n",
            " 2   Company Name  154 non-null    object\n",
            " 3   IPO Price     154 non-null    object\n",
            " 4   Current       154 non-null    object\n",
            " 5   Return        154 non-null    object\n",
            "dtypes: object(6)\n",
            "memory usage: 7.3+ KB\n"
          ]
        }
      ],
      "source": [
        "ipos_2023 = ipo_dfs[0]\n",
        "ipos_2023.info()"
      ]
    },
    {
      "cell_type": "code",
      "execution_count": null,
      "metadata": {
        "id": "_t5yptXQT_rU"
      },
      "outputs": [],
      "source": [
        "url = \"https://stockanalysis.com/ipos/2024/\"\n",
        "response = requests.get(url, headers=headers)\n",
        "\n",
        "ipo_dfs = pd.read_html(response.text)"
      ]
    },
    {
      "cell_type": "code",
      "execution_count": null,
      "metadata": {
        "colab": {
          "base_uri": "https://localhost:8080/"
        },
        "id": "hFJE-AbSUDsL",
        "outputId": "0521802a-0640-4565-d6c2-7c519e73ac59"
      },
      "outputs": [
        {
          "output_type": "stream",
          "name": "stdout",
          "text": [
            "<class 'pandas.core.frame.DataFrame'>\n",
            "RangeIndex: 63 entries, 0 to 62\n",
            "Data columns (total 6 columns):\n",
            " #   Column        Non-Null Count  Dtype \n",
            "---  ------        --------------  ----- \n",
            " 0   IPO Date      63 non-null     object\n",
            " 1   Symbol        63 non-null     object\n",
            " 2   Company Name  63 non-null     object\n",
            " 3   IPO Price     63 non-null     object\n",
            " 4   Current       63 non-null     object\n",
            " 5   Return        63 non-null     object\n",
            "dtypes: object(6)\n",
            "memory usage: 3.1+ KB\n"
          ]
        }
      ],
      "source": [
        "ipos_2024 = ipo_dfs[0]\n",
        "ipos_2024.info()"
      ]
    },
    {
      "cell_type": "code",
      "execution_count": null,
      "metadata": {
        "id": "f9D9Ejs3UGKj"
      },
      "outputs": [],
      "source": [
        "stacked_ipos_df = pd.concat([ipos_2024, ipos_2023], ignore_index=True)"
      ]
    },
    {
      "cell_type": "code",
      "execution_count": null,
      "metadata": {
        "colab": {
          "base_uri": "https://localhost:8080/",
          "height": 112
        },
        "id": "c5P6nOVqVHNC",
        "outputId": "5162df83-6558-4dbb-c3a8-e039620c6601"
      },
      "outputs": [
        {
          "output_type": "execute_result",
          "data": {
            "text/plain": [
              "        IPO Date Symbol                        Company Name IPO Price Current  \\\n",
              "23  Mar 26, 2024   IBAC                IB Acquisition Corp.    $10.00  $10.05   \n",
              "26  Mar 21, 2024   BKHA  Black Hawk Acquisition Corporation    $10.00  $10.29   \n",
              "\n",
              "   Return  \n",
              "23  0.50%  \n",
              "26  2.90%  "
            ],
            "text/html": [
              "\n",
              "  <div id=\"df-9529da68-db70-4fce-8e72-34581a3367c3\" class=\"colab-df-container\">\n",
              "    <div>\n",
              "<style scoped>\n",
              "    .dataframe tbody tr th:only-of-type {\n",
              "        vertical-align: middle;\n",
              "    }\n",
              "\n",
              "    .dataframe tbody tr th {\n",
              "        vertical-align: top;\n",
              "    }\n",
              "\n",
              "    .dataframe thead th {\n",
              "        text-align: right;\n",
              "    }\n",
              "</style>\n",
              "<table border=\"1\" class=\"dataframe\">\n",
              "  <thead>\n",
              "    <tr style=\"text-align: right;\">\n",
              "      <th></th>\n",
              "      <th>IPO Date</th>\n",
              "      <th>Symbol</th>\n",
              "      <th>Company Name</th>\n",
              "      <th>IPO Price</th>\n",
              "      <th>Current</th>\n",
              "      <th>Return</th>\n",
              "    </tr>\n",
              "  </thead>\n",
              "  <tbody>\n",
              "    <tr>\n",
              "      <th>23</th>\n",
              "      <td>Mar 26, 2024</td>\n",
              "      <td>IBAC</td>\n",
              "      <td>IB Acquisition Corp.</td>\n",
              "      <td>$10.00</td>\n",
              "      <td>$10.05</td>\n",
              "      <td>0.50%</td>\n",
              "    </tr>\n",
              "    <tr>\n",
              "      <th>26</th>\n",
              "      <td>Mar 21, 2024</td>\n",
              "      <td>BKHA</td>\n",
              "      <td>Black Hawk Acquisition Corporation</td>\n",
              "      <td>$10.00</td>\n",
              "      <td>$10.29</td>\n",
              "      <td>2.90%</td>\n",
              "    </tr>\n",
              "  </tbody>\n",
              "</table>\n",
              "</div>\n",
              "    <div class=\"colab-df-buttons\">\n",
              "\n",
              "  <div class=\"colab-df-container\">\n",
              "    <button class=\"colab-df-convert\" onclick=\"convertToInteractive('df-9529da68-db70-4fce-8e72-34581a3367c3')\"\n",
              "            title=\"Convert this dataframe to an interactive table.\"\n",
              "            style=\"display:none;\">\n",
              "\n",
              "  <svg xmlns=\"http://www.w3.org/2000/svg\" height=\"24px\" viewBox=\"0 -960 960 960\">\n",
              "    <path d=\"M120-120v-720h720v720H120Zm60-500h600v-160H180v160Zm220 220h160v-160H400v160Zm0 220h160v-160H400v160ZM180-400h160v-160H180v160Zm440 0h160v-160H620v160ZM180-180h160v-160H180v160Zm440 0h160v-160H620v160Z\"/>\n",
              "  </svg>\n",
              "    </button>\n",
              "\n",
              "  <style>\n",
              "    .colab-df-container {\n",
              "      display:flex;\n",
              "      gap: 12px;\n",
              "    }\n",
              "\n",
              "    .colab-df-convert {\n",
              "      background-color: #E8F0FE;\n",
              "      border: none;\n",
              "      border-radius: 50%;\n",
              "      cursor: pointer;\n",
              "      display: none;\n",
              "      fill: #1967D2;\n",
              "      height: 32px;\n",
              "      padding: 0 0 0 0;\n",
              "      width: 32px;\n",
              "    }\n",
              "\n",
              "    .colab-df-convert:hover {\n",
              "      background-color: #E2EBFA;\n",
              "      box-shadow: 0px 1px 2px rgba(60, 64, 67, 0.3), 0px 1px 3px 1px rgba(60, 64, 67, 0.15);\n",
              "      fill: #174EA6;\n",
              "    }\n",
              "\n",
              "    .colab-df-buttons div {\n",
              "      margin-bottom: 4px;\n",
              "    }\n",
              "\n",
              "    [theme=dark] .colab-df-convert {\n",
              "      background-color: #3B4455;\n",
              "      fill: #D2E3FC;\n",
              "    }\n",
              "\n",
              "    [theme=dark] .colab-df-convert:hover {\n",
              "      background-color: #434B5C;\n",
              "      box-shadow: 0px 1px 3px 1px rgba(0, 0, 0, 0.15);\n",
              "      filter: drop-shadow(0px 1px 2px rgba(0, 0, 0, 0.3));\n",
              "      fill: #FFFFFF;\n",
              "    }\n",
              "  </style>\n",
              "\n",
              "    <script>\n",
              "      const buttonEl =\n",
              "        document.querySelector('#df-9529da68-db70-4fce-8e72-34581a3367c3 button.colab-df-convert');\n",
              "      buttonEl.style.display =\n",
              "        google.colab.kernel.accessAllowed ? 'block' : 'none';\n",
              "\n",
              "      async function convertToInteractive(key) {\n",
              "        const element = document.querySelector('#df-9529da68-db70-4fce-8e72-34581a3367c3');\n",
              "        const dataTable =\n",
              "          await google.colab.kernel.invokeFunction('convertToInteractive',\n",
              "                                                    [key], {});\n",
              "        if (!dataTable) return;\n",
              "\n",
              "        const docLinkHtml = 'Like what you see? Visit the ' +\n",
              "          '<a target=\"_blank\" href=https://colab.research.google.com/notebooks/data_table.ipynb>data table notebook</a>'\n",
              "          + ' to learn more about interactive tables.';\n",
              "        element.innerHTML = '';\n",
              "        dataTable['output_type'] = 'display_data';\n",
              "        await google.colab.output.renderOutput(dataTable, element);\n",
              "        const docLink = document.createElement('div');\n",
              "        docLink.innerHTML = docLinkHtml;\n",
              "        element.appendChild(docLink);\n",
              "      }\n",
              "    </script>\n",
              "  </div>\n",
              "\n",
              "\n",
              "<div id=\"df-085f4ddb-e16f-4835-bd0d-e6fda701bde5\">\n",
              "  <button class=\"colab-df-quickchart\" onclick=\"quickchart('df-085f4ddb-e16f-4835-bd0d-e6fda701bde5')\"\n",
              "            title=\"Suggest charts\"\n",
              "            style=\"display:none;\">\n",
              "\n",
              "<svg xmlns=\"http://www.w3.org/2000/svg\" height=\"24px\"viewBox=\"0 0 24 24\"\n",
              "     width=\"24px\">\n",
              "    <g>\n",
              "        <path d=\"M19 3H5c-1.1 0-2 .9-2 2v14c0 1.1.9 2 2 2h14c1.1 0 2-.9 2-2V5c0-1.1-.9-2-2-2zM9 17H7v-7h2v7zm4 0h-2V7h2v10zm4 0h-2v-4h2v4z\"/>\n",
              "    </g>\n",
              "</svg>\n",
              "  </button>\n",
              "\n",
              "<style>\n",
              "  .colab-df-quickchart {\n",
              "      --bg-color: #E8F0FE;\n",
              "      --fill-color: #1967D2;\n",
              "      --hover-bg-color: #E2EBFA;\n",
              "      --hover-fill-color: #174EA6;\n",
              "      --disabled-fill-color: #AAA;\n",
              "      --disabled-bg-color: #DDD;\n",
              "  }\n",
              "\n",
              "  [theme=dark] .colab-df-quickchart {\n",
              "      --bg-color: #3B4455;\n",
              "      --fill-color: #D2E3FC;\n",
              "      --hover-bg-color: #434B5C;\n",
              "      --hover-fill-color: #FFFFFF;\n",
              "      --disabled-bg-color: #3B4455;\n",
              "      --disabled-fill-color: #666;\n",
              "  }\n",
              "\n",
              "  .colab-df-quickchart {\n",
              "    background-color: var(--bg-color);\n",
              "    border: none;\n",
              "    border-radius: 50%;\n",
              "    cursor: pointer;\n",
              "    display: none;\n",
              "    fill: var(--fill-color);\n",
              "    height: 32px;\n",
              "    padding: 0;\n",
              "    width: 32px;\n",
              "  }\n",
              "\n",
              "  .colab-df-quickchart:hover {\n",
              "    background-color: var(--hover-bg-color);\n",
              "    box-shadow: 0 1px 2px rgba(60, 64, 67, 0.3), 0 1px 3px 1px rgba(60, 64, 67, 0.15);\n",
              "    fill: var(--button-hover-fill-color);\n",
              "  }\n",
              "\n",
              "  .colab-df-quickchart-complete:disabled,\n",
              "  .colab-df-quickchart-complete:disabled:hover {\n",
              "    background-color: var(--disabled-bg-color);\n",
              "    fill: var(--disabled-fill-color);\n",
              "    box-shadow: none;\n",
              "  }\n",
              "\n",
              "  .colab-df-spinner {\n",
              "    border: 2px solid var(--fill-color);\n",
              "    border-color: transparent;\n",
              "    border-bottom-color: var(--fill-color);\n",
              "    animation:\n",
              "      spin 1s steps(1) infinite;\n",
              "  }\n",
              "\n",
              "  @keyframes spin {\n",
              "    0% {\n",
              "      border-color: transparent;\n",
              "      border-bottom-color: var(--fill-color);\n",
              "      border-left-color: var(--fill-color);\n",
              "    }\n",
              "    20% {\n",
              "      border-color: transparent;\n",
              "      border-left-color: var(--fill-color);\n",
              "      border-top-color: var(--fill-color);\n",
              "    }\n",
              "    30% {\n",
              "      border-color: transparent;\n",
              "      border-left-color: var(--fill-color);\n",
              "      border-top-color: var(--fill-color);\n",
              "      border-right-color: var(--fill-color);\n",
              "    }\n",
              "    40% {\n",
              "      border-color: transparent;\n",
              "      border-right-color: var(--fill-color);\n",
              "      border-top-color: var(--fill-color);\n",
              "    }\n",
              "    60% {\n",
              "      border-color: transparent;\n",
              "      border-right-color: var(--fill-color);\n",
              "    }\n",
              "    80% {\n",
              "      border-color: transparent;\n",
              "      border-right-color: var(--fill-color);\n",
              "      border-bottom-color: var(--fill-color);\n",
              "    }\n",
              "    90% {\n",
              "      border-color: transparent;\n",
              "      border-bottom-color: var(--fill-color);\n",
              "    }\n",
              "  }\n",
              "</style>\n",
              "\n",
              "  <script>\n",
              "    async function quickchart(key) {\n",
              "      const quickchartButtonEl =\n",
              "        document.querySelector('#' + key + ' button');\n",
              "      quickchartButtonEl.disabled = true;  // To prevent multiple clicks.\n",
              "      quickchartButtonEl.classList.add('colab-df-spinner');\n",
              "      try {\n",
              "        const charts = await google.colab.kernel.invokeFunction(\n",
              "            'suggestCharts', [key], {});\n",
              "      } catch (error) {\n",
              "        console.error('Error during call to suggestCharts:', error);\n",
              "      }\n",
              "      quickchartButtonEl.classList.remove('colab-df-spinner');\n",
              "      quickchartButtonEl.classList.add('colab-df-quickchart-complete');\n",
              "    }\n",
              "    (() => {\n",
              "      let quickchartButtonEl =\n",
              "        document.querySelector('#df-085f4ddb-e16f-4835-bd0d-e6fda701bde5 button');\n",
              "      quickchartButtonEl.style.display =\n",
              "        google.colab.kernel.accessAllowed ? 'block' : 'none';\n",
              "    })();\n",
              "  </script>\n",
              "</div>\n",
              "    </div>\n",
              "  </div>\n"
            ],
            "application/vnd.google.colaboratory.intrinsic+json": {
              "type": "dataframe",
              "repr_error": "0"
            }
          },
          "metadata": {},
          "execution_count": 24
        }
      ],
      "source": [
        "stacked_ipos_df[stacked_ipos_df.Symbol.isin(['IBAC','BKHA'])]"
      ]
    },
    {
      "cell_type": "code",
      "execution_count": null,
      "metadata": {
        "id": "FWh-w6xqWhnK"
      },
      "outputs": [],
      "source": [
        "# convert to datetime\n",
        "stacked_ipos_df['IPO Date'] = pd.to_datetime(stacked_ipos_df['IPO Date'])"
      ]
    },
    {
      "cell_type": "code",
      "execution_count": null,
      "metadata": {
        "colab": {
          "base_uri": "https://localhost:8080/"
        },
        "id": "8QUX19c9UNMU",
        "outputId": "580c6d4d-0aee-481e-ec46-0d6b125b295e"
      },
      "outputs": [
        {
          "output_type": "execute_result",
          "data": {
            "text/plain": [
              "185"
            ]
          },
          "metadata": {},
          "execution_count": 26
        }
      ],
      "source": [
        "TICKERS = [e for e in stacked_ipos_df[stacked_ipos_df['IPO Date']<'2024-03-01'].Symbol.to_list()]\n",
        "len(TICKERS)"
      ]
    },
    {
      "cell_type": "code",
      "execution_count": null,
      "metadata": {
        "id": "aWu-6VQrWH6T"
      },
      "outputs": [],
      "source": [
        "def correct_ticker(ticker:str):\n",
        "  map = {'IBAC':'IBACU',\n",
        "         'BKHA':'BKHAU',\n",
        "         'PTHR':'PTHRU'}\n",
        "  if ticker in map.keys():\n",
        "    return map[ticker]\n",
        "\n",
        "  return ticker"
      ]
    },
    {
      "cell_type": "code",
      "execution_count": null,
      "metadata": {
        "id": "OBO6NZ7SbNQ-"
      },
      "outputs": [],
      "source": [
        "import time\n"
      ]
    },
    {
      "cell_type": "code",
      "execution_count": null,
      "metadata": {
        "id": "mYugzhWCUV7X"
      },
      "outputs": [],
      "source": [
        "def get_stocks_df(TICKERS):\n",
        "\n",
        "  stocks_df = pd.DataFrame({'A' : []})\n",
        "\n",
        "  for i,ticker in enumerate(TICKERS):\n",
        "    if ticker in ['RYZB']:  # not available, or delisted\n",
        "      continue\n",
        "    ticker = correct_ticker(ticker)\n",
        "\n",
        "    print(i,ticker)\n",
        "\n",
        "    # Work with stock prices\n",
        "    historyPrices = yf.download(tickers = ticker,\n",
        "                      period = \"max\",\n",
        "                      interval = \"1d\")\n",
        "\n",
        "    # generate features for historical prices, and what we want to predict\n",
        "    historyPrices['Ticker'] = ticker\n",
        "    historyPrices['Year']= historyPrices.index.year\n",
        "    historyPrices['Month'] = historyPrices.index.month\n",
        "    historyPrices['Weekday'] = historyPrices.index.weekday\n",
        "    historyPrices['Date'] = historyPrices.index.date\n",
        "\n",
        "    # historical returns\n",
        "    for i in [1,3,7,30,90,365]:\n",
        "      historyPrices['growth_'+str(i)+'d'] = historyPrices['Adj Close'] / historyPrices['Adj Close'].shift(i)\n",
        "    historyPrices['growth_future_5d'] = historyPrices['Adj Close'].shift(-5) / historyPrices['Adj Close']\n",
        "\n",
        "    # Technical indicators\n",
        "    # SimpleMovingAverage 10 days and 20 days\n",
        "    historyPrices['SMA10']= historyPrices['Close'].rolling(10).mean()\n",
        "    historyPrices['SMA20']= historyPrices['Close'].rolling(20).mean()\n",
        "    historyPrices['growing_moving_average'] = np.where(historyPrices['SMA10'] > historyPrices['SMA20'], 1, 0)\n",
        "    historyPrices['high_minus_low_relative'] = (historyPrices.High - historyPrices.Low) / historyPrices['Adj Close']\n",
        "\n",
        "    # 30d rolling volatility : https://ycharts.com/glossary/terms/rolling_vol_30\n",
        "    historyPrices['volatility'] =   historyPrices['Adj Close'].rolling(30).std() * np.sqrt(252)\n",
        "\n",
        "    # what we want to predict\n",
        "    historyPrices['is_positive_growth_5d_future'] = np.where(historyPrices['growth_future_5d'] > 1, 1, 0)\n",
        "\n",
        "    # sleep 1 sec between downloads - not to overload the API server\n",
        "    time.sleep(0.5)\n",
        "\n",
        "\n",
        "    if stocks_df.empty:\n",
        "      stocks_df = historyPrices\n",
        "    else:\n",
        "      stocks_df = pd.concat([stocks_df, historyPrices], ignore_index=True)\n",
        "  return stocks_df"
      ]
    },
    {
      "cell_type": "code",
      "execution_count": null,
      "metadata": {
        "colab": {
          "base_uri": "https://localhost:8080/"
        },
        "id": "qx1V-eKIY_7J",
        "outputId": "e6ce4939-e61e-45e0-9b07-0551ebaebe89"
      },
      "outputs": [
        {
          "output_type": "stream",
          "name": "stdout",
          "text": [
            "0 SMXT\n"
          ]
        },
        {
          "output_type": "stream",
          "name": "stderr",
          "text": [
            "[*********************100%%**********************]  1 of 1 completed\n",
            "[*********************100%%**********************]  1 of 1 completed"
          ]
        },
        {
          "output_type": "stream",
          "name": "stdout",
          "text": [
            "1 VHAI\n"
          ]
        },
        {
          "output_type": "stream",
          "name": "stderr",
          "text": [
            "\n",
            "[*********************100%%**********************]  1 of 1 completed"
          ]
        },
        {
          "output_type": "stream",
          "name": "stdout",
          "text": [
            "2 DYCQ\n"
          ]
        },
        {
          "output_type": "stream",
          "name": "stderr",
          "text": [
            "\n",
            "[*********************100%%**********************]  1 of 1 completed"
          ]
        },
        {
          "output_type": "stream",
          "name": "stdout",
          "text": [
            "3 CHRO\n"
          ]
        },
        {
          "output_type": "stream",
          "name": "stderr",
          "text": [
            "\n",
            "[*********************100%%**********************]  1 of 1 completed"
          ]
        },
        {
          "output_type": "stream",
          "name": "stdout",
          "text": [
            "4 UMAC\n"
          ]
        },
        {
          "output_type": "stream",
          "name": "stderr",
          "text": [
            "\n",
            "[*********************100%%**********************]  1 of 1 completed"
          ]
        },
        {
          "output_type": "stream",
          "name": "stdout",
          "text": [
            "5 TBBB\n"
          ]
        },
        {
          "output_type": "stream",
          "name": "stderr",
          "text": [
            "\n",
            "[*********************100%%**********************]  1 of 1 completed"
          ]
        },
        {
          "output_type": "stream",
          "name": "stdout",
          "text": [
            "6 MGX\n"
          ]
        },
        {
          "output_type": "stream",
          "name": "stderr",
          "text": [
            "\n",
            "[*********************100%%**********************]  1 of 1 completed"
          ]
        },
        {
          "output_type": "stream",
          "name": "stdout",
          "text": [
            "7 HLXB\n"
          ]
        },
        {
          "output_type": "stream",
          "name": "stderr",
          "text": [
            "\n",
            "[*********************100%%**********************]  1 of 1 completed"
          ]
        },
        {
          "output_type": "stream",
          "name": "stdout",
          "text": [
            "8 TELO\n"
          ]
        },
        {
          "output_type": "stream",
          "name": "stderr",
          "text": [
            "\n",
            "[*********************100%%**********************]  1 of 1 completed"
          ]
        },
        {
          "output_type": "stream",
          "name": "stdout",
          "text": [
            "9 KYTX\n"
          ]
        },
        {
          "output_type": "stream",
          "name": "stderr",
          "text": [
            "\n",
            "[*********************100%%**********************]  1 of 1 completed"
          ]
        },
        {
          "output_type": "stream",
          "name": "stdout",
          "text": [
            "10 PMNT\n"
          ]
        },
        {
          "output_type": "stream",
          "name": "stderr",
          "text": [
            "\n",
            "[*********************100%%**********************]  1 of 1 completed"
          ]
        },
        {
          "output_type": "stream",
          "name": "stdout",
          "text": [
            "11 AHR\n"
          ]
        },
        {
          "output_type": "stream",
          "name": "stderr",
          "text": [
            "\n",
            "[*********************100%%**********************]  1 of 1 completed"
          ]
        },
        {
          "output_type": "stream",
          "name": "stdout",
          "text": [
            "12 LEGT\n"
          ]
        },
        {
          "output_type": "stream",
          "name": "stderr",
          "text": [
            "\n",
            "[*********************100%%**********************]  1 of 1 completed"
          ]
        },
        {
          "output_type": "stream",
          "name": "stdout",
          "text": [
            "13 ANRO\n"
          ]
        },
        {
          "output_type": "stream",
          "name": "stderr",
          "text": [
            "\n",
            "[*********************100%%**********************]  1 of 1 completed"
          ]
        },
        {
          "output_type": "stream",
          "name": "stdout",
          "text": [
            "14 GUTS\n"
          ]
        },
        {
          "output_type": "stream",
          "name": "stderr",
          "text": [
            "\n",
            "[*********************100%%**********************]  1 of 1 completed"
          ]
        },
        {
          "output_type": "stream",
          "name": "stdout",
          "text": [
            "15 AS\n"
          ]
        },
        {
          "output_type": "stream",
          "name": "stderr",
          "text": [
            "\n",
            "[*********************100%%**********************]  1 of 1 completed"
          ]
        },
        {
          "output_type": "stream",
          "name": "stdout",
          "text": [
            "16 FBLG\n"
          ]
        },
        {
          "output_type": "stream",
          "name": "stderr",
          "text": [
            "\n",
            "[*********************100%%**********************]  1 of 1 completed"
          ]
        },
        {
          "output_type": "stream",
          "name": "stdout",
          "text": [
            "17 BTSG\n"
          ]
        },
        {
          "output_type": "stream",
          "name": "stderr",
          "text": [
            "\n",
            "[*********************100%%**********************]  1 of 1 completed"
          ]
        },
        {
          "output_type": "stream",
          "name": "stdout",
          "text": [
            "18 AVBP\n"
          ]
        },
        {
          "output_type": "stream",
          "name": "stderr",
          "text": [
            "\n",
            "[*********************100%%**********************]  1 of 1 completed"
          ]
        },
        {
          "output_type": "stream",
          "name": "stdout",
          "text": [
            "19 HAO\n"
          ]
        },
        {
          "output_type": "stream",
          "name": "stderr",
          "text": [
            "\n",
            "[*********************100%%**********************]  1 of 1 completed"
          ]
        },
        {
          "output_type": "stream",
          "name": "stdout",
          "text": [
            "20 CGON\n"
          ]
        },
        {
          "output_type": "stream",
          "name": "stderr",
          "text": [
            "\n",
            "[*********************100%%**********************]  1 of 1 completed"
          ]
        },
        {
          "output_type": "stream",
          "name": "stdout",
          "text": [
            "21 YIBO\n"
          ]
        },
        {
          "output_type": "stream",
          "name": "stderr",
          "text": [
            "\n",
            "[*********************100%%**********************]  1 of 1 completed"
          ]
        },
        {
          "output_type": "stream",
          "name": "stdout",
          "text": [
            "22 SUGP\n"
          ]
        },
        {
          "output_type": "stream",
          "name": "stderr",
          "text": [
            "\n",
            "[*********************100%%**********************]  1 of 1 completed"
          ]
        },
        {
          "output_type": "stream",
          "name": "stdout",
          "text": [
            "23 JL\n"
          ]
        },
        {
          "output_type": "stream",
          "name": "stderr",
          "text": [
            "\n",
            "[*********************100%%**********************]  1 of 1 completed"
          ]
        },
        {
          "output_type": "stream",
          "name": "stdout",
          "text": [
            "24 KSPI\n"
          ]
        },
        {
          "output_type": "stream",
          "name": "stderr",
          "text": [
            "\n",
            "[*********************100%%**********************]  1 of 1 completed"
          ]
        },
        {
          "output_type": "stream",
          "name": "stdout",
          "text": [
            "25 JVSA\n"
          ]
        },
        {
          "output_type": "stream",
          "name": "stderr",
          "text": [
            "\n",
            "[*********************100%%**********************]  1 of 1 completed"
          ]
        },
        {
          "output_type": "stream",
          "name": "stdout",
          "text": [
            "26 PSBD\n"
          ]
        },
        {
          "output_type": "stream",
          "name": "stderr",
          "text": [
            "\n",
            "[*********************100%%**********************]  1 of 1 completed"
          ]
        },
        {
          "output_type": "stream",
          "name": "stdout",
          "text": [
            "27 CCTG\n"
          ]
        },
        {
          "output_type": "stream",
          "name": "stderr",
          "text": [
            "\n",
            "[*********************100%%**********************]  1 of 1 completed"
          ]
        },
        {
          "output_type": "stream",
          "name": "stdout",
          "text": [
            "28 SYNX\n"
          ]
        },
        {
          "output_type": "stream",
          "name": "stderr",
          "text": [
            "\n",
            "[*********************100%%**********************]  1 of 1 completed"
          ]
        },
        {
          "output_type": "stream",
          "name": "stdout",
          "text": [
            "29 SDHC\n"
          ]
        },
        {
          "output_type": "stream",
          "name": "stderr",
          "text": [
            "\n",
            "[*********************100%%**********************]  1 of 1 completed"
          ]
        },
        {
          "output_type": "stream",
          "name": "stdout",
          "text": [
            "30 ROMA\n"
          ]
        },
        {
          "output_type": "stream",
          "name": "stderr",
          "text": [
            "\n",
            "[*********************100%%**********************]  1 of 1 completed"
          ]
        },
        {
          "output_type": "stream",
          "name": "stdout",
          "text": [
            "31 IROH\n"
          ]
        },
        {
          "output_type": "stream",
          "name": "stderr",
          "text": [
            "\n",
            "[*********************100%%**********************]  1 of 1 completed"
          ]
        },
        {
          "output_type": "stream",
          "name": "stdout",
          "text": [
            "32 LGCB\n"
          ]
        },
        {
          "output_type": "stream",
          "name": "stderr",
          "text": [
            "\n",
            "[*********************100%%**********************]  1 of 1 completed"
          ]
        },
        {
          "output_type": "stream",
          "name": "stdout",
          "text": [
            "33 ZKH\n"
          ]
        },
        {
          "output_type": "stream",
          "name": "stderr",
          "text": [
            "\n",
            "[*********************100%%**********************]  1 of 1 completed"
          ]
        },
        {
          "output_type": "stream",
          "name": "stdout",
          "text": [
            "34 BAYA\n"
          ]
        },
        {
          "output_type": "stream",
          "name": "stderr",
          "text": [
            "\n",
            "[*********************100%%**********************]  1 of 1 completed"
          ]
        },
        {
          "output_type": "stream",
          "name": "stdout",
          "text": [
            "35 INHD\n"
          ]
        },
        {
          "output_type": "stream",
          "name": "stderr",
          "text": [
            "\n",
            "[*********************100%%**********************]  1 of 1 completed"
          ]
        },
        {
          "output_type": "stream",
          "name": "stdout",
          "text": [
            "36 AFJK\n"
          ]
        },
        {
          "output_type": "stream",
          "name": "stderr",
          "text": [
            "\n",
            "[*********************100%%**********************]  1 of 1 completed"
          ]
        },
        {
          "output_type": "stream",
          "name": "stdout",
          "text": [
            "37 GSIW\n"
          ]
        },
        {
          "output_type": "stream",
          "name": "stderr",
          "text": [
            "\n",
            "[*********************100%%**********************]  1 of 1 completed"
          ]
        },
        {
          "output_type": "stream",
          "name": "stdout",
          "text": [
            "38 FEBO\n"
          ]
        },
        {
          "output_type": "stream",
          "name": "stderr",
          "text": [
            "\n",
            "[*********************100%%**********************]  1 of 1 completed"
          ]
        },
        {
          "output_type": "stream",
          "name": "stdout",
          "text": [
            "39 CLBR\n"
          ]
        },
        {
          "output_type": "stream",
          "name": "stderr",
          "text": [
            "\n",
            "[*********************100%%**********************]  1 of 1 completed"
          ]
        },
        {
          "output_type": "stream",
          "name": "stdout",
          "text": [
            "40 ELAB\n"
          ]
        },
        {
          "output_type": "stream",
          "name": "stderr",
          "text": [
            "\n",
            "[*********************100%%**********************]  1 of 1 completed"
          ]
        },
        {
          "output_type": "stream",
          "name": "stdout",
          "text": [
            "41 RR\n"
          ]
        },
        {
          "output_type": "stream",
          "name": "stderr",
          "text": [
            "\n",
            "[*********************100%%**********************]  1 of 1 completed"
          ]
        },
        {
          "output_type": "stream",
          "name": "stdout",
          "text": [
            "42 DDC\n"
          ]
        },
        {
          "output_type": "stream",
          "name": "stderr",
          "text": [
            "\n",
            "[*********************100%%**********************]  1 of 1 completed"
          ]
        },
        {
          "output_type": "stream",
          "name": "stdout",
          "text": [
            "43 SHIM\n"
          ]
        },
        {
          "output_type": "stream",
          "name": "stderr",
          "text": [
            "\n",
            "[*********************100%%**********************]  1 of 1 completed"
          ]
        },
        {
          "output_type": "stream",
          "name": "stdout",
          "text": [
            "44 GLAC\n"
          ]
        },
        {
          "output_type": "stream",
          "name": "stderr",
          "text": [
            "\n",
            "[*********************100%%**********************]  1 of 1 completed"
          ]
        },
        {
          "output_type": "stream",
          "name": "stdout",
          "text": [
            "45 SGN\n"
          ]
        },
        {
          "output_type": "stream",
          "name": "stderr",
          "text": [
            "\n",
            "[*********************100%%**********************]  1 of 1 completed"
          ]
        },
        {
          "output_type": "stream",
          "name": "stdout",
          "text": [
            "46 HG\n"
          ]
        },
        {
          "output_type": "stream",
          "name": "stderr",
          "text": [
            "\n",
            "[*********************100%%**********************]  1 of 1 completed"
          ]
        },
        {
          "output_type": "stream",
          "name": "stdout",
          "text": [
            "47 CRGX\n"
          ]
        },
        {
          "output_type": "stream",
          "name": "stderr",
          "text": [
            "\n",
            "[*********************100%%**********************]  1 of 1 completed"
          ]
        },
        {
          "output_type": "stream",
          "name": "stdout",
          "text": [
            "48 ANSC\n"
          ]
        },
        {
          "output_type": "stream",
          "name": "stderr",
          "text": [
            "\n",
            "[*********************100%%**********************]  1 of 1 completed"
          ]
        },
        {
          "output_type": "stream",
          "name": "stdout",
          "text": [
            "49 AITR\n"
          ]
        },
        {
          "output_type": "stream",
          "name": "stderr",
          "text": [
            "\n",
            "[*********************100%%**********************]  1 of 1 completed"
          ]
        },
        {
          "output_type": "stream",
          "name": "stdout",
          "text": [
            "50 GVH\n"
          ]
        },
        {
          "output_type": "stream",
          "name": "stderr",
          "text": [
            "\n",
            "[*********************100%%**********************]  1 of 1 completed"
          ]
        },
        {
          "output_type": "stream",
          "name": "stdout",
          "text": [
            "51 LXEO\n"
          ]
        },
        {
          "output_type": "stream",
          "name": "stderr",
          "text": [
            "\n",
            "[*********************100%%**********************]  1 of 1 completed"
          ]
        },
        {
          "output_type": "stream",
          "name": "stdout",
          "text": [
            "52 PAPL\n"
          ]
        },
        {
          "output_type": "stream",
          "name": "stderr",
          "text": [
            "\n",
            "[*********************100%%**********************]  1 of 1 completed"
          ]
        },
        {
          "output_type": "stream",
          "name": "stdout",
          "text": [
            "53 ATGL\n"
          ]
        },
        {
          "output_type": "stream",
          "name": "stderr",
          "text": [
            "\n",
            "[*********************100%%**********************]  1 of 1 completed"
          ]
        },
        {
          "output_type": "stream",
          "name": "stdout",
          "text": [
            "54 MNR\n"
          ]
        },
        {
          "output_type": "stream",
          "name": "stderr",
          "text": [
            "\n",
            "[*********************100%%**********************]  1 of 1 completed"
          ]
        },
        {
          "output_type": "stream",
          "name": "stdout",
          "text": [
            "55 WBUY\n"
          ]
        },
        {
          "output_type": "stream",
          "name": "stderr",
          "text": [
            "\n",
            "[*********************100%%**********************]  1 of 1 completed"
          ]
        },
        {
          "output_type": "stream",
          "name": "stdout",
          "text": [
            "56 NCL\n"
          ]
        },
        {
          "output_type": "stream",
          "name": "stderr",
          "text": [
            "\n",
            "[*********************100%%**********************]  1 of 1 completed"
          ]
        },
        {
          "output_type": "stream",
          "name": "stdout",
          "text": [
            "57 BIRK\n"
          ]
        },
        {
          "output_type": "stream",
          "name": "stderr",
          "text": [
            "\n",
            "[*********************100%%**********************]  1 of 1 completed"
          ]
        },
        {
          "output_type": "stream",
          "name": "stdout",
          "text": [
            "58 GMM\n"
          ]
        },
        {
          "output_type": "stream",
          "name": "stderr",
          "text": [
            "\n",
            "[*********************100%%**********************]  1 of 1 completed"
          ]
        },
        {
          "output_type": "stream",
          "name": "stdout",
          "text": [
            "59 LRHC\n"
          ]
        },
        {
          "output_type": "stream",
          "name": "stderr",
          "text": [
            "\n",
            "[*********************100%%**********************]  1 of 1 completed"
          ]
        },
        {
          "output_type": "stream",
          "name": "stdout",
          "text": [
            "60 PMEC\n"
          ]
        },
        {
          "output_type": "stream",
          "name": "stderr",
          "text": [
            "\n",
            "[*********************100%%**********************]  1 of 1 completed"
          ]
        },
        {
          "output_type": "stream",
          "name": "stdout",
          "text": [
            "61 GPAK\n"
          ]
        },
        {
          "output_type": "stream",
          "name": "stderr",
          "text": [
            "\n",
            "[*********************100%%**********************]  1 of 1 completed"
          ]
        },
        {
          "output_type": "stream",
          "name": "stdout",
          "text": [
            "62 SPKL\n"
          ]
        },
        {
          "output_type": "stream",
          "name": "stderr",
          "text": [
            "\n",
            "[*********************100%%**********************]  1 of 1 completed"
          ]
        },
        {
          "output_type": "stream",
          "name": "stdout",
          "text": [
            "63 QETA\n"
          ]
        },
        {
          "output_type": "stream",
          "name": "stderr",
          "text": [
            "\n",
            "[*********************100%%**********************]  1 of 1 completed"
          ]
        },
        {
          "output_type": "stream",
          "name": "stdout",
          "text": [
            "64 MSS\n"
          ]
        },
        {
          "output_type": "stream",
          "name": "stderr",
          "text": [
            "\n",
            "[*********************100%%**********************]  1 of 1 completed"
          ]
        },
        {
          "output_type": "stream",
          "name": "stdout",
          "text": [
            "65 ANL\n"
          ]
        },
        {
          "output_type": "stream",
          "name": "stderr",
          "text": [
            "\n",
            "[*********************100%%**********************]  1 of 1 completed"
          ]
        },
        {
          "output_type": "stream",
          "name": "stdout",
          "text": [
            "66 SYRA\n"
          ]
        },
        {
          "output_type": "stream",
          "name": "stderr",
          "text": [
            "\n",
            "[*********************100%%**********************]  1 of 1 completed"
          ]
        },
        {
          "output_type": "stream",
          "name": "stdout",
          "text": [
            "67 VSME\n"
          ]
        },
        {
          "output_type": "stream",
          "name": "stderr",
          "text": [
            "\n",
            "[*********************100%%**********************]  1 of 1 completed"
          ]
        },
        {
          "output_type": "stream",
          "name": "stdout",
          "text": [
            "68 LRE\n"
          ]
        },
        {
          "output_type": "stream",
          "name": "stderr",
          "text": [
            "\n",
            "[*********************100%%**********************]  1 of 1 completed"
          ]
        },
        {
          "output_type": "stream",
          "name": "stdout",
          "text": [
            "69 TURB\n"
          ]
        },
        {
          "output_type": "stream",
          "name": "stderr",
          "text": [
            "\n",
            "[*********************100%%**********************]  1 of 1 completed"
          ]
        },
        {
          "output_type": "stream",
          "name": "stdout",
          "text": [
            "70 MDBH\n"
          ]
        },
        {
          "output_type": "stream",
          "name": "stderr",
          "text": [
            "\n",
            "[*********************100%%**********************]  1 of 1 completed"
          ]
        },
        {
          "output_type": "stream",
          "name": "stdout",
          "text": [
            "71 KVYO\n"
          ]
        },
        {
          "output_type": "stream",
          "name": "stderr",
          "text": [
            "\n",
            "[*********************100%%**********************]  1 of 1 completed"
          ]
        },
        {
          "output_type": "stream",
          "name": "stdout",
          "text": [
            "72 CART\n"
          ]
        },
        {
          "output_type": "stream",
          "name": "stderr",
          "text": [
            "\n",
            "[*********************100%%**********************]  1 of 1 completed"
          ]
        },
        {
          "output_type": "stream",
          "name": "stdout",
          "text": [
            "73 DTCK\n"
          ]
        },
        {
          "output_type": "stream",
          "name": "stderr",
          "text": [
            "\n",
            "[*********************100%%**********************]  1 of 1 completed"
          ]
        },
        {
          "output_type": "stream",
          "name": "stdout",
          "text": [
            "75 NMRA\n"
          ]
        },
        {
          "output_type": "stream",
          "name": "stderr",
          "text": [
            "\n"
          ]
        },
        {
          "output_type": "stream",
          "name": "stdout",
          "text": [
            "76 ARM\n"
          ]
        },
        {
          "output_type": "stream",
          "name": "stderr",
          "text": [
            "\r[*********************100%%**********************]  1 of 1 completed\n"
          ]
        },
        {
          "output_type": "stream",
          "name": "stdout",
          "text": [
            "77 SPPL\n"
          ]
        },
        {
          "output_type": "stream",
          "name": "stderr",
          "text": [
            "\r[*********************100%%**********************]  1 of 1 completed\n"
          ]
        },
        {
          "output_type": "stream",
          "name": "stdout",
          "text": [
            "78 NWGL\n"
          ]
        },
        {
          "output_type": "stream",
          "name": "stderr",
          "text": [
            "[*********************100%%**********************]  1 of 1 completed\n",
            "[*********************100%%**********************]  1 of 1 completed"
          ]
        },
        {
          "output_type": "stream",
          "name": "stdout",
          "text": [
            "79 SWIN\n"
          ]
        },
        {
          "output_type": "stream",
          "name": "stderr",
          "text": [
            "\n",
            "[*********************100%%**********************]  1 of 1 completed"
          ]
        },
        {
          "output_type": "stream",
          "name": "stdout",
          "text": [
            "80 IVP\n"
          ]
        },
        {
          "output_type": "stream",
          "name": "stderr",
          "text": [
            "\n",
            "[*********************100%%**********************]  1 of 1 completed"
          ]
        },
        {
          "output_type": "stream",
          "name": "stdout",
          "text": [
            "81 NNAG\n"
          ]
        },
        {
          "output_type": "stream",
          "name": "stderr",
          "text": [
            "\n"
          ]
        },
        {
          "output_type": "stream",
          "name": "stdout",
          "text": [
            "82 SRM\n"
          ]
        },
        {
          "output_type": "stream",
          "name": "stderr",
          "text": [
            "[*********************100%%**********************]  1 of 1 completed\n",
            "[*********************100%%**********************]  1 of 1 completed"
          ]
        },
        {
          "output_type": "stream",
          "name": "stdout",
          "text": [
            "83 SPGC\n"
          ]
        },
        {
          "output_type": "stream",
          "name": "stderr",
          "text": [
            "\n",
            "[*********************100%%**********************]  1 of 1 completed"
          ]
        },
        {
          "output_type": "stream",
          "name": "stdout",
          "text": [
            "84 LQR\n"
          ]
        },
        {
          "output_type": "stream",
          "name": "stderr",
          "text": [
            "\n",
            "[*********************100%%**********************]  1 of 1 completed"
          ]
        },
        {
          "output_type": "stream",
          "name": "stdout",
          "text": [
            "85 NRXS\n"
          ]
        },
        {
          "output_type": "stream",
          "name": "stderr",
          "text": [
            "\n"
          ]
        },
        {
          "output_type": "stream",
          "name": "stdout",
          "text": [
            "86 FTEL\n"
          ]
        },
        {
          "output_type": "stream",
          "name": "stderr",
          "text": [
            "[*********************100%%**********************]  1 of 1 completed\n",
            "[*********************100%%**********************]  1 of 1 completed"
          ]
        },
        {
          "output_type": "stream",
          "name": "stdout",
          "text": [
            "87 MIRA\n"
          ]
        },
        {
          "output_type": "stream",
          "name": "stderr",
          "text": [
            "\n"
          ]
        },
        {
          "output_type": "stream",
          "name": "stdout",
          "text": [
            "88 PXDT\n"
          ]
        },
        {
          "output_type": "stream",
          "name": "stderr",
          "text": [
            "[*********************100%%**********************]  1 of 1 completed\n",
            "[*********************100%%**********************]  1 of 1 completed"
          ]
        },
        {
          "output_type": "stream",
          "name": "stdout",
          "text": [
            "89 CTNT\n"
          ]
        },
        {
          "output_type": "stream",
          "name": "stderr",
          "text": [
            "\n"
          ]
        },
        {
          "output_type": "stream",
          "name": "stdout",
          "text": [
            "90 HRYU\n"
          ]
        },
        {
          "output_type": "stream",
          "name": "stderr",
          "text": [
            "[*********************100%%**********************]  1 of 1 completed\n",
            "[*********************100%%**********************]  1 of 1 completed"
          ]
        },
        {
          "output_type": "stream",
          "name": "stdout",
          "text": [
            "91 SRFM\n"
          ]
        },
        {
          "output_type": "stream",
          "name": "stderr",
          "text": [
            "\n",
            "[*********************100%%**********************]  1 of 1 completed"
          ]
        },
        {
          "output_type": "stream",
          "name": "stdout",
          "text": [
            "92 PRZO\n"
          ]
        },
        {
          "output_type": "stream",
          "name": "stderr",
          "text": [
            "\n",
            "[*********************100%%**********************]  1 of 1 completed"
          ]
        },
        {
          "output_type": "stream",
          "name": "stdout",
          "text": [
            "93 HYAC\n"
          ]
        },
        {
          "output_type": "stream",
          "name": "stderr",
          "text": [
            "\n",
            "[*********************100%%**********************]  1 of 1 completed"
          ]
        },
        {
          "output_type": "stream",
          "name": "stdout",
          "text": [
            "94 KVAC\n"
          ]
        },
        {
          "output_type": "stream",
          "name": "stderr",
          "text": [
            "\n",
            "[*********************100%%**********************]  1 of 1 completed"
          ]
        },
        {
          "output_type": "stream",
          "name": "stdout",
          "text": [
            "95 ELWS\n"
          ]
        },
        {
          "output_type": "stream",
          "name": "stderr",
          "text": [
            "\n",
            "[*********************100%%**********************]  1 of 1 completed"
          ]
        },
        {
          "output_type": "stream",
          "name": "stdout",
          "text": [
            "96 JNVR\n"
          ]
        },
        {
          "output_type": "stream",
          "name": "stderr",
          "text": [
            "\n",
            "[*********************100%%**********************]  1 of 1 completed"
          ]
        },
        {
          "output_type": "stream",
          "name": "stdout",
          "text": [
            "97 WRNT\n"
          ]
        },
        {
          "output_type": "stream",
          "name": "stderr",
          "text": [
            "\n",
            "[*********************100%%**********************]  1 of 1 completed"
          ]
        },
        {
          "output_type": "stream",
          "name": "stdout",
          "text": [
            "98 TSBX\n"
          ]
        },
        {
          "output_type": "stream",
          "name": "stderr",
          "text": [
            "\n",
            "[*********************100%%**********************]  1 of 1 completed"
          ]
        },
        {
          "output_type": "stream",
          "name": "stdout",
          "text": [
            "99 ODD\n"
          ]
        },
        {
          "output_type": "stream",
          "name": "stderr",
          "text": [
            "\n",
            "[*********************100%%**********************]  1 of 1 completed"
          ]
        },
        {
          "output_type": "stream",
          "name": "stdout",
          "text": [
            "100 APGE\n"
          ]
        },
        {
          "output_type": "stream",
          "name": "stderr",
          "text": [
            "\n",
            "[*********************100%%**********************]  1 of 1 completed"
          ]
        },
        {
          "output_type": "stream",
          "name": "stdout",
          "text": [
            "101 NETD\n"
          ]
        },
        {
          "output_type": "stream",
          "name": "stderr",
          "text": [
            "\n",
            "[*********************100%%**********************]  1 of 1 completed"
          ]
        },
        {
          "output_type": "stream",
          "name": "stdout",
          "text": [
            "102 SGMT\n"
          ]
        },
        {
          "output_type": "stream",
          "name": "stderr",
          "text": [
            "\n",
            "[*********************100%%**********************]  1 of 1 completed"
          ]
        },
        {
          "output_type": "stream",
          "name": "stdout",
          "text": [
            "103 BOWN\n"
          ]
        },
        {
          "output_type": "stream",
          "name": "stderr",
          "text": [
            "\n"
          ]
        },
        {
          "output_type": "stream",
          "name": "stdout",
          "text": [
            "104 SXTP\n"
          ]
        },
        {
          "output_type": "stream",
          "name": "stderr",
          "text": [
            "\r[*********************100%%**********************]  1 of 1 completed\n"
          ]
        },
        {
          "output_type": "stream",
          "name": "stdout",
          "text": [
            "105 PWM\n"
          ]
        },
        {
          "output_type": "stream",
          "name": "stderr",
          "text": [
            "[*********************100%%**********************]  1 of 1 completed\n",
            "[*********************100%%**********************]  1 of 1 completed"
          ]
        },
        {
          "output_type": "stream",
          "name": "stdout",
          "text": [
            "106 VTMX\n"
          ]
        },
        {
          "output_type": "stream",
          "name": "stderr",
          "text": [
            "\n"
          ]
        },
        {
          "output_type": "stream",
          "name": "stdout",
          "text": [
            "107 INTS\n"
          ]
        },
        {
          "output_type": "stream",
          "name": "stderr",
          "text": [
            "[*********************100%%**********************]  1 of 1 completed\n",
            "[*********************100%%**********************]  1 of 1 completed"
          ]
        },
        {
          "output_type": "stream",
          "name": "stdout",
          "text": [
            "108 SVV\n"
          ]
        },
        {
          "output_type": "stream",
          "name": "stderr",
          "text": [
            "\n"
          ]
        },
        {
          "output_type": "stream",
          "name": "stdout",
          "text": [
            "109 KGS\n"
          ]
        },
        {
          "output_type": "stream",
          "name": "stderr",
          "text": [
            "[*********************100%%**********************]  1 of 1 completed\n",
            "[*********************100%%**********************]  1 of 1 completed"
          ]
        },
        {
          "output_type": "stream",
          "name": "stdout",
          "text": [
            "110 FIHL\n"
          ]
        },
        {
          "output_type": "stream",
          "name": "stderr",
          "text": [
            "\n"
          ]
        },
        {
          "output_type": "stream",
          "name": "stdout",
          "text": [
            "111 GENK\n"
          ]
        },
        {
          "output_type": "stream",
          "name": "stderr",
          "text": [
            "\r[*********************100%%**********************]  1 of 1 completed\n"
          ]
        },
        {
          "output_type": "stream",
          "name": "stdout",
          "text": [
            "112 BUJA\n"
          ]
        },
        {
          "output_type": "stream",
          "name": "stderr",
          "text": [
            "[*********************100%%**********************]  1 of 1 completed\n",
            "[*********************100%%**********************]  1 of 1 completed"
          ]
        },
        {
          "output_type": "stream",
          "name": "stdout",
          "text": [
            "113 BOF\n"
          ]
        },
        {
          "output_type": "stream",
          "name": "stderr",
          "text": [
            "\n",
            "[*********************100%%**********************]  1 of 1 completed"
          ]
        },
        {
          "output_type": "stream",
          "name": "stdout",
          "text": [
            "114 AZTR\n"
          ]
        },
        {
          "output_type": "stream",
          "name": "stderr",
          "text": [
            "\n",
            "[*********************100%%**********************]  1 of 1 completed"
          ]
        },
        {
          "output_type": "stream",
          "name": "stdout",
          "text": [
            "115 CAVA\n"
          ]
        },
        {
          "output_type": "stream",
          "name": "stderr",
          "text": [
            "\n",
            "[*********************100%%**********************]  1 of 1 completed"
          ]
        },
        {
          "output_type": "stream",
          "name": "stdout",
          "text": [
            "116 ESHA\n"
          ]
        },
        {
          "output_type": "stream",
          "name": "stderr",
          "text": [
            "\n"
          ]
        },
        {
          "output_type": "stream",
          "name": "stdout",
          "text": [
            "117 ATMU\n"
          ]
        },
        {
          "output_type": "stream",
          "name": "stderr",
          "text": [
            "\r[*********************100%%**********************]  1 of 1 completed\n"
          ]
        },
        {
          "output_type": "stream",
          "name": "stdout",
          "text": [
            "118 ATS\n"
          ]
        },
        {
          "output_type": "stream",
          "name": "stderr",
          "text": [
            "[*********************100%%**********************]  1 of 1 completed\n",
            "[*********************100%%**********************]  1 of 1 completed"
          ]
        },
        {
          "output_type": "stream",
          "name": "stdout",
          "text": [
            "119 IPXX\n"
          ]
        },
        {
          "output_type": "stream",
          "name": "stderr",
          "text": [
            "\n"
          ]
        },
        {
          "output_type": "stream",
          "name": "stdout",
          "text": [
            "120 CWD\n"
          ]
        },
        {
          "output_type": "stream",
          "name": "stderr",
          "text": [
            "[*********************100%%**********************]  1 of 1 completed\n",
            "[*********************100%%**********************]  1 of 1 completed"
          ]
        },
        {
          "output_type": "stream",
          "name": "stdout",
          "text": [
            "121 SGE\n"
          ]
        },
        {
          "output_type": "stream",
          "name": "stderr",
          "text": [
            "\n",
            "[*********************100%%**********************]  1 of 1 completed"
          ]
        },
        {
          "output_type": "stream",
          "name": "stdout",
          "text": [
            "122 SLRN\n"
          ]
        },
        {
          "output_type": "stream",
          "name": "stderr",
          "text": [
            "\n",
            "[*********************100%%**********************]  1 of 1 completed"
          ]
        },
        {
          "output_type": "stream",
          "name": "stdout",
          "text": [
            "123 ALCY\n"
          ]
        },
        {
          "output_type": "stream",
          "name": "stderr",
          "text": [
            "\n",
            "[*********************100%%**********************]  1 of 1 completed"
          ]
        },
        {
          "output_type": "stream",
          "name": "stdout",
          "text": [
            "124 KVUE\n"
          ]
        },
        {
          "output_type": "stream",
          "name": "stderr",
          "text": [
            "\n",
            "[*********************100%%**********************]  1 of 1 completed"
          ]
        },
        {
          "output_type": "stream",
          "name": "stdout",
          "text": [
            "125 GODN\n"
          ]
        },
        {
          "output_type": "stream",
          "name": "stderr",
          "text": [
            "\n"
          ]
        },
        {
          "output_type": "stream",
          "name": "stdout",
          "text": [
            "126 TRNR\n"
          ]
        },
        {
          "output_type": "stream",
          "name": "stderr",
          "text": [
            "\r[*********************100%%**********************]  1 of 1 completed\n"
          ]
        },
        {
          "output_type": "stream",
          "name": "stdout",
          "text": [
            "127 AACT\n"
          ]
        },
        {
          "output_type": "stream",
          "name": "stderr",
          "text": [
            "[*********************100%%**********************]  1 of 1 completed\n",
            "[*********************100%%**********************]  1 of 1 completed"
          ]
        },
        {
          "output_type": "stream",
          "name": "stdout",
          "text": [
            "128 JYD\n"
          ]
        },
        {
          "output_type": "stream",
          "name": "stderr",
          "text": [
            "\n",
            "[*********************100%%**********************]  1 of 1 completed"
          ]
        },
        {
          "output_type": "stream",
          "name": "stdout",
          "text": [
            "129 USGO\n"
          ]
        },
        {
          "output_type": "stream",
          "name": "stderr",
          "text": [
            "\n",
            "[*********************100%%**********************]  1 of 1 completed"
          ]
        },
        {
          "output_type": "stream",
          "name": "stdout",
          "text": [
            "130 UCAR\n"
          ]
        },
        {
          "output_type": "stream",
          "name": "stderr",
          "text": [
            "\n",
            "[*********************100%%**********************]  1 of 1 completed"
          ]
        },
        {
          "output_type": "stream",
          "name": "stdout",
          "text": [
            "131 WLGS\n"
          ]
        },
        {
          "output_type": "stream",
          "name": "stderr",
          "text": [
            "\n",
            "[*********************100%%**********************]  1 of 1 completed"
          ]
        },
        {
          "output_type": "stream",
          "name": "stdout",
          "text": [
            "132 TPET\n"
          ]
        },
        {
          "output_type": "stream",
          "name": "stderr",
          "text": [
            "\n",
            "[*********************100%%**********************]  1 of 1 completed"
          ]
        },
        {
          "output_type": "stream",
          "name": "stdout",
          "text": [
            "133 TCJH\n"
          ]
        },
        {
          "output_type": "stream",
          "name": "stderr",
          "text": [
            "\n",
            "[*********************100%%**********************]  1 of 1 completed"
          ]
        },
        {
          "output_type": "stream",
          "name": "stdout",
          "text": [
            "134 GDTC\n"
          ]
        },
        {
          "output_type": "stream",
          "name": "stderr",
          "text": [
            "\n"
          ]
        },
        {
          "output_type": "stream",
          "name": "stdout",
          "text": [
            "135 VCIG\n"
          ]
        },
        {
          "output_type": "stream",
          "name": "stderr",
          "text": [
            "\r[*********************100%%**********************]  1 of 1 completed\n"
          ]
        },
        {
          "output_type": "stream",
          "name": "stdout",
          "text": [
            "136 GDHG\n"
          ]
        },
        {
          "output_type": "stream",
          "name": "stderr",
          "text": [
            "[*********************100%%**********************]  1 of 1 completed\n",
            "[*********************100%%**********************]  1 of 1 completed"
          ]
        },
        {
          "output_type": "stream",
          "name": "stdout",
          "text": [
            "137 ARBB\n"
          ]
        },
        {
          "output_type": "stream",
          "name": "stderr",
          "text": [
            "\n"
          ]
        },
        {
          "output_type": "stream",
          "name": "stdout",
          "text": [
            "138 ISPR\n"
          ]
        },
        {
          "output_type": "stream",
          "name": "stderr",
          "text": [
            "[*********************100%%**********************]  1 of 1 completed\n",
            "[*********************100%%**********************]  1 of 1 completed"
          ]
        },
        {
          "output_type": "stream",
          "name": "stdout",
          "text": [
            "139 MGIH\n"
          ]
        },
        {
          "output_type": "stream",
          "name": "stderr",
          "text": [
            "\n",
            "[*********************100%%**********************]  1 of 1 completed"
          ]
        },
        {
          "output_type": "stream",
          "name": "stdout",
          "text": [
            "140 MWG\n"
          ]
        },
        {
          "output_type": "stream",
          "name": "stderr",
          "text": [
            "\n",
            "[*********************100%%**********************]  1 of 1 completed"
          ]
        },
        {
          "output_type": "stream",
          "name": "stdout",
          "text": [
            "141 HSHP\n"
          ]
        },
        {
          "output_type": "stream",
          "name": "stderr",
          "text": [
            "\n",
            "[*********************100%%**********************]  1 of 1 completed"
          ]
        },
        {
          "output_type": "stream",
          "name": "stdout",
          "text": [
            "142 SFWL\n"
          ]
        },
        {
          "output_type": "stream",
          "name": "stderr",
          "text": [
            "\n",
            "[*********************100%%**********************]  1 of 1 completed"
          ]
        },
        {
          "output_type": "stream",
          "name": "stdout",
          "text": [
            "143 SYT\n"
          ]
        },
        {
          "output_type": "stream",
          "name": "stderr",
          "text": [
            "\n",
            "[*********************100%%**********************]  1 of 1 completed"
          ]
        },
        {
          "output_type": "stream",
          "name": "stdout",
          "text": [
            "144 HKIT\n"
          ]
        },
        {
          "output_type": "stream",
          "name": "stderr",
          "text": [
            "\n",
            "[*********************100%%**********************]  1 of 1 completed"
          ]
        },
        {
          "output_type": "stream",
          "name": "stdout",
          "text": [
            "145 CHSN\n"
          ]
        },
        {
          "output_type": "stream",
          "name": "stderr",
          "text": [
            "\n",
            "[*********************100%%**********************]  1 of 1 completed"
          ]
        },
        {
          "output_type": "stream",
          "name": "stdout",
          "text": [
            "146 TBMC\n"
          ]
        },
        {
          "output_type": "stream",
          "name": "stderr",
          "text": [
            "\n"
          ]
        },
        {
          "output_type": "stream",
          "name": "stdout",
          "text": [
            "147 HLP\n"
          ]
        },
        {
          "output_type": "stream",
          "name": "stderr",
          "text": [
            "\r[*********************100%%**********************]  1 of 1 completed\n"
          ]
        },
        {
          "output_type": "stream",
          "name": "stdout",
          "text": [
            "148 ZJYL\n"
          ]
        },
        {
          "output_type": "stream",
          "name": "stderr",
          "text": [
            "\r[*********************100%%**********************]  1 of 1 completed\n"
          ]
        },
        {
          "output_type": "stream",
          "name": "stdout",
          "text": [
            "149 TMTC\n"
          ]
        },
        {
          "output_type": "stream",
          "name": "stderr",
          "text": [
            "[*********************100%%**********************]  1 of 1 completed\n",
            "[*********************100%%**********************]  1 of 1 completed"
          ]
        },
        {
          "output_type": "stream",
          "name": "stdout",
          "text": [
            "150 YGFGF\n"
          ]
        },
        {
          "output_type": "stream",
          "name": "stderr",
          "text": [
            "\n",
            "[*********************100%%**********************]  1 of 1 completed"
          ]
        },
        {
          "output_type": "stream",
          "name": "stdout",
          "text": [
            "151 OAKU\n"
          ]
        },
        {
          "output_type": "stream",
          "name": "stderr",
          "text": [
            "\n",
            "[*********************100%%**********************]  1 of 1 completed"
          ]
        },
        {
          "output_type": "stream",
          "name": "stdout",
          "text": [
            "152 BANL\n"
          ]
        },
        {
          "output_type": "stream",
          "name": "stderr",
          "text": [
            "\n",
            "[*********************100%%**********************]  1 of 1 completed"
          ]
        },
        {
          "output_type": "stream",
          "name": "stdout",
          "text": [
            "153 OMH\n"
          ]
        },
        {
          "output_type": "stream",
          "name": "stderr",
          "text": [
            "\n",
            "[*********************100%%**********************]  1 of 1 completed"
          ]
        },
        {
          "output_type": "stream",
          "name": "stdout",
          "text": [
            "154 MGRX\n"
          ]
        },
        {
          "output_type": "stream",
          "name": "stderr",
          "text": [
            "\n",
            "[*********************100%%**********************]  1 of 1 completed"
          ]
        },
        {
          "output_type": "stream",
          "name": "stdout",
          "text": [
            "155 FORL\n"
          ]
        },
        {
          "output_type": "stream",
          "name": "stderr",
          "text": [
            "\n",
            "[*********************100%%**********************]  1 of 1 completed"
          ]
        },
        {
          "output_type": "stream",
          "name": "stdout",
          "text": [
            "156 ICG\n"
          ]
        },
        {
          "output_type": "stream",
          "name": "stderr",
          "text": [
            "\n"
          ]
        },
        {
          "output_type": "stream",
          "name": "stdout",
          "text": [
            "157 IZM\n"
          ]
        },
        {
          "output_type": "stream",
          "name": "stderr",
          "text": [
            "[*********************100%%**********************]  1 of 1 completed\n",
            "[*********************100%%**********************]  1 of 1 completed"
          ]
        },
        {
          "output_type": "stream",
          "name": "stdout",
          "text": [
            "158 AESI\n"
          ]
        },
        {
          "output_type": "stream",
          "name": "stderr",
          "text": [
            "\n",
            "[*********************100%%**********************]  1 of 1 completed"
          ]
        },
        {
          "output_type": "stream",
          "name": "stdout",
          "text": [
            "159 AIXI\n"
          ]
        },
        {
          "output_type": "stream",
          "name": "stderr",
          "text": [
            "\n"
          ]
        },
        {
          "output_type": "stream",
          "name": "stdout",
          "text": [
            "160 SBXC\n"
          ]
        },
        {
          "output_type": "stream",
          "name": "stderr",
          "text": [
            "[*********************100%%**********************]  1 of 1 completed\n",
            "[*********************100%%**********************]  1 of 1 completed"
          ]
        },
        {
          "output_type": "stream",
          "name": "stdout",
          "text": [
            "161 BMR\n"
          ]
        },
        {
          "output_type": "stream",
          "name": "stderr",
          "text": [
            "\n",
            "[*********************100%%**********************]  1 of 1 completed"
          ]
        },
        {
          "output_type": "stream",
          "name": "stdout",
          "text": [
            "162 DIST\n"
          ]
        },
        {
          "output_type": "stream",
          "name": "stderr",
          "text": [
            "\n"
          ]
        },
        {
          "output_type": "stream",
          "name": "stdout",
          "text": [
            "163 GXAI\n"
          ]
        },
        {
          "output_type": "stream",
          "name": "stderr",
          "text": [
            "\r[*********************100%%**********************]  1 of 1 completed\n"
          ]
        },
        {
          "output_type": "stream",
          "name": "stdout",
          "text": [
            "164 MARX\n"
          ]
        },
        {
          "output_type": "stream",
          "name": "stderr",
          "text": [
            "\r[*********************100%%**********************]  1 of 1 completed\n"
          ]
        },
        {
          "output_type": "stream",
          "name": "stdout",
          "text": [
            "165 BFRG\n"
          ]
        },
        {
          "output_type": "stream",
          "name": "stderr",
          "text": [
            "\r[*********************100%%**********************]  1 of 1 completed\n"
          ]
        },
        {
          "output_type": "stream",
          "name": "stdout",
          "text": [
            "166 ENLT\n"
          ]
        },
        {
          "output_type": "stream",
          "name": "stderr",
          "text": [
            "\r[*********************100%%**********************]  1 of 1 completed\n"
          ]
        },
        {
          "output_type": "stream",
          "name": "stdout",
          "text": [
            "167 MLYS\n"
          ]
        },
        {
          "output_type": "stream",
          "name": "stderr",
          "text": [
            "[*********************100%%**********************]  1 of 1 completed\n",
            "[*********************100%%**********************]  1 of 1 completed"
          ]
        },
        {
          "output_type": "stream",
          "name": "stdout",
          "text": [
            "168 PTHRU\n"
          ]
        },
        {
          "output_type": "stream",
          "name": "stderr",
          "text": [
            "\n",
            "[*********************100%%**********************]  1 of 1 completed"
          ]
        },
        {
          "output_type": "stream",
          "name": "stdout",
          "text": [
            "169 BLAC\n"
          ]
        },
        {
          "output_type": "stream",
          "name": "stderr",
          "text": [
            "\n",
            "[*********************100%%**********************]  1 of 1 completed"
          ]
        },
        {
          "output_type": "stream",
          "name": "stdout",
          "text": [
            "170 NXT\n"
          ]
        },
        {
          "output_type": "stream",
          "name": "stderr",
          "text": [
            "\n"
          ]
        },
        {
          "output_type": "stream",
          "name": "stdout",
          "text": [
            "171 HSAI\n"
          ]
        },
        {
          "output_type": "stream",
          "name": "stderr",
          "text": [
            "\r[*********************100%%**********************]  1 of 1 completed\n"
          ]
        },
        {
          "output_type": "stream",
          "name": "stdout",
          "text": [
            "172 LSDI\n"
          ]
        },
        {
          "output_type": "stream",
          "name": "stderr",
          "text": [
            "[*********************100%%**********************]  1 of 1 completed\n",
            "[*********************100%%**********************]  1 of 1 completed"
          ]
        },
        {
          "output_type": "stream",
          "name": "stdout",
          "text": [
            "173 LICN\n"
          ]
        },
        {
          "output_type": "stream",
          "name": "stderr",
          "text": [
            "\n"
          ]
        },
        {
          "output_type": "stream",
          "name": "stdout",
          "text": [
            "174 GPCR\n"
          ]
        },
        {
          "output_type": "stream",
          "name": "stderr",
          "text": [
            "[*********************100%%**********************]  1 of 1 completed\n",
            "[*********************100%%**********************]  1 of 1 completed"
          ]
        },
        {
          "output_type": "stream",
          "name": "stdout",
          "text": [
            "175 ASST\n"
          ]
        },
        {
          "output_type": "stream",
          "name": "stderr",
          "text": [
            "\n",
            "[*********************100%%**********************]  1 of 1 completed"
          ]
        },
        {
          "output_type": "stream",
          "name": "stdout",
          "text": [
            "176 CETU\n"
          ]
        },
        {
          "output_type": "stream",
          "name": "stderr",
          "text": [
            "\n",
            "[*********************100%%**********************]  1 of 1 completed"
          ]
        },
        {
          "output_type": "stream",
          "name": "stdout",
          "text": [
            "177 TXO\n"
          ]
        },
        {
          "output_type": "stream",
          "name": "stderr",
          "text": [
            "\n",
            "[*********************100%%**********************]  1 of 1 completed"
          ]
        },
        {
          "output_type": "stream",
          "name": "stdout",
          "text": [
            "178 BREA\n"
          ]
        },
        {
          "output_type": "stream",
          "name": "stderr",
          "text": [
            "\n",
            "[*********************100%%**********************]  1 of 1 completed"
          ]
        },
        {
          "output_type": "stream",
          "name": "stdout",
          "text": [
            "179 GNLX\n"
          ]
        },
        {
          "output_type": "stream",
          "name": "stderr",
          "text": [
            "\n",
            "[*********************100%%**********************]  1 of 1 completed"
          ]
        },
        {
          "output_type": "stream",
          "name": "stdout",
          "text": [
            "180 QSG\n"
          ]
        },
        {
          "output_type": "stream",
          "name": "stderr",
          "text": [
            "\n",
            "[*********************100%%**********************]  1 of 1 completed"
          ]
        },
        {
          "output_type": "stream",
          "name": "stdout",
          "text": [
            "181 CVKD\n"
          ]
        },
        {
          "output_type": "stream",
          "name": "stderr",
          "text": [
            "\n",
            "[*********************100%%**********************]  1 of 1 completed"
          ]
        },
        {
          "output_type": "stream",
          "name": "stdout",
          "text": [
            "182 SKWD\n"
          ]
        },
        {
          "output_type": "stream",
          "name": "stderr",
          "text": [
            "\n",
            "[*********************100%%**********************]  1 of 1 completed"
          ]
        },
        {
          "output_type": "stream",
          "name": "stdout",
          "text": [
            "183 ISRL\n"
          ]
        },
        {
          "output_type": "stream",
          "name": "stderr",
          "text": [
            "\n",
            "[*********************100%%**********************]  1 of 1 completed"
          ]
        },
        {
          "output_type": "stream",
          "name": "stdout",
          "text": [
            "184 MGOL\n"
          ]
        },
        {
          "output_type": "stream",
          "name": "stderr",
          "text": [
            "\n"
          ]
        },
        {
          "output_type": "stream",
          "name": "stdout",
          "text": [
            "<class 'pandas.core.frame.DataFrame'>\n",
            "RangeIndex: 36802 entries, 0 to 36801\n",
            "Data columns (total 24 columns):\n",
            " #   Column                        Non-Null Count  Dtype  \n",
            "---  ------                        --------------  -----  \n",
            " 0   Open                          36802 non-null  float64\n",
            " 1   High                          36802 non-null  float64\n",
            " 2   Low                           36802 non-null  float64\n",
            " 3   Close                         36802 non-null  float64\n",
            " 4   Adj Close                     36802 non-null  float64\n",
            " 5   Volume                        36802 non-null  int64  \n",
            " 6   Ticker                        36802 non-null  object \n",
            " 7   Year                          36802 non-null  int32  \n",
            " 8   Month                         36802 non-null  int32  \n",
            " 9   Weekday                       36802 non-null  int32  \n",
            " 10  Date                          36802 non-null  object \n",
            " 11  growth_1d                     36618 non-null  float64\n",
            " 12  growth_3d                     36250 non-null  float64\n",
            " 13  growth_7d                     35514 non-null  float64\n",
            " 14  growth_30d                    31306 non-null  float64\n",
            " 15  growth_90d                    21312 non-null  float64\n",
            " 16  growth_365d                   3243 non-null   float64\n",
            " 17  growth_future_5d              35882 non-null  float64\n",
            " 18  SMA10                         35146 non-null  float64\n",
            " 19  SMA20                         33312 non-null  float64\n",
            " 20  growing_moving_average        36802 non-null  int64  \n",
            " 21  high_minus_low_relative       36802 non-null  float64\n",
            " 22  volatility                    31488 non-null  float64\n",
            " 23  is_positive_growth_5d_future  36802 non-null  int64  \n",
            "dtypes: float64(16), int32(3), int64(3), object(2)\n",
            "memory usage: 6.3+ MB\n"
          ]
        }
      ],
      "source": [
        "stocks_df = get_stocks_df(TICKERS)\n",
        "stocks_df.info()"
      ]
    },
    {
      "cell_type": "code",
      "execution_count": null,
      "metadata": {
        "colab": {
          "base_uri": "https://localhost:8080/"
        },
        "id": "LK1lrNjLZDOq",
        "outputId": "00e7d877-6da6-45ac-9eac-144a0e5c3861"
      },
      "outputs": [
        {
          "output_type": "execute_result",
          "data": {
            "text/plain": [
              "184"
            ]
          },
          "metadata": {},
          "execution_count": 33
        }
      ],
      "source": [
        "stocks_df.Ticker.nunique()"
      ]
    },
    {
      "cell_type": "code",
      "execution_count": null,
      "metadata": {
        "colab": {
          "base_uri": "https://localhost:8080/",
          "height": 273
        },
        "id": "VKQwVqr-aRLj",
        "outputId": "18e5308d-9578-432a-e3c5-11c94f942369"
      },
      "outputs": [
        {
          "output_type": "execute_result",
          "data": {
            "text/plain": [
              "   Open  High    Low  Close  Adj Close   Volume Ticker  Year  Month  Weekday  \\\n",
              "0  3.50  9.35  3.500   8.00       8.00  2840400   SMXT  2024      2        1   \n",
              "1  6.42  7.24  5.600   5.86       5.86   243200   SMXT  2024      2        2   \n",
              "2  5.74  5.84  4.300   4.89       4.89   130000   SMXT  2024      2        3   \n",
              "3  3.94  5.15  3.800   4.88       4.88   485000   SMXT  2024      3        4   \n",
              "4  4.73  5.10  4.258   4.66       4.66   114300   SMXT  2024      3        0   \n",
              "\n",
              "   ... growth_30d  growth_90d  growth_365d  growth_future_5d  SMA10  SMA20  \\\n",
              "0  ...        NaN         NaN          NaN          0.657500    NaN    NaN   \n",
              "1  ...        NaN         NaN          NaN          1.225256    NaN    NaN   \n",
              "2  ...        NaN         NaN          NaN          1.490798    NaN    NaN   \n",
              "3  ...        NaN         NaN          NaN          1.450820    NaN    NaN   \n",
              "4  ...        NaN         NaN          NaN          1.866953    NaN    NaN   \n",
              "\n",
              "   growing_moving_average  high_minus_low_relative  volatility  \\\n",
              "0                       0                 0.731250         NaN   \n",
              "1                       0                 0.279863         NaN   \n",
              "2                       0                 0.314928         NaN   \n",
              "3                       0                 0.276639         NaN   \n",
              "4                       0                 0.180687         NaN   \n",
              "\n",
              "   is_positive_growth_5d_future  \n",
              "0                             0  \n",
              "1                             1  \n",
              "2                             1  \n",
              "3                             1  \n",
              "4                             1  \n",
              "\n",
              "[5 rows x 24 columns]"
            ],
            "text/html": [
              "\n",
              "  <div id=\"df-ea553c40-9901-457a-ab4a-bcc43448e1ab\" class=\"colab-df-container\">\n",
              "    <div>\n",
              "<style scoped>\n",
              "    .dataframe tbody tr th:only-of-type {\n",
              "        vertical-align: middle;\n",
              "    }\n",
              "\n",
              "    .dataframe tbody tr th {\n",
              "        vertical-align: top;\n",
              "    }\n",
              "\n",
              "    .dataframe thead th {\n",
              "        text-align: right;\n",
              "    }\n",
              "</style>\n",
              "<table border=\"1\" class=\"dataframe\">\n",
              "  <thead>\n",
              "    <tr style=\"text-align: right;\">\n",
              "      <th></th>\n",
              "      <th>Open</th>\n",
              "      <th>High</th>\n",
              "      <th>Low</th>\n",
              "      <th>Close</th>\n",
              "      <th>Adj Close</th>\n",
              "      <th>Volume</th>\n",
              "      <th>Ticker</th>\n",
              "      <th>Year</th>\n",
              "      <th>Month</th>\n",
              "      <th>Weekday</th>\n",
              "      <th>...</th>\n",
              "      <th>growth_30d</th>\n",
              "      <th>growth_90d</th>\n",
              "      <th>growth_365d</th>\n",
              "      <th>growth_future_5d</th>\n",
              "      <th>SMA10</th>\n",
              "      <th>SMA20</th>\n",
              "      <th>growing_moving_average</th>\n",
              "      <th>high_minus_low_relative</th>\n",
              "      <th>volatility</th>\n",
              "      <th>is_positive_growth_5d_future</th>\n",
              "    </tr>\n",
              "  </thead>\n",
              "  <tbody>\n",
              "    <tr>\n",
              "      <th>0</th>\n",
              "      <td>3.50</td>\n",
              "      <td>9.35</td>\n",
              "      <td>3.500</td>\n",
              "      <td>8.00</td>\n",
              "      <td>8.00</td>\n",
              "      <td>2840400</td>\n",
              "      <td>SMXT</td>\n",
              "      <td>2024</td>\n",
              "      <td>2</td>\n",
              "      <td>1</td>\n",
              "      <td>...</td>\n",
              "      <td>NaN</td>\n",
              "      <td>NaN</td>\n",
              "      <td>NaN</td>\n",
              "      <td>0.657500</td>\n",
              "      <td>NaN</td>\n",
              "      <td>NaN</td>\n",
              "      <td>0</td>\n",
              "      <td>0.731250</td>\n",
              "      <td>NaN</td>\n",
              "      <td>0</td>\n",
              "    </tr>\n",
              "    <tr>\n",
              "      <th>1</th>\n",
              "      <td>6.42</td>\n",
              "      <td>7.24</td>\n",
              "      <td>5.600</td>\n",
              "      <td>5.86</td>\n",
              "      <td>5.86</td>\n",
              "      <td>243200</td>\n",
              "      <td>SMXT</td>\n",
              "      <td>2024</td>\n",
              "      <td>2</td>\n",
              "      <td>2</td>\n",
              "      <td>...</td>\n",
              "      <td>NaN</td>\n",
              "      <td>NaN</td>\n",
              "      <td>NaN</td>\n",
              "      <td>1.225256</td>\n",
              "      <td>NaN</td>\n",
              "      <td>NaN</td>\n",
              "      <td>0</td>\n",
              "      <td>0.279863</td>\n",
              "      <td>NaN</td>\n",
              "      <td>1</td>\n",
              "    </tr>\n",
              "    <tr>\n",
              "      <th>2</th>\n",
              "      <td>5.74</td>\n",
              "      <td>5.84</td>\n",
              "      <td>4.300</td>\n",
              "      <td>4.89</td>\n",
              "      <td>4.89</td>\n",
              "      <td>130000</td>\n",
              "      <td>SMXT</td>\n",
              "      <td>2024</td>\n",
              "      <td>2</td>\n",
              "      <td>3</td>\n",
              "      <td>...</td>\n",
              "      <td>NaN</td>\n",
              "      <td>NaN</td>\n",
              "      <td>NaN</td>\n",
              "      <td>1.490798</td>\n",
              "      <td>NaN</td>\n",
              "      <td>NaN</td>\n",
              "      <td>0</td>\n",
              "      <td>0.314928</td>\n",
              "      <td>NaN</td>\n",
              "      <td>1</td>\n",
              "    </tr>\n",
              "    <tr>\n",
              "      <th>3</th>\n",
              "      <td>3.94</td>\n",
              "      <td>5.15</td>\n",
              "      <td>3.800</td>\n",
              "      <td>4.88</td>\n",
              "      <td>4.88</td>\n",
              "      <td>485000</td>\n",
              "      <td>SMXT</td>\n",
              "      <td>2024</td>\n",
              "      <td>3</td>\n",
              "      <td>4</td>\n",
              "      <td>...</td>\n",
              "      <td>NaN</td>\n",
              "      <td>NaN</td>\n",
              "      <td>NaN</td>\n",
              "      <td>1.450820</td>\n",
              "      <td>NaN</td>\n",
              "      <td>NaN</td>\n",
              "      <td>0</td>\n",
              "      <td>0.276639</td>\n",
              "      <td>NaN</td>\n",
              "      <td>1</td>\n",
              "    </tr>\n",
              "    <tr>\n",
              "      <th>4</th>\n",
              "      <td>4.73</td>\n",
              "      <td>5.10</td>\n",
              "      <td>4.258</td>\n",
              "      <td>4.66</td>\n",
              "      <td>4.66</td>\n",
              "      <td>114300</td>\n",
              "      <td>SMXT</td>\n",
              "      <td>2024</td>\n",
              "      <td>3</td>\n",
              "      <td>0</td>\n",
              "      <td>...</td>\n",
              "      <td>NaN</td>\n",
              "      <td>NaN</td>\n",
              "      <td>NaN</td>\n",
              "      <td>1.866953</td>\n",
              "      <td>NaN</td>\n",
              "      <td>NaN</td>\n",
              "      <td>0</td>\n",
              "      <td>0.180687</td>\n",
              "      <td>NaN</td>\n",
              "      <td>1</td>\n",
              "    </tr>\n",
              "  </tbody>\n",
              "</table>\n",
              "<p>5 rows × 24 columns</p>\n",
              "</div>\n",
              "    <div class=\"colab-df-buttons\">\n",
              "\n",
              "  <div class=\"colab-df-container\">\n",
              "    <button class=\"colab-df-convert\" onclick=\"convertToInteractive('df-ea553c40-9901-457a-ab4a-bcc43448e1ab')\"\n",
              "            title=\"Convert this dataframe to an interactive table.\"\n",
              "            style=\"display:none;\">\n",
              "\n",
              "  <svg xmlns=\"http://www.w3.org/2000/svg\" height=\"24px\" viewBox=\"0 -960 960 960\">\n",
              "    <path d=\"M120-120v-720h720v720H120Zm60-500h600v-160H180v160Zm220 220h160v-160H400v160Zm0 220h160v-160H400v160ZM180-400h160v-160H180v160Zm440 0h160v-160H620v160ZM180-180h160v-160H180v160Zm440 0h160v-160H620v160Z\"/>\n",
              "  </svg>\n",
              "    </button>\n",
              "\n",
              "  <style>\n",
              "    .colab-df-container {\n",
              "      display:flex;\n",
              "      gap: 12px;\n",
              "    }\n",
              "\n",
              "    .colab-df-convert {\n",
              "      background-color: #E8F0FE;\n",
              "      border: none;\n",
              "      border-radius: 50%;\n",
              "      cursor: pointer;\n",
              "      display: none;\n",
              "      fill: #1967D2;\n",
              "      height: 32px;\n",
              "      padding: 0 0 0 0;\n",
              "      width: 32px;\n",
              "    }\n",
              "\n",
              "    .colab-df-convert:hover {\n",
              "      background-color: #E2EBFA;\n",
              "      box-shadow: 0px 1px 2px rgba(60, 64, 67, 0.3), 0px 1px 3px 1px rgba(60, 64, 67, 0.15);\n",
              "      fill: #174EA6;\n",
              "    }\n",
              "\n",
              "    .colab-df-buttons div {\n",
              "      margin-bottom: 4px;\n",
              "    }\n",
              "\n",
              "    [theme=dark] .colab-df-convert {\n",
              "      background-color: #3B4455;\n",
              "      fill: #D2E3FC;\n",
              "    }\n",
              "\n",
              "    [theme=dark] .colab-df-convert:hover {\n",
              "      background-color: #434B5C;\n",
              "      box-shadow: 0px 1px 3px 1px rgba(0, 0, 0, 0.15);\n",
              "      filter: drop-shadow(0px 1px 2px rgba(0, 0, 0, 0.3));\n",
              "      fill: #FFFFFF;\n",
              "    }\n",
              "  </style>\n",
              "\n",
              "    <script>\n",
              "      const buttonEl =\n",
              "        document.querySelector('#df-ea553c40-9901-457a-ab4a-bcc43448e1ab button.colab-df-convert');\n",
              "      buttonEl.style.display =\n",
              "        google.colab.kernel.accessAllowed ? 'block' : 'none';\n",
              "\n",
              "      async function convertToInteractive(key) {\n",
              "        const element = document.querySelector('#df-ea553c40-9901-457a-ab4a-bcc43448e1ab');\n",
              "        const dataTable =\n",
              "          await google.colab.kernel.invokeFunction('convertToInteractive',\n",
              "                                                    [key], {});\n",
              "        if (!dataTable) return;\n",
              "\n",
              "        const docLinkHtml = 'Like what you see? Visit the ' +\n",
              "          '<a target=\"_blank\" href=https://colab.research.google.com/notebooks/data_table.ipynb>data table notebook</a>'\n",
              "          + ' to learn more about interactive tables.';\n",
              "        element.innerHTML = '';\n",
              "        dataTable['output_type'] = 'display_data';\n",
              "        await google.colab.output.renderOutput(dataTable, element);\n",
              "        const docLink = document.createElement('div');\n",
              "        docLink.innerHTML = docLinkHtml;\n",
              "        element.appendChild(docLink);\n",
              "      }\n",
              "    </script>\n",
              "  </div>\n",
              "\n",
              "\n",
              "<div id=\"df-63dcadb0-bbe9-486a-881d-564003b00326\">\n",
              "  <button class=\"colab-df-quickchart\" onclick=\"quickchart('df-63dcadb0-bbe9-486a-881d-564003b00326')\"\n",
              "            title=\"Suggest charts\"\n",
              "            style=\"display:none;\">\n",
              "\n",
              "<svg xmlns=\"http://www.w3.org/2000/svg\" height=\"24px\"viewBox=\"0 0 24 24\"\n",
              "     width=\"24px\">\n",
              "    <g>\n",
              "        <path d=\"M19 3H5c-1.1 0-2 .9-2 2v14c0 1.1.9 2 2 2h14c1.1 0 2-.9 2-2V5c0-1.1-.9-2-2-2zM9 17H7v-7h2v7zm4 0h-2V7h2v10zm4 0h-2v-4h2v4z\"/>\n",
              "    </g>\n",
              "</svg>\n",
              "  </button>\n",
              "\n",
              "<style>\n",
              "  .colab-df-quickchart {\n",
              "      --bg-color: #E8F0FE;\n",
              "      --fill-color: #1967D2;\n",
              "      --hover-bg-color: #E2EBFA;\n",
              "      --hover-fill-color: #174EA6;\n",
              "      --disabled-fill-color: #AAA;\n",
              "      --disabled-bg-color: #DDD;\n",
              "  }\n",
              "\n",
              "  [theme=dark] .colab-df-quickchart {\n",
              "      --bg-color: #3B4455;\n",
              "      --fill-color: #D2E3FC;\n",
              "      --hover-bg-color: #434B5C;\n",
              "      --hover-fill-color: #FFFFFF;\n",
              "      --disabled-bg-color: #3B4455;\n",
              "      --disabled-fill-color: #666;\n",
              "  }\n",
              "\n",
              "  .colab-df-quickchart {\n",
              "    background-color: var(--bg-color);\n",
              "    border: none;\n",
              "    border-radius: 50%;\n",
              "    cursor: pointer;\n",
              "    display: none;\n",
              "    fill: var(--fill-color);\n",
              "    height: 32px;\n",
              "    padding: 0;\n",
              "    width: 32px;\n",
              "  }\n",
              "\n",
              "  .colab-df-quickchart:hover {\n",
              "    background-color: var(--hover-bg-color);\n",
              "    box-shadow: 0 1px 2px rgba(60, 64, 67, 0.3), 0 1px 3px 1px rgba(60, 64, 67, 0.15);\n",
              "    fill: var(--button-hover-fill-color);\n",
              "  }\n",
              "\n",
              "  .colab-df-quickchart-complete:disabled,\n",
              "  .colab-df-quickchart-complete:disabled:hover {\n",
              "    background-color: var(--disabled-bg-color);\n",
              "    fill: var(--disabled-fill-color);\n",
              "    box-shadow: none;\n",
              "  }\n",
              "\n",
              "  .colab-df-spinner {\n",
              "    border: 2px solid var(--fill-color);\n",
              "    border-color: transparent;\n",
              "    border-bottom-color: var(--fill-color);\n",
              "    animation:\n",
              "      spin 1s steps(1) infinite;\n",
              "  }\n",
              "\n",
              "  @keyframes spin {\n",
              "    0% {\n",
              "      border-color: transparent;\n",
              "      border-bottom-color: var(--fill-color);\n",
              "      border-left-color: var(--fill-color);\n",
              "    }\n",
              "    20% {\n",
              "      border-color: transparent;\n",
              "      border-left-color: var(--fill-color);\n",
              "      border-top-color: var(--fill-color);\n",
              "    }\n",
              "    30% {\n",
              "      border-color: transparent;\n",
              "      border-left-color: var(--fill-color);\n",
              "      border-top-color: var(--fill-color);\n",
              "      border-right-color: var(--fill-color);\n",
              "    }\n",
              "    40% {\n",
              "      border-color: transparent;\n",
              "      border-right-color: var(--fill-color);\n",
              "      border-top-color: var(--fill-color);\n",
              "    }\n",
              "    60% {\n",
              "      border-color: transparent;\n",
              "      border-right-color: var(--fill-color);\n",
              "    }\n",
              "    80% {\n",
              "      border-color: transparent;\n",
              "      border-right-color: var(--fill-color);\n",
              "      border-bottom-color: var(--fill-color);\n",
              "    }\n",
              "    90% {\n",
              "      border-color: transparent;\n",
              "      border-bottom-color: var(--fill-color);\n",
              "    }\n",
              "  }\n",
              "</style>\n",
              "\n",
              "  <script>\n",
              "    async function quickchart(key) {\n",
              "      const quickchartButtonEl =\n",
              "        document.querySelector('#' + key + ' button');\n",
              "      quickchartButtonEl.disabled = true;  // To prevent multiple clicks.\n",
              "      quickchartButtonEl.classList.add('colab-df-spinner');\n",
              "      try {\n",
              "        const charts = await google.colab.kernel.invokeFunction(\n",
              "            'suggestCharts', [key], {});\n",
              "      } catch (error) {\n",
              "        console.error('Error during call to suggestCharts:', error);\n",
              "      }\n",
              "      quickchartButtonEl.classList.remove('colab-df-spinner');\n",
              "      quickchartButtonEl.classList.add('colab-df-quickchart-complete');\n",
              "    }\n",
              "    (() => {\n",
              "      let quickchartButtonEl =\n",
              "        document.querySelector('#df-63dcadb0-bbe9-486a-881d-564003b00326 button');\n",
              "      quickchartButtonEl.style.display =\n",
              "        google.colab.kernel.accessAllowed ? 'block' : 'none';\n",
              "    })();\n",
              "  </script>\n",
              "</div>\n",
              "    </div>\n",
              "  </div>\n"
            ],
            "application/vnd.google.colaboratory.intrinsic+json": {
              "type": "dataframe",
              "variable_name": "stocks_df"
            }
          },
          "metadata": {},
          "execution_count": 34
        }
      ],
      "source": [
        "stocks_df.head()"
      ]
    },
    {
      "cell_type": "code",
      "execution_count": null,
      "metadata": {
        "id": "7f6t-_RYa3hT"
      },
      "outputs": [],
      "source": [
        "df = stocks_df.copy(deep=True)"
      ]
    },
    {
      "cell_type": "code",
      "execution_count": null,
      "metadata": {
        "id": "1A94wppmacrC"
      },
      "outputs": [],
      "source": [
        "for i in range(30):\n",
        "  shift=i+1\n",
        "  df['future_growth_'+str(shift)+'_d'] = df['Adj Close'].shift(-shift) / df['Adj Close']\n",
        "    # df['growth_'+prefix+'_'+str(i)+'d'] = df['Adj Close'] / df['Adj Close'].shift(i)\n",
        "    # GROWTH_KEYS = [k for k in df.keys() if k.startswith('growth')]"
      ]
    },
    {
      "cell_type": "code",
      "execution_count": null,
      "metadata": {
        "id": "HagEVkwebbE5"
      },
      "outputs": [],
      "source": [
        "min_dates = pd.DataFrame(df.groupby('Ticker').Date.min())"
      ]
    },
    {
      "cell_type": "code",
      "execution_count": null,
      "metadata": {
        "colab": {
          "base_uri": "https://localhost:8080/",
          "height": 238
        },
        "id": "miqM36ZZb0OA",
        "outputId": "c1111c82-9dcc-4427-a93c-5a39a345a157"
      },
      "outputs": [
        {
          "output_type": "execute_result",
          "data": {
            "text/plain": [
              "              Date\n",
              "Ticker            \n",
              "AACT    2023-06-13\n",
              "AESI    2023-03-09\n",
              "AFJK    2024-01-23\n",
              "AHR     2024-02-07\n",
              "AITR    2024-01-02"
            ],
            "text/html": [
              "\n",
              "  <div id=\"df-752c6a7c-5ce4-42f2-ae8d-3014537333fc\" class=\"colab-df-container\">\n",
              "    <div>\n",
              "<style scoped>\n",
              "    .dataframe tbody tr th:only-of-type {\n",
              "        vertical-align: middle;\n",
              "    }\n",
              "\n",
              "    .dataframe tbody tr th {\n",
              "        vertical-align: top;\n",
              "    }\n",
              "\n",
              "    .dataframe thead th {\n",
              "        text-align: right;\n",
              "    }\n",
              "</style>\n",
              "<table border=\"1\" class=\"dataframe\">\n",
              "  <thead>\n",
              "    <tr style=\"text-align: right;\">\n",
              "      <th></th>\n",
              "      <th>Date</th>\n",
              "    </tr>\n",
              "    <tr>\n",
              "      <th>Ticker</th>\n",
              "      <th></th>\n",
              "    </tr>\n",
              "  </thead>\n",
              "  <tbody>\n",
              "    <tr>\n",
              "      <th>AACT</th>\n",
              "      <td>2023-06-13</td>\n",
              "    </tr>\n",
              "    <tr>\n",
              "      <th>AESI</th>\n",
              "      <td>2023-03-09</td>\n",
              "    </tr>\n",
              "    <tr>\n",
              "      <th>AFJK</th>\n",
              "      <td>2024-01-23</td>\n",
              "    </tr>\n",
              "    <tr>\n",
              "      <th>AHR</th>\n",
              "      <td>2024-02-07</td>\n",
              "    </tr>\n",
              "    <tr>\n",
              "      <th>AITR</th>\n",
              "      <td>2024-01-02</td>\n",
              "    </tr>\n",
              "  </tbody>\n",
              "</table>\n",
              "</div>\n",
              "    <div class=\"colab-df-buttons\">\n",
              "\n",
              "  <div class=\"colab-df-container\">\n",
              "    <button class=\"colab-df-convert\" onclick=\"convertToInteractive('df-752c6a7c-5ce4-42f2-ae8d-3014537333fc')\"\n",
              "            title=\"Convert this dataframe to an interactive table.\"\n",
              "            style=\"display:none;\">\n",
              "\n",
              "  <svg xmlns=\"http://www.w3.org/2000/svg\" height=\"24px\" viewBox=\"0 -960 960 960\">\n",
              "    <path d=\"M120-120v-720h720v720H120Zm60-500h600v-160H180v160Zm220 220h160v-160H400v160Zm0 220h160v-160H400v160ZM180-400h160v-160H180v160Zm440 0h160v-160H620v160ZM180-180h160v-160H180v160Zm440 0h160v-160H620v160Z\"/>\n",
              "  </svg>\n",
              "    </button>\n",
              "\n",
              "  <style>\n",
              "    .colab-df-container {\n",
              "      display:flex;\n",
              "      gap: 12px;\n",
              "    }\n",
              "\n",
              "    .colab-df-convert {\n",
              "      background-color: #E8F0FE;\n",
              "      border: none;\n",
              "      border-radius: 50%;\n",
              "      cursor: pointer;\n",
              "      display: none;\n",
              "      fill: #1967D2;\n",
              "      height: 32px;\n",
              "      padding: 0 0 0 0;\n",
              "      width: 32px;\n",
              "    }\n",
              "\n",
              "    .colab-df-convert:hover {\n",
              "      background-color: #E2EBFA;\n",
              "      box-shadow: 0px 1px 2px rgba(60, 64, 67, 0.3), 0px 1px 3px 1px rgba(60, 64, 67, 0.15);\n",
              "      fill: #174EA6;\n",
              "    }\n",
              "\n",
              "    .colab-df-buttons div {\n",
              "      margin-bottom: 4px;\n",
              "    }\n",
              "\n",
              "    [theme=dark] .colab-df-convert {\n",
              "      background-color: #3B4455;\n",
              "      fill: #D2E3FC;\n",
              "    }\n",
              "\n",
              "    [theme=dark] .colab-df-convert:hover {\n",
              "      background-color: #434B5C;\n",
              "      box-shadow: 0px 1px 3px 1px rgba(0, 0, 0, 0.15);\n",
              "      filter: drop-shadow(0px 1px 2px rgba(0, 0, 0, 0.3));\n",
              "      fill: #FFFFFF;\n",
              "    }\n",
              "  </style>\n",
              "\n",
              "    <script>\n",
              "      const buttonEl =\n",
              "        document.querySelector('#df-752c6a7c-5ce4-42f2-ae8d-3014537333fc button.colab-df-convert');\n",
              "      buttonEl.style.display =\n",
              "        google.colab.kernel.accessAllowed ? 'block' : 'none';\n",
              "\n",
              "      async function convertToInteractive(key) {\n",
              "        const element = document.querySelector('#df-752c6a7c-5ce4-42f2-ae8d-3014537333fc');\n",
              "        const dataTable =\n",
              "          await google.colab.kernel.invokeFunction('convertToInteractive',\n",
              "                                                    [key], {});\n",
              "        if (!dataTable) return;\n",
              "\n",
              "        const docLinkHtml = 'Like what you see? Visit the ' +\n",
              "          '<a target=\"_blank\" href=https://colab.research.google.com/notebooks/data_table.ipynb>data table notebook</a>'\n",
              "          + ' to learn more about interactive tables.';\n",
              "        element.innerHTML = '';\n",
              "        dataTable['output_type'] = 'display_data';\n",
              "        await google.colab.output.renderOutput(dataTable, element);\n",
              "        const docLink = document.createElement('div');\n",
              "        docLink.innerHTML = docLinkHtml;\n",
              "        element.appendChild(docLink);\n",
              "      }\n",
              "    </script>\n",
              "  </div>\n",
              "\n",
              "\n",
              "<div id=\"df-b7f4eaf1-3e48-4bb5-aea3-cc9a0cfd4cf5\">\n",
              "  <button class=\"colab-df-quickchart\" onclick=\"quickchart('df-b7f4eaf1-3e48-4bb5-aea3-cc9a0cfd4cf5')\"\n",
              "            title=\"Suggest charts\"\n",
              "            style=\"display:none;\">\n",
              "\n",
              "<svg xmlns=\"http://www.w3.org/2000/svg\" height=\"24px\"viewBox=\"0 0 24 24\"\n",
              "     width=\"24px\">\n",
              "    <g>\n",
              "        <path d=\"M19 3H5c-1.1 0-2 .9-2 2v14c0 1.1.9 2 2 2h14c1.1 0 2-.9 2-2V5c0-1.1-.9-2-2-2zM9 17H7v-7h2v7zm4 0h-2V7h2v10zm4 0h-2v-4h2v4z\"/>\n",
              "    </g>\n",
              "</svg>\n",
              "  </button>\n",
              "\n",
              "<style>\n",
              "  .colab-df-quickchart {\n",
              "      --bg-color: #E8F0FE;\n",
              "      --fill-color: #1967D2;\n",
              "      --hover-bg-color: #E2EBFA;\n",
              "      --hover-fill-color: #174EA6;\n",
              "      --disabled-fill-color: #AAA;\n",
              "      --disabled-bg-color: #DDD;\n",
              "  }\n",
              "\n",
              "  [theme=dark] .colab-df-quickchart {\n",
              "      --bg-color: #3B4455;\n",
              "      --fill-color: #D2E3FC;\n",
              "      --hover-bg-color: #434B5C;\n",
              "      --hover-fill-color: #FFFFFF;\n",
              "      --disabled-bg-color: #3B4455;\n",
              "      --disabled-fill-color: #666;\n",
              "  }\n",
              "\n",
              "  .colab-df-quickchart {\n",
              "    background-color: var(--bg-color);\n",
              "    border: none;\n",
              "    border-radius: 50%;\n",
              "    cursor: pointer;\n",
              "    display: none;\n",
              "    fill: var(--fill-color);\n",
              "    height: 32px;\n",
              "    padding: 0;\n",
              "    width: 32px;\n",
              "  }\n",
              "\n",
              "  .colab-df-quickchart:hover {\n",
              "    background-color: var(--hover-bg-color);\n",
              "    box-shadow: 0 1px 2px rgba(60, 64, 67, 0.3), 0 1px 3px 1px rgba(60, 64, 67, 0.15);\n",
              "    fill: var(--button-hover-fill-color);\n",
              "  }\n",
              "\n",
              "  .colab-df-quickchart-complete:disabled,\n",
              "  .colab-df-quickchart-complete:disabled:hover {\n",
              "    background-color: var(--disabled-bg-color);\n",
              "    fill: var(--disabled-fill-color);\n",
              "    box-shadow: none;\n",
              "  }\n",
              "\n",
              "  .colab-df-spinner {\n",
              "    border: 2px solid var(--fill-color);\n",
              "    border-color: transparent;\n",
              "    border-bottom-color: var(--fill-color);\n",
              "    animation:\n",
              "      spin 1s steps(1) infinite;\n",
              "  }\n",
              "\n",
              "  @keyframes spin {\n",
              "    0% {\n",
              "      border-color: transparent;\n",
              "      border-bottom-color: var(--fill-color);\n",
              "      border-left-color: var(--fill-color);\n",
              "    }\n",
              "    20% {\n",
              "      border-color: transparent;\n",
              "      border-left-color: var(--fill-color);\n",
              "      border-top-color: var(--fill-color);\n",
              "    }\n",
              "    30% {\n",
              "      border-color: transparent;\n",
              "      border-left-color: var(--fill-color);\n",
              "      border-top-color: var(--fill-color);\n",
              "      border-right-color: var(--fill-color);\n",
              "    }\n",
              "    40% {\n",
              "      border-color: transparent;\n",
              "      border-right-color: var(--fill-color);\n",
              "      border-top-color: var(--fill-color);\n",
              "    }\n",
              "    60% {\n",
              "      border-color: transparent;\n",
              "      border-right-color: var(--fill-color);\n",
              "    }\n",
              "    80% {\n",
              "      border-color: transparent;\n",
              "      border-right-color: var(--fill-color);\n",
              "      border-bottom-color: var(--fill-color);\n",
              "    }\n",
              "    90% {\n",
              "      border-color: transparent;\n",
              "      border-bottom-color: var(--fill-color);\n",
              "    }\n",
              "  }\n",
              "</style>\n",
              "\n",
              "  <script>\n",
              "    async function quickchart(key) {\n",
              "      const quickchartButtonEl =\n",
              "        document.querySelector('#' + key + ' button');\n",
              "      quickchartButtonEl.disabled = true;  // To prevent multiple clicks.\n",
              "      quickchartButtonEl.classList.add('colab-df-spinner');\n",
              "      try {\n",
              "        const charts = await google.colab.kernel.invokeFunction(\n",
              "            'suggestCharts', [key], {});\n",
              "      } catch (error) {\n",
              "        console.error('Error during call to suggestCharts:', error);\n",
              "      }\n",
              "      quickchartButtonEl.classList.remove('colab-df-spinner');\n",
              "      quickchartButtonEl.classList.add('colab-df-quickchart-complete');\n",
              "    }\n",
              "    (() => {\n",
              "      let quickchartButtonEl =\n",
              "        document.querySelector('#df-b7f4eaf1-3e48-4bb5-aea3-cc9a0cfd4cf5 button');\n",
              "      quickchartButtonEl.style.display =\n",
              "        google.colab.kernel.accessAllowed ? 'block' : 'none';\n",
              "    })();\n",
              "  </script>\n",
              "</div>\n",
              "    </div>\n",
              "  </div>\n"
            ],
            "application/vnd.google.colaboratory.intrinsic+json": {
              "type": "dataframe",
              "variable_name": "min_dates",
              "summary": "{\n  \"name\": \"min_dates\",\n  \"rows\": 184,\n  \"fields\": [\n    {\n      \"column\": \"Ticker\",\n      \"properties\": {\n        \"dtype\": \"string\",\n        \"num_unique_values\": 184,\n        \"samples\": [\n          \"AZTR\",\n          \"CWD\",\n          \"SXTP\"\n        ],\n        \"semantic_type\": \"\",\n        \"description\": \"\"\n      }\n    },\n    {\n      \"column\": \"Date\",\n      \"properties\": {\n        \"dtype\": \"date\",\n        \"min\": \"2009-12-29\",\n        \"max\": \"2024-04-12\",\n        \"num_unique_values\": 119,\n        \"samples\": [\n          \"2023-11-08\",\n          \"2023-05-19\",\n          \"2024-01-02\"\n        ],\n        \"semantic_type\": \"\",\n        \"description\": \"\"\n      }\n    }\n  ]\n}"
            }
          },
          "metadata": {},
          "execution_count": 38
        }
      ],
      "source": [
        "# min_dates['Ticker'] = min_dates.index\n",
        "min_dates.head()"
      ]
    },
    {
      "cell_type": "code",
      "execution_count": null,
      "metadata": {
        "colab": {
          "base_uri": "https://localhost:8080/",
          "height": 424
        },
        "id": "dbN7cZOkcfxF",
        "outputId": "79e1d302-d595-4896-c7c0-6c03836bab3d"
      },
      "outputs": [
        {
          "output_type": "execute_result",
          "data": {
            "text/plain": [
              "    Ticker        Date\n",
              "0     AACT  2023-06-13\n",
              "1     AESI  2023-03-09\n",
              "2     AFJK  2024-01-23\n",
              "3      AHR  2024-02-07\n",
              "4     AITR  2024-01-02\n",
              "..     ...         ...\n",
              "179   WRNT  2023-07-25\n",
              "180  YGFGF  2023-03-28\n",
              "181   YIBO  2024-01-25\n",
              "182   ZJYL  2023-03-28\n",
              "183    ZKH  2023-12-15\n",
              "\n",
              "[184 rows x 2 columns]"
            ],
            "text/html": [
              "\n",
              "  <div id=\"df-d7d3d929-52d1-4e36-b98c-78e83bd16a9e\" class=\"colab-df-container\">\n",
              "    <div>\n",
              "<style scoped>\n",
              "    .dataframe tbody tr th:only-of-type {\n",
              "        vertical-align: middle;\n",
              "    }\n",
              "\n",
              "    .dataframe tbody tr th {\n",
              "        vertical-align: top;\n",
              "    }\n",
              "\n",
              "    .dataframe thead th {\n",
              "        text-align: right;\n",
              "    }\n",
              "</style>\n",
              "<table border=\"1\" class=\"dataframe\">\n",
              "  <thead>\n",
              "    <tr style=\"text-align: right;\">\n",
              "      <th></th>\n",
              "      <th>Ticker</th>\n",
              "      <th>Date</th>\n",
              "    </tr>\n",
              "  </thead>\n",
              "  <tbody>\n",
              "    <tr>\n",
              "      <th>0</th>\n",
              "      <td>AACT</td>\n",
              "      <td>2023-06-13</td>\n",
              "    </tr>\n",
              "    <tr>\n",
              "      <th>1</th>\n",
              "      <td>AESI</td>\n",
              "      <td>2023-03-09</td>\n",
              "    </tr>\n",
              "    <tr>\n",
              "      <th>2</th>\n",
              "      <td>AFJK</td>\n",
              "      <td>2024-01-23</td>\n",
              "    </tr>\n",
              "    <tr>\n",
              "      <th>3</th>\n",
              "      <td>AHR</td>\n",
              "      <td>2024-02-07</td>\n",
              "    </tr>\n",
              "    <tr>\n",
              "      <th>4</th>\n",
              "      <td>AITR</td>\n",
              "      <td>2024-01-02</td>\n",
              "    </tr>\n",
              "    <tr>\n",
              "      <th>...</th>\n",
              "      <td>...</td>\n",
              "      <td>...</td>\n",
              "    </tr>\n",
              "    <tr>\n",
              "      <th>179</th>\n",
              "      <td>WRNT</td>\n",
              "      <td>2023-07-25</td>\n",
              "    </tr>\n",
              "    <tr>\n",
              "      <th>180</th>\n",
              "      <td>YGFGF</td>\n",
              "      <td>2023-03-28</td>\n",
              "    </tr>\n",
              "    <tr>\n",
              "      <th>181</th>\n",
              "      <td>YIBO</td>\n",
              "      <td>2024-01-25</td>\n",
              "    </tr>\n",
              "    <tr>\n",
              "      <th>182</th>\n",
              "      <td>ZJYL</td>\n",
              "      <td>2023-03-28</td>\n",
              "    </tr>\n",
              "    <tr>\n",
              "      <th>183</th>\n",
              "      <td>ZKH</td>\n",
              "      <td>2023-12-15</td>\n",
              "    </tr>\n",
              "  </tbody>\n",
              "</table>\n",
              "<p>184 rows × 2 columns</p>\n",
              "</div>\n",
              "    <div class=\"colab-df-buttons\">\n",
              "\n",
              "  <div class=\"colab-df-container\">\n",
              "    <button class=\"colab-df-convert\" onclick=\"convertToInteractive('df-d7d3d929-52d1-4e36-b98c-78e83bd16a9e')\"\n",
              "            title=\"Convert this dataframe to an interactive table.\"\n",
              "            style=\"display:none;\">\n",
              "\n",
              "  <svg xmlns=\"http://www.w3.org/2000/svg\" height=\"24px\" viewBox=\"0 -960 960 960\">\n",
              "    <path d=\"M120-120v-720h720v720H120Zm60-500h600v-160H180v160Zm220 220h160v-160H400v160Zm0 220h160v-160H400v160ZM180-400h160v-160H180v160Zm440 0h160v-160H620v160ZM180-180h160v-160H180v160Zm440 0h160v-160H620v160Z\"/>\n",
              "  </svg>\n",
              "    </button>\n",
              "\n",
              "  <style>\n",
              "    .colab-df-container {\n",
              "      display:flex;\n",
              "      gap: 12px;\n",
              "    }\n",
              "\n",
              "    .colab-df-convert {\n",
              "      background-color: #E8F0FE;\n",
              "      border: none;\n",
              "      border-radius: 50%;\n",
              "      cursor: pointer;\n",
              "      display: none;\n",
              "      fill: #1967D2;\n",
              "      height: 32px;\n",
              "      padding: 0 0 0 0;\n",
              "      width: 32px;\n",
              "    }\n",
              "\n",
              "    .colab-df-convert:hover {\n",
              "      background-color: #E2EBFA;\n",
              "      box-shadow: 0px 1px 2px rgba(60, 64, 67, 0.3), 0px 1px 3px 1px rgba(60, 64, 67, 0.15);\n",
              "      fill: #174EA6;\n",
              "    }\n",
              "\n",
              "    .colab-df-buttons div {\n",
              "      margin-bottom: 4px;\n",
              "    }\n",
              "\n",
              "    [theme=dark] .colab-df-convert {\n",
              "      background-color: #3B4455;\n",
              "      fill: #D2E3FC;\n",
              "    }\n",
              "\n",
              "    [theme=dark] .colab-df-convert:hover {\n",
              "      background-color: #434B5C;\n",
              "      box-shadow: 0px 1px 3px 1px rgba(0, 0, 0, 0.15);\n",
              "      filter: drop-shadow(0px 1px 2px rgba(0, 0, 0, 0.3));\n",
              "      fill: #FFFFFF;\n",
              "    }\n",
              "  </style>\n",
              "\n",
              "    <script>\n",
              "      const buttonEl =\n",
              "        document.querySelector('#df-d7d3d929-52d1-4e36-b98c-78e83bd16a9e button.colab-df-convert');\n",
              "      buttonEl.style.display =\n",
              "        google.colab.kernel.accessAllowed ? 'block' : 'none';\n",
              "\n",
              "      async function convertToInteractive(key) {\n",
              "        const element = document.querySelector('#df-d7d3d929-52d1-4e36-b98c-78e83bd16a9e');\n",
              "        const dataTable =\n",
              "          await google.colab.kernel.invokeFunction('convertToInteractive',\n",
              "                                                    [key], {});\n",
              "        if (!dataTable) return;\n",
              "\n",
              "        const docLinkHtml = 'Like what you see? Visit the ' +\n",
              "          '<a target=\"_blank\" href=https://colab.research.google.com/notebooks/data_table.ipynb>data table notebook</a>'\n",
              "          + ' to learn more about interactive tables.';\n",
              "        element.innerHTML = '';\n",
              "        dataTable['output_type'] = 'display_data';\n",
              "        await google.colab.output.renderOutput(dataTable, element);\n",
              "        const docLink = document.createElement('div');\n",
              "        docLink.innerHTML = docLinkHtml;\n",
              "        element.appendChild(docLink);\n",
              "      }\n",
              "    </script>\n",
              "  </div>\n",
              "\n",
              "\n",
              "<div id=\"df-98ba4773-8181-4684-a85a-61a64cc86995\">\n",
              "  <button class=\"colab-df-quickchart\" onclick=\"quickchart('df-98ba4773-8181-4684-a85a-61a64cc86995')\"\n",
              "            title=\"Suggest charts\"\n",
              "            style=\"display:none;\">\n",
              "\n",
              "<svg xmlns=\"http://www.w3.org/2000/svg\" height=\"24px\"viewBox=\"0 0 24 24\"\n",
              "     width=\"24px\">\n",
              "    <g>\n",
              "        <path d=\"M19 3H5c-1.1 0-2 .9-2 2v14c0 1.1.9 2 2 2h14c1.1 0 2-.9 2-2V5c0-1.1-.9-2-2-2zM9 17H7v-7h2v7zm4 0h-2V7h2v10zm4 0h-2v-4h2v4z\"/>\n",
              "    </g>\n",
              "</svg>\n",
              "  </button>\n",
              "\n",
              "<style>\n",
              "  .colab-df-quickchart {\n",
              "      --bg-color: #E8F0FE;\n",
              "      --fill-color: #1967D2;\n",
              "      --hover-bg-color: #E2EBFA;\n",
              "      --hover-fill-color: #174EA6;\n",
              "      --disabled-fill-color: #AAA;\n",
              "      --disabled-bg-color: #DDD;\n",
              "  }\n",
              "\n",
              "  [theme=dark] .colab-df-quickchart {\n",
              "      --bg-color: #3B4455;\n",
              "      --fill-color: #D2E3FC;\n",
              "      --hover-bg-color: #434B5C;\n",
              "      --hover-fill-color: #FFFFFF;\n",
              "      --disabled-bg-color: #3B4455;\n",
              "      --disabled-fill-color: #666;\n",
              "  }\n",
              "\n",
              "  .colab-df-quickchart {\n",
              "    background-color: var(--bg-color);\n",
              "    border: none;\n",
              "    border-radius: 50%;\n",
              "    cursor: pointer;\n",
              "    display: none;\n",
              "    fill: var(--fill-color);\n",
              "    height: 32px;\n",
              "    padding: 0;\n",
              "    width: 32px;\n",
              "  }\n",
              "\n",
              "  .colab-df-quickchart:hover {\n",
              "    background-color: var(--hover-bg-color);\n",
              "    box-shadow: 0 1px 2px rgba(60, 64, 67, 0.3), 0 1px 3px 1px rgba(60, 64, 67, 0.15);\n",
              "    fill: var(--button-hover-fill-color);\n",
              "  }\n",
              "\n",
              "  .colab-df-quickchart-complete:disabled,\n",
              "  .colab-df-quickchart-complete:disabled:hover {\n",
              "    background-color: var(--disabled-bg-color);\n",
              "    fill: var(--disabled-fill-color);\n",
              "    box-shadow: none;\n",
              "  }\n",
              "\n",
              "  .colab-df-spinner {\n",
              "    border: 2px solid var(--fill-color);\n",
              "    border-color: transparent;\n",
              "    border-bottom-color: var(--fill-color);\n",
              "    animation:\n",
              "      spin 1s steps(1) infinite;\n",
              "  }\n",
              "\n",
              "  @keyframes spin {\n",
              "    0% {\n",
              "      border-color: transparent;\n",
              "      border-bottom-color: var(--fill-color);\n",
              "      border-left-color: var(--fill-color);\n",
              "    }\n",
              "    20% {\n",
              "      border-color: transparent;\n",
              "      border-left-color: var(--fill-color);\n",
              "      border-top-color: var(--fill-color);\n",
              "    }\n",
              "    30% {\n",
              "      border-color: transparent;\n",
              "      border-left-color: var(--fill-color);\n",
              "      border-top-color: var(--fill-color);\n",
              "      border-right-color: var(--fill-color);\n",
              "    }\n",
              "    40% {\n",
              "      border-color: transparent;\n",
              "      border-right-color: var(--fill-color);\n",
              "      border-top-color: var(--fill-color);\n",
              "    }\n",
              "    60% {\n",
              "      border-color: transparent;\n",
              "      border-right-color: var(--fill-color);\n",
              "    }\n",
              "    80% {\n",
              "      border-color: transparent;\n",
              "      border-right-color: var(--fill-color);\n",
              "      border-bottom-color: var(--fill-color);\n",
              "    }\n",
              "    90% {\n",
              "      border-color: transparent;\n",
              "      border-bottom-color: var(--fill-color);\n",
              "    }\n",
              "  }\n",
              "</style>\n",
              "\n",
              "  <script>\n",
              "    async function quickchart(key) {\n",
              "      const quickchartButtonEl =\n",
              "        document.querySelector('#' + key + ' button');\n",
              "      quickchartButtonEl.disabled = true;  // To prevent multiple clicks.\n",
              "      quickchartButtonEl.classList.add('colab-df-spinner');\n",
              "      try {\n",
              "        const charts = await google.colab.kernel.invokeFunction(\n",
              "            'suggestCharts', [key], {});\n",
              "      } catch (error) {\n",
              "        console.error('Error during call to suggestCharts:', error);\n",
              "      }\n",
              "      quickchartButtonEl.classList.remove('colab-df-spinner');\n",
              "      quickchartButtonEl.classList.add('colab-df-quickchart-complete');\n",
              "    }\n",
              "    (() => {\n",
              "      let quickchartButtonEl =\n",
              "        document.querySelector('#df-98ba4773-8181-4684-a85a-61a64cc86995 button');\n",
              "      quickchartButtonEl.style.display =\n",
              "        google.colab.kernel.accessAllowed ? 'block' : 'none';\n",
              "    })();\n",
              "  </script>\n",
              "</div>\n",
              "    </div>\n",
              "  </div>\n"
            ],
            "application/vnd.google.colaboratory.intrinsic+json": {
              "type": "dataframe",
              "variable_name": "min_dates",
              "summary": "{\n  \"name\": \"min_dates\",\n  \"rows\": 184,\n  \"fields\": [\n    {\n      \"column\": \"Ticker\",\n      \"properties\": {\n        \"dtype\": \"string\",\n        \"num_unique_values\": 184,\n        \"samples\": [\n          \"AZTR\",\n          \"CWD\",\n          \"SXTP\"\n        ],\n        \"semantic_type\": \"\",\n        \"description\": \"\"\n      }\n    },\n    {\n      \"column\": \"Date\",\n      \"properties\": {\n        \"dtype\": \"date\",\n        \"min\": \"2009-12-29\",\n        \"max\": \"2024-04-12\",\n        \"num_unique_values\": 119,\n        \"samples\": [\n          \"2023-11-08\",\n          \"2023-05-19\",\n          \"2024-01-02\"\n        ],\n        \"semantic_type\": \"\",\n        \"description\": \"\"\n      }\n    }\n  ]\n}"
            }
          },
          "metadata": {},
          "execution_count": 39
        }
      ],
      "source": [
        "min_dates.reset_index(inplace=True)\n",
        "min_dates"
      ]
    },
    {
      "cell_type": "code",
      "execution_count": null,
      "metadata": {
        "id": "Pm_hXn6qcBvF"
      },
      "outputs": [],
      "source": [
        "merged = pd.merge(df, min_dates, on=['Date', 'Ticker'], how='inner')\n"
      ]
    },
    {
      "cell_type": "code",
      "execution_count": null,
      "metadata": {
        "colab": {
          "base_uri": "https://localhost:8080/"
        },
        "id": "21IFN9ougZoI",
        "outputId": "58d44f2b-aa3e-48ce-cb25-4d972f2421d6"
      },
      "outputs": [
        {
          "output_type": "execute_result",
          "data": {
            "text/plain": [
              "['future_growth_1_d',\n",
              " 'future_growth_2_d',\n",
              " 'future_growth_3_d',\n",
              " 'future_growth_4_d',\n",
              " 'future_growth_5_d',\n",
              " 'future_growth_6_d',\n",
              " 'future_growth_7_d',\n",
              " 'future_growth_8_d',\n",
              " 'future_growth_9_d',\n",
              " 'future_growth_10_d',\n",
              " 'future_growth_11_d',\n",
              " 'future_growth_12_d',\n",
              " 'future_growth_13_d',\n",
              " 'future_growth_14_d',\n",
              " 'future_growth_15_d',\n",
              " 'future_growth_16_d',\n",
              " 'future_growth_17_d',\n",
              " 'future_growth_18_d',\n",
              " 'future_growth_19_d',\n",
              " 'future_growth_20_d',\n",
              " 'future_growth_21_d',\n",
              " 'future_growth_22_d',\n",
              " 'future_growth_23_d',\n",
              " 'future_growth_24_d',\n",
              " 'future_growth_25_d',\n",
              " 'future_growth_26_d',\n",
              " 'future_growth_27_d',\n",
              " 'future_growth_28_d',\n",
              " 'future_growth_29_d',\n",
              " 'future_growth_30_d']"
            ]
          },
          "metadata": {},
          "execution_count": 41
        }
      ],
      "source": [
        "KEYS = [k for k in merged.keys() if k.find('future_')==0]\n",
        "KEYS"
      ]
    },
    {
      "cell_type": "code",
      "execution_count": null,
      "metadata": {
        "colab": {
          "base_uri": "https://localhost:8080/",
          "height": 990
        },
        "id": "52tbYgVmcuHq",
        "outputId": "2768898b-67c8-4f38-9d82-527b3335a366"
      },
      "outputs": [
        {
          "output_type": "execute_result",
          "data": {
            "text/plain": [
              "                    count      mean       std       min       25%       50%  \\\n",
              "future_growth_1_d   184.0  0.945820  0.170230  0.153569  0.921392  1.000000   \n",
              "future_growth_2_d   184.0  0.937103  0.205919  0.108733  0.876712  0.999058   \n",
              "future_growth_3_d   184.0  0.930279  0.247641  0.086641  0.848790  0.997823   \n",
              "future_growth_4_d   184.0  0.919575  0.263790  0.094257  0.832387  0.995105   \n",
              "future_growth_5_d   184.0  0.913155  0.294112  0.081118  0.787687  0.996456   \n",
              "future_growth_6_d   184.0  0.906276  0.308535  0.087677  0.770357  0.971947   \n",
              "future_growth_7_d   184.0  0.896519  0.297122  0.085261  0.788063  0.978291   \n",
              "future_growth_8_d   184.0  0.896256  0.318985  0.090123  0.749143  0.981124   \n",
              "future_growth_9_d   184.0  0.898742  0.349821  0.095616  0.732369  0.990592   \n",
              "future_growth_10_d  184.0  0.894293  0.363047  0.096997  0.709589  0.978063   \n",
              "future_growth_11_d  184.0  0.907250  0.412448  0.081118  0.679271  0.973679   \n",
              "future_growth_12_d  184.0  0.926943  0.595602  0.078357  0.685522  0.987710   \n",
              "future_growth_13_d  184.0  0.929096  0.542817  0.077321  0.663327  0.985658   \n",
              "future_growth_14_d  184.0  0.920435  0.566434  0.073870  0.692429  0.989106   \n",
              "future_growth_15_d  184.0  0.920255  0.509542  0.064895  0.692189  0.976923   \n",
              "future_growth_16_d  184.0  0.910376  0.435759  0.056610  0.709932  0.985976   \n",
              "future_growth_17_d  184.0  0.902036  0.403721  0.056265  0.701765  0.987728   \n",
              "future_growth_18_d  184.0  0.891268  0.427584  0.056921  0.653230  0.958542   \n",
              "future_growth_19_d  184.0  0.893925  0.429831  0.053331  0.673695  0.962027   \n",
              "future_growth_20_d  184.0  0.910958  0.490359  0.049879  0.651285  0.974414   \n",
              "future_growth_21_d  184.0  0.913987  0.509370  0.048326  0.647819  0.977389   \n",
              "future_growth_22_d  184.0  0.907290  0.470852  0.048326  0.626573  0.990710   \n",
              "future_growth_23_d  184.0  0.910984  0.484680  0.049361  0.618562  0.984442   \n",
              "future_growth_24_d  184.0  0.908652  0.491546  0.048326  0.633939  0.982795   \n",
              "future_growth_25_d  184.0  0.900285  0.484610  0.048326  0.614840  0.969519   \n",
              "future_growth_26_d  184.0  0.900182  0.524114  0.045219  0.596286  0.982023   \n",
              "future_growth_27_d  184.0  0.930351  0.782305  0.044529  0.604385  0.981160   \n",
              "future_growth_28_d  184.0  0.933482  0.782290  0.046945  0.638088  0.974952   \n",
              "future_growth_29_d  184.0  0.931853  0.779330  0.042803  0.623649  0.974438   \n",
              "future_growth_30_d  184.0  0.927333  0.770033  0.040387  0.623361  0.977535   \n",
              "\n",
              "                         75%       max  \n",
              "future_growth_1_d   1.011792  1.362069  \n",
              "future_growth_2_d   1.017794  1.464015  \n",
              "future_growth_3_d   1.009551  2.380000  \n",
              "future_growth_4_d   1.008924  2.083710  \n",
              "future_growth_5_d   1.009369  2.262443  \n",
              "future_growth_6_d   1.007147  2.529870  \n",
              "future_growth_7_d   1.006871  2.173913  \n",
              "future_growth_8_d   1.008127  2.359740  \n",
              "future_growth_9_d   1.011545  2.751948  \n",
              "future_growth_10_d  1.010670  3.176087  \n",
              "future_growth_11_d  1.012795  3.591305  \n",
              "future_growth_12_d  1.016016  6.779545  \n",
              "future_growth_13_d  1.019795  5.622727  \n",
              "future_growth_14_d  1.016382  6.406818  \n",
              "future_growth_15_d  1.016284  4.656818  \n",
              "future_growth_16_d  1.014190  4.072398  \n",
              "future_growth_17_d  1.010843  3.212670  \n",
              "future_growth_18_d  1.013940  3.500000  \n",
              "future_growth_19_d  1.014833  3.622727  \n",
              "future_growth_20_d  1.014391  3.970454  \n",
              "future_growth_21_d  1.012419  4.500000  \n",
              "future_growth_22_d  1.026151  3.871041  \n",
              "future_growth_23_d  1.027341  3.846154  \n",
              "future_growth_24_d  1.032594  3.803394  \n",
              "future_growth_25_d  1.028929  3.427273  \n",
              "future_growth_26_d  1.031554  4.817886  \n",
              "future_growth_27_d  1.041200  9.056122  \n",
              "future_growth_28_d  1.041923  9.081632  \n",
              "future_growth_29_d  1.027302  9.265306  \n",
              "future_growth_30_d  1.024513  9.372449  "
            ],
            "text/html": [
              "\n",
              "  <div id=\"df-907be0b7-a0e7-43a5-adb3-19d49c27e139\" class=\"colab-df-container\">\n",
              "    <div>\n",
              "<style scoped>\n",
              "    .dataframe tbody tr th:only-of-type {\n",
              "        vertical-align: middle;\n",
              "    }\n",
              "\n",
              "    .dataframe tbody tr th {\n",
              "        vertical-align: top;\n",
              "    }\n",
              "\n",
              "    .dataframe thead th {\n",
              "        text-align: right;\n",
              "    }\n",
              "</style>\n",
              "<table border=\"1\" class=\"dataframe\">\n",
              "  <thead>\n",
              "    <tr style=\"text-align: right;\">\n",
              "      <th></th>\n",
              "      <th>count</th>\n",
              "      <th>mean</th>\n",
              "      <th>std</th>\n",
              "      <th>min</th>\n",
              "      <th>25%</th>\n",
              "      <th>50%</th>\n",
              "      <th>75%</th>\n",
              "      <th>max</th>\n",
              "    </tr>\n",
              "  </thead>\n",
              "  <tbody>\n",
              "    <tr>\n",
              "      <th>future_growth_1_d</th>\n",
              "      <td>184.0</td>\n",
              "      <td>0.945820</td>\n",
              "      <td>0.170230</td>\n",
              "      <td>0.153569</td>\n",
              "      <td>0.921392</td>\n",
              "      <td>1.000000</td>\n",
              "      <td>1.011792</td>\n",
              "      <td>1.362069</td>\n",
              "    </tr>\n",
              "    <tr>\n",
              "      <th>future_growth_2_d</th>\n",
              "      <td>184.0</td>\n",
              "      <td>0.937103</td>\n",
              "      <td>0.205919</td>\n",
              "      <td>0.108733</td>\n",
              "      <td>0.876712</td>\n",
              "      <td>0.999058</td>\n",
              "      <td>1.017794</td>\n",
              "      <td>1.464015</td>\n",
              "    </tr>\n",
              "    <tr>\n",
              "      <th>future_growth_3_d</th>\n",
              "      <td>184.0</td>\n",
              "      <td>0.930279</td>\n",
              "      <td>0.247641</td>\n",
              "      <td>0.086641</td>\n",
              "      <td>0.848790</td>\n",
              "      <td>0.997823</td>\n",
              "      <td>1.009551</td>\n",
              "      <td>2.380000</td>\n",
              "    </tr>\n",
              "    <tr>\n",
              "      <th>future_growth_4_d</th>\n",
              "      <td>184.0</td>\n",
              "      <td>0.919575</td>\n",
              "      <td>0.263790</td>\n",
              "      <td>0.094257</td>\n",
              "      <td>0.832387</td>\n",
              "      <td>0.995105</td>\n",
              "      <td>1.008924</td>\n",
              "      <td>2.083710</td>\n",
              "    </tr>\n",
              "    <tr>\n",
              "      <th>future_growth_5_d</th>\n",
              "      <td>184.0</td>\n",
              "      <td>0.913155</td>\n",
              "      <td>0.294112</td>\n",
              "      <td>0.081118</td>\n",
              "      <td>0.787687</td>\n",
              "      <td>0.996456</td>\n",
              "      <td>1.009369</td>\n",
              "      <td>2.262443</td>\n",
              "    </tr>\n",
              "    <tr>\n",
              "      <th>future_growth_6_d</th>\n",
              "      <td>184.0</td>\n",
              "      <td>0.906276</td>\n",
              "      <td>0.308535</td>\n",
              "      <td>0.087677</td>\n",
              "      <td>0.770357</td>\n",
              "      <td>0.971947</td>\n",
              "      <td>1.007147</td>\n",
              "      <td>2.529870</td>\n",
              "    </tr>\n",
              "    <tr>\n",
              "      <th>future_growth_7_d</th>\n",
              "      <td>184.0</td>\n",
              "      <td>0.896519</td>\n",
              "      <td>0.297122</td>\n",
              "      <td>0.085261</td>\n",
              "      <td>0.788063</td>\n",
              "      <td>0.978291</td>\n",
              "      <td>1.006871</td>\n",
              "      <td>2.173913</td>\n",
              "    </tr>\n",
              "    <tr>\n",
              "      <th>future_growth_8_d</th>\n",
              "      <td>184.0</td>\n",
              "      <td>0.896256</td>\n",
              "      <td>0.318985</td>\n",
              "      <td>0.090123</td>\n",
              "      <td>0.749143</td>\n",
              "      <td>0.981124</td>\n",
              "      <td>1.008127</td>\n",
              "      <td>2.359740</td>\n",
              "    </tr>\n",
              "    <tr>\n",
              "      <th>future_growth_9_d</th>\n",
              "      <td>184.0</td>\n",
              "      <td>0.898742</td>\n",
              "      <td>0.349821</td>\n",
              "      <td>0.095616</td>\n",
              "      <td>0.732369</td>\n",
              "      <td>0.990592</td>\n",
              "      <td>1.011545</td>\n",
              "      <td>2.751948</td>\n",
              "    </tr>\n",
              "    <tr>\n",
              "      <th>future_growth_10_d</th>\n",
              "      <td>184.0</td>\n",
              "      <td>0.894293</td>\n",
              "      <td>0.363047</td>\n",
              "      <td>0.096997</td>\n",
              "      <td>0.709589</td>\n",
              "      <td>0.978063</td>\n",
              "      <td>1.010670</td>\n",
              "      <td>3.176087</td>\n",
              "    </tr>\n",
              "    <tr>\n",
              "      <th>future_growth_11_d</th>\n",
              "      <td>184.0</td>\n",
              "      <td>0.907250</td>\n",
              "      <td>0.412448</td>\n",
              "      <td>0.081118</td>\n",
              "      <td>0.679271</td>\n",
              "      <td>0.973679</td>\n",
              "      <td>1.012795</td>\n",
              "      <td>3.591305</td>\n",
              "    </tr>\n",
              "    <tr>\n",
              "      <th>future_growth_12_d</th>\n",
              "      <td>184.0</td>\n",
              "      <td>0.926943</td>\n",
              "      <td>0.595602</td>\n",
              "      <td>0.078357</td>\n",
              "      <td>0.685522</td>\n",
              "      <td>0.987710</td>\n",
              "      <td>1.016016</td>\n",
              "      <td>6.779545</td>\n",
              "    </tr>\n",
              "    <tr>\n",
              "      <th>future_growth_13_d</th>\n",
              "      <td>184.0</td>\n",
              "      <td>0.929096</td>\n",
              "      <td>0.542817</td>\n",
              "      <td>0.077321</td>\n",
              "      <td>0.663327</td>\n",
              "      <td>0.985658</td>\n",
              "      <td>1.019795</td>\n",
              "      <td>5.622727</td>\n",
              "    </tr>\n",
              "    <tr>\n",
              "      <th>future_growth_14_d</th>\n",
              "      <td>184.0</td>\n",
              "      <td>0.920435</td>\n",
              "      <td>0.566434</td>\n",
              "      <td>0.073870</td>\n",
              "      <td>0.692429</td>\n",
              "      <td>0.989106</td>\n",
              "      <td>1.016382</td>\n",
              "      <td>6.406818</td>\n",
              "    </tr>\n",
              "    <tr>\n",
              "      <th>future_growth_15_d</th>\n",
              "      <td>184.0</td>\n",
              "      <td>0.920255</td>\n",
              "      <td>0.509542</td>\n",
              "      <td>0.064895</td>\n",
              "      <td>0.692189</td>\n",
              "      <td>0.976923</td>\n",
              "      <td>1.016284</td>\n",
              "      <td>4.656818</td>\n",
              "    </tr>\n",
              "    <tr>\n",
              "      <th>future_growth_16_d</th>\n",
              "      <td>184.0</td>\n",
              "      <td>0.910376</td>\n",
              "      <td>0.435759</td>\n",
              "      <td>0.056610</td>\n",
              "      <td>0.709932</td>\n",
              "      <td>0.985976</td>\n",
              "      <td>1.014190</td>\n",
              "      <td>4.072398</td>\n",
              "    </tr>\n",
              "    <tr>\n",
              "      <th>future_growth_17_d</th>\n",
              "      <td>184.0</td>\n",
              "      <td>0.902036</td>\n",
              "      <td>0.403721</td>\n",
              "      <td>0.056265</td>\n",
              "      <td>0.701765</td>\n",
              "      <td>0.987728</td>\n",
              "      <td>1.010843</td>\n",
              "      <td>3.212670</td>\n",
              "    </tr>\n",
              "    <tr>\n",
              "      <th>future_growth_18_d</th>\n",
              "      <td>184.0</td>\n",
              "      <td>0.891268</td>\n",
              "      <td>0.427584</td>\n",
              "      <td>0.056921</td>\n",
              "      <td>0.653230</td>\n",
              "      <td>0.958542</td>\n",
              "      <td>1.013940</td>\n",
              "      <td>3.500000</td>\n",
              "    </tr>\n",
              "    <tr>\n",
              "      <th>future_growth_19_d</th>\n",
              "      <td>184.0</td>\n",
              "      <td>0.893925</td>\n",
              "      <td>0.429831</td>\n",
              "      <td>0.053331</td>\n",
              "      <td>0.673695</td>\n",
              "      <td>0.962027</td>\n",
              "      <td>1.014833</td>\n",
              "      <td>3.622727</td>\n",
              "    </tr>\n",
              "    <tr>\n",
              "      <th>future_growth_20_d</th>\n",
              "      <td>184.0</td>\n",
              "      <td>0.910958</td>\n",
              "      <td>0.490359</td>\n",
              "      <td>0.049879</td>\n",
              "      <td>0.651285</td>\n",
              "      <td>0.974414</td>\n",
              "      <td>1.014391</td>\n",
              "      <td>3.970454</td>\n",
              "    </tr>\n",
              "    <tr>\n",
              "      <th>future_growth_21_d</th>\n",
              "      <td>184.0</td>\n",
              "      <td>0.913987</td>\n",
              "      <td>0.509370</td>\n",
              "      <td>0.048326</td>\n",
              "      <td>0.647819</td>\n",
              "      <td>0.977389</td>\n",
              "      <td>1.012419</td>\n",
              "      <td>4.500000</td>\n",
              "    </tr>\n",
              "    <tr>\n",
              "      <th>future_growth_22_d</th>\n",
              "      <td>184.0</td>\n",
              "      <td>0.907290</td>\n",
              "      <td>0.470852</td>\n",
              "      <td>0.048326</td>\n",
              "      <td>0.626573</td>\n",
              "      <td>0.990710</td>\n",
              "      <td>1.026151</td>\n",
              "      <td>3.871041</td>\n",
              "    </tr>\n",
              "    <tr>\n",
              "      <th>future_growth_23_d</th>\n",
              "      <td>184.0</td>\n",
              "      <td>0.910984</td>\n",
              "      <td>0.484680</td>\n",
              "      <td>0.049361</td>\n",
              "      <td>0.618562</td>\n",
              "      <td>0.984442</td>\n",
              "      <td>1.027341</td>\n",
              "      <td>3.846154</td>\n",
              "    </tr>\n",
              "    <tr>\n",
              "      <th>future_growth_24_d</th>\n",
              "      <td>184.0</td>\n",
              "      <td>0.908652</td>\n",
              "      <td>0.491546</td>\n",
              "      <td>0.048326</td>\n",
              "      <td>0.633939</td>\n",
              "      <td>0.982795</td>\n",
              "      <td>1.032594</td>\n",
              "      <td>3.803394</td>\n",
              "    </tr>\n",
              "    <tr>\n",
              "      <th>future_growth_25_d</th>\n",
              "      <td>184.0</td>\n",
              "      <td>0.900285</td>\n",
              "      <td>0.484610</td>\n",
              "      <td>0.048326</td>\n",
              "      <td>0.614840</td>\n",
              "      <td>0.969519</td>\n",
              "      <td>1.028929</td>\n",
              "      <td>3.427273</td>\n",
              "    </tr>\n",
              "    <tr>\n",
              "      <th>future_growth_26_d</th>\n",
              "      <td>184.0</td>\n",
              "      <td>0.900182</td>\n",
              "      <td>0.524114</td>\n",
              "      <td>0.045219</td>\n",
              "      <td>0.596286</td>\n",
              "      <td>0.982023</td>\n",
              "      <td>1.031554</td>\n",
              "      <td>4.817886</td>\n",
              "    </tr>\n",
              "    <tr>\n",
              "      <th>future_growth_27_d</th>\n",
              "      <td>184.0</td>\n",
              "      <td>0.930351</td>\n",
              "      <td>0.782305</td>\n",
              "      <td>0.044529</td>\n",
              "      <td>0.604385</td>\n",
              "      <td>0.981160</td>\n",
              "      <td>1.041200</td>\n",
              "      <td>9.056122</td>\n",
              "    </tr>\n",
              "    <tr>\n",
              "      <th>future_growth_28_d</th>\n",
              "      <td>184.0</td>\n",
              "      <td>0.933482</td>\n",
              "      <td>0.782290</td>\n",
              "      <td>0.046945</td>\n",
              "      <td>0.638088</td>\n",
              "      <td>0.974952</td>\n",
              "      <td>1.041923</td>\n",
              "      <td>9.081632</td>\n",
              "    </tr>\n",
              "    <tr>\n",
              "      <th>future_growth_29_d</th>\n",
              "      <td>184.0</td>\n",
              "      <td>0.931853</td>\n",
              "      <td>0.779330</td>\n",
              "      <td>0.042803</td>\n",
              "      <td>0.623649</td>\n",
              "      <td>0.974438</td>\n",
              "      <td>1.027302</td>\n",
              "      <td>9.265306</td>\n",
              "    </tr>\n",
              "    <tr>\n",
              "      <th>future_growth_30_d</th>\n",
              "      <td>184.0</td>\n",
              "      <td>0.927333</td>\n",
              "      <td>0.770033</td>\n",
              "      <td>0.040387</td>\n",
              "      <td>0.623361</td>\n",
              "      <td>0.977535</td>\n",
              "      <td>1.024513</td>\n",
              "      <td>9.372449</td>\n",
              "    </tr>\n",
              "  </tbody>\n",
              "</table>\n",
              "</div>\n",
              "    <div class=\"colab-df-buttons\">\n",
              "\n",
              "  <div class=\"colab-df-container\">\n",
              "    <button class=\"colab-df-convert\" onclick=\"convertToInteractive('df-907be0b7-a0e7-43a5-adb3-19d49c27e139')\"\n",
              "            title=\"Convert this dataframe to an interactive table.\"\n",
              "            style=\"display:none;\">\n",
              "\n",
              "  <svg xmlns=\"http://www.w3.org/2000/svg\" height=\"24px\" viewBox=\"0 -960 960 960\">\n",
              "    <path d=\"M120-120v-720h720v720H120Zm60-500h600v-160H180v160Zm220 220h160v-160H400v160Zm0 220h160v-160H400v160ZM180-400h160v-160H180v160Zm440 0h160v-160H620v160ZM180-180h160v-160H180v160Zm440 0h160v-160H620v160Z\"/>\n",
              "  </svg>\n",
              "    </button>\n",
              "\n",
              "  <style>\n",
              "    .colab-df-container {\n",
              "      display:flex;\n",
              "      gap: 12px;\n",
              "    }\n",
              "\n",
              "    .colab-df-convert {\n",
              "      background-color: #E8F0FE;\n",
              "      border: none;\n",
              "      border-radius: 50%;\n",
              "      cursor: pointer;\n",
              "      display: none;\n",
              "      fill: #1967D2;\n",
              "      height: 32px;\n",
              "      padding: 0 0 0 0;\n",
              "      width: 32px;\n",
              "    }\n",
              "\n",
              "    .colab-df-convert:hover {\n",
              "      background-color: #E2EBFA;\n",
              "      box-shadow: 0px 1px 2px rgba(60, 64, 67, 0.3), 0px 1px 3px 1px rgba(60, 64, 67, 0.15);\n",
              "      fill: #174EA6;\n",
              "    }\n",
              "\n",
              "    .colab-df-buttons div {\n",
              "      margin-bottom: 4px;\n",
              "    }\n",
              "\n",
              "    [theme=dark] .colab-df-convert {\n",
              "      background-color: #3B4455;\n",
              "      fill: #D2E3FC;\n",
              "    }\n",
              "\n",
              "    [theme=dark] .colab-df-convert:hover {\n",
              "      background-color: #434B5C;\n",
              "      box-shadow: 0px 1px 3px 1px rgba(0, 0, 0, 0.15);\n",
              "      filter: drop-shadow(0px 1px 2px rgba(0, 0, 0, 0.3));\n",
              "      fill: #FFFFFF;\n",
              "    }\n",
              "  </style>\n",
              "\n",
              "    <script>\n",
              "      const buttonEl =\n",
              "        document.querySelector('#df-907be0b7-a0e7-43a5-adb3-19d49c27e139 button.colab-df-convert');\n",
              "      buttonEl.style.display =\n",
              "        google.colab.kernel.accessAllowed ? 'block' : 'none';\n",
              "\n",
              "      async function convertToInteractive(key) {\n",
              "        const element = document.querySelector('#df-907be0b7-a0e7-43a5-adb3-19d49c27e139');\n",
              "        const dataTable =\n",
              "          await google.colab.kernel.invokeFunction('convertToInteractive',\n",
              "                                                    [key], {});\n",
              "        if (!dataTable) return;\n",
              "\n",
              "        const docLinkHtml = 'Like what you see? Visit the ' +\n",
              "          '<a target=\"_blank\" href=https://colab.research.google.com/notebooks/data_table.ipynb>data table notebook</a>'\n",
              "          + ' to learn more about interactive tables.';\n",
              "        element.innerHTML = '';\n",
              "        dataTable['output_type'] = 'display_data';\n",
              "        await google.colab.output.renderOutput(dataTable, element);\n",
              "        const docLink = document.createElement('div');\n",
              "        docLink.innerHTML = docLinkHtml;\n",
              "        element.appendChild(docLink);\n",
              "      }\n",
              "    </script>\n",
              "  </div>\n",
              "\n",
              "\n",
              "<div id=\"df-6d02d9aa-abb3-491f-b36d-175a8d62019e\">\n",
              "  <button class=\"colab-df-quickchart\" onclick=\"quickchart('df-6d02d9aa-abb3-491f-b36d-175a8d62019e')\"\n",
              "            title=\"Suggest charts\"\n",
              "            style=\"display:none;\">\n",
              "\n",
              "<svg xmlns=\"http://www.w3.org/2000/svg\" height=\"24px\"viewBox=\"0 0 24 24\"\n",
              "     width=\"24px\">\n",
              "    <g>\n",
              "        <path d=\"M19 3H5c-1.1 0-2 .9-2 2v14c0 1.1.9 2 2 2h14c1.1 0 2-.9 2-2V5c0-1.1-.9-2-2-2zM9 17H7v-7h2v7zm4 0h-2V7h2v10zm4 0h-2v-4h2v4z\"/>\n",
              "    </g>\n",
              "</svg>\n",
              "  </button>\n",
              "\n",
              "<style>\n",
              "  .colab-df-quickchart {\n",
              "      --bg-color: #E8F0FE;\n",
              "      --fill-color: #1967D2;\n",
              "      --hover-bg-color: #E2EBFA;\n",
              "      --hover-fill-color: #174EA6;\n",
              "      --disabled-fill-color: #AAA;\n",
              "      --disabled-bg-color: #DDD;\n",
              "  }\n",
              "\n",
              "  [theme=dark] .colab-df-quickchart {\n",
              "      --bg-color: #3B4455;\n",
              "      --fill-color: #D2E3FC;\n",
              "      --hover-bg-color: #434B5C;\n",
              "      --hover-fill-color: #FFFFFF;\n",
              "      --disabled-bg-color: #3B4455;\n",
              "      --disabled-fill-color: #666;\n",
              "  }\n",
              "\n",
              "  .colab-df-quickchart {\n",
              "    background-color: var(--bg-color);\n",
              "    border: none;\n",
              "    border-radius: 50%;\n",
              "    cursor: pointer;\n",
              "    display: none;\n",
              "    fill: var(--fill-color);\n",
              "    height: 32px;\n",
              "    padding: 0;\n",
              "    width: 32px;\n",
              "  }\n",
              "\n",
              "  .colab-df-quickchart:hover {\n",
              "    background-color: var(--hover-bg-color);\n",
              "    box-shadow: 0 1px 2px rgba(60, 64, 67, 0.3), 0 1px 3px 1px rgba(60, 64, 67, 0.15);\n",
              "    fill: var(--button-hover-fill-color);\n",
              "  }\n",
              "\n",
              "  .colab-df-quickchart-complete:disabled,\n",
              "  .colab-df-quickchart-complete:disabled:hover {\n",
              "    background-color: var(--disabled-bg-color);\n",
              "    fill: var(--disabled-fill-color);\n",
              "    box-shadow: none;\n",
              "  }\n",
              "\n",
              "  .colab-df-spinner {\n",
              "    border: 2px solid var(--fill-color);\n",
              "    border-color: transparent;\n",
              "    border-bottom-color: var(--fill-color);\n",
              "    animation:\n",
              "      spin 1s steps(1) infinite;\n",
              "  }\n",
              "\n",
              "  @keyframes spin {\n",
              "    0% {\n",
              "      border-color: transparent;\n",
              "      border-bottom-color: var(--fill-color);\n",
              "      border-left-color: var(--fill-color);\n",
              "    }\n",
              "    20% {\n",
              "      border-color: transparent;\n",
              "      border-left-color: var(--fill-color);\n",
              "      border-top-color: var(--fill-color);\n",
              "    }\n",
              "    30% {\n",
              "      border-color: transparent;\n",
              "      border-left-color: var(--fill-color);\n",
              "      border-top-color: var(--fill-color);\n",
              "      border-right-color: var(--fill-color);\n",
              "    }\n",
              "    40% {\n",
              "      border-color: transparent;\n",
              "      border-right-color: var(--fill-color);\n",
              "      border-top-color: var(--fill-color);\n",
              "    }\n",
              "    60% {\n",
              "      border-color: transparent;\n",
              "      border-right-color: var(--fill-color);\n",
              "    }\n",
              "    80% {\n",
              "      border-color: transparent;\n",
              "      border-right-color: var(--fill-color);\n",
              "      border-bottom-color: var(--fill-color);\n",
              "    }\n",
              "    90% {\n",
              "      border-color: transparent;\n",
              "      border-bottom-color: var(--fill-color);\n",
              "    }\n",
              "  }\n",
              "</style>\n",
              "\n",
              "  <script>\n",
              "    async function quickchart(key) {\n",
              "      const quickchartButtonEl =\n",
              "        document.querySelector('#' + key + ' button');\n",
              "      quickchartButtonEl.disabled = true;  // To prevent multiple clicks.\n",
              "      quickchartButtonEl.classList.add('colab-df-spinner');\n",
              "      try {\n",
              "        const charts = await google.colab.kernel.invokeFunction(\n",
              "            'suggestCharts', [key], {});\n",
              "      } catch (error) {\n",
              "        console.error('Error during call to suggestCharts:', error);\n",
              "      }\n",
              "      quickchartButtonEl.classList.remove('colab-df-spinner');\n",
              "      quickchartButtonEl.classList.add('colab-df-quickchart-complete');\n",
              "    }\n",
              "    (() => {\n",
              "      let quickchartButtonEl =\n",
              "        document.querySelector('#df-6d02d9aa-abb3-491f-b36d-175a8d62019e button');\n",
              "      quickchartButtonEl.style.display =\n",
              "        google.colab.kernel.accessAllowed ? 'block' : 'none';\n",
              "    })();\n",
              "  </script>\n",
              "</div>\n",
              "    </div>\n",
              "  </div>\n"
            ],
            "application/vnd.google.colaboratory.intrinsic+json": {
              "type": "dataframe",
              "summary": "{\n  \"name\": \"merged[KEYS]\",\n  \"rows\": 30,\n  \"fields\": [\n    {\n      \"column\": \"count\",\n      \"properties\": {\n        \"dtype\": \"number\",\n        \"std\": 0.0,\n        \"min\": 184.0,\n        \"max\": 184.0,\n        \"num_unique_values\": 1,\n        \"samples\": [\n          184.0\n        ],\n        \"semantic_type\": \"\",\n        \"description\": \"\"\n      }\n    },\n    {\n      \"column\": \"mean\",\n      \"properties\": {\n        \"dtype\": \"number\",\n        \"std\": 0.014803785061149518,\n        \"min\": 0.8912680594028034,\n        \"max\": 0.9458203487884858,\n        \"num_unique_values\": 30,\n        \"samples\": [\n          0.933481637976472\n        ],\n        \"semantic_type\": \"\",\n        \"description\": \"\"\n      }\n    },\n    {\n      \"column\": \"std\",\n      \"properties\": {\n        \"dtype\": \"number\",\n        \"std\": 0.16742727590071116,\n        \"min\": 0.17023025517707188,\n        \"max\": 0.7823053172489162,\n        \"num_unique_values\": 30,\n        \"samples\": [\n          0.7822899685755859\n        ],\n        \"semantic_type\": \"\",\n        \"description\": \"\"\n      }\n    },\n    {\n      \"column\": \"min\",\n      \"properties\": {\n        \"dtype\": \"number\",\n        \"std\": 0.025617518139454728,\n        \"min\": 0.04038660631052598,\n        \"max\": 0.15356886315901078,\n        \"num_unique_values\": 26,\n        \"samples\": [\n          0.09561615625063576\n        ],\n        \"semantic_type\": \"\",\n        \"description\": \"\"\n      }\n    },\n    {\n      \"column\": \"25%\",\n      \"properties\": {\n        \"dtype\": \"number\",\n        \"std\": 0.08570939352788998,\n        \"min\": 0.5962856897707547,\n        \"max\": 0.9213916089322902,\n        \"num_unique_values\": 30,\n        \"samples\": [\n          0.6380882422954293\n        ],\n        \"semantic_type\": \"\",\n        \"description\": \"\"\n      }\n    },\n    {\n      \"column\": \"50%\",\n      \"properties\": {\n        \"dtype\": \"number\",\n        \"std\": 0.010312286050091804,\n        \"min\": 0.9585418453392889,\n        \"max\": 1.0,\n        \"num_unique_values\": 30,\n        \"samples\": [\n          0.9749521311242866\n        ],\n        \"semantic_type\": \"\",\n        \"description\": \"\"\n      }\n    },\n    {\n      \"column\": \"75%\",\n      \"properties\": {\n        \"dtype\": \"number\",\n        \"std\": 0.009801502191000249,\n        \"min\": 1.0068712431716438,\n        \"max\": 1.0419233416771083,\n        \"num_unique_values\": 30,\n        \"samples\": [\n          1.0419233416771083\n        ],\n        \"semantic_type\": \"\",\n        \"description\": \"\"\n      }\n    },\n    {\n      \"column\": \"max\",\n      \"properties\": {\n        \"dtype\": \"number\",\n        \"std\": 2.3303442779891808,\n        \"min\": 1.3620689371678274,\n        \"max\": 9.372449225358588,\n        \"num_unique_values\": 30,\n        \"samples\": [\n          9.081632087052947\n        ],\n        \"semantic_type\": \"\",\n        \"description\": \"\"\n      }\n    }\n  ]\n}"
            }
          },
          "metadata": {},
          "execution_count": 42
        }
      ],
      "source": [
        "merged[KEYS].describe().T"
      ]
    },
    {
      "cell_type": "code",
      "execution_count": null,
      "metadata": {
        "colab": {
          "base_uri": "https://localhost:8080/",
          "height": 147
        },
        "id": "WUJ292uXhVgo",
        "outputId": "05e04121-4394-4453-f659-9360a8a68740"
      },
      "outputs": [
        {
          "output_type": "execute_result",
          "data": {
            "text/plain": [
              "     Open  High   Low  Close  Adj Close  Volume Ticker  Year  Month  Weekday  \\\n",
              "165  1.96  1.96  1.96   1.96       1.96       0   ENLT  2023      1        1   \n",
              "\n",
              "     ... future_growth_21_d  future_growth_22_d  future_growth_23_d  \\\n",
              "165  ...           1.326531            1.326531            1.326531   \n",
              "\n",
              "     future_growth_24_d  future_growth_25_d  future_growth_26_d  \\\n",
              "165            1.326531            1.326531            1.326531   \n",
              "\n",
              "     future_growth_27_d  future_growth_28_d  future_growth_29_d  \\\n",
              "165            9.056122            9.081632            9.265306   \n",
              "\n",
              "     future_growth_30_d  \n",
              "165            9.372449  \n",
              "\n",
              "[1 rows x 54 columns]"
            ],
            "text/html": [
              "\n",
              "  <div id=\"df-108a88e6-1a3a-4437-ab8b-43062ae6997b\" class=\"colab-df-container\">\n",
              "    <div>\n",
              "<style scoped>\n",
              "    .dataframe tbody tr th:only-of-type {\n",
              "        vertical-align: middle;\n",
              "    }\n",
              "\n",
              "    .dataframe tbody tr th {\n",
              "        vertical-align: top;\n",
              "    }\n",
              "\n",
              "    .dataframe thead th {\n",
              "        text-align: right;\n",
              "    }\n",
              "</style>\n",
              "<table border=\"1\" class=\"dataframe\">\n",
              "  <thead>\n",
              "    <tr style=\"text-align: right;\">\n",
              "      <th></th>\n",
              "      <th>Open</th>\n",
              "      <th>High</th>\n",
              "      <th>Low</th>\n",
              "      <th>Close</th>\n",
              "      <th>Adj Close</th>\n",
              "      <th>Volume</th>\n",
              "      <th>Ticker</th>\n",
              "      <th>Year</th>\n",
              "      <th>Month</th>\n",
              "      <th>Weekday</th>\n",
              "      <th>...</th>\n",
              "      <th>future_growth_21_d</th>\n",
              "      <th>future_growth_22_d</th>\n",
              "      <th>future_growth_23_d</th>\n",
              "      <th>future_growth_24_d</th>\n",
              "      <th>future_growth_25_d</th>\n",
              "      <th>future_growth_26_d</th>\n",
              "      <th>future_growth_27_d</th>\n",
              "      <th>future_growth_28_d</th>\n",
              "      <th>future_growth_29_d</th>\n",
              "      <th>future_growth_30_d</th>\n",
              "    </tr>\n",
              "  </thead>\n",
              "  <tbody>\n",
              "    <tr>\n",
              "      <th>165</th>\n",
              "      <td>1.96</td>\n",
              "      <td>1.96</td>\n",
              "      <td>1.96</td>\n",
              "      <td>1.96</td>\n",
              "      <td>1.96</td>\n",
              "      <td>0</td>\n",
              "      <td>ENLT</td>\n",
              "      <td>2023</td>\n",
              "      <td>1</td>\n",
              "      <td>1</td>\n",
              "      <td>...</td>\n",
              "      <td>1.326531</td>\n",
              "      <td>1.326531</td>\n",
              "      <td>1.326531</td>\n",
              "      <td>1.326531</td>\n",
              "      <td>1.326531</td>\n",
              "      <td>1.326531</td>\n",
              "      <td>9.056122</td>\n",
              "      <td>9.081632</td>\n",
              "      <td>9.265306</td>\n",
              "      <td>9.372449</td>\n",
              "    </tr>\n",
              "  </tbody>\n",
              "</table>\n",
              "<p>1 rows × 54 columns</p>\n",
              "</div>\n",
              "    <div class=\"colab-df-buttons\">\n",
              "\n",
              "  <div class=\"colab-df-container\">\n",
              "    <button class=\"colab-df-convert\" onclick=\"convertToInteractive('df-108a88e6-1a3a-4437-ab8b-43062ae6997b')\"\n",
              "            title=\"Convert this dataframe to an interactive table.\"\n",
              "            style=\"display:none;\">\n",
              "\n",
              "  <svg xmlns=\"http://www.w3.org/2000/svg\" height=\"24px\" viewBox=\"0 -960 960 960\">\n",
              "    <path d=\"M120-120v-720h720v720H120Zm60-500h600v-160H180v160Zm220 220h160v-160H400v160Zm0 220h160v-160H400v160ZM180-400h160v-160H180v160Zm440 0h160v-160H620v160ZM180-180h160v-160H180v160Zm440 0h160v-160H620v160Z\"/>\n",
              "  </svg>\n",
              "    </button>\n",
              "\n",
              "  <style>\n",
              "    .colab-df-container {\n",
              "      display:flex;\n",
              "      gap: 12px;\n",
              "    }\n",
              "\n",
              "    .colab-df-convert {\n",
              "      background-color: #E8F0FE;\n",
              "      border: none;\n",
              "      border-radius: 50%;\n",
              "      cursor: pointer;\n",
              "      display: none;\n",
              "      fill: #1967D2;\n",
              "      height: 32px;\n",
              "      padding: 0 0 0 0;\n",
              "      width: 32px;\n",
              "    }\n",
              "\n",
              "    .colab-df-convert:hover {\n",
              "      background-color: #E2EBFA;\n",
              "      box-shadow: 0px 1px 2px rgba(60, 64, 67, 0.3), 0px 1px 3px 1px rgba(60, 64, 67, 0.15);\n",
              "      fill: #174EA6;\n",
              "    }\n",
              "\n",
              "    .colab-df-buttons div {\n",
              "      margin-bottom: 4px;\n",
              "    }\n",
              "\n",
              "    [theme=dark] .colab-df-convert {\n",
              "      background-color: #3B4455;\n",
              "      fill: #D2E3FC;\n",
              "    }\n",
              "\n",
              "    [theme=dark] .colab-df-convert:hover {\n",
              "      background-color: #434B5C;\n",
              "      box-shadow: 0px 1px 3px 1px rgba(0, 0, 0, 0.15);\n",
              "      filter: drop-shadow(0px 1px 2px rgba(0, 0, 0, 0.3));\n",
              "      fill: #FFFFFF;\n",
              "    }\n",
              "  </style>\n",
              "\n",
              "    <script>\n",
              "      const buttonEl =\n",
              "        document.querySelector('#df-108a88e6-1a3a-4437-ab8b-43062ae6997b button.colab-df-convert');\n",
              "      buttonEl.style.display =\n",
              "        google.colab.kernel.accessAllowed ? 'block' : 'none';\n",
              "\n",
              "      async function convertToInteractive(key) {\n",
              "        const element = document.querySelector('#df-108a88e6-1a3a-4437-ab8b-43062ae6997b');\n",
              "        const dataTable =\n",
              "          await google.colab.kernel.invokeFunction('convertToInteractive',\n",
              "                                                    [key], {});\n",
              "        if (!dataTable) return;\n",
              "\n",
              "        const docLinkHtml = 'Like what you see? Visit the ' +\n",
              "          '<a target=\"_blank\" href=https://colab.research.google.com/notebooks/data_table.ipynb>data table notebook</a>'\n",
              "          + ' to learn more about interactive tables.';\n",
              "        element.innerHTML = '';\n",
              "        dataTable['output_type'] = 'display_data';\n",
              "        await google.colab.output.renderOutput(dataTable, element);\n",
              "        const docLink = document.createElement('div');\n",
              "        docLink.innerHTML = docLinkHtml;\n",
              "        element.appendChild(docLink);\n",
              "      }\n",
              "    </script>\n",
              "  </div>\n",
              "\n",
              "    </div>\n",
              "  </div>\n"
            ],
            "application/vnd.google.colaboratory.intrinsic+json": {
              "type": "dataframe"
            }
          },
          "metadata": {},
          "execution_count": 43
        }
      ],
      "source": [
        "merged[merged.future_growth_30_d>9]"
      ]
    },
    {
      "cell_type": "code",
      "execution_count": null,
      "metadata": {
        "colab": {
          "base_uri": "https://localhost:8080/"
        },
        "id": "cXqWWtqXho4m",
        "outputId": "6170777b-b91a-4583-ada0-7bec06609d60"
      },
      "outputs": [
        {
          "output_type": "execute_result",
          "data": {
            "text/plain": [
              "165    2023-01-03\n",
              "Name: Date, dtype: object"
            ]
          },
          "metadata": {},
          "execution_count": 44
        }
      ],
      "source": [
        "merged[merged.future_growth_30_d>9].Date"
      ]
    },
    {
      "cell_type": "code",
      "execution_count": null,
      "metadata": {
        "id": "JQR4A6cRdPIN"
      },
      "outputs": [],
      "source": [
        "# interested only in 75%\n",
        "\n",
        "dct = dict(merged[KEYS].describe().T['75%'])"
      ]
    },
    {
      "cell_type": "code",
      "execution_count": null,
      "metadata": {
        "id": "8LCgM-tTd3UT"
      },
      "outputs": [],
      "source": [
        "future_growth = dct"
      ]
    },
    {
      "cell_type": "code",
      "execution_count": null,
      "metadata": {
        "colab": {
          "base_uri": "https://localhost:8080/"
        },
        "id": "IZwdjJETeTiG",
        "outputId": "6f7c420e-3460-4745-8979-06005f3cc5bc"
      },
      "outputs": [
        {
          "output_type": "execute_result",
          "data": {
            "text/plain": [
              "{'future_growth_7_d': 1.0068712431716438,\n",
              " 'future_growth_6_d': 1.0071468143235407,\n",
              " 'future_growth_8_d': 1.0081267208409743,\n",
              " 'future_growth_4_d': 1.0089237918112934,\n",
              " 'future_growth_5_d': 1.0093692257531521,\n",
              " 'future_growth_3_d': 1.0095510350918087,\n",
              " 'future_growth_10_d': 1.0106702507901841,\n",
              " 'future_growth_17_d': 1.0108428245052794,\n",
              " 'future_growth_9_d': 1.0115454027871535,\n",
              " 'future_growth_1_d': 1.0117920473741937,\n",
              " 'future_growth_21_d': 1.0124190203578394,\n",
              " 'future_growth_11_d': 1.012795031781445,\n",
              " 'future_growth_18_d': 1.0139396093607993,\n",
              " 'future_growth_16_d': 1.0141903003513935,\n",
              " 'future_growth_20_d': 1.0143907234767846,\n",
              " 'future_growth_19_d': 1.014833378544742,\n",
              " 'future_growth_12_d': 1.016015697075422,\n",
              " 'future_growth_15_d': 1.0162837197855539,\n",
              " 'future_growth_14_d': 1.0163815368666222,\n",
              " 'future_growth_2_d': 1.0177937356510307,\n",
              " 'future_growth_13_d': 1.0197945164847013,\n",
              " 'future_growth_30_d': 1.0245126093472814,\n",
              " 'future_growth_22_d': 1.026151240983808,\n",
              " 'future_growth_29_d': 1.0273021220815384,\n",
              " 'future_growth_23_d': 1.0273405929069992,\n",
              " 'future_growth_25_d': 1.0289285778999329,\n",
              " 'future_growth_26_d': 1.0315543022439824,\n",
              " 'future_growth_24_d': 1.0325939921833358,\n",
              " 'future_growth_27_d': 1.0411997219631348,\n",
              " 'future_growth_28_d': 1.0419233416771083}"
            ]
          },
          "metadata": {},
          "execution_count": 47
        }
      ],
      "source": [
        "sorted_dict = dict(sorted(future_growth.items(), key=lambda item: item[1]))\n",
        "sorted_dict"
      ]
    },
    {
      "cell_type": "code",
      "execution_count": null,
      "metadata": {
        "id": "m419ruPYeqoc"
      },
      "outputs": [],
      "source": [
        "# ANSWER : 28 days give 4% growth"
      ]
    },
    {
      "cell_type": "markdown",
      "metadata": {
        "id": "nChpo3USdzGh"
      },
      "source": [
        "# Q3: Is All Growth Concentrated in Big Stocks?"
      ]
    },
    {
      "cell_type": "code",
      "execution_count": null,
      "metadata": {
        "id": "Z7NbQTsHf1Qp"
      },
      "outputs": [],
      "source": [
        "# Reuse code to generate OHLCV stats for 33 stocks + a little bit more\n",
        "# use the original list\n",
        "# add more stocks from each market:\n",
        "\n",
        "# https://companiesmarketcap.com/usa/largest-companies-in-the-usa-by-market-cap/\n",
        "US_STOCKS = ['MSFT', 'AAPL', 'GOOG', 'NVDA', 'AMZN', 'META', 'BRK-B', 'LLY', 'AVGO','V', 'JPM']\n",
        "\n",
        "# You're required to add EU_STOCKS and INDIA_STOCS\n",
        "# https://companiesmarketcap.com/european-union/largest-companies-in-the-eu-by-market-cap/\n",
        "EU_STOCKS = ['NVO','MC.PA', 'ASML', 'RMS.PA', 'OR.PA', 'SAP', 'ACN', 'TTE', 'SIE.DE','IDEXY','CDI.PA']\n",
        "\n",
        "# https://companiesmarketcap.com/india/largest-companies-in-india-by-market-cap/\n",
        "INDIA_STOCKS = ['RELIANCE.NS','TCS.NS','HDB','BHARTIARTL.NS','IBN','SBIN.NS','LICI.NS','INFY','ITC.NS','HINDUNILVR.NS','LT.NS']\n",
        "\n",
        "PREVIOUS_STOCKS = US_STOCKS + EU_STOCKS + INDIA_STOCKS\n",
        "\n",
        "# Top12-22 https://companiesmarketcap.com/usa/largest-companies-in-the-usa-by-market-cap/\n",
        "NEW_US = ['TSLA','WMT','XOM','UNH','MA','PG','JNJ','MRK','HD','COST','ORCL']\n",
        "\n",
        "# Top12-22 https://companiesmarketcap.com/european-union/largest-companies-in-the-eu-by-market-cap/\n",
        "NEW_EU = ['PRX.AS','CDI.PA','AIR.PA','SU.PA','ETN','SNY','BUD','DTE.DE','ALV.DE','MDT','AI.PA','EL.PA']\n",
        "\n",
        "# Top12-22 https://companiesmarketcap.com/india/largest-companies-in-india-by-market-cap/\n",
        "NEW_INDIA = ['BAJFINANCE.NS','MARUTI.NS','HCLTECH.NS','TATAMOTORS.NS','SUNPHARMA.NS','ONGC.NS','ADANIENT.NS','ADANIENT.NS','NTPC.NS','KOTAKBANK.NS','TITAN.NS']\n",
        "\n",
        "ADDITIONAL_STOCKS = NEW_EU + NEW_US + NEW_INDIA\n",
        "\n",
        "ALL_STOCKS = PREVIOUS_STOCKS + ADDITIONAL_STOCKS\n",
        "\n",
        "# PLOT 2 growths on the graph\n",
        "# COMPARE AVG. GROWTH for the original list vs. ADDITIONAL OVER 10 years\n",
        "  # Calculate number of days when NEW LIST is better and divide on total number of days (should be XX)\n",
        "  # Write down the percentrate\n",
        "# Do smaller companies deliver a smaller growth?"
      ]
    },
    {
      "cell_type": "code",
      "execution_count": null,
      "metadata": {
        "colab": {
          "base_uri": "https://localhost:8080/"
        },
        "id": "z56A9md3bEgf",
        "outputId": "9bc5c103-7935-451e-9862-727e318a7162"
      },
      "outputs": [
        {
          "output_type": "stream",
          "name": "stdout",
          "text": [
            "0 MSFT\n"
          ]
        },
        {
          "output_type": "stream",
          "name": "stderr",
          "text": [
            "\r[*********************100%%**********************]  1 of 1 completed\n"
          ]
        },
        {
          "output_type": "stream",
          "name": "stdout",
          "text": [
            "1 AAPL\n"
          ]
        },
        {
          "output_type": "stream",
          "name": "stderr",
          "text": [
            "\r[*********************100%%**********************]  1 of 1 completed\n"
          ]
        },
        {
          "output_type": "stream",
          "name": "stdout",
          "text": [
            "2 GOOG\n"
          ]
        },
        {
          "output_type": "stream",
          "name": "stderr",
          "text": [
            "\r[*********************100%%**********************]  1 of 1 completed\n"
          ]
        },
        {
          "output_type": "stream",
          "name": "stdout",
          "text": [
            "3 NVDA\n"
          ]
        },
        {
          "output_type": "stream",
          "name": "stderr",
          "text": [
            "\r[*********************100%%**********************]  1 of 1 completed\n"
          ]
        },
        {
          "output_type": "stream",
          "name": "stdout",
          "text": [
            "4 AMZN\n"
          ]
        },
        {
          "output_type": "stream",
          "name": "stderr",
          "text": [
            "\r[*********************100%%**********************]  1 of 1 completed\n"
          ]
        },
        {
          "output_type": "stream",
          "name": "stdout",
          "text": [
            "5 META\n"
          ]
        },
        {
          "output_type": "stream",
          "name": "stderr",
          "text": [
            "\r[*********************100%%**********************]  1 of 1 completed\n"
          ]
        },
        {
          "output_type": "stream",
          "name": "stdout",
          "text": [
            "6 BRK-B\n"
          ]
        },
        {
          "output_type": "stream",
          "name": "stderr",
          "text": [
            "\r[*********************100%%**********************]  1 of 1 completed\n"
          ]
        },
        {
          "output_type": "stream",
          "name": "stdout",
          "text": [
            "7 LLY\n"
          ]
        },
        {
          "output_type": "stream",
          "name": "stderr",
          "text": [
            "\r[*********************100%%**********************]  1 of 1 completed\n"
          ]
        },
        {
          "output_type": "stream",
          "name": "stdout",
          "text": [
            "8 AVGO\n"
          ]
        },
        {
          "output_type": "stream",
          "name": "stderr",
          "text": [
            "\r[*********************100%%**********************]  1 of 1 completed\n"
          ]
        },
        {
          "output_type": "stream",
          "name": "stdout",
          "text": [
            "9 V\n"
          ]
        },
        {
          "output_type": "stream",
          "name": "stderr",
          "text": [
            "\r[*********************100%%**********************]  1 of 1 completed\n"
          ]
        },
        {
          "output_type": "stream",
          "name": "stdout",
          "text": [
            "10 JPM\n"
          ]
        },
        {
          "output_type": "stream",
          "name": "stderr",
          "text": [
            "\r[*********************100%%**********************]  1 of 1 completed\n"
          ]
        },
        {
          "output_type": "stream",
          "name": "stdout",
          "text": [
            "11 NVO\n"
          ]
        },
        {
          "output_type": "stream",
          "name": "stderr",
          "text": [
            "\r[*********************100%%**********************]  1 of 1 completed\n"
          ]
        },
        {
          "output_type": "stream",
          "name": "stdout",
          "text": [
            "12 MC.PA\n"
          ]
        },
        {
          "output_type": "stream",
          "name": "stderr",
          "text": [
            "\r[*********************100%%**********************]  1 of 1 completed\n"
          ]
        },
        {
          "output_type": "stream",
          "name": "stdout",
          "text": [
            "13 ASML\n"
          ]
        },
        {
          "output_type": "stream",
          "name": "stderr",
          "text": [
            "\r[*********************100%%**********************]  1 of 1 completed\n"
          ]
        },
        {
          "output_type": "stream",
          "name": "stdout",
          "text": [
            "14 RMS.PA\n"
          ]
        },
        {
          "output_type": "stream",
          "name": "stderr",
          "text": [
            "\r[*********************100%%**********************]  1 of 1 completed\n"
          ]
        },
        {
          "output_type": "stream",
          "name": "stdout",
          "text": [
            "15 OR.PA\n"
          ]
        },
        {
          "output_type": "stream",
          "name": "stderr",
          "text": [
            "\r[*********************100%%**********************]  1 of 1 completed\n"
          ]
        },
        {
          "output_type": "stream",
          "name": "stdout",
          "text": [
            "16 SAP\n"
          ]
        },
        {
          "output_type": "stream",
          "name": "stderr",
          "text": [
            "\r[*********************100%%**********************]  1 of 1 completed\n"
          ]
        },
        {
          "output_type": "stream",
          "name": "stdout",
          "text": [
            "17 ACN\n"
          ]
        },
        {
          "output_type": "stream",
          "name": "stderr",
          "text": [
            "\r[*********************100%%**********************]  1 of 1 completed\n"
          ]
        },
        {
          "output_type": "stream",
          "name": "stdout",
          "text": [
            "18 TTE\n"
          ]
        },
        {
          "output_type": "stream",
          "name": "stderr",
          "text": [
            "\r[*********************100%%**********************]  1 of 1 completed\n"
          ]
        },
        {
          "output_type": "stream",
          "name": "stdout",
          "text": [
            "19 SIE.DE\n"
          ]
        },
        {
          "output_type": "stream",
          "name": "stderr",
          "text": [
            "\r[*********************100%%**********************]  1 of 1 completed\n"
          ]
        },
        {
          "output_type": "stream",
          "name": "stdout",
          "text": [
            "20 IDEXY\n"
          ]
        },
        {
          "output_type": "stream",
          "name": "stderr",
          "text": [
            "\r[*********************100%%**********************]  1 of 1 completed\n"
          ]
        },
        {
          "output_type": "stream",
          "name": "stdout",
          "text": [
            "21 CDI.PA\n"
          ]
        },
        {
          "output_type": "stream",
          "name": "stderr",
          "text": [
            "\r[*********************100%%**********************]  1 of 1 completed\n"
          ]
        },
        {
          "output_type": "stream",
          "name": "stdout",
          "text": [
            "22 RELIANCE.NS\n"
          ]
        },
        {
          "output_type": "stream",
          "name": "stderr",
          "text": [
            "\r[*********************100%%**********************]  1 of 1 completed\n"
          ]
        },
        {
          "output_type": "stream",
          "name": "stdout",
          "text": [
            "23 TCS.NS\n"
          ]
        },
        {
          "output_type": "stream",
          "name": "stderr",
          "text": [
            "\r[*********************100%%**********************]  1 of 1 completed\n"
          ]
        },
        {
          "output_type": "stream",
          "name": "stdout",
          "text": [
            "24 HDB\n"
          ]
        },
        {
          "output_type": "stream",
          "name": "stderr",
          "text": [
            "\r[*********************100%%**********************]  1 of 1 completed\n"
          ]
        },
        {
          "output_type": "stream",
          "name": "stdout",
          "text": [
            "25 BHARTIARTL.NS\n"
          ]
        },
        {
          "output_type": "stream",
          "name": "stderr",
          "text": [
            "\r[*********************100%%**********************]  1 of 1 completed\n"
          ]
        },
        {
          "output_type": "stream",
          "name": "stdout",
          "text": [
            "26 IBN\n"
          ]
        },
        {
          "output_type": "stream",
          "name": "stderr",
          "text": [
            "\r[*********************100%%**********************]  1 of 1 completed\n"
          ]
        },
        {
          "output_type": "stream",
          "name": "stdout",
          "text": [
            "27 SBIN.NS\n"
          ]
        },
        {
          "output_type": "stream",
          "name": "stderr",
          "text": [
            "[*********************100%%**********************]  1 of 1 completed\n",
            "[*********************100%%**********************]  1 of 1 completed"
          ]
        },
        {
          "output_type": "stream",
          "name": "stdout",
          "text": [
            "28 LICI.NS\n"
          ]
        },
        {
          "output_type": "stream",
          "name": "stderr",
          "text": [
            "\n"
          ]
        },
        {
          "output_type": "stream",
          "name": "stdout",
          "text": [
            "29 INFY\n"
          ]
        },
        {
          "output_type": "stream",
          "name": "stderr",
          "text": [
            "\r[*********************100%%**********************]  1 of 1 completed\n"
          ]
        },
        {
          "output_type": "stream",
          "name": "stdout",
          "text": [
            "30 ITC.NS\n"
          ]
        },
        {
          "output_type": "stream",
          "name": "stderr",
          "text": [
            "\r[*********************100%%**********************]  1 of 1 completed\n"
          ]
        },
        {
          "output_type": "stream",
          "name": "stdout",
          "text": [
            "31 HINDUNILVR.NS\n"
          ]
        },
        {
          "output_type": "stream",
          "name": "stderr",
          "text": [
            "\r[*********************100%%**********************]  1 of 1 completed\n"
          ]
        },
        {
          "output_type": "stream",
          "name": "stdout",
          "text": [
            "32 LT.NS\n"
          ]
        },
        {
          "output_type": "stream",
          "name": "stderr",
          "text": [
            "\r[*********************100%%**********************]  1 of 1 completed\n"
          ]
        },
        {
          "output_type": "stream",
          "name": "stdout",
          "text": [
            "33 PRX.AS\n"
          ]
        },
        {
          "output_type": "stream",
          "name": "stderr",
          "text": [
            "\r[*********************100%%**********************]  1 of 1 completed\n"
          ]
        },
        {
          "output_type": "stream",
          "name": "stdout",
          "text": [
            "34 CDI.PA\n"
          ]
        },
        {
          "output_type": "stream",
          "name": "stderr",
          "text": [
            "\r[*********************100%%**********************]  1 of 1 completed\n"
          ]
        },
        {
          "output_type": "stream",
          "name": "stdout",
          "text": [
            "35 AIR.PA\n"
          ]
        },
        {
          "output_type": "stream",
          "name": "stderr",
          "text": [
            "\r[*********************100%%**********************]  1 of 1 completed\n"
          ]
        },
        {
          "output_type": "stream",
          "name": "stdout",
          "text": [
            "36 SU.PA\n"
          ]
        },
        {
          "output_type": "stream",
          "name": "stderr",
          "text": [
            "\r[*********************100%%**********************]  1 of 1 completed\n"
          ]
        },
        {
          "output_type": "stream",
          "name": "stdout",
          "text": [
            "37 ETN\n"
          ]
        },
        {
          "output_type": "stream",
          "name": "stderr",
          "text": [
            "\r[*********************100%%**********************]  1 of 1 completed\n"
          ]
        },
        {
          "output_type": "stream",
          "name": "stdout",
          "text": [
            "38 SNY\n"
          ]
        },
        {
          "output_type": "stream",
          "name": "stderr",
          "text": [
            "\r[*********************100%%**********************]  1 of 1 completed\n"
          ]
        },
        {
          "output_type": "stream",
          "name": "stdout",
          "text": [
            "39 BUD\n"
          ]
        },
        {
          "output_type": "stream",
          "name": "stderr",
          "text": [
            "\r[*********************100%%**********************]  1 of 1 completed\n"
          ]
        },
        {
          "output_type": "stream",
          "name": "stdout",
          "text": [
            "40 DTE.DE\n"
          ]
        },
        {
          "output_type": "stream",
          "name": "stderr",
          "text": [
            "\r[*********************100%%**********************]  1 of 1 completed\n"
          ]
        },
        {
          "output_type": "stream",
          "name": "stdout",
          "text": [
            "41 ALV.DE\n"
          ]
        },
        {
          "output_type": "stream",
          "name": "stderr",
          "text": [
            "\r[*********************100%%**********************]  1 of 1 completed\n"
          ]
        },
        {
          "output_type": "stream",
          "name": "stdout",
          "text": [
            "42 MDT\n"
          ]
        },
        {
          "output_type": "stream",
          "name": "stderr",
          "text": [
            "\r[*********************100%%**********************]  1 of 1 completed\n"
          ]
        },
        {
          "output_type": "stream",
          "name": "stdout",
          "text": [
            "43 AI.PA\n"
          ]
        },
        {
          "output_type": "stream",
          "name": "stderr",
          "text": [
            "\r[*********************100%%**********************]  1 of 1 completed\n"
          ]
        },
        {
          "output_type": "stream",
          "name": "stdout",
          "text": [
            "44 EL.PA\n"
          ]
        },
        {
          "output_type": "stream",
          "name": "stderr",
          "text": [
            "[*********************100%%**********************]  1 of 1 completed\n",
            "[*********************100%%**********************]  1 of 1 completed"
          ]
        },
        {
          "output_type": "stream",
          "name": "stdout",
          "text": [
            "45 TSLA\n"
          ]
        },
        {
          "output_type": "stream",
          "name": "stderr",
          "text": [
            "\n"
          ]
        },
        {
          "output_type": "stream",
          "name": "stdout",
          "text": [
            "46 WMT\n"
          ]
        },
        {
          "output_type": "stream",
          "name": "stderr",
          "text": [
            "\r[*********************100%%**********************]  1 of 1 completed\n"
          ]
        },
        {
          "output_type": "stream",
          "name": "stdout",
          "text": [
            "47 XOM\n"
          ]
        },
        {
          "output_type": "stream",
          "name": "stderr",
          "text": [
            "\r[*********************100%%**********************]  1 of 1 completed\n"
          ]
        },
        {
          "output_type": "stream",
          "name": "stdout",
          "text": [
            "48 UNH\n"
          ]
        },
        {
          "output_type": "stream",
          "name": "stderr",
          "text": [
            "\r[*********************100%%**********************]  1 of 1 completed\n"
          ]
        },
        {
          "output_type": "stream",
          "name": "stdout",
          "text": [
            "49 MA\n"
          ]
        },
        {
          "output_type": "stream",
          "name": "stderr",
          "text": [
            "\r[*********************100%%**********************]  1 of 1 completed\n"
          ]
        },
        {
          "output_type": "stream",
          "name": "stdout",
          "text": [
            "50 PG\n"
          ]
        },
        {
          "output_type": "stream",
          "name": "stderr",
          "text": [
            "\r[*********************100%%**********************]  1 of 1 completed\n"
          ]
        },
        {
          "output_type": "stream",
          "name": "stdout",
          "text": [
            "51 JNJ\n"
          ]
        },
        {
          "output_type": "stream",
          "name": "stderr",
          "text": [
            "\r[*********************100%%**********************]  1 of 1 completed\n"
          ]
        },
        {
          "output_type": "stream",
          "name": "stdout",
          "text": [
            "52 MRK\n"
          ]
        },
        {
          "output_type": "stream",
          "name": "stderr",
          "text": [
            "\r[*********************100%%**********************]  1 of 1 completed\n"
          ]
        },
        {
          "output_type": "stream",
          "name": "stdout",
          "text": [
            "53 HD\n"
          ]
        },
        {
          "output_type": "stream",
          "name": "stderr",
          "text": [
            "\r[*********************100%%**********************]  1 of 1 completed\n"
          ]
        },
        {
          "output_type": "stream",
          "name": "stdout",
          "text": [
            "54 COST\n"
          ]
        },
        {
          "output_type": "stream",
          "name": "stderr",
          "text": [
            "\r[*********************100%%**********************]  1 of 1 completed\n"
          ]
        },
        {
          "output_type": "stream",
          "name": "stdout",
          "text": [
            "55 ORCL\n"
          ]
        },
        {
          "output_type": "stream",
          "name": "stderr",
          "text": [
            "\r[*********************100%%**********************]  1 of 1 completed\n"
          ]
        },
        {
          "output_type": "stream",
          "name": "stdout",
          "text": [
            "56 BAJFINANCE.NS\n"
          ]
        },
        {
          "output_type": "stream",
          "name": "stderr",
          "text": [
            "\r[*********************100%%**********************]  1 of 1 completed\n"
          ]
        },
        {
          "output_type": "stream",
          "name": "stdout",
          "text": [
            "57 MARUTI.NS\n"
          ]
        },
        {
          "output_type": "stream",
          "name": "stderr",
          "text": [
            "\r[*********************100%%**********************]  1 of 1 completed\n"
          ]
        },
        {
          "output_type": "stream",
          "name": "stdout",
          "text": [
            "58 HCLTECH.NS\n"
          ]
        },
        {
          "output_type": "stream",
          "name": "stderr",
          "text": [
            "\r[*********************100%%**********************]  1 of 1 completed\n"
          ]
        },
        {
          "output_type": "stream",
          "name": "stdout",
          "text": [
            "59 TATAMOTORS.NS\n"
          ]
        },
        {
          "output_type": "stream",
          "name": "stderr",
          "text": [
            "\r[*********************100%%**********************]  1 of 1 completed\n"
          ]
        },
        {
          "output_type": "stream",
          "name": "stdout",
          "text": [
            "60 SUNPHARMA.NS\n"
          ]
        },
        {
          "output_type": "stream",
          "name": "stderr",
          "text": [
            "\r[*********************100%%**********************]  1 of 1 completed\n"
          ]
        },
        {
          "output_type": "stream",
          "name": "stdout",
          "text": [
            "61 ONGC.NS\n"
          ]
        },
        {
          "output_type": "stream",
          "name": "stderr",
          "text": [
            "\r[*********************100%%**********************]  1 of 1 completed\n"
          ]
        },
        {
          "output_type": "stream",
          "name": "stdout",
          "text": [
            "62 ADANIENT.NS\n"
          ]
        },
        {
          "output_type": "stream",
          "name": "stderr",
          "text": [
            "[*********************100%%**********************]  1 of 1 completed\n",
            "[*********************100%%**********************]  1 of 1 completed"
          ]
        },
        {
          "output_type": "stream",
          "name": "stdout",
          "text": [
            "63 ADANIENT.NS\n"
          ]
        },
        {
          "output_type": "stream",
          "name": "stderr",
          "text": [
            "\n"
          ]
        },
        {
          "output_type": "stream",
          "name": "stdout",
          "text": [
            "64 NTPC.NS\n"
          ]
        },
        {
          "output_type": "stream",
          "name": "stderr",
          "text": [
            "\r[*********************100%%**********************]  1 of 1 completed\n"
          ]
        },
        {
          "output_type": "stream",
          "name": "stdout",
          "text": [
            "65 KOTAKBANK.NS\n"
          ]
        },
        {
          "output_type": "stream",
          "name": "stderr",
          "text": [
            "\r[*********************100%%**********************]  1 of 1 completed\n"
          ]
        },
        {
          "output_type": "stream",
          "name": "stdout",
          "text": [
            "66 TITAN.NS\n"
          ]
        },
        {
          "output_type": "stream",
          "name": "stderr",
          "text": [
            "\r[*********************100%%**********************]  1 of 1 completed\n"
          ]
        }
      ],
      "source": [
        "full_df =get_stocks_df(ALL_STOCKS)\n"
      ]
    },
    {
      "cell_type": "code",
      "execution_count": null,
      "metadata": {
        "colab": {
          "base_uri": "https://localhost:8080/"
        },
        "id": "mWsW6_NSb8nd",
        "outputId": "165b22c7-256e-4e82-b1db-cc87f9e8dca6"
      },
      "outputs": [
        {
          "output_type": "stream",
          "name": "stdout",
          "text": [
            "<class 'pandas.core.frame.DataFrame'>\n",
            "RangeIndex: 495019 entries, 0 to 495018\n",
            "Data columns (total 24 columns):\n",
            " #   Column                        Non-Null Count   Dtype  \n",
            "---  ------                        --------------   -----  \n",
            " 0   Open                          495019 non-null  float64\n",
            " 1   High                          495019 non-null  float64\n",
            " 2   Low                           495019 non-null  float64\n",
            " 3   Close                         495019 non-null  float64\n",
            " 4   Adj Close                     495019 non-null  float64\n",
            " 5   Volume                        495019 non-null  int64  \n",
            " 6   Ticker                        495019 non-null  object \n",
            " 7   Year                          495019 non-null  int32  \n",
            " 8   Month                         495019 non-null  int32  \n",
            " 9   Weekday                       495019 non-null  int32  \n",
            " 10  Date                          495019 non-null  object \n",
            " 11  growth_1d                     494952 non-null  float64\n",
            " 12  growth_3d                     494818 non-null  float64\n",
            " 13  growth_7d                     494550 non-null  float64\n",
            " 14  growth_30d                    493009 non-null  float64\n",
            " 15  growth_90d                    488989 non-null  float64\n",
            " 16  growth_365d                   470564 non-null  float64\n",
            " 17  growth_future_5d              494684 non-null  float64\n",
            " 18  SMA10                         494416 non-null  float64\n",
            " 19  SMA20                         493746 non-null  float64\n",
            " 20  growing_moving_average        495019 non-null  int64  \n",
            " 21  high_minus_low_relative       495019 non-null  float64\n",
            " 22  volatility                    493076 non-null  float64\n",
            " 23  is_positive_growth_5d_future  495019 non-null  int64  \n",
            "dtypes: float64(16), int32(3), int64(3), object(2)\n",
            "memory usage: 85.0+ MB\n"
          ]
        }
      ],
      "source": [
        "full_df.info()"
      ]
    },
    {
      "cell_type": "code",
      "execution_count": null,
      "metadata": {
        "id": "A61NTg2xpTiJ"
      },
      "outputs": [],
      "source": [
        "full_df.Date = pd.to_datetime(full_df.Date)"
      ]
    },
    {
      "cell_type": "code",
      "execution_count": null,
      "metadata": {
        "colab": {
          "base_uri": "https://localhost:8080/"
        },
        "id": "eUWi6Wj-b_LW",
        "outputId": "41837806-13ef-4d10-d41a-6cd0508184dd"
      },
      "outputs": [
        {
          "output_type": "stream",
          "name": "stdout",
          "text": [
            "<class 'pandas.core.frame.DataFrame'>\n",
            "Index: 164607 entries, 7011 to 494938\n",
            "Data columns (total 24 columns):\n",
            " #   Column                        Non-Null Count   Dtype         \n",
            "---  ------                        --------------   -----         \n",
            " 0   Open                          164607 non-null  float64       \n",
            " 1   High                          164607 non-null  float64       \n",
            " 2   Low                           164607 non-null  float64       \n",
            " 3   Close                         164607 non-null  float64       \n",
            " 4   Adj Close                     164607 non-null  float64       \n",
            " 5   Volume                        164607 non-null  int64         \n",
            " 6   Ticker                        164607 non-null  object        \n",
            " 7   Year                          164607 non-null  int32         \n",
            " 8   Month                         164607 non-null  int32         \n",
            " 9   Weekday                       164607 non-null  int32         \n",
            " 10  Date                          164607 non-null  datetime64[ns]\n",
            " 11  growth_1d                     164605 non-null  float64       \n",
            " 12  growth_3d                     164601 non-null  float64       \n",
            " 13  growth_7d                     164593 non-null  float64       \n",
            " 14  growth_30d                    164547 non-null  float64       \n",
            " 15  growth_90d                    164427 non-null  float64       \n",
            " 16  growth_365d                   163877 non-null  float64       \n",
            " 17  growth_future_5d              164607 non-null  float64       \n",
            " 18  SMA10                         164589 non-null  float64       \n",
            " 19  SMA20                         164569 non-null  float64       \n",
            " 20  growing_moving_average        164607 non-null  int64         \n",
            " 21  high_minus_low_relative       164607 non-null  float64       \n",
            " 22  volatility                    164549 non-null  float64       \n",
            " 23  is_positive_growth_5d_future  164607 non-null  int64         \n",
            "dtypes: datetime64[ns](1), float64(16), int32(3), int64(3), object(1)\n",
            "memory usage: 29.5+ MB\n"
          ]
        }
      ],
      "source": [
        "full_df_short = full_df[(full_df.Date>='2014-01-01')&(full_df.Date<='2023-12-31')]\n",
        "full_df_short.info()"
      ]
    },
    {
      "cell_type": "code",
      "execution_count": null,
      "metadata": {
        "colab": {
          "base_uri": "https://localhost:8080/"
        },
        "id": "UC5Upyb_pcKB",
        "outputId": "9b5c0dcb-2a47-448a-b9a7-928104fa9dfc"
      },
      "outputs": [
        {
          "output_type": "execute_result",
          "data": {
            "text/plain": [
              "65"
            ]
          },
          "metadata": {},
          "execution_count": 54
        }
      ],
      "source": [
        "full_df_short.Ticker.nunique()"
      ]
    },
    {
      "cell_type": "code",
      "execution_count": null,
      "metadata": {
        "colab": {
          "base_uri": "https://localhost:8080/"
        },
        "id": "0VCfryLApoV4",
        "outputId": "09bb470f-e1fa-4c3f-dd5d-92554c6f70e5"
      },
      "outputs": [
        {
          "output_type": "stream",
          "name": "stderr",
          "text": [
            "<ipython-input-55-b8a61ee0b805>:1: SettingWithCopyWarning: \n",
            "A value is trying to be set on a copy of a slice from a DataFrame.\n",
            "Try using .loc[row_indexer,col_indexer] = value instead\n",
            "\n",
            "See the caveats in the documentation: https://pandas.pydata.org/pandas-docs/stable/user_guide/indexing.html#returning-a-view-versus-a-copy\n",
            "  full_df_short.loc[:,'ticker_category']= full_df_short.Ticker.apply(lambda x:'OLD' if x in PREVIOUS_STOCKS else 'NEW')\n"
          ]
        }
      ],
      "source": [
        "full_df_short.loc[:,'ticker_category']= full_df_short.Ticker.apply(lambda x:'OLD' if x in PREVIOUS_STOCKS else 'NEW')"
      ]
    },
    {
      "cell_type": "code",
      "execution_count": null,
      "metadata": {
        "colab": {
          "base_uri": "https://localhost:8080/"
        },
        "id": "fOMzsQGBpf00",
        "outputId": "a6a0f98e-1999-43cb-f53a-5afa0113b372"
      },
      "outputs": [
        {
          "output_type": "execute_result",
          "data": {
            "text/plain": [
              "ticker_category\n",
              "NEW    32\n",
              "OLD    33\n",
              "Name: Ticker, dtype: int64"
            ]
          },
          "metadata": {},
          "execution_count": 56
        }
      ],
      "source": [
        "full_df_short.groupby('ticker_category').Ticker.nunique()"
      ]
    },
    {
      "cell_type": "code",
      "execution_count": null,
      "metadata": {
        "colab": {
          "base_uri": "https://localhost:8080/",
          "height": 424
        },
        "id": "y8uSLZDmqTpv",
        "outputId": "5226c73d-157c-4dcc-b0fa-9e3aebe2e3a8"
      },
      "outputs": [
        {
          "output_type": "execute_result",
          "data": {
            "text/plain": [
              "           Date ticker_category  growth_7d\n",
              "0    2014-01-01             NEW   1.011684\n",
              "1    2014-01-01             OLD   1.011797\n",
              "2    2014-01-02             NEW   1.002186\n",
              "3    2014-01-02             OLD   1.006979\n",
              "4    2014-01-03             NEW   1.000506\n",
              "...         ...             ...        ...\n",
              "5185 2023-12-27             OLD   1.012965\n",
              "5186 2023-12-28             NEW   0.999068\n",
              "5187 2023-12-28             OLD   1.007769\n",
              "5188 2023-12-29             NEW   0.999590\n",
              "5189 2023-12-29             OLD   1.004891\n",
              "\n",
              "[5190 rows x 3 columns]"
            ],
            "text/html": [
              "\n",
              "  <div id=\"df-d8627dfc-2faa-40a9-9f7f-ed7c926f87e6\" class=\"colab-df-container\">\n",
              "    <div>\n",
              "<style scoped>\n",
              "    .dataframe tbody tr th:only-of-type {\n",
              "        vertical-align: middle;\n",
              "    }\n",
              "\n",
              "    .dataframe tbody tr th {\n",
              "        vertical-align: top;\n",
              "    }\n",
              "\n",
              "    .dataframe thead th {\n",
              "        text-align: right;\n",
              "    }\n",
              "</style>\n",
              "<table border=\"1\" class=\"dataframe\">\n",
              "  <thead>\n",
              "    <tr style=\"text-align: right;\">\n",
              "      <th></th>\n",
              "      <th>Date</th>\n",
              "      <th>ticker_category</th>\n",
              "      <th>growth_7d</th>\n",
              "    </tr>\n",
              "  </thead>\n",
              "  <tbody>\n",
              "    <tr>\n",
              "      <th>0</th>\n",
              "      <td>2014-01-01</td>\n",
              "      <td>NEW</td>\n",
              "      <td>1.011684</td>\n",
              "    </tr>\n",
              "    <tr>\n",
              "      <th>1</th>\n",
              "      <td>2014-01-01</td>\n",
              "      <td>OLD</td>\n",
              "      <td>1.011797</td>\n",
              "    </tr>\n",
              "    <tr>\n",
              "      <th>2</th>\n",
              "      <td>2014-01-02</td>\n",
              "      <td>NEW</td>\n",
              "      <td>1.002186</td>\n",
              "    </tr>\n",
              "    <tr>\n",
              "      <th>3</th>\n",
              "      <td>2014-01-02</td>\n",
              "      <td>OLD</td>\n",
              "      <td>1.006979</td>\n",
              "    </tr>\n",
              "    <tr>\n",
              "      <th>4</th>\n",
              "      <td>2014-01-03</td>\n",
              "      <td>NEW</td>\n",
              "      <td>1.000506</td>\n",
              "    </tr>\n",
              "    <tr>\n",
              "      <th>...</th>\n",
              "      <td>...</td>\n",
              "      <td>...</td>\n",
              "      <td>...</td>\n",
              "    </tr>\n",
              "    <tr>\n",
              "      <th>5185</th>\n",
              "      <td>2023-12-27</td>\n",
              "      <td>OLD</td>\n",
              "      <td>1.012965</td>\n",
              "    </tr>\n",
              "    <tr>\n",
              "      <th>5186</th>\n",
              "      <td>2023-12-28</td>\n",
              "      <td>NEW</td>\n",
              "      <td>0.999068</td>\n",
              "    </tr>\n",
              "    <tr>\n",
              "      <th>5187</th>\n",
              "      <td>2023-12-28</td>\n",
              "      <td>OLD</td>\n",
              "      <td>1.007769</td>\n",
              "    </tr>\n",
              "    <tr>\n",
              "      <th>5188</th>\n",
              "      <td>2023-12-29</td>\n",
              "      <td>NEW</td>\n",
              "      <td>0.999590</td>\n",
              "    </tr>\n",
              "    <tr>\n",
              "      <th>5189</th>\n",
              "      <td>2023-12-29</td>\n",
              "      <td>OLD</td>\n",
              "      <td>1.004891</td>\n",
              "    </tr>\n",
              "  </tbody>\n",
              "</table>\n",
              "<p>5190 rows × 3 columns</p>\n",
              "</div>\n",
              "    <div class=\"colab-df-buttons\">\n",
              "\n",
              "  <div class=\"colab-df-container\">\n",
              "    <button class=\"colab-df-convert\" onclick=\"convertToInteractive('df-d8627dfc-2faa-40a9-9f7f-ed7c926f87e6')\"\n",
              "            title=\"Convert this dataframe to an interactive table.\"\n",
              "            style=\"display:none;\">\n",
              "\n",
              "  <svg xmlns=\"http://www.w3.org/2000/svg\" height=\"24px\" viewBox=\"0 -960 960 960\">\n",
              "    <path d=\"M120-120v-720h720v720H120Zm60-500h600v-160H180v160Zm220 220h160v-160H400v160Zm0 220h160v-160H400v160ZM180-400h160v-160H180v160Zm440 0h160v-160H620v160ZM180-180h160v-160H180v160Zm440 0h160v-160H620v160Z\"/>\n",
              "  </svg>\n",
              "    </button>\n",
              "\n",
              "  <style>\n",
              "    .colab-df-container {\n",
              "      display:flex;\n",
              "      gap: 12px;\n",
              "    }\n",
              "\n",
              "    .colab-df-convert {\n",
              "      background-color: #E8F0FE;\n",
              "      border: none;\n",
              "      border-radius: 50%;\n",
              "      cursor: pointer;\n",
              "      display: none;\n",
              "      fill: #1967D2;\n",
              "      height: 32px;\n",
              "      padding: 0 0 0 0;\n",
              "      width: 32px;\n",
              "    }\n",
              "\n",
              "    .colab-df-convert:hover {\n",
              "      background-color: #E2EBFA;\n",
              "      box-shadow: 0px 1px 2px rgba(60, 64, 67, 0.3), 0px 1px 3px 1px rgba(60, 64, 67, 0.15);\n",
              "      fill: #174EA6;\n",
              "    }\n",
              "\n",
              "    .colab-df-buttons div {\n",
              "      margin-bottom: 4px;\n",
              "    }\n",
              "\n",
              "    [theme=dark] .colab-df-convert {\n",
              "      background-color: #3B4455;\n",
              "      fill: #D2E3FC;\n",
              "    }\n",
              "\n",
              "    [theme=dark] .colab-df-convert:hover {\n",
              "      background-color: #434B5C;\n",
              "      box-shadow: 0px 1px 3px 1px rgba(0, 0, 0, 0.15);\n",
              "      filter: drop-shadow(0px 1px 2px rgba(0, 0, 0, 0.3));\n",
              "      fill: #FFFFFF;\n",
              "    }\n",
              "  </style>\n",
              "\n",
              "    <script>\n",
              "      const buttonEl =\n",
              "        document.querySelector('#df-d8627dfc-2faa-40a9-9f7f-ed7c926f87e6 button.colab-df-convert');\n",
              "      buttonEl.style.display =\n",
              "        google.colab.kernel.accessAllowed ? 'block' : 'none';\n",
              "\n",
              "      async function convertToInteractive(key) {\n",
              "        const element = document.querySelector('#df-d8627dfc-2faa-40a9-9f7f-ed7c926f87e6');\n",
              "        const dataTable =\n",
              "          await google.colab.kernel.invokeFunction('convertToInteractive',\n",
              "                                                    [key], {});\n",
              "        if (!dataTable) return;\n",
              "\n",
              "        const docLinkHtml = 'Like what you see? Visit the ' +\n",
              "          '<a target=\"_blank\" href=https://colab.research.google.com/notebooks/data_table.ipynb>data table notebook</a>'\n",
              "          + ' to learn more about interactive tables.';\n",
              "        element.innerHTML = '';\n",
              "        dataTable['output_type'] = 'display_data';\n",
              "        await google.colab.output.renderOutput(dataTable, element);\n",
              "        const docLink = document.createElement('div');\n",
              "        docLink.innerHTML = docLinkHtml;\n",
              "        element.appendChild(docLink);\n",
              "      }\n",
              "    </script>\n",
              "  </div>\n",
              "\n",
              "\n",
              "<div id=\"df-b6c604de-fe39-408f-a855-0a050861fd86\">\n",
              "  <button class=\"colab-df-quickchart\" onclick=\"quickchart('df-b6c604de-fe39-408f-a855-0a050861fd86')\"\n",
              "            title=\"Suggest charts\"\n",
              "            style=\"display:none;\">\n",
              "\n",
              "<svg xmlns=\"http://www.w3.org/2000/svg\" height=\"24px\"viewBox=\"0 0 24 24\"\n",
              "     width=\"24px\">\n",
              "    <g>\n",
              "        <path d=\"M19 3H5c-1.1 0-2 .9-2 2v14c0 1.1.9 2 2 2h14c1.1 0 2-.9 2-2V5c0-1.1-.9-2-2-2zM9 17H7v-7h2v7zm4 0h-2V7h2v10zm4 0h-2v-4h2v4z\"/>\n",
              "    </g>\n",
              "</svg>\n",
              "  </button>\n",
              "\n",
              "<style>\n",
              "  .colab-df-quickchart {\n",
              "      --bg-color: #E8F0FE;\n",
              "      --fill-color: #1967D2;\n",
              "      --hover-bg-color: #E2EBFA;\n",
              "      --hover-fill-color: #174EA6;\n",
              "      --disabled-fill-color: #AAA;\n",
              "      --disabled-bg-color: #DDD;\n",
              "  }\n",
              "\n",
              "  [theme=dark] .colab-df-quickchart {\n",
              "      --bg-color: #3B4455;\n",
              "      --fill-color: #D2E3FC;\n",
              "      --hover-bg-color: #434B5C;\n",
              "      --hover-fill-color: #FFFFFF;\n",
              "      --disabled-bg-color: #3B4455;\n",
              "      --disabled-fill-color: #666;\n",
              "  }\n",
              "\n",
              "  .colab-df-quickchart {\n",
              "    background-color: var(--bg-color);\n",
              "    border: none;\n",
              "    border-radius: 50%;\n",
              "    cursor: pointer;\n",
              "    display: none;\n",
              "    fill: var(--fill-color);\n",
              "    height: 32px;\n",
              "    padding: 0;\n",
              "    width: 32px;\n",
              "  }\n",
              "\n",
              "  .colab-df-quickchart:hover {\n",
              "    background-color: var(--hover-bg-color);\n",
              "    box-shadow: 0 1px 2px rgba(60, 64, 67, 0.3), 0 1px 3px 1px rgba(60, 64, 67, 0.15);\n",
              "    fill: var(--button-hover-fill-color);\n",
              "  }\n",
              "\n",
              "  .colab-df-quickchart-complete:disabled,\n",
              "  .colab-df-quickchart-complete:disabled:hover {\n",
              "    background-color: var(--disabled-bg-color);\n",
              "    fill: var(--disabled-fill-color);\n",
              "    box-shadow: none;\n",
              "  }\n",
              "\n",
              "  .colab-df-spinner {\n",
              "    border: 2px solid var(--fill-color);\n",
              "    border-color: transparent;\n",
              "    border-bottom-color: var(--fill-color);\n",
              "    animation:\n",
              "      spin 1s steps(1) infinite;\n",
              "  }\n",
              "\n",
              "  @keyframes spin {\n",
              "    0% {\n",
              "      border-color: transparent;\n",
              "      border-bottom-color: var(--fill-color);\n",
              "      border-left-color: var(--fill-color);\n",
              "    }\n",
              "    20% {\n",
              "      border-color: transparent;\n",
              "      border-left-color: var(--fill-color);\n",
              "      border-top-color: var(--fill-color);\n",
              "    }\n",
              "    30% {\n",
              "      border-color: transparent;\n",
              "      border-left-color: var(--fill-color);\n",
              "      border-top-color: var(--fill-color);\n",
              "      border-right-color: var(--fill-color);\n",
              "    }\n",
              "    40% {\n",
              "      border-color: transparent;\n",
              "      border-right-color: var(--fill-color);\n",
              "      border-top-color: var(--fill-color);\n",
              "    }\n",
              "    60% {\n",
              "      border-color: transparent;\n",
              "      border-right-color: var(--fill-color);\n",
              "    }\n",
              "    80% {\n",
              "      border-color: transparent;\n",
              "      border-right-color: var(--fill-color);\n",
              "      border-bottom-color: var(--fill-color);\n",
              "    }\n",
              "    90% {\n",
              "      border-color: transparent;\n",
              "      border-bottom-color: var(--fill-color);\n",
              "    }\n",
              "  }\n",
              "</style>\n",
              "\n",
              "  <script>\n",
              "    async function quickchart(key) {\n",
              "      const quickchartButtonEl =\n",
              "        document.querySelector('#' + key + ' button');\n",
              "      quickchartButtonEl.disabled = true;  // To prevent multiple clicks.\n",
              "      quickchartButtonEl.classList.add('colab-df-spinner');\n",
              "      try {\n",
              "        const charts = await google.colab.kernel.invokeFunction(\n",
              "            'suggestCharts', [key], {});\n",
              "      } catch (error) {\n",
              "        console.error('Error during call to suggestCharts:', error);\n",
              "      }\n",
              "      quickchartButtonEl.classList.remove('colab-df-spinner');\n",
              "      quickchartButtonEl.classList.add('colab-df-quickchart-complete');\n",
              "    }\n",
              "    (() => {\n",
              "      let quickchartButtonEl =\n",
              "        document.querySelector('#df-b6c604de-fe39-408f-a855-0a050861fd86 button');\n",
              "      quickchartButtonEl.style.display =\n",
              "        google.colab.kernel.accessAllowed ? 'block' : 'none';\n",
              "    })();\n",
              "  </script>\n",
              "</div>\n",
              "    </div>\n",
              "  </div>\n"
            ],
            "application/vnd.google.colaboratory.intrinsic+json": {
              "type": "dataframe",
              "variable_name": "daily_avg_growth",
              "summary": "{\n  \"name\": \"daily_avg_growth\",\n  \"rows\": 5190,\n  \"fields\": [\n    {\n      \"column\": \"Date\",\n      \"properties\": {\n        \"dtype\": \"date\",\n        \"min\": \"2014-01-01 00:00:00\",\n        \"max\": \"2023-12-29 00:00:00\",\n        \"num_unique_values\": 2595,\n        \"samples\": [\n          \"2014-10-24 00:00:00\",\n          \"2022-03-04 00:00:00\",\n          \"2020-09-14 00:00:00\"\n        ],\n        \"semantic_type\": \"\",\n        \"description\": \"\"\n      }\n    },\n    {\n      \"column\": \"ticker_category\",\n      \"properties\": {\n        \"dtype\": \"category\",\n        \"num_unique_values\": 2,\n        \"samples\": [\n          \"OLD\",\n          \"NEW\"\n        ],\n        \"semantic_type\": \"\",\n        \"description\": \"\"\n      }\n    },\n    {\n      \"column\": \"growth_7d\",\n      \"properties\": {\n        \"dtype\": \"number\",\n        \"std\": 0.025816630390532613,\n        \"min\": 0.7760419685600765,\n        \"max\": 1.1233855816099811,\n        \"num_unique_values\": 5190,\n        \"samples\": [\n          1.0753775570997937,\n          1.015949952254013\n        ],\n        \"semantic_type\": \"\",\n        \"description\": \"\"\n      }\n    }\n  ]\n}"
            }
          },
          "metadata": {},
          "execution_count": 57
        }
      ],
      "source": [
        "daily_avg_growth = full_df_short.groupby(['Date','ticker_category']).growth_7d.mean().reset_index()\n",
        "daily_avg_growth"
      ]
    },
    {
      "cell_type": "code",
      "execution_count": null,
      "metadata": {
        "colab": {
          "base_uri": "https://localhost:8080/",
          "height": 424
        },
        "id": "TDkR8ZMFqfpR",
        "outputId": "1bdf397d-17e2-43c1-8011-b694cce23e2f"
      },
      "outputs": [
        {
          "output_type": "execute_result",
          "data": {
            "text/plain": [
              "ticker_category       Date       NEW       OLD\n",
              "0               2014-01-01  1.011684  1.011797\n",
              "1               2014-01-02  1.002186  1.006979\n",
              "2               2014-01-03  1.000506  0.999562\n",
              "3               2014-01-06  0.995775  0.994459\n",
              "4               2014-01-07  0.991529  0.992542\n",
              "...                    ...       ...       ...\n",
              "2590            2023-12-22  1.003170  1.013321\n",
              "2591            2023-12-26  1.013505  1.014900\n",
              "2592            2023-12-27  1.003030  1.012965\n",
              "2593            2023-12-28  0.999068  1.007769\n",
              "2594            2023-12-29  0.999590  1.004891\n",
              "\n",
              "[2595 rows x 3 columns]"
            ],
            "text/html": [
              "\n",
              "  <div id=\"df-a9705b5c-0566-4b4b-9353-493efda4aa50\" class=\"colab-df-container\">\n",
              "    <div>\n",
              "<style scoped>\n",
              "    .dataframe tbody tr th:only-of-type {\n",
              "        vertical-align: middle;\n",
              "    }\n",
              "\n",
              "    .dataframe tbody tr th {\n",
              "        vertical-align: top;\n",
              "    }\n",
              "\n",
              "    .dataframe thead th {\n",
              "        text-align: right;\n",
              "    }\n",
              "</style>\n",
              "<table border=\"1\" class=\"dataframe\">\n",
              "  <thead>\n",
              "    <tr style=\"text-align: right;\">\n",
              "      <th>ticker_category</th>\n",
              "      <th>Date</th>\n",
              "      <th>NEW</th>\n",
              "      <th>OLD</th>\n",
              "    </tr>\n",
              "  </thead>\n",
              "  <tbody>\n",
              "    <tr>\n",
              "      <th>0</th>\n",
              "      <td>2014-01-01</td>\n",
              "      <td>1.011684</td>\n",
              "      <td>1.011797</td>\n",
              "    </tr>\n",
              "    <tr>\n",
              "      <th>1</th>\n",
              "      <td>2014-01-02</td>\n",
              "      <td>1.002186</td>\n",
              "      <td>1.006979</td>\n",
              "    </tr>\n",
              "    <tr>\n",
              "      <th>2</th>\n",
              "      <td>2014-01-03</td>\n",
              "      <td>1.000506</td>\n",
              "      <td>0.999562</td>\n",
              "    </tr>\n",
              "    <tr>\n",
              "      <th>3</th>\n",
              "      <td>2014-01-06</td>\n",
              "      <td>0.995775</td>\n",
              "      <td>0.994459</td>\n",
              "    </tr>\n",
              "    <tr>\n",
              "      <th>4</th>\n",
              "      <td>2014-01-07</td>\n",
              "      <td>0.991529</td>\n",
              "      <td>0.992542</td>\n",
              "    </tr>\n",
              "    <tr>\n",
              "      <th>...</th>\n",
              "      <td>...</td>\n",
              "      <td>...</td>\n",
              "      <td>...</td>\n",
              "    </tr>\n",
              "    <tr>\n",
              "      <th>2590</th>\n",
              "      <td>2023-12-22</td>\n",
              "      <td>1.003170</td>\n",
              "      <td>1.013321</td>\n",
              "    </tr>\n",
              "    <tr>\n",
              "      <th>2591</th>\n",
              "      <td>2023-12-26</td>\n",
              "      <td>1.013505</td>\n",
              "      <td>1.014900</td>\n",
              "    </tr>\n",
              "    <tr>\n",
              "      <th>2592</th>\n",
              "      <td>2023-12-27</td>\n",
              "      <td>1.003030</td>\n",
              "      <td>1.012965</td>\n",
              "    </tr>\n",
              "    <tr>\n",
              "      <th>2593</th>\n",
              "      <td>2023-12-28</td>\n",
              "      <td>0.999068</td>\n",
              "      <td>1.007769</td>\n",
              "    </tr>\n",
              "    <tr>\n",
              "      <th>2594</th>\n",
              "      <td>2023-12-29</td>\n",
              "      <td>0.999590</td>\n",
              "      <td>1.004891</td>\n",
              "    </tr>\n",
              "  </tbody>\n",
              "</table>\n",
              "<p>2595 rows × 3 columns</p>\n",
              "</div>\n",
              "    <div class=\"colab-df-buttons\">\n",
              "\n",
              "  <div class=\"colab-df-container\">\n",
              "    <button class=\"colab-df-convert\" onclick=\"convertToInteractive('df-a9705b5c-0566-4b4b-9353-493efda4aa50')\"\n",
              "            title=\"Convert this dataframe to an interactive table.\"\n",
              "            style=\"display:none;\">\n",
              "\n",
              "  <svg xmlns=\"http://www.w3.org/2000/svg\" height=\"24px\" viewBox=\"0 -960 960 960\">\n",
              "    <path d=\"M120-120v-720h720v720H120Zm60-500h600v-160H180v160Zm220 220h160v-160H400v160Zm0 220h160v-160H400v160ZM180-400h160v-160H180v160Zm440 0h160v-160H620v160ZM180-180h160v-160H180v160Zm440 0h160v-160H620v160Z\"/>\n",
              "  </svg>\n",
              "    </button>\n",
              "\n",
              "  <style>\n",
              "    .colab-df-container {\n",
              "      display:flex;\n",
              "      gap: 12px;\n",
              "    }\n",
              "\n",
              "    .colab-df-convert {\n",
              "      background-color: #E8F0FE;\n",
              "      border: none;\n",
              "      border-radius: 50%;\n",
              "      cursor: pointer;\n",
              "      display: none;\n",
              "      fill: #1967D2;\n",
              "      height: 32px;\n",
              "      padding: 0 0 0 0;\n",
              "      width: 32px;\n",
              "    }\n",
              "\n",
              "    .colab-df-convert:hover {\n",
              "      background-color: #E2EBFA;\n",
              "      box-shadow: 0px 1px 2px rgba(60, 64, 67, 0.3), 0px 1px 3px 1px rgba(60, 64, 67, 0.15);\n",
              "      fill: #174EA6;\n",
              "    }\n",
              "\n",
              "    .colab-df-buttons div {\n",
              "      margin-bottom: 4px;\n",
              "    }\n",
              "\n",
              "    [theme=dark] .colab-df-convert {\n",
              "      background-color: #3B4455;\n",
              "      fill: #D2E3FC;\n",
              "    }\n",
              "\n",
              "    [theme=dark] .colab-df-convert:hover {\n",
              "      background-color: #434B5C;\n",
              "      box-shadow: 0px 1px 3px 1px rgba(0, 0, 0, 0.15);\n",
              "      filter: drop-shadow(0px 1px 2px rgba(0, 0, 0, 0.3));\n",
              "      fill: #FFFFFF;\n",
              "    }\n",
              "  </style>\n",
              "\n",
              "    <script>\n",
              "      const buttonEl =\n",
              "        document.querySelector('#df-a9705b5c-0566-4b4b-9353-493efda4aa50 button.colab-df-convert');\n",
              "      buttonEl.style.display =\n",
              "        google.colab.kernel.accessAllowed ? 'block' : 'none';\n",
              "\n",
              "      async function convertToInteractive(key) {\n",
              "        const element = document.querySelector('#df-a9705b5c-0566-4b4b-9353-493efda4aa50');\n",
              "        const dataTable =\n",
              "          await google.colab.kernel.invokeFunction('convertToInteractive',\n",
              "                                                    [key], {});\n",
              "        if (!dataTable) return;\n",
              "\n",
              "        const docLinkHtml = 'Like what you see? Visit the ' +\n",
              "          '<a target=\"_blank\" href=https://colab.research.google.com/notebooks/data_table.ipynb>data table notebook</a>'\n",
              "          + ' to learn more about interactive tables.';\n",
              "        element.innerHTML = '';\n",
              "        dataTable['output_type'] = 'display_data';\n",
              "        await google.colab.output.renderOutput(dataTable, element);\n",
              "        const docLink = document.createElement('div');\n",
              "        docLink.innerHTML = docLinkHtml;\n",
              "        element.appendChild(docLink);\n",
              "      }\n",
              "    </script>\n",
              "  </div>\n",
              "\n",
              "\n",
              "<div id=\"df-5f59f884-d396-4836-841d-a638592cb4f3\">\n",
              "  <button class=\"colab-df-quickchart\" onclick=\"quickchart('df-5f59f884-d396-4836-841d-a638592cb4f3')\"\n",
              "            title=\"Suggest charts\"\n",
              "            style=\"display:none;\">\n",
              "\n",
              "<svg xmlns=\"http://www.w3.org/2000/svg\" height=\"24px\"viewBox=\"0 0 24 24\"\n",
              "     width=\"24px\">\n",
              "    <g>\n",
              "        <path d=\"M19 3H5c-1.1 0-2 .9-2 2v14c0 1.1.9 2 2 2h14c1.1 0 2-.9 2-2V5c0-1.1-.9-2-2-2zM9 17H7v-7h2v7zm4 0h-2V7h2v10zm4 0h-2v-4h2v4z\"/>\n",
              "    </g>\n",
              "</svg>\n",
              "  </button>\n",
              "\n",
              "<style>\n",
              "  .colab-df-quickchart {\n",
              "      --bg-color: #E8F0FE;\n",
              "      --fill-color: #1967D2;\n",
              "      --hover-bg-color: #E2EBFA;\n",
              "      --hover-fill-color: #174EA6;\n",
              "      --disabled-fill-color: #AAA;\n",
              "      --disabled-bg-color: #DDD;\n",
              "  }\n",
              "\n",
              "  [theme=dark] .colab-df-quickchart {\n",
              "      --bg-color: #3B4455;\n",
              "      --fill-color: #D2E3FC;\n",
              "      --hover-bg-color: #434B5C;\n",
              "      --hover-fill-color: #FFFFFF;\n",
              "      --disabled-bg-color: #3B4455;\n",
              "      --disabled-fill-color: #666;\n",
              "  }\n",
              "\n",
              "  .colab-df-quickchart {\n",
              "    background-color: var(--bg-color);\n",
              "    border: none;\n",
              "    border-radius: 50%;\n",
              "    cursor: pointer;\n",
              "    display: none;\n",
              "    fill: var(--fill-color);\n",
              "    height: 32px;\n",
              "    padding: 0;\n",
              "    width: 32px;\n",
              "  }\n",
              "\n",
              "  .colab-df-quickchart:hover {\n",
              "    background-color: var(--hover-bg-color);\n",
              "    box-shadow: 0 1px 2px rgba(60, 64, 67, 0.3), 0 1px 3px 1px rgba(60, 64, 67, 0.15);\n",
              "    fill: var(--button-hover-fill-color);\n",
              "  }\n",
              "\n",
              "  .colab-df-quickchart-complete:disabled,\n",
              "  .colab-df-quickchart-complete:disabled:hover {\n",
              "    background-color: var(--disabled-bg-color);\n",
              "    fill: var(--disabled-fill-color);\n",
              "    box-shadow: none;\n",
              "  }\n",
              "\n",
              "  .colab-df-spinner {\n",
              "    border: 2px solid var(--fill-color);\n",
              "    border-color: transparent;\n",
              "    border-bottom-color: var(--fill-color);\n",
              "    animation:\n",
              "      spin 1s steps(1) infinite;\n",
              "  }\n",
              "\n",
              "  @keyframes spin {\n",
              "    0% {\n",
              "      border-color: transparent;\n",
              "      border-bottom-color: var(--fill-color);\n",
              "      border-left-color: var(--fill-color);\n",
              "    }\n",
              "    20% {\n",
              "      border-color: transparent;\n",
              "      border-left-color: var(--fill-color);\n",
              "      border-top-color: var(--fill-color);\n",
              "    }\n",
              "    30% {\n",
              "      border-color: transparent;\n",
              "      border-left-color: var(--fill-color);\n",
              "      border-top-color: var(--fill-color);\n",
              "      border-right-color: var(--fill-color);\n",
              "    }\n",
              "    40% {\n",
              "      border-color: transparent;\n",
              "      border-right-color: var(--fill-color);\n",
              "      border-top-color: var(--fill-color);\n",
              "    }\n",
              "    60% {\n",
              "      border-color: transparent;\n",
              "      border-right-color: var(--fill-color);\n",
              "    }\n",
              "    80% {\n",
              "      border-color: transparent;\n",
              "      border-right-color: var(--fill-color);\n",
              "      border-bottom-color: var(--fill-color);\n",
              "    }\n",
              "    90% {\n",
              "      border-color: transparent;\n",
              "      border-bottom-color: var(--fill-color);\n",
              "    }\n",
              "  }\n",
              "</style>\n",
              "\n",
              "  <script>\n",
              "    async function quickchart(key) {\n",
              "      const quickchartButtonEl =\n",
              "        document.querySelector('#' + key + ' button');\n",
              "      quickchartButtonEl.disabled = true;  // To prevent multiple clicks.\n",
              "      quickchartButtonEl.classList.add('colab-df-spinner');\n",
              "      try {\n",
              "        const charts = await google.colab.kernel.invokeFunction(\n",
              "            'suggestCharts', [key], {});\n",
              "      } catch (error) {\n",
              "        console.error('Error during call to suggestCharts:', error);\n",
              "      }\n",
              "      quickchartButtonEl.classList.remove('colab-df-spinner');\n",
              "      quickchartButtonEl.classList.add('colab-df-quickchart-complete');\n",
              "    }\n",
              "    (() => {\n",
              "      let quickchartButtonEl =\n",
              "        document.querySelector('#df-5f59f884-d396-4836-841d-a638592cb4f3 button');\n",
              "      quickchartButtonEl.style.display =\n",
              "        google.colab.kernel.accessAllowed ? 'block' : 'none';\n",
              "    })();\n",
              "  </script>\n",
              "</div>\n",
              "    </div>\n",
              "  </div>\n"
            ],
            "application/vnd.google.colaboratory.intrinsic+json": {
              "type": "dataframe",
              "variable_name": "pivot_table",
              "summary": "{\n  \"name\": \"pivot_table\",\n  \"rows\": 2595,\n  \"fields\": [\n    {\n      \"column\": \"Date\",\n      \"properties\": {\n        \"dtype\": \"date\",\n        \"min\": \"2014-01-01 00:00:00\",\n        \"max\": \"2023-12-29 00:00:00\",\n        \"num_unique_values\": 2595,\n        \"samples\": [\n          \"2014-10-24 00:00:00\",\n          \"2022-03-04 00:00:00\",\n          \"2020-09-14 00:00:00\"\n        ],\n        \"semantic_type\": \"\",\n        \"description\": \"\"\n      }\n    },\n    {\n      \"column\": \"NEW\",\n      \"properties\": {\n        \"dtype\": \"number\",\n        \"std\": 0.02511777633132682,\n        \"min\": 0.7760419685600765,\n        \"max\": 1.1199979605831802,\n        \"num_unique_values\": 2595,\n        \"samples\": [\n          1.0484656278323445,\n          0.9746720585129461,\n          0.9791682886108896\n        ],\n        \"semantic_type\": \"\",\n        \"description\": \"\"\n      }\n    },\n    {\n      \"column\": \"OLD\",\n      \"properties\": {\n        \"dtype\": \"number\",\n        \"std\": 0.026500366151441572,\n        \"min\": 0.7952958102675074,\n        \"max\": 1.1233855816099811,\n        \"num_unique_values\": 2595,\n        \"samples\": [\n          1.0391027557375043,\n          0.9598594244323333,\n          0.9638317445083785\n        ],\n        \"semantic_type\": \"\",\n        \"description\": \"\"\n      }\n    }\n  ]\n}"
            }
          },
          "metadata": {},
          "execution_count": 58
        }
      ],
      "source": [
        "\n",
        "# Pivot the DataFrame to have 'OLD' and 'NEW' ticker_type values as columns\n",
        "pivot_table = daily_avg_growth.pivot_table(index=['Date'], columns='ticker_category', values='growth_7d', aggfunc='mean').reset_index()\n",
        "pivot_table"
      ]
    },
    {
      "cell_type": "code",
      "execution_count": null,
      "metadata": {
        "colab": {
          "base_uri": "https://localhost:8080/",
          "height": 424
        },
        "id": "rBlRBMlKriE-",
        "outputId": "3aa41264-c4fc-4ab1-f7f5-cceec307ad16"
      },
      "outputs": [
        {
          "output_type": "execute_result",
          "data": {
            "text/plain": [
              "ticker_category       Date       NEW       OLD  more_new\n",
              "0               2014-01-01  1.011684  1.011797         0\n",
              "1               2014-01-02  1.002186  1.006979         0\n",
              "2               2014-01-03  1.000506  0.999562         1\n",
              "3               2014-01-06  0.995775  0.994459         1\n",
              "4               2014-01-07  0.991529  0.992542         0\n",
              "...                    ...       ...       ...       ...\n",
              "2590            2023-12-22  1.003170  1.013321         0\n",
              "2591            2023-12-26  1.013505  1.014900         0\n",
              "2592            2023-12-27  1.003030  1.012965         0\n",
              "2593            2023-12-28  0.999068  1.007769         0\n",
              "2594            2023-12-29  0.999590  1.004891         0\n",
              "\n",
              "[2595 rows x 4 columns]"
            ],
            "text/html": [
              "\n",
              "  <div id=\"df-2ad25541-64f0-4d19-900a-5ca442683b81\" class=\"colab-df-container\">\n",
              "    <div>\n",
              "<style scoped>\n",
              "    .dataframe tbody tr th:only-of-type {\n",
              "        vertical-align: middle;\n",
              "    }\n",
              "\n",
              "    .dataframe tbody tr th {\n",
              "        vertical-align: top;\n",
              "    }\n",
              "\n",
              "    .dataframe thead th {\n",
              "        text-align: right;\n",
              "    }\n",
              "</style>\n",
              "<table border=\"1\" class=\"dataframe\">\n",
              "  <thead>\n",
              "    <tr style=\"text-align: right;\">\n",
              "      <th>ticker_category</th>\n",
              "      <th>Date</th>\n",
              "      <th>NEW</th>\n",
              "      <th>OLD</th>\n",
              "      <th>more_new</th>\n",
              "    </tr>\n",
              "  </thead>\n",
              "  <tbody>\n",
              "    <tr>\n",
              "      <th>0</th>\n",
              "      <td>2014-01-01</td>\n",
              "      <td>1.011684</td>\n",
              "      <td>1.011797</td>\n",
              "      <td>0</td>\n",
              "    </tr>\n",
              "    <tr>\n",
              "      <th>1</th>\n",
              "      <td>2014-01-02</td>\n",
              "      <td>1.002186</td>\n",
              "      <td>1.006979</td>\n",
              "      <td>0</td>\n",
              "    </tr>\n",
              "    <tr>\n",
              "      <th>2</th>\n",
              "      <td>2014-01-03</td>\n",
              "      <td>1.000506</td>\n",
              "      <td>0.999562</td>\n",
              "      <td>1</td>\n",
              "    </tr>\n",
              "    <tr>\n",
              "      <th>3</th>\n",
              "      <td>2014-01-06</td>\n",
              "      <td>0.995775</td>\n",
              "      <td>0.994459</td>\n",
              "      <td>1</td>\n",
              "    </tr>\n",
              "    <tr>\n",
              "      <th>4</th>\n",
              "      <td>2014-01-07</td>\n",
              "      <td>0.991529</td>\n",
              "      <td>0.992542</td>\n",
              "      <td>0</td>\n",
              "    </tr>\n",
              "    <tr>\n",
              "      <th>...</th>\n",
              "      <td>...</td>\n",
              "      <td>...</td>\n",
              "      <td>...</td>\n",
              "      <td>...</td>\n",
              "    </tr>\n",
              "    <tr>\n",
              "      <th>2590</th>\n",
              "      <td>2023-12-22</td>\n",
              "      <td>1.003170</td>\n",
              "      <td>1.013321</td>\n",
              "      <td>0</td>\n",
              "    </tr>\n",
              "    <tr>\n",
              "      <th>2591</th>\n",
              "      <td>2023-12-26</td>\n",
              "      <td>1.013505</td>\n",
              "      <td>1.014900</td>\n",
              "      <td>0</td>\n",
              "    </tr>\n",
              "    <tr>\n",
              "      <th>2592</th>\n",
              "      <td>2023-12-27</td>\n",
              "      <td>1.003030</td>\n",
              "      <td>1.012965</td>\n",
              "      <td>0</td>\n",
              "    </tr>\n",
              "    <tr>\n",
              "      <th>2593</th>\n",
              "      <td>2023-12-28</td>\n",
              "      <td>0.999068</td>\n",
              "      <td>1.007769</td>\n",
              "      <td>0</td>\n",
              "    </tr>\n",
              "    <tr>\n",
              "      <th>2594</th>\n",
              "      <td>2023-12-29</td>\n",
              "      <td>0.999590</td>\n",
              "      <td>1.004891</td>\n",
              "      <td>0</td>\n",
              "    </tr>\n",
              "  </tbody>\n",
              "</table>\n",
              "<p>2595 rows × 4 columns</p>\n",
              "</div>\n",
              "    <div class=\"colab-df-buttons\">\n",
              "\n",
              "  <div class=\"colab-df-container\">\n",
              "    <button class=\"colab-df-convert\" onclick=\"convertToInteractive('df-2ad25541-64f0-4d19-900a-5ca442683b81')\"\n",
              "            title=\"Convert this dataframe to an interactive table.\"\n",
              "            style=\"display:none;\">\n",
              "\n",
              "  <svg xmlns=\"http://www.w3.org/2000/svg\" height=\"24px\" viewBox=\"0 -960 960 960\">\n",
              "    <path d=\"M120-120v-720h720v720H120Zm60-500h600v-160H180v160Zm220 220h160v-160H400v160Zm0 220h160v-160H400v160ZM180-400h160v-160H180v160Zm440 0h160v-160H620v160ZM180-180h160v-160H180v160Zm440 0h160v-160H620v160Z\"/>\n",
              "  </svg>\n",
              "    </button>\n",
              "\n",
              "  <style>\n",
              "    .colab-df-container {\n",
              "      display:flex;\n",
              "      gap: 12px;\n",
              "    }\n",
              "\n",
              "    .colab-df-convert {\n",
              "      background-color: #E8F0FE;\n",
              "      border: none;\n",
              "      border-radius: 50%;\n",
              "      cursor: pointer;\n",
              "      display: none;\n",
              "      fill: #1967D2;\n",
              "      height: 32px;\n",
              "      padding: 0 0 0 0;\n",
              "      width: 32px;\n",
              "    }\n",
              "\n",
              "    .colab-df-convert:hover {\n",
              "      background-color: #E2EBFA;\n",
              "      box-shadow: 0px 1px 2px rgba(60, 64, 67, 0.3), 0px 1px 3px 1px rgba(60, 64, 67, 0.15);\n",
              "      fill: #174EA6;\n",
              "    }\n",
              "\n",
              "    .colab-df-buttons div {\n",
              "      margin-bottom: 4px;\n",
              "    }\n",
              "\n",
              "    [theme=dark] .colab-df-convert {\n",
              "      background-color: #3B4455;\n",
              "      fill: #D2E3FC;\n",
              "    }\n",
              "\n",
              "    [theme=dark] .colab-df-convert:hover {\n",
              "      background-color: #434B5C;\n",
              "      box-shadow: 0px 1px 3px 1px rgba(0, 0, 0, 0.15);\n",
              "      filter: drop-shadow(0px 1px 2px rgba(0, 0, 0, 0.3));\n",
              "      fill: #FFFFFF;\n",
              "    }\n",
              "  </style>\n",
              "\n",
              "    <script>\n",
              "      const buttonEl =\n",
              "        document.querySelector('#df-2ad25541-64f0-4d19-900a-5ca442683b81 button.colab-df-convert');\n",
              "      buttonEl.style.display =\n",
              "        google.colab.kernel.accessAllowed ? 'block' : 'none';\n",
              "\n",
              "      async function convertToInteractive(key) {\n",
              "        const element = document.querySelector('#df-2ad25541-64f0-4d19-900a-5ca442683b81');\n",
              "        const dataTable =\n",
              "          await google.colab.kernel.invokeFunction('convertToInteractive',\n",
              "                                                    [key], {});\n",
              "        if (!dataTable) return;\n",
              "\n",
              "        const docLinkHtml = 'Like what you see? Visit the ' +\n",
              "          '<a target=\"_blank\" href=https://colab.research.google.com/notebooks/data_table.ipynb>data table notebook</a>'\n",
              "          + ' to learn more about interactive tables.';\n",
              "        element.innerHTML = '';\n",
              "        dataTable['output_type'] = 'display_data';\n",
              "        await google.colab.output.renderOutput(dataTable, element);\n",
              "        const docLink = document.createElement('div');\n",
              "        docLink.innerHTML = docLinkHtml;\n",
              "        element.appendChild(docLink);\n",
              "      }\n",
              "    </script>\n",
              "  </div>\n",
              "\n",
              "\n",
              "<div id=\"df-c9f4f0f0-d1ef-4737-a3ff-fbebfd76863e\">\n",
              "  <button class=\"colab-df-quickchart\" onclick=\"quickchart('df-c9f4f0f0-d1ef-4737-a3ff-fbebfd76863e')\"\n",
              "            title=\"Suggest charts\"\n",
              "            style=\"display:none;\">\n",
              "\n",
              "<svg xmlns=\"http://www.w3.org/2000/svg\" height=\"24px\"viewBox=\"0 0 24 24\"\n",
              "     width=\"24px\">\n",
              "    <g>\n",
              "        <path d=\"M19 3H5c-1.1 0-2 .9-2 2v14c0 1.1.9 2 2 2h14c1.1 0 2-.9 2-2V5c0-1.1-.9-2-2-2zM9 17H7v-7h2v7zm4 0h-2V7h2v10zm4 0h-2v-4h2v4z\"/>\n",
              "    </g>\n",
              "</svg>\n",
              "  </button>\n",
              "\n",
              "<style>\n",
              "  .colab-df-quickchart {\n",
              "      --bg-color: #E8F0FE;\n",
              "      --fill-color: #1967D2;\n",
              "      --hover-bg-color: #E2EBFA;\n",
              "      --hover-fill-color: #174EA6;\n",
              "      --disabled-fill-color: #AAA;\n",
              "      --disabled-bg-color: #DDD;\n",
              "  }\n",
              "\n",
              "  [theme=dark] .colab-df-quickchart {\n",
              "      --bg-color: #3B4455;\n",
              "      --fill-color: #D2E3FC;\n",
              "      --hover-bg-color: #434B5C;\n",
              "      --hover-fill-color: #FFFFFF;\n",
              "      --disabled-bg-color: #3B4455;\n",
              "      --disabled-fill-color: #666;\n",
              "  }\n",
              "\n",
              "  .colab-df-quickchart {\n",
              "    background-color: var(--bg-color);\n",
              "    border: none;\n",
              "    border-radius: 50%;\n",
              "    cursor: pointer;\n",
              "    display: none;\n",
              "    fill: var(--fill-color);\n",
              "    height: 32px;\n",
              "    padding: 0;\n",
              "    width: 32px;\n",
              "  }\n",
              "\n",
              "  .colab-df-quickchart:hover {\n",
              "    background-color: var(--hover-bg-color);\n",
              "    box-shadow: 0 1px 2px rgba(60, 64, 67, 0.3), 0 1px 3px 1px rgba(60, 64, 67, 0.15);\n",
              "    fill: var(--button-hover-fill-color);\n",
              "  }\n",
              "\n",
              "  .colab-df-quickchart-complete:disabled,\n",
              "  .colab-df-quickchart-complete:disabled:hover {\n",
              "    background-color: var(--disabled-bg-color);\n",
              "    fill: var(--disabled-fill-color);\n",
              "    box-shadow: none;\n",
              "  }\n",
              "\n",
              "  .colab-df-spinner {\n",
              "    border: 2px solid var(--fill-color);\n",
              "    border-color: transparent;\n",
              "    border-bottom-color: var(--fill-color);\n",
              "    animation:\n",
              "      spin 1s steps(1) infinite;\n",
              "  }\n",
              "\n",
              "  @keyframes spin {\n",
              "    0% {\n",
              "      border-color: transparent;\n",
              "      border-bottom-color: var(--fill-color);\n",
              "      border-left-color: var(--fill-color);\n",
              "    }\n",
              "    20% {\n",
              "      border-color: transparent;\n",
              "      border-left-color: var(--fill-color);\n",
              "      border-top-color: var(--fill-color);\n",
              "    }\n",
              "    30% {\n",
              "      border-color: transparent;\n",
              "      border-left-color: var(--fill-color);\n",
              "      border-top-color: var(--fill-color);\n",
              "      border-right-color: var(--fill-color);\n",
              "    }\n",
              "    40% {\n",
              "      border-color: transparent;\n",
              "      border-right-color: var(--fill-color);\n",
              "      border-top-color: var(--fill-color);\n",
              "    }\n",
              "    60% {\n",
              "      border-color: transparent;\n",
              "      border-right-color: var(--fill-color);\n",
              "    }\n",
              "    80% {\n",
              "      border-color: transparent;\n",
              "      border-right-color: var(--fill-color);\n",
              "      border-bottom-color: var(--fill-color);\n",
              "    }\n",
              "    90% {\n",
              "      border-color: transparent;\n",
              "      border-bottom-color: var(--fill-color);\n",
              "    }\n",
              "  }\n",
              "</style>\n",
              "\n",
              "  <script>\n",
              "    async function quickchart(key) {\n",
              "      const quickchartButtonEl =\n",
              "        document.querySelector('#' + key + ' button');\n",
              "      quickchartButtonEl.disabled = true;  // To prevent multiple clicks.\n",
              "      quickchartButtonEl.classList.add('colab-df-spinner');\n",
              "      try {\n",
              "        const charts = await google.colab.kernel.invokeFunction(\n",
              "            'suggestCharts', [key], {});\n",
              "      } catch (error) {\n",
              "        console.error('Error during call to suggestCharts:', error);\n",
              "      }\n",
              "      quickchartButtonEl.classList.remove('colab-df-spinner');\n",
              "      quickchartButtonEl.classList.add('colab-df-quickchart-complete');\n",
              "    }\n",
              "    (() => {\n",
              "      let quickchartButtonEl =\n",
              "        document.querySelector('#df-c9f4f0f0-d1ef-4737-a3ff-fbebfd76863e button');\n",
              "      quickchartButtonEl.style.display =\n",
              "        google.colab.kernel.accessAllowed ? 'block' : 'none';\n",
              "    })();\n",
              "  </script>\n",
              "</div>\n",
              "    </div>\n",
              "  </div>\n"
            ],
            "application/vnd.google.colaboratory.intrinsic+json": {
              "type": "dataframe",
              "variable_name": "pivot_table",
              "summary": "{\n  \"name\": \"pivot_table\",\n  \"rows\": 2595,\n  \"fields\": [\n    {\n      \"column\": \"Date\",\n      \"properties\": {\n        \"dtype\": \"date\",\n        \"min\": \"2014-01-01 00:00:00\",\n        \"max\": \"2023-12-29 00:00:00\",\n        \"num_unique_values\": 2595,\n        \"samples\": [\n          \"2014-10-24 00:00:00\",\n          \"2022-03-04 00:00:00\",\n          \"2020-09-14 00:00:00\"\n        ],\n        \"semantic_type\": \"\",\n        \"description\": \"\"\n      }\n    },\n    {\n      \"column\": \"NEW\",\n      \"properties\": {\n        \"dtype\": \"number\",\n        \"std\": 0.02511777633132682,\n        \"min\": 0.7760419685600765,\n        \"max\": 1.1199979605831802,\n        \"num_unique_values\": 2595,\n        \"samples\": [\n          1.0484656278323445,\n          0.9746720585129461,\n          0.9791682886108896\n        ],\n        \"semantic_type\": \"\",\n        \"description\": \"\"\n      }\n    },\n    {\n      \"column\": \"OLD\",\n      \"properties\": {\n        \"dtype\": \"number\",\n        \"std\": 0.026500366151441572,\n        \"min\": 0.7952958102675074,\n        \"max\": 1.1233855816099811,\n        \"num_unique_values\": 2595,\n        \"samples\": [\n          1.0391027557375043,\n          0.9598594244323333,\n          0.9638317445083785\n        ],\n        \"semantic_type\": \"\",\n        \"description\": \"\"\n      }\n    },\n    {\n      \"column\": \"more_new\",\n      \"properties\": {\n        \"dtype\": \"number\",\n        \"std\": 0,\n        \"min\": 0,\n        \"max\": 1,\n        \"num_unique_values\": 2,\n        \"samples\": [\n          1,\n          0\n        ],\n        \"semantic_type\": \"\",\n        \"description\": \"\"\n      }\n    }\n  ]\n}"
            }
          },
          "metadata": {},
          "execution_count": 59
        }
      ],
      "source": [
        "pivot_table['more_new'] = np.where(pivot_table['NEW'] > pivot_table['OLD'],1,0)\n",
        "pivot_table"
      ]
    },
    {
      "cell_type": "code",
      "execution_count": null,
      "metadata": {
        "colab": {
          "base_uri": "https://localhost:8080/"
        },
        "id": "0lHV0Ldgr7kq",
        "outputId": "1a747507-976a-4056-c955-c0406f4d9523"
      },
      "outputs": [
        {
          "output_type": "execute_result",
          "data": {
            "text/plain": [
              "more_new\n",
              "0    1374\n",
              "1    1221\n",
              "Name: count, dtype: int64"
            ]
          },
          "metadata": {},
          "execution_count": 60
        }
      ],
      "source": [
        "pivot_table.more_new.value_counts()"
      ]
    },
    {
      "cell_type": "code",
      "execution_count": null,
      "metadata": {
        "colab": {
          "base_uri": "https://localhost:8080/"
        },
        "id": "nyUlzRY9ry6O",
        "outputId": "ebacac33-676b-4703-9cf8-e5e7c172f25c"
      },
      "outputs": [
        {
          "output_type": "execute_result",
          "data": {
            "text/plain": [
              "more_new\n",
              "0    0.52948\n",
              "1    0.47052\n",
              "Name: count, dtype: float64"
            ]
          },
          "metadata": {},
          "execution_count": 61
        }
      ],
      "source": [
        "pivot_table.more_new.value_counts() / len(pivot_table)"
      ]
    },
    {
      "cell_type": "code",
      "execution_count": null,
      "metadata": {
        "colab": {
          "base_uri": "https://localhost:8080/"
        },
        "id": "fX7m95TIDnuC",
        "outputId": "f468a754-f11d-4365-8641-5cbedfbaf6b4"
      },
      "outputs": [
        {
          "output_type": "execute_result",
          "data": {
            "text/plain": [
              "more_new\n",
              "0    53.0\n",
              "1    47.0\n",
              "Name: count, dtype: float64"
            ]
          },
          "metadata": {},
          "execution_count": 62
        }
      ],
      "source": [
        "# rounded percents\n",
        "np.round(\n",
        "100*pivot_table.more_new.value_counts() / len(pivot_table))"
      ]
    },
    {
      "cell_type": "markdown",
      "metadata": {
        "id": "7G7RxZddf93K"
      },
      "source": [
        "## Q4. Get the full dataset and utilise for a strategy based on CCI indicator"
      ]
    },
    {
      "cell_type": "code",
      "execution_count": null,
      "metadata": {
        "id": "llTZGAxjeInZ"
      },
      "outputs": [],
      "source": [
        "# RUN CODE and IMPORT DATAFRAME using pandas.read_parquet()\n",
        "# (if you can't run the code - download this file::, or if you can - double-check your results on this )\n",
        "\n",
        "# Additional: try to d"
      ]
    },
    {
      "cell_type": "code",
      "execution_count": null,
      "metadata": {
        "id": "nMQq9_1wfptb"
      },
      "outputs": [],
      "source": [
        "# ddf = pd.read_parquet(\"/content/stocks_df_combined_2024_04_24.parquet (1).brotli\")\n",
        "# ddf.info()"
      ]
    },
    {
      "cell_type": "code",
      "execution_count": null,
      "metadata": {
        "id": "birLmWpWiM2o"
      },
      "outputs": [],
      "source": [
        "# ddf[ddf.Date>='2000-01-01'].info()"
      ]
    },
    {
      "cell_type": "code",
      "execution_count": null,
      "metadata": {
        "id": "H0x6vBzFiVmC"
      },
      "outputs": [],
      "source": [
        "# truncated_df = ddf[(ddf.Date>='2014-01-01')&(ddf.Date<'2024-01-01')]\n",
        "# truncated_df.head()"
      ]
    },
    {
      "cell_type": "code",
      "execution_count": null,
      "metadata": {
        "id": "3ElNjijPiqy9"
      },
      "outputs": [],
      "source": [
        "# truncated_df.info()"
      ]
    },
    {
      "cell_type": "code",
      "execution_count": null,
      "metadata": {
        "id": "Nsd5IQLLXuO-"
      },
      "outputs": [],
      "source": [
        "# file on Ivan's drive (shareable): https://drive.google.com/file/d/1m3Qisfs2XfWk6Sw_Uk5kHLWqwQ0q8SKb/view?usp=sharing\n",
        "\n",
        "# truncated_df.to_parquet(f'stocks_df_combined_trunc_2014_2023.parquet.brotli',\n",
        "#               compression='brotli')"
      ]
    },
    {
      "cell_type": "code",
      "execution_count": null,
      "metadata": {
        "colab": {
          "base_uri": "https://localhost:8080/"
        },
        "id": "ysk96UNeYI6d",
        "outputId": "0597e928-c24b-4373-91c0-8f16dc13086b"
      },
      "outputs": [
        {
          "output_type": "stream",
          "name": "stdout",
          "text": [
            "Mounted at /content/drive\n"
          ]
        }
      ],
      "source": [
        "from google.colab import drive\n",
        "drive.mount('/content/drive')"
      ]
    },
    {
      "cell_type": "code",
      "execution_count": null,
      "metadata": {
        "id": "JML_-w42Y6M3"
      },
      "outputs": [],
      "source": [
        "ttd = pd.read_parquet('/content/drive/MyDrive/Python Invest/COURSE Zoomcamp/stocks_df_combined_trunc_2014_2023.parquet.brotli')"
      ]
    },
    {
      "cell_type": "code",
      "execution_count": null,
      "metadata": {
        "colab": {
          "base_uri": "https://localhost:8080/"
        },
        "id": "b95io70OZA03",
        "outputId": "0f746049-f26c-4445-aebb-c353ebff5508"
      },
      "outputs": [
        {
          "output_type": "stream",
          "name": "stdout",
          "text": [
            "<class 'pandas.core.frame.DataFrame'>\n",
            "Index: 80762 entries, 7011 to 5342\n",
            "Columns: 202 entries, Open to growth_btc_usd_365d\n",
            "dtypes: datetime64[ns](3), float64(128), int32(64), int64(5), object(2)\n",
            "memory usage: 105.4+ MB\n"
          ]
        }
      ],
      "source": [
        "ttd.info()"
      ]
    },
    {
      "cell_type": "code",
      "execution_count": null,
      "metadata": {
        "colab": {
          "base_uri": "https://localhost:8080/"
        },
        "id": "-TKwebUKZS8j",
        "outputId": "27f8e7a0-8b68-4b1d-9d4e-370da6e237c9"
      },
      "outputs": [
        {
          "output_type": "execute_result",
          "data": {
            "text/plain": [
              "['growth_future_5d']"
            ]
          },
          "metadata": {},
          "execution_count": 72
        }
      ],
      "source": [
        "[k for k in ttd.keys() if k.startswith('growth_f')]"
      ]
    },
    {
      "cell_type": "code",
      "execution_count": null,
      "metadata": {
        "colab": {
          "base_uri": "https://localhost:8080/"
        },
        "id": "kdC9aKLej3A4",
        "outputId": "e76ff365-c786-4a70-e0ab-9071efe05d58"
      },
      "outputs": [
        {
          "output_type": "execute_result",
          "data": {
            "text/plain": [
              "Year  ticker_type\n",
              "2014  EU             1.228615\n",
              "      INDIA          1.293709\n",
              "      US             1.589599\n",
              "2015  EU             1.176170\n",
              "      INDIA          1.350065\n",
              "      US             1.479750\n",
              "2016  EU             1.108236\n",
              "      INDIA          0.972045\n",
              "      US             1.430767\n",
              "2017  EU             1.315849\n",
              "      INDIA          1.260876\n",
              "      US             1.728674\n",
              "2018  EU             1.318304\n",
              "      INDIA          1.364789\n",
              "      US             1.565489\n",
              "2019  EU             1.179495\n",
              "      INDIA          1.241837\n",
              "      US             1.227064\n",
              "2020  EU             1.245388\n",
              "      INDIA          1.101896\n",
              "      US             1.484070\n",
              "2021  EU             1.582170\n",
              "      INDIA          1.546424\n",
              "      US             1.797571\n",
              "2022  EU             1.191169\n",
              "      INDIA          1.379889\n",
              "      US             1.182379\n",
              "2023  EU             1.246533\n",
              "      INDIA          1.201110\n",
              "      US             1.203253\n",
              "Name: growth_365d, dtype: float64"
            ]
          },
          "metadata": {},
          "execution_count": 73
        }
      ],
      "source": [
        "ttd.groupby(by=['Year','ticker_type']).growth_365d.mean()"
      ]
    },
    {
      "cell_type": "code",
      "execution_count": null,
      "metadata": {
        "id": "GKbMZCU-lWuV"
      },
      "outputs": [],
      "source": [
        "corr_growth_future = ttd.corr(numeric_only = True)['growth_future_5d']"
      ]
    },
    {
      "cell_type": "code",
      "execution_count": null,
      "metadata": {
        "id": "LZfN5UX8aQeR"
      },
      "outputs": [],
      "source": [
        "corr_is_positive_growth = ttd.corr(numeric_only = True)['is_positive_growth_5d_future']"
      ]
    },
    {
      "cell_type": "code",
      "execution_count": null,
      "metadata": {
        "colab": {
          "base_uri": "https://localhost:8080/"
        },
        "id": "SQ6vjUvZlgcq",
        "outputId": "0ea12752-5225-42e9-f05a-632b38c4e29c"
      },
      "outputs": [
        {
          "output_type": "execute_result",
          "data": {
            "text/plain": [
              "growth_dji_90d                 -0.069062\n",
              "growth_snp500_90d              -0.068902\n",
              "growth_snp500_30d              -0.048068\n",
              "growth_wti_oil_90d             -0.047978\n",
              "growth_brent_oil_90d           -0.042981\n",
              "                                  ...   \n",
              "is_positive_growth_5d_future    0.711163\n",
              "growth_future_5d                1.000000\n",
              "cdl3starsinsouth                     NaN\n",
              "cdlconcealbabyswall                  NaN\n",
              "cdlmathold                           NaN\n",
              "Name: growth_future_5d, Length: 197, dtype: float64"
            ]
          },
          "metadata": {},
          "execution_count": 76
        }
      ],
      "source": [
        "# https://www.investopedia.com/terms/r/rsi.asp\n",
        "corr_growth_future.sort_values()"
      ]
    },
    {
      "cell_type": "code",
      "execution_count": null,
      "metadata": {
        "colab": {
          "base_uri": "https://localhost:8080/"
        },
        "id": "3sA7dFiNaZxo",
        "outputId": "1e8dd221-fcbd-487d-f8f3-777c030fd277"
      },
      "outputs": [
        {
          "output_type": "execute_result",
          "data": {
            "text/plain": [
              "growth_snp500_90d      -0.051410\n",
              "growth_dji_90d         -0.048409\n",
              "growth_dax_90d         -0.034057\n",
              "index_y                -0.033521\n",
              "index_x                -0.033521\n",
              "index                  -0.033521\n",
              "growth_wti_oil_90d     -0.032796\n",
              "growth_dax_30d         -0.030931\n",
              "growth_snp500_30d      -0.029858\n",
              "growth_brent_oil_90d   -0.027980\n",
              "growth_dax_365d        -0.027485\n",
              "growth_snp500_365d     -0.024594\n",
              "growth_dji_30d         -0.022629\n",
              "growth_90d             -0.021919\n",
              "growth_30d             -0.021816\n",
              "growth_epi_365d        -0.021610\n",
              "growth_brent_oil_3d    -0.020913\n",
              "cpi_core_yoy           -0.020837\n",
              "macdsignal_fix         -0.020762\n",
              "macdsignal             -0.020709\n",
              "Name: is_positive_growth_5d_future, dtype: float64"
            ]
          },
          "metadata": {},
          "execution_count": 77
        }
      ],
      "source": [
        "corr_is_positive_growth.sort_values().head(20)"
      ]
    },
    {
      "cell_type": "code",
      "execution_count": null,
      "metadata": {
        "id": "Z4ck9MiVkUBR"
      },
      "outputs": [],
      "source": [
        "# Invest 1$ in each stock on '2016-01-01'.\n",
        "# You check the investment every year\n",
        "\n",
        "# additional read more strategies on tech indicators and try"
      ]
    },
    {
      "cell_type": "code",
      "execution_count": null,
      "metadata": {
        "colab": {
          "base_uri": "https://localhost:8080/",
          "height": 447
        },
        "id": "uWoN2bu-XCWe",
        "outputId": "6ca559bc-ac6e-4263-bf85-52e0d1398078"
      },
      "outputs": [
        {
          "output_type": "execute_result",
          "data": {
            "text/plain": [
              "<Axes: >"
            ]
          },
          "metadata": {},
          "execution_count": 79
        },
        {
          "output_type": "display_data",
          "data": {
            "text/plain": [
              "<Figure size 640x480 with 1 Axes>"
            ],
            "image/png": "[encoded data removed]"
          },
          "metadata": {}
        }
      ],
      "source": [
        "ttd.cci.hist()"
      ]
    },
    {
      "cell_type": "code",
      "execution_count": null,
      "metadata": {
        "colab": {
          "base_uri": "https://localhost:8080/",
          "height": 635
        },
        "id": "ufIEQcDya7xZ",
        "outputId": "a97fe99b-e01b-4126-df62-30b0e5f101eb"
      },
      "outputs": [
        {
          "output_type": "execute_result",
          "data": {
            "text/plain": [
              "             Open         High          Low        Close  Adj Close_x  \\\n",
              "7113    40.450001    40.970001    40.250000    40.939999    34.912762   \n",
              "7181    45.110001    45.930000    45.110001    45.910000    39.395618   \n",
              "7340    45.660000    48.139999    45.650002    47.869999    41.630741   \n",
              "7452    44.270000    45.570000    43.919998    45.570000    40.151123   \n",
              "7467    52.299999    54.070000    52.250000    52.869999    46.583046   \n",
              "...           ...          ...          ...          ...          ...   \n",
              "5072  2061.000000  2095.800049  2058.449951  2062.750000  2058.108887   \n",
              "5219  2420.000000  2483.500000  2415.050049  2475.550049  2469.979980   \n",
              "5234  2522.000000  2595.000000  2521.100098  2586.250000  2580.430908   \n",
              "5268  2888.000000  2928.699951  2872.449951  2901.600098  2901.600098   \n",
              "5323  3129.949951  3197.949951  3121.050049  3190.649902  3190.649902   \n",
              "\n",
              "           Volume Ticker  Year      Month  Weekday  ... growth_brent_oil_7d  \\\n",
              "7113   34567600.0   MSFT  2014 2014-05-01        4  ...            0.997447   \n",
              "7181   36939400.0   MSFT  2014 2014-09-01        4  ...            0.983610   \n",
              "7340  130933700.0   MSFT  2015 2015-04-01        4  ...            1.082228   \n",
              "7452   41839000.0   MSFT  2015 2015-10-01        4  ...            1.007958   \n",
              "7467  135227100.0   MSFT  2015 2015-10-01        4  ...            0.976399   \n",
              "...           ...    ...   ...        ...      ...  ...                 ...   \n",
              "5072    2652761.0  LT.NS  2022 2022-11-01        4  ...            0.891008   \n",
              "5219    2690699.0  LT.NS  2023 2023-06-01        4  ...            0.971214   \n",
              "5234    4610417.0  LT.NS  2023 2023-07-01        4  ...            1.011984   \n",
              "5268    3638510.0  LT.NS  2023 2023-09-01        4  ...            1.060358   \n",
              "5323    2112908.0  LT.NS  2023 2023-12-01        4  ...            0.962421   \n",
              "\n",
              "      growth_brent_oil_30d  growth_brent_oil_90d  growth_brent_oil_365d  \\\n",
              "7113              1.005607              1.021664               0.995813   \n",
              "7181              0.941627              0.925124               0.914716   \n",
              "7340              1.143658              1.055457               0.614516   \n",
              "7452              1.032390              0.775540               0.441114   \n",
              "7467              0.996884              0.751370               0.435520   \n",
              "...                    ...                   ...                    ...   \n",
              "5072              0.884318              0.782174               1.124210   \n",
              "5219              0.973233              0.901866               0.870323   \n",
              "5234              1.053541              1.003714               0.869197   \n",
              "5268              1.076092              1.142983               0.751347   \n",
              "5323              0.855903              0.936372               0.705924   \n",
              "\n",
              "      growth_btc_usd_1d  growth_btc_usd_3d  growth_btc_usd_7d  \\\n",
              "7113                NaN                NaN                NaN   \n",
              "7181                NaN                NaN                NaN   \n",
              "7340           0.978035           0.982994           1.037625   \n",
              "7452           0.998922           1.002560           1.009139   \n",
              "7467           1.009025           1.026100           1.051840   \n",
              "...                 ...                ...                ...   \n",
              "5072           0.995024           1.020511           0.989464   \n",
              "5219           1.001048           0.993127           0.992891   \n",
              "5234           1.003918           1.001748           0.985979   \n",
              "5268           0.987251           1.004875           1.004067   \n",
              "5323           1.025880           1.022671           1.025675   \n",
              "\n",
              "      growth_btc_usd_30d  growth_btc_usd_90d  growth_btc_usd_365d  \n",
              "7113                 NaN                 NaN                  NaN  \n",
              "7181                 NaN                 NaN                  NaN  \n",
              "7340            0.939362            0.933108                  NaN  \n",
              "7452            1.034930            0.909566             0.632660  \n",
              "7467            1.200679            0.957738             0.771437  \n",
              "...                  ...                 ...                  ...  \n",
              "5072            0.795450            0.824372             0.288467  \n",
              "5219            1.119678            1.072726             1.540443  \n",
              "5234            0.996052            1.075177             1.291138  \n",
              "5268            0.876331            1.002105             1.340190  \n",
              "5323            1.091754            1.495576             2.280217  \n",
              "\n",
              "[460 rows x 202 columns]"
            ],
            "text/html": [
              "\n",
              "  <div id=\"df-7d173b7d-f38d-4c14-9c56-a4e787d119d4\" class=\"colab-df-container\">\n",
              "    <div>\n",
              "<style scoped>\n",
              "    .dataframe tbody tr th:only-of-type {\n",
              "        vertical-align: middle;\n",
              "    }\n",
              "\n",
              "    .dataframe tbody tr th {\n",
              "        vertical-align: top;\n",
              "    }\n",
              "\n",
              "    .dataframe thead th {\n",
              "        text-align: right;\n",
              "    }\n",
              "</style>\n",
              "<table border=\"1\" class=\"dataframe\">\n",
              "  <thead>\n",
              "    <tr style=\"text-align: right;\">\n",
              "      <th></th>\n",
              "      <th>Open</th>\n",
              "      <th>High</th>\n",
              "      <th>Low</th>\n",
              "      <th>Close</th>\n",
              "      <th>Adj Close_x</th>\n",
              "      <th>Volume</th>\n",
              "      <th>Ticker</th>\n",
              "      <th>Year</th>\n",
              "      <th>Month</th>\n",
              "      <th>Weekday</th>\n",
              "      <th>...</th>\n",
              "      <th>growth_brent_oil_7d</th>\n",
              "      <th>growth_brent_oil_30d</th>\n",
              "      <th>growth_brent_oil_90d</th>\n",
              "      <th>growth_brent_oil_365d</th>\n",
              "      <th>growth_btc_usd_1d</th>\n",
              "      <th>growth_btc_usd_3d</th>\n",
              "      <th>growth_btc_usd_7d</th>\n",
              "      <th>growth_btc_usd_30d</th>\n",
              "      <th>growth_btc_usd_90d</th>\n",
              "      <th>growth_btc_usd_365d</th>\n",
              "    </tr>\n",
              "  </thead>\n",
              "  <tbody>\n",
              "    <tr>\n",
              "      <th>7113</th>\n",
              "      <td>40.450001</td>\n",
              "      <td>40.970001</td>\n",
              "      <td>40.250000</td>\n",
              "      <td>40.939999</td>\n",
              "      <td>34.912762</td>\n",
              "      <td>34567600.0</td>\n",
              "      <td>MSFT</td>\n",
              "      <td>2014</td>\n",
              "      <td>2014-05-01</td>\n",
              "      <td>4</td>\n",
              "      <td>...</td>\n",
              "      <td>0.997447</td>\n",
              "      <td>1.005607</td>\n",
              "      <td>1.021664</td>\n",
              "      <td>0.995813</td>\n",
              "      <td>NaN</td>\n",
              "      <td>NaN</td>\n",
              "      <td>NaN</td>\n",
              "      <td>NaN</td>\n",
              "      <td>NaN</td>\n",
              "      <td>NaN</td>\n",
              "    </tr>\n",
              "    <tr>\n",
              "      <th>7181</th>\n",
              "      <td>45.110001</td>\n",
              "      <td>45.930000</td>\n",
              "      <td>45.110001</td>\n",
              "      <td>45.910000</td>\n",
              "      <td>39.395618</td>\n",
              "      <td>36939400.0</td>\n",
              "      <td>MSFT</td>\n",
              "      <td>2014</td>\n",
              "      <td>2014-09-01</td>\n",
              "      <td>4</td>\n",
              "      <td>...</td>\n",
              "      <td>0.983610</td>\n",
              "      <td>0.941627</td>\n",
              "      <td>0.925124</td>\n",
              "      <td>0.914716</td>\n",
              "      <td>NaN</td>\n",
              "      <td>NaN</td>\n",
              "      <td>NaN</td>\n",
              "      <td>NaN</td>\n",
              "      <td>NaN</td>\n",
              "      <td>NaN</td>\n",
              "    </tr>\n",
              "    <tr>\n",
              "      <th>7340</th>\n",
              "      <td>45.660000</td>\n",
              "      <td>48.139999</td>\n",
              "      <td>45.650002</td>\n",
              "      <td>47.869999</td>\n",
              "      <td>41.630741</td>\n",
              "      <td>130933700.0</td>\n",
              "      <td>MSFT</td>\n",
              "      <td>2015</td>\n",
              "      <td>2015-04-01</td>\n",
              "      <td>4</td>\n",
              "      <td>...</td>\n",
              "      <td>1.082228</td>\n",
              "      <td>1.143658</td>\n",
              "      <td>1.055457</td>\n",
              "      <td>0.614516</td>\n",
              "      <td>0.978035</td>\n",
              "      <td>0.982994</td>\n",
              "      <td>1.037625</td>\n",
              "      <td>0.939362</td>\n",
              "      <td>0.933108</td>\n",
              "      <td>NaN</td>\n",
              "    </tr>\n",
              "    <tr>\n",
              "      <th>7452</th>\n",
              "      <td>44.270000</td>\n",
              "      <td>45.570000</td>\n",
              "      <td>43.919998</td>\n",
              "      <td>45.570000</td>\n",
              "      <td>40.151123</td>\n",
              "      <td>41839000.0</td>\n",
              "      <td>MSFT</td>\n",
              "      <td>2015</td>\n",
              "      <td>2015-10-01</td>\n",
              "      <td>4</td>\n",
              "      <td>...</td>\n",
              "      <td>1.007958</td>\n",
              "      <td>1.032390</td>\n",
              "      <td>0.775540</td>\n",
              "      <td>0.441114</td>\n",
              "      <td>0.998922</td>\n",
              "      <td>1.002560</td>\n",
              "      <td>1.009139</td>\n",
              "      <td>1.034930</td>\n",
              "      <td>0.909566</td>\n",
              "      <td>0.632660</td>\n",
              "    </tr>\n",
              "    <tr>\n",
              "      <th>7467</th>\n",
              "      <td>52.299999</td>\n",
              "      <td>54.070000</td>\n",
              "      <td>52.250000</td>\n",
              "      <td>52.869999</td>\n",
              "      <td>46.583046</td>\n",
              "      <td>135227100.0</td>\n",
              "      <td>MSFT</td>\n",
              "      <td>2015</td>\n",
              "      <td>2015-10-01</td>\n",
              "      <td>4</td>\n",
              "      <td>...</td>\n",
              "      <td>0.976399</td>\n",
              "      <td>0.996884</td>\n",
              "      <td>0.751370</td>\n",
              "      <td>0.435520</td>\n",
              "      <td>1.009025</td>\n",
              "      <td>1.026100</td>\n",
              "      <td>1.051840</td>\n",
              "      <td>1.200679</td>\n",
              "      <td>0.957738</td>\n",
              "      <td>0.771437</td>\n",
              "    </tr>\n",
              "    <tr>\n",
              "      <th>...</th>\n",
              "      <td>...</td>\n",
              "      <td>...</td>\n",
              "      <td>...</td>\n",
              "      <td>...</td>\n",
              "      <td>...</td>\n",
              "      <td>...</td>\n",
              "      <td>...</td>\n",
              "      <td>...</td>\n",
              "      <td>...</td>\n",
              "      <td>...</td>\n",
              "      <td>...</td>\n",
              "      <td>...</td>\n",
              "      <td>...</td>\n",
              "      <td>...</td>\n",
              "      <td>...</td>\n",
              "      <td>...</td>\n",
              "      <td>...</td>\n",
              "      <td>...</td>\n",
              "      <td>...</td>\n",
              "      <td>...</td>\n",
              "      <td>...</td>\n",
              "    </tr>\n",
              "    <tr>\n",
              "      <th>5072</th>\n",
              "      <td>2061.000000</td>\n",
              "      <td>2095.800049</td>\n",
              "      <td>2058.449951</td>\n",
              "      <td>2062.750000</td>\n",
              "      <td>2058.108887</td>\n",
              "      <td>2652761.0</td>\n",
              "      <td>LT.NS</td>\n",
              "      <td>2022</td>\n",
              "      <td>2022-11-01</td>\n",
              "      <td>4</td>\n",
              "      <td>...</td>\n",
              "      <td>0.891008</td>\n",
              "      <td>0.884318</td>\n",
              "      <td>0.782174</td>\n",
              "      <td>1.124210</td>\n",
              "      <td>0.995024</td>\n",
              "      <td>1.020511</td>\n",
              "      <td>0.989464</td>\n",
              "      <td>0.795450</td>\n",
              "      <td>0.824372</td>\n",
              "      <td>0.288467</td>\n",
              "    </tr>\n",
              "    <tr>\n",
              "      <th>5219</th>\n",
              "      <td>2420.000000</td>\n",
              "      <td>2483.500000</td>\n",
              "      <td>2415.050049</td>\n",
              "      <td>2475.550049</td>\n",
              "      <td>2469.979980</td>\n",
              "      <td>2690699.0</td>\n",
              "      <td>LT.NS</td>\n",
              "      <td>2023</td>\n",
              "      <td>2023-06-01</td>\n",
              "      <td>4</td>\n",
              "      <td>...</td>\n",
              "      <td>0.971214</td>\n",
              "      <td>0.973233</td>\n",
              "      <td>0.901866</td>\n",
              "      <td>0.870323</td>\n",
              "      <td>1.001048</td>\n",
              "      <td>0.993127</td>\n",
              "      <td>0.992891</td>\n",
              "      <td>1.119678</td>\n",
              "      <td>1.072726</td>\n",
              "      <td>1.540443</td>\n",
              "    </tr>\n",
              "    <tr>\n",
              "      <th>5234</th>\n",
              "      <td>2522.000000</td>\n",
              "      <td>2595.000000</td>\n",
              "      <td>2521.100098</td>\n",
              "      <td>2586.250000</td>\n",
              "      <td>2580.430908</td>\n",
              "      <td>4610417.0</td>\n",
              "      <td>LT.NS</td>\n",
              "      <td>2023</td>\n",
              "      <td>2023-07-01</td>\n",
              "      <td>4</td>\n",
              "      <td>...</td>\n",
              "      <td>1.011984</td>\n",
              "      <td>1.053541</td>\n",
              "      <td>1.003714</td>\n",
              "      <td>0.869197</td>\n",
              "      <td>1.003918</td>\n",
              "      <td>1.001748</td>\n",
              "      <td>0.985979</td>\n",
              "      <td>0.996052</td>\n",
              "      <td>1.075177</td>\n",
              "      <td>1.291138</td>\n",
              "    </tr>\n",
              "    <tr>\n",
              "      <th>5268</th>\n",
              "      <td>2888.000000</td>\n",
              "      <td>2928.699951</td>\n",
              "      <td>2872.449951</td>\n",
              "      <td>2901.600098</td>\n",
              "      <td>2901.600098</td>\n",
              "      <td>3638510.0</td>\n",
              "      <td>LT.NS</td>\n",
              "      <td>2023</td>\n",
              "      <td>2023-09-01</td>\n",
              "      <td>4</td>\n",
              "      <td>...</td>\n",
              "      <td>1.060358</td>\n",
              "      <td>1.076092</td>\n",
              "      <td>1.142983</td>\n",
              "      <td>0.751347</td>\n",
              "      <td>0.987251</td>\n",
              "      <td>1.004875</td>\n",
              "      <td>1.004067</td>\n",
              "      <td>0.876331</td>\n",
              "      <td>1.002105</td>\n",
              "      <td>1.340190</td>\n",
              "    </tr>\n",
              "    <tr>\n",
              "      <th>5323</th>\n",
              "      <td>3129.949951</td>\n",
              "      <td>3197.949951</td>\n",
              "      <td>3121.050049</td>\n",
              "      <td>3190.649902</td>\n",
              "      <td>3190.649902</td>\n",
              "      <td>2112908.0</td>\n",
              "      <td>LT.NS</td>\n",
              "      <td>2023</td>\n",
              "      <td>2023-12-01</td>\n",
              "      <td>4</td>\n",
              "      <td>...</td>\n",
              "      <td>0.962421</td>\n",
              "      <td>0.855903</td>\n",
              "      <td>0.936372</td>\n",
              "      <td>0.705924</td>\n",
              "      <td>1.025880</td>\n",
              "      <td>1.022671</td>\n",
              "      <td>1.025675</td>\n",
              "      <td>1.091754</td>\n",
              "      <td>1.495576</td>\n",
              "      <td>2.280217</td>\n",
              "    </tr>\n",
              "  </tbody>\n",
              "</table>\n",
              "<p>460 rows × 202 columns</p>\n",
              "</div>\n",
              "    <div class=\"colab-df-buttons\">\n",
              "\n",
              "  <div class=\"colab-df-container\">\n",
              "    <button class=\"colab-df-convert\" onclick=\"convertToInteractive('df-7d173b7d-f38d-4c14-9c56-a4e787d119d4')\"\n",
              "            title=\"Convert this dataframe to an interactive table.\"\n",
              "            style=\"display:none;\">\n",
              "\n",
              "  <svg xmlns=\"http://www.w3.org/2000/svg\" height=\"24px\" viewBox=\"0 -960 960 960\">\n",
              "    <path d=\"M120-120v-720h720v720H120Zm60-500h600v-160H180v160Zm220 220h160v-160H400v160Zm0 220h160v-160H400v160ZM180-400h160v-160H180v160Zm440 0h160v-160H620v160ZM180-180h160v-160H180v160Zm440 0h160v-160H620v160Z\"/>\n",
              "  </svg>\n",
              "    </button>\n",
              "\n",
              "  <style>\n",
              "    .colab-df-container {\n",
              "      display:flex;\n",
              "      gap: 12px;\n",
              "    }\n",
              "\n",
              "    .colab-df-convert {\n",
              "      background-color: #E8F0FE;\n",
              "      border: none;\n",
              "      border-radius: 50%;\n",
              "      cursor: pointer;\n",
              "      display: none;\n",
              "      fill: #1967D2;\n",
              "      height: 32px;\n",
              "      padding: 0 0 0 0;\n",
              "      width: 32px;\n",
              "    }\n",
              "\n",
              "    .colab-df-convert:hover {\n",
              "      background-color: #E2EBFA;\n",
              "      box-shadow: 0px 1px 2px rgba(60, 64, 67, 0.3), 0px 1px 3px 1px rgba(60, 64, 67, 0.15);\n",
              "      fill: #174EA6;\n",
              "    }\n",
              "\n",
              "    .colab-df-buttons div {\n",
              "      margin-bottom: 4px;\n",
              "    }\n",
              "\n",
              "    [theme=dark] .colab-df-convert {\n",
              "      background-color: #3B4455;\n",
              "      fill: #D2E3FC;\n",
              "    }\n",
              "\n",
              "    [theme=dark] .colab-df-convert:hover {\n",
              "      background-color: #434B5C;\n",
              "      box-shadow: 0px 1px 3px 1px rgba(0, 0, 0, 0.15);\n",
              "      filter: drop-shadow(0px 1px 2px rgba(0, 0, 0, 0.3));\n",
              "      fill: #FFFFFF;\n",
              "    }\n",
              "  </style>\n",
              "\n",
              "    <script>\n",
              "      const buttonEl =\n",
              "        document.querySelector('#df-7d173b7d-f38d-4c14-9c56-a4e787d119d4 button.colab-df-convert');\n",
              "      buttonEl.style.display =\n",
              "        google.colab.kernel.accessAllowed ? 'block' : 'none';\n",
              "\n",
              "      async function convertToInteractive(key) {\n",
              "        const element = document.querySelector('#df-7d173b7d-f38d-4c14-9c56-a4e787d119d4');\n",
              "        const dataTable =\n",
              "          await google.colab.kernel.invokeFunction('convertToInteractive',\n",
              "                                                    [key], {});\n",
              "        if (!dataTable) return;\n",
              "\n",
              "        const docLinkHtml = 'Like what you see? Visit the ' +\n",
              "          '<a target=\"_blank\" href=https://colab.research.google.com/notebooks/data_table.ipynb>data table notebook</a>'\n",
              "          + ' to learn more about interactive tables.';\n",
              "        element.innerHTML = '';\n",
              "        dataTable['output_type'] = 'display_data';\n",
              "        await google.colab.output.renderOutput(dataTable, element);\n",
              "        const docLink = document.createElement('div');\n",
              "        docLink.innerHTML = docLinkHtml;\n",
              "        element.appendChild(docLink);\n",
              "      }\n",
              "    </script>\n",
              "  </div>\n",
              "\n",
              "\n",
              "<div id=\"df-e1a5a4ac-1fdb-41bc-8014-a4a56e7e19ae\">\n",
              "  <button class=\"colab-df-quickchart\" onclick=\"quickchart('df-e1a5a4ac-1fdb-41bc-8014-a4a56e7e19ae')\"\n",
              "            title=\"Suggest charts\"\n",
              "            style=\"display:none;\">\n",
              "\n",
              "<svg xmlns=\"http://www.w3.org/2000/svg\" height=\"24px\"viewBox=\"0 0 24 24\"\n",
              "     width=\"24px\">\n",
              "    <g>\n",
              "        <path d=\"M19 3H5c-1.1 0-2 .9-2 2v14c0 1.1.9 2 2 2h14c1.1 0 2-.9 2-2V5c0-1.1-.9-2-2-2zM9 17H7v-7h2v7zm4 0h-2V7h2v10zm4 0h-2v-4h2v4z\"/>\n",
              "    </g>\n",
              "</svg>\n",
              "  </button>\n",
              "\n",
              "<style>\n",
              "  .colab-df-quickchart {\n",
              "      --bg-color: #E8F0FE;\n",
              "      --fill-color: #1967D2;\n",
              "      --hover-bg-color: #E2EBFA;\n",
              "      --hover-fill-color: #174EA6;\n",
              "      --disabled-fill-color: #AAA;\n",
              "      --disabled-bg-color: #DDD;\n",
              "  }\n",
              "\n",
              "  [theme=dark] .colab-df-quickchart {\n",
              "      --bg-color: #3B4455;\n",
              "      --fill-color: #D2E3FC;\n",
              "      --hover-bg-color: #434B5C;\n",
              "      --hover-fill-color: #FFFFFF;\n",
              "      --disabled-bg-color: #3B4455;\n",
              "      --disabled-fill-color: #666;\n",
              "  }\n",
              "\n",
              "  .colab-df-quickchart {\n",
              "    background-color: var(--bg-color);\n",
              "    border: none;\n",
              "    border-radius: 50%;\n",
              "    cursor: pointer;\n",
              "    display: none;\n",
              "    fill: var(--fill-color);\n",
              "    height: 32px;\n",
              "    padding: 0;\n",
              "    width: 32px;\n",
              "  }\n",
              "\n",
              "  .colab-df-quickchart:hover {\n",
              "    background-color: var(--hover-bg-color);\n",
              "    box-shadow: 0 1px 2px rgba(60, 64, 67, 0.3), 0 1px 3px 1px rgba(60, 64, 67, 0.15);\n",
              "    fill: var(--button-hover-fill-color);\n",
              "  }\n",
              "\n",
              "  .colab-df-quickchart-complete:disabled,\n",
              "  .colab-df-quickchart-complete:disabled:hover {\n",
              "    background-color: var(--disabled-bg-color);\n",
              "    fill: var(--disabled-fill-color);\n",
              "    box-shadow: none;\n",
              "  }\n",
              "\n",
              "  .colab-df-spinner {\n",
              "    border: 2px solid var(--fill-color);\n",
              "    border-color: transparent;\n",
              "    border-bottom-color: var(--fill-color);\n",
              "    animation:\n",
              "      spin 1s steps(1) infinite;\n",
              "  }\n",
              "\n",
              "  @keyframes spin {\n",
              "    0% {\n",
              "      border-color: transparent;\n",
              "      border-bottom-color: var(--fill-color);\n",
              "      border-left-color: var(--fill-color);\n",
              "    }\n",
              "    20% {\n",
              "      border-color: transparent;\n",
              "      border-left-color: var(--fill-color);\n",
              "      border-top-color: var(--fill-color);\n",
              "    }\n",
              "    30% {\n",
              "      border-color: transparent;\n",
              "      border-left-color: var(--fill-color);\n",
              "      border-top-color: var(--fill-color);\n",
              "      border-right-color: var(--fill-color);\n",
              "    }\n",
              "    40% {\n",
              "      border-color: transparent;\n",
              "      border-right-color: var(--fill-color);\n",
              "      border-top-color: var(--fill-color);\n",
              "    }\n",
              "    60% {\n",
              "      border-color: transparent;\n",
              "      border-right-color: var(--fill-color);\n",
              "    }\n",
              "    80% {\n",
              "      border-color: transparent;\n",
              "      border-right-color: var(--fill-color);\n",
              "      border-bottom-color: var(--fill-color);\n",
              "    }\n",
              "    90% {\n",
              "      border-color: transparent;\n",
              "      border-bottom-color: var(--fill-color);\n",
              "    }\n",
              "  }\n",
              "</style>\n",
              "\n",
              "  <script>\n",
              "    async function quickchart(key) {\n",
              "      const quickchartButtonEl =\n",
              "        document.querySelector('#' + key + ' button');\n",
              "      quickchartButtonEl.disabled = true;  // To prevent multiple clicks.\n",
              "      quickchartButtonEl.classList.add('colab-df-spinner');\n",
              "      try {\n",
              "        const charts = await google.colab.kernel.invokeFunction(\n",
              "            'suggestCharts', [key], {});\n",
              "      } catch (error) {\n",
              "        console.error('Error during call to suggestCharts:', error);\n",
              "      }\n",
              "      quickchartButtonEl.classList.remove('colab-df-spinner');\n",
              "      quickchartButtonEl.classList.add('colab-df-quickchart-complete');\n",
              "    }\n",
              "    (() => {\n",
              "      let quickchartButtonEl =\n",
              "        document.querySelector('#df-e1a5a4ac-1fdb-41bc-8014-a4a56e7e19ae button');\n",
              "      quickchartButtonEl.style.display =\n",
              "        google.colab.kernel.accessAllowed ? 'block' : 'none';\n",
              "    })();\n",
              "  </script>\n",
              "</div>\n",
              "    </div>\n",
              "  </div>\n"
            ],
            "application/vnd.google.colaboratory.intrinsic+json": {
              "type": "dataframe"
            }
          },
          "metadata": {},
          "execution_count": 80
        }
      ],
      "source": [
        "# cci>200 and weekday == 4\n",
        "ttd[(ttd.cci>200)& (ttd.Weekday==4)]"
      ]
    },
    {
      "cell_type": "code",
      "execution_count": null,
      "metadata": {
        "colab": {
          "base_uri": "https://localhost:8080/"
        },
        "id": "6qOM-Sp5baA4",
        "outputId": "7ebfef5b-4b69-4f9a-e1e5-f477eb2ed76e"
      },
      "outputs": [
        {
          "output_type": "stream",
          "name": "stdout",
          "text": [
            "<class 'pandas.core.frame.DataFrame'>\n",
            "Index: 460 entries, 7113 to 5323\n",
            "Columns: 202 entries, Open to growth_btc_usd_365d\n",
            "dtypes: datetime64[ns](3), float64(128), int32(64), int64(5), object(2)\n",
            "memory usage: 614.5+ KB\n"
          ]
        }
      ],
      "source": [
        "high_cci_on_fridays = ttd[(ttd.cci>200)& (ttd.Weekday==4)]\n",
        "high_cci_on_fridays.info()"
      ]
    },
    {
      "cell_type": "code",
      "execution_count": null,
      "metadata": {
        "colab": {
          "base_uri": "https://localhost:8080/"
        },
        "id": "hOQZ76z2bex8",
        "outputId": "19681680-7d8d-42e7-dbfa-8418abbbb1f9"
      },
      "outputs": [
        {
          "output_type": "execute_result",
          "data": {
            "text/plain": [
              "count    460.000000\n",
              "mean       1.002279\n",
              "std        0.031408\n",
              "min        0.910510\n",
              "25%        0.985062\n",
              "50%        1.002609\n",
              "75%        1.018036\n",
              "max        1.154212\n",
              "Name: growth_future_5d, dtype: float64"
            ]
          },
          "metadata": {},
          "execution_count": 82
        }
      ],
      "source": [
        "high_cci_on_fridays.growth_future_5d.describe()"
      ]
    },
    {
      "cell_type": "code",
      "execution_count": null,
      "metadata": {
        "colab": {
          "base_uri": "https://localhost:8080/"
        },
        "id": "QomJnyWjbrPm",
        "outputId": "c9822b83-86b1-41ad-ec10-f7ceec3a4407"
      },
      "outputs": [
        {
          "output_type": "execute_result",
          "data": {
            "text/plain": [
              "1048.2628918177302"
            ]
          },
          "metadata": {},
          "execution_count": 83
        }
      ],
      "source": [
        "# gross profit of total len(high_cci_on_fri) investments\n",
        "#  round to thousands ==> 1\n",
        "1000*(high_cci_on_fridays.growth_future_5d-1).sum()"
      ]
    },
    {
      "cell_type": "code",
      "execution_count": null,
      "metadata": {
        "colab": {
          "base_uri": "https://localhost:8080/"
        },
        "id": "p3_oeDBOcLaO",
        "outputId": "fc635934-3d34-4270-e7f4-8d59d065f0e8"
      },
      "outputs": [
        {
          "output_type": "execute_result",
          "data": {
            "text/plain": [
              "1002.2788323735168"
            ]
          },
          "metadata": {},
          "execution_count": 84
        }
      ],
      "source": [
        "# average result\n",
        "1000*high_cci_on_fridays.growth_future_5d.mean()"
      ]
    },
    {
      "cell_type": "code",
      "execution_count": null,
      "metadata": {
        "colab": {
          "base_uri": "https://localhost:8080/"
        },
        "id": "ptFtXreOcSF2",
        "outputId": "09151acd-0d47-483d-cb62-4e73c37520a7"
      },
      "outputs": [
        {
          "output_type": "execute_result",
          "data": {
            "text/plain": [
              "461.04833999999994"
            ]
          },
          "metadata": {},
          "execution_count": 85
        }
      ],
      "source": [
        "1.002279*len(high_cci_on_fridays)"
      ]
    },
    {
      "cell_type": "markdown",
      "metadata": {
        "id": "mVK0Km3Ojjta"
      },
      "source": [
        "# Q5. [EXPLORE] Generate a better strategy to predict IPOs.\n",
        "Let's assume you can get any data you want about the company that is going for an IPO. Discuss features you want to source to the dataset, how to define the 'success' of an IPO (compared with the price range? time period? your strategy?)?\n",
        "Do you want to compare the new company with the Public (similar in some sense) companies?\n",
        "\n",
        "You are not required to implement any coding, just a brief description of a data set and the strategy."
      ]
    }
  ],
  "metadata": {
    "colab": {
      "provenance": []
    },
    "kernelspec": {
      "display_name": "Python 3",
      "name": "python3"
    },
    "language_info": {
      "name": "python"
    }
  },
  "nbformat": 4,
  "nbformat_minor": 0
}